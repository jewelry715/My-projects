{
 "cells": [
  {
   "cell_type": "code",
   "execution_count": 1,
   "id": "45b183b9",
   "metadata": {},
   "outputs": [],
   "source": [
    "import numpy as np\n",
    "import pandas as pd\n",
    "import re\n",
    "import matplotlib.pyplot as plt\n",
    "from konlpy.tag import Okt\n",
    "from matplotlib import rc\n",
    "from matplotlib import font_manager\n",
    "from wordcloud import WordCloud\n",
    "from collections import Counter\n",
    "import seaborn as sns\n",
    "from sklearn.feature_extraction.text import TfidfVectorizer\n",
    "from sklearn.model_selection import train_test_split\n",
    "from tensorflow.keras.models import Sequential\n",
    "from tensorflow.keras.layers import Dense,Dropout\n",
    "from sklearn.metrics import accuracy_score\n",
    "from lightgbm import LGBMClassifier\n",
    "from tensorflow.keras.preprocessing.sequence import pad_sequences\n",
    "from tensorflow.keras.preprocessing.text import Tokenizer\n",
    "from tensorflow.keras.layers import Embedding, Dense, LSTM\n",
    "from tensorflow.keras import preprocessing\n",
    "from tensorflow.keras.utils import to_categorical\n",
    "from tensorflow.keras.callbacks import EarlyStopping,ModelCheckpoint\n",
    "from gensim.models import Word2Vec\n",
    "import optuna\n",
    "from optuna.samplers import TPESampler\n",
    "path='c:/Windows/Fonts/malgun.ttf'\n",
    "font_name=font_manager.FontProperties(fname=path).get_name()\n",
    "rc(\"font\",family=font_name)"
   ]
  },
  {
   "cell_type": "markdown",
   "id": "826c43ba",
   "metadata": {},
   "source": [
    "IT과학,0\n",
    "경제,1\n",
    "사회,2\n",
    "생활문화,3\n",
    "세계,4\n",
    "스포츠,5\n",
    "정치,6"
   ]
  },
  {
   "cell_type": "code",
   "execution_count": 2,
   "id": "0fd814f0",
   "metadata": {},
   "outputs": [],
   "source": [
    "econimics1=pd.read_csv('1월_경제.csv')\n",
    "it1=pd.read_csv('1월_IT.csv')\n",
    "culture1=pd.read_csv('1월_문화.csv')\n",
    "society1=pd.read_csv('1월_사회.csv')\n",
    "sports1=pd.read_csv('1월_스포츠.csv')\n",
    "politics1=pd.read_csv('1월_정치.csv')"
   ]
  },
  {
   "cell_type": "code",
   "execution_count": 3,
   "id": "726e9555",
   "metadata": {},
   "outputs": [],
   "source": [
    "econimics2=pd.read_csv('2월_경제.csv')\n",
    "it2=pd.read_csv('2월_IT.csv')\n",
    "culture2=pd.read_csv('2월_문화.csv')\n",
    "society2=pd.read_csv('2월_사회.csv')\n",
    "sports2=pd.read_csv('2월_스포츠.csv')\n",
    "politics2=pd.read_csv('2월_정치.csv')\n",
    "econimics3=pd.read_csv('3월_경제.csv')\n",
    "it3=pd.read_csv('3월_IT.csv')\n",
    "culture3=pd.read_csv('3월_문화.csv')\n",
    "society3=pd.read_csv('3월_사회.csv')\n",
    "sports3=pd.read_csv('3월_스포츠.csv')\n",
    "politics3=pd.read_csv('3월_정치.csv')\n",
    "econimics4=pd.read_csv('4월_경제.csv')\n",
    "it4=pd.read_csv('4월_IT.csv')\n",
    "culture4=pd.read_csv('4월_문화.csv')\n",
    "society4=pd.read_csv('4월_사회.csv')\n",
    "sports4=pd.read_csv('4월_스포츠.csv')\n",
    "politics4=pd.read_csv('4월_정치.csv')\n",
    "econimics5=pd.read_csv('5월_경제.csv')\n",
    "it5=pd.read_csv('5월_IT.csv')\n",
    "culture5=pd.read_csv('5월_문화.csv')\n",
    "society5=pd.read_csv('5월_사회.csv')\n",
    "sports5=pd.read_csv('5월_스포츠.csv')\n",
    "politics5=pd.read_csv('5월_정치.csv')\n",
    "econimics6=pd.read_csv('6월_경제.csv')\n",
    "it6=pd.read_csv('6월_IT.csv')\n",
    "culture6=pd.read_csv('6월_문화.csv')\n",
    "society6=pd.read_csv('6월_사회.csv')\n",
    "sports6=pd.read_csv('6월_스포츠.csv')\n",
    "politics6=pd.read_csv('6월_정치.csv')"
   ]
  },
  {
   "cell_type": "code",
   "execution_count": 4,
   "id": "ebe24e0b",
   "metadata": {},
   "outputs": [],
   "source": [
    "econimics=pd.concat([econimics1,econimics2,econimics3,econimics4,econimics5,econimics6],axis=0)\n",
    "it=pd.concat([it1,it2,it3,it4,it5,it6],axis=0)\n",
    "society=pd.concat([society1,society2,society3,society4,society5,society6],axis=0)\n",
    "culture=pd.concat([culture1,culture2,culture3,culture4,culture5,culture6],axis=0)\n",
    "sports=pd.concat([sports1,sports2,sports3,sports4,sports5,sports6],axis=0)\n",
    "politics=pd.concat([politics1,politics2,politics3,politics4,politics5,politics6],axis=0)"
   ]
  },
  {
   "cell_type": "code",
   "execution_count": 5,
   "id": "be4579ec",
   "metadata": {},
   "outputs": [],
   "source": [
    "econimics['topic_idx']=1\n",
    "it['topic_idx']=0\n",
    "society['topic_idx']=2\n",
    "culture['topic_idx']=3\n",
    "sports['topic_idx']=4\n",
    "politics['topic_idx']=5"
   ]
  },
  {
   "cell_type": "code",
   "execution_count": 6,
   "id": "55f53c1e",
   "metadata": {},
   "outputs": [],
   "source": [
    "econimics['topic']='경제'\n",
    "it['topic']='IT'\n",
    "society['topic']='사회'\n",
    "culture['topic']='문화'\n",
    "sports['topic']='스포츠'\n",
    "politics['topic']='정치'"
   ]
  },
  {
   "cell_type": "code",
   "execution_count": 7,
   "id": "f4f9ad07",
   "metadata": {},
   "outputs": [],
   "source": [
    "data=pd.concat([econimics,it,society,culture,sports,politics],axis=0)"
   ]
  },
  {
   "cell_type": "code",
   "execution_count": 8,
   "id": "78780b7f",
   "metadata": {},
   "outputs": [],
   "source": [
    "data.reset_index(drop=True,inplace=True)"
   ]
  },
  {
   "cell_type": "code",
   "execution_count": 9,
   "id": "c3d2bd6d",
   "metadata": {},
   "outputs": [
    {
     "data": {
      "text/html": [
       "<div>\n",
       "<style scoped>\n",
       "    .dataframe tbody tr th:only-of-type {\n",
       "        vertical-align: middle;\n",
       "    }\n",
       "\n",
       "    .dataframe tbody tr th {\n",
       "        vertical-align: top;\n",
       "    }\n",
       "\n",
       "    .dataframe thead th {\n",
       "        text-align: right;\n",
       "    }\n",
       "</style>\n",
       "<table border=\"1\" class=\"dataframe\">\n",
       "  <thead>\n",
       "    <tr style=\"text-align: right;\">\n",
       "      <th></th>\n",
       "      <th>title</th>\n",
       "      <th>topic_idx</th>\n",
       "      <th>topic</th>\n",
       "    </tr>\n",
       "  </thead>\n",
       "  <tbody>\n",
       "    <tr>\n",
       "      <th>0</th>\n",
       "      <td>\"1년차 연봉 5000만원, 만족도 100%\" 40대 환경미화원 후기</td>\n",
       "      <td>1</td>\n",
       "      <td>경제</td>\n",
       "    </tr>\n",
       "    <tr>\n",
       "      <th>1</th>\n",
       "      <td>울산시, 특별교부세 437억 원 확보..역대 최대</td>\n",
       "      <td>1</td>\n",
       "      <td>경제</td>\n",
       "    </tr>\n",
       "    <tr>\n",
       "      <th>2</th>\n",
       "      <td>\"올해 울산에 6천 8백여 가구 분양 예상\"</td>\n",
       "      <td>1</td>\n",
       "      <td>경제</td>\n",
       "    </tr>\n",
       "    <tr>\n",
       "      <th>3</th>\n",
       "      <td>울산 주택 매매가 상승률 둔화..16개월 내 최저</td>\n",
       "      <td>1</td>\n",
       "      <td>경제</td>\n",
       "    </tr>\n",
       "    <tr>\n",
       "      <th>4</th>\n",
       "      <td>2020년 울산 기업체 성장·수익·안전성 악화</td>\n",
       "      <td>1</td>\n",
       "      <td>경제</td>\n",
       "    </tr>\n",
       "  </tbody>\n",
       "</table>\n",
       "</div>"
      ],
      "text/plain": [
       "                                    title  topic_idx topic\n",
       "0  \"1년차 연봉 5000만원, 만족도 100%\" 40대 환경미화원 후기          1    경제\n",
       "1             울산시, 특별교부세 437억 원 확보..역대 최대          1    경제\n",
       "2                \"올해 울산에 6천 8백여 가구 분양 예상\"          1    경제\n",
       "3             울산 주택 매매가 상승률 둔화..16개월 내 최저          1    경제\n",
       "4               2020년 울산 기업체 성장·수익·안전성 악화          1    경제"
      ]
     },
     "execution_count": 9,
     "metadata": {},
     "output_type": "execute_result"
    }
   ],
   "source": [
    "data.head()"
   ]
  },
  {
   "cell_type": "code",
   "execution_count": 11,
   "id": "4ca5712d",
   "metadata": {},
   "outputs": [
    {
     "data": {
      "text/html": [
       "<div>\n",
       "<style scoped>\n",
       "    .dataframe tbody tr th:only-of-type {\n",
       "        vertical-align: middle;\n",
       "    }\n",
       "\n",
       "    .dataframe tbody tr th {\n",
       "        vertical-align: top;\n",
       "    }\n",
       "\n",
       "    .dataframe thead th {\n",
       "        text-align: right;\n",
       "    }\n",
       "</style>\n",
       "<table border=\"1\" class=\"dataframe\">\n",
       "  <thead>\n",
       "    <tr style=\"text-align: right;\">\n",
       "      <th></th>\n",
       "      <th>title</th>\n",
       "      <th>topic_idx</th>\n",
       "      <th>topic</th>\n",
       "    </tr>\n",
       "  </thead>\n",
       "  <tbody>\n",
       "    <tr>\n",
       "      <th>1212933</th>\n",
       "      <td>尹 대통령도 이준석 '손절' 나섰나..고립된 집권여당 대표</td>\n",
       "      <td>5</td>\n",
       "      <td>정치</td>\n",
       "    </tr>\n",
       "    <tr>\n",
       "      <th>1212934</th>\n",
       "      <td>납품단가 연동제 도입위해 업계 상황 듣는 박홍근 野 원내대표</td>\n",
       "      <td>5</td>\n",
       "      <td>정치</td>\n",
       "    </tr>\n",
       "    <tr>\n",
       "      <th>1212935</th>\n",
       "      <td>'납품단가 연동제 도입 촉구'</td>\n",
       "      <td>5</td>\n",
       "      <td>정치</td>\n",
       "    </tr>\n",
       "    <tr>\n",
       "      <th>1212936</th>\n",
       "      <td>'트로트 샛별' 김다현, 사천시장 당선인 만나 축하</td>\n",
       "      <td>5</td>\n",
       "      <td>정치</td>\n",
       "    </tr>\n",
       "    <tr>\n",
       "      <th>1212937</th>\n",
       "      <td>업계 상황 설명하는 유병조 한국창호커튼월협회장</td>\n",
       "      <td>5</td>\n",
       "      <td>정치</td>\n",
       "    </tr>\n",
       "    <tr>\n",
       "      <th>1212938</th>\n",
       "      <td>대화하는 이도훈 외교부 2차관과 방기선 기재부 1차관</td>\n",
       "      <td>5</td>\n",
       "      <td>정치</td>\n",
       "    </tr>\n",
       "    <tr>\n",
       "      <th>1212939</th>\n",
       "      <td>민주 \"한동훈 '총장 패싱' 검찰 인사 벌써 3번째..누가 되든 '식물총장' 될 것\"</td>\n",
       "      <td>5</td>\n",
       "      <td>정치</td>\n",
       "    </tr>\n",
       "    <tr>\n",
       "      <th>1212940</th>\n",
       "      <td>민주 \"한동훈 검찰 인사는 막무가내..누가 되든 '식물총장'\"</td>\n",
       "      <td>5</td>\n",
       "      <td>정치</td>\n",
       "    </tr>\n",
       "    <tr>\n",
       "      <th>1212941</th>\n",
       "      <td>장경태 \"민형배 복당, 이번 비대위서 처리해야\"</td>\n",
       "      <td>5</td>\n",
       "      <td>정치</td>\n",
       "    </tr>\n",
       "    <tr>\n",
       "      <th>1212942</th>\n",
       "      <td>軍 \"북한 황강댐 수문 개방\".. 임진강 수위는 정상 관리 중</td>\n",
       "      <td>5</td>\n",
       "      <td>정치</td>\n",
       "    </tr>\n",
       "  </tbody>\n",
       "</table>\n",
       "</div>"
      ],
      "text/plain": [
       "                                                   title  topic_idx topic\n",
       "1212933                 尹 대통령도 이준석 '손절' 나섰나..고립된 집권여당 대표          5    정치\n",
       "1212934                납품단가 연동제 도입위해 업계 상황 듣는 박홍근 野 원내대표          5    정치\n",
       "1212935                                 '납품단가 연동제 도입 촉구'          5    정치\n",
       "1212936                     '트로트 샛별' 김다현, 사천시장 당선인 만나 축하          5    정치\n",
       "1212937                        업계 상황 설명하는 유병조 한국창호커튼월협회장          5    정치\n",
       "1212938                    대화하는 이도훈 외교부 2차관과 방기선 기재부 1차관          5    정치\n",
       "1212939  민주 \"한동훈 '총장 패싱' 검찰 인사 벌써 3번째..누가 되든 '식물총장' 될 것\"          5    정치\n",
       "1212940               민주 \"한동훈 검찰 인사는 막무가내..누가 되든 '식물총장'\"          5    정치\n",
       "1212941                       장경태 \"민형배 복당, 이번 비대위서 처리해야\"          5    정치\n",
       "1212942               軍 \"북한 황강댐 수문 개방\".. 임진강 수위는 정상 관리 중          5    정치"
      ]
     },
     "execution_count": 11,
     "metadata": {},
     "output_type": "execute_result"
    }
   ],
   "source": [
    "data.tail(10)"
   ]
  },
  {
   "cell_type": "markdown",
   "id": "578e66d9",
   "metadata": {},
   "source": [
    "## EDA"
   ]
  },
  {
   "cell_type": "code",
   "execution_count": 12,
   "id": "f475c4b8",
   "metadata": {},
   "outputs": [],
   "source": [
    "#전처리\n",
    "def clean_text(sent):\n",
    "    #sent_clean=re.sub(\"[^가-힣ㄱ-ㅎㅏ-ㅣ\\\\s0-9A-Za-z]\", \" \", sent).strip()\n",
    "    sent_clean=re.sub(\"\\[[가-힣ㄱ-ㅎㅏ-ㅣ0-9A-Za-z\\s+]+\\]+\",\"\",sent)\n",
    "    sent_clean=re.sub(\"[^가-힣ㄱ-ㅎㅏ-ㅣ\\\\s0-9A-Za-z]\",\"\",sent_clean).strip()\n",
    "    sent_clean=re.sub(\"\\s{2,}\",\" \",sent_clean)\n",
    "    return sent_clean"
   ]
  },
  {
   "cell_type": "code",
   "execution_count": 13,
   "id": "e814b86b",
   "metadata": {},
   "outputs": [],
   "source": [
    "data[\"cleaned_title\"] = data[\"title\"].apply(lambda x : clean_text(x))\n",
    "#test[\"cleaned_title\"]  = test[\"title\"].apply(lambda x : clean_text(x))"
   ]
  },
  {
   "cell_type": "code",
   "execution_count": 14,
   "id": "4110f738",
   "metadata": {},
   "outputs": [
    {
     "data": {
      "text/html": [
       "<div>\n",
       "<style scoped>\n",
       "    .dataframe tbody tr th:only-of-type {\n",
       "        vertical-align: middle;\n",
       "    }\n",
       "\n",
       "    .dataframe tbody tr th {\n",
       "        vertical-align: top;\n",
       "    }\n",
       "\n",
       "    .dataframe thead th {\n",
       "        text-align: right;\n",
       "    }\n",
       "</style>\n",
       "<table border=\"1\" class=\"dataframe\">\n",
       "  <thead>\n",
       "    <tr style=\"text-align: right;\">\n",
       "      <th></th>\n",
       "      <th>title</th>\n",
       "      <th>topic_idx</th>\n",
       "      <th>topic</th>\n",
       "      <th>cleaned_title</th>\n",
       "    </tr>\n",
       "  </thead>\n",
       "  <tbody>\n",
       "    <tr>\n",
       "      <th>1212938</th>\n",
       "      <td>대화하는 이도훈 외교부 2차관과 방기선 기재부 1차관</td>\n",
       "      <td>5</td>\n",
       "      <td>정치</td>\n",
       "      <td>대화하는 이도훈 외교부 2차관과 방기선 기재부 1차관</td>\n",
       "    </tr>\n",
       "    <tr>\n",
       "      <th>1212939</th>\n",
       "      <td>민주 \"한동훈 '총장 패싱' 검찰 인사 벌써 3번째..누가 되든 '식물총장' 될 것\"</td>\n",
       "      <td>5</td>\n",
       "      <td>정치</td>\n",
       "      <td>민주 한동훈 총장 패싱 검찰 인사 벌써 3번째누가 되든 식물총장 될 것</td>\n",
       "    </tr>\n",
       "    <tr>\n",
       "      <th>1212940</th>\n",
       "      <td>민주 \"한동훈 검찰 인사는 막무가내..누가 되든 '식물총장'\"</td>\n",
       "      <td>5</td>\n",
       "      <td>정치</td>\n",
       "      <td>민주 한동훈 검찰 인사는 막무가내누가 되든 식물총장</td>\n",
       "    </tr>\n",
       "    <tr>\n",
       "      <th>1212941</th>\n",
       "      <td>장경태 \"민형배 복당, 이번 비대위서 처리해야\"</td>\n",
       "      <td>5</td>\n",
       "      <td>정치</td>\n",
       "      <td>장경태 민형배 복당 이번 비대위서 처리해야</td>\n",
       "    </tr>\n",
       "    <tr>\n",
       "      <th>1212942</th>\n",
       "      <td>軍 \"북한 황강댐 수문 개방\".. 임진강 수위는 정상 관리 중</td>\n",
       "      <td>5</td>\n",
       "      <td>정치</td>\n",
       "      <td>북한 황강댐 수문 개방 임진강 수위는 정상 관리 중</td>\n",
       "    </tr>\n",
       "  </tbody>\n",
       "</table>\n",
       "</div>"
      ],
      "text/plain": [
       "                                                   title  topic_idx topic  \\\n",
       "1212938                    대화하는 이도훈 외교부 2차관과 방기선 기재부 1차관          5    정치   \n",
       "1212939  민주 \"한동훈 '총장 패싱' 검찰 인사 벌써 3번째..누가 되든 '식물총장' 될 것\"          5    정치   \n",
       "1212940               민주 \"한동훈 검찰 인사는 막무가내..누가 되든 '식물총장'\"          5    정치   \n",
       "1212941                       장경태 \"민형배 복당, 이번 비대위서 처리해야\"          5    정치   \n",
       "1212942               軍 \"북한 황강댐 수문 개방\".. 임진강 수위는 정상 관리 중          5    정치   \n",
       "\n",
       "                                   cleaned_title  \n",
       "1212938            대화하는 이도훈 외교부 2차관과 방기선 기재부 1차관  \n",
       "1212939  민주 한동훈 총장 패싱 검찰 인사 벌써 3번째누가 되든 식물총장 될 것  \n",
       "1212940             민주 한동훈 검찰 인사는 막무가내누가 되든 식물총장  \n",
       "1212941                  장경태 민형배 복당 이번 비대위서 처리해야  \n",
       "1212942             북한 황강댐 수문 개방 임진강 수위는 정상 관리 중  "
      ]
     },
     "execution_count": 14,
     "metadata": {},
     "output_type": "execute_result"
    }
   ],
   "source": [
    "data.tail()"
   ]
  },
  {
   "cell_type": "code",
   "execution_count": 15,
   "id": "79278eea",
   "metadata": {},
   "outputs": [],
   "source": [
    "data_text = data[\"cleaned_title\"].tolist()\n",
    "#test_text = test[\"cleaned_title\"].tolist()"
   ]
  },
  {
   "cell_type": "code",
   "execution_count": 16,
   "id": "a0efe85a",
   "metadata": {},
   "outputs": [
    {
     "data": {
      "text/plain": [
       "1212943"
      ]
     },
     "execution_count": 16,
     "metadata": {},
     "output_type": "execute_result"
    }
   ],
   "source": [
    "len(data_text)"
   ]
  },
  {
   "cell_type": "code",
   "execution_count": 17,
   "id": "2e386e84",
   "metadata": {},
   "outputs": [],
   "source": [
    "okt=Okt()"
   ]
  },
  {
   "cell_type": "code",
   "execution_count": 18,
   "id": "0cf331e3",
   "metadata": {},
   "outputs": [
    {
     "data": {
      "text/plain": [
       "['1년차 연봉 5000만원 만족도 100 40대 환경미화원 후기',\n",
       " '울산시 특별교부세 437억 원 확보역대 최대',\n",
       " '올해 울산에 6천 8백여 가구 분양 예상',\n",
       " '울산 주택 매매가 상승률 둔화16개월 내 최저',\n",
       " '2020년 울산 기업체 성장수익안전성 악화']"
      ]
     },
     "execution_count": 18,
     "metadata": {},
     "output_type": "execute_result"
    }
   ],
   "source": [
    "data_text[:5]"
   ]
  },
  {
   "cell_type": "code",
   "execution_count": 20,
   "id": "aa8183f5",
   "metadata": {},
   "outputs": [
    {
     "name": "stdout",
     "output_type": "stream",
     "text": [
      "['연봉', '만족도', '환경미화원', '후기']\n",
      "['산시', '특별', '교부', '세', '원', '확보', '역대', '최대']\n",
      "['올해', '울산', '가구', '분양', '예상']\n",
      "['울산', '주택', '매매', '상', '승률', '둔화', '개월', '내', '최저']\n",
      "['울산', '기업체', '성장', '수익', '안전성', '악화']\n"
     ]
    }
   ],
   "source": [
    "for i in data_text[:5]: #명사 추출\n",
    "    print(okt.nouns(i))"
   ]
  },
  {
   "cell_type": "code",
   "execution_count": 33,
   "id": "82dac9f2",
   "metadata": {},
   "outputs": [],
   "source": [
    "#문장 단어 분포도\n",
    "vocab={}\n",
    "for sent in data_text:\n",
    "    for word in okt.nouns(sent):\n",
    "        if word not in vocab.keys():\n",
    "            vocab[word]=len(vocab)"
   ]
  },
  {
   "cell_type": "code",
   "execution_count": 34,
   "id": "b328b20d",
   "metadata": {},
   "outputs": [
    {
     "name": "stdout",
     "output_type": "stream",
     "text": [
      "79945\n"
     ]
    }
   ],
   "source": [
    "print(len(vocab))"
   ]
  },
  {
   "cell_type": "code",
   "execution_count": 36,
   "id": "9bc68dd7",
   "metadata": {},
   "outputs": [
    {
     "name": "stdout",
     "output_type": "stream",
     "text": [
      "가장 적은 단어 수 : 0\n",
      "가장 많은 단어 수 : 59\n",
      "평균 문장 단어 : 9.698219124888803\n"
     ]
    }
   ],
   "source": [
    "text_len=[len(okt.morphs(s)) for s in data_text]\n",
    "print('가장 적은 단어 수 : {}'.format(np.min(text_len)))\n",
    "print('가장 많은 단어 수 : {}'.format(np.max(text_len)))\n",
    "print('평균 문장 단어 : {}'.format(np.mean(text_len)))"
   ]
  },
  {
   "cell_type": "code",
   "execution_count": 37,
   "id": "620abb8d",
   "metadata": {},
   "outputs": [
    {
     "data": {
      "image/png": "[encoded data removed]",
      "text/plain": [
       "<Figure size 1080x720 with 2 Axes>"
      ]
     },
     "metadata": {
      "needs_background": "light"
     },
     "output_type": "display_data"
    }
   ],
   "source": [
    "plt.figure(figsize=(15,10))\n",
    "plt.subplot(1,2,1)\n",
    "plt.boxplot(text_len)\n",
    "plt.title('text_len')\n",
    "#text 길이는 중위수가 10, 평균이 8에 가깝다.\n",
    "plt.subplot(1,2,2)\n",
    "plt.hist(text_len,bins=40)\n",
    "plt.xlabel('number of words')\n",
    "plt.show()\n",
    "#단어의 수는 10에서 많은 편이다."
   ]
  },
  {
   "cell_type": "code",
   "execution_count": 38,
   "id": "9cad7408",
   "metadata": {},
   "outputs": [
    {
     "name": "stdout",
     "output_type": "stream",
     "text": [
      "가장 적은 문장 : 0\n",
      "가장 긴 문장  : 157\n",
      "평균 문장 문장 : 25.635397541351903\n"
     ]
    }
   ],
   "source": [
    "#문장길이\n",
    "str_len=[len(s) for s in data_text]\n",
    "print('가장 적은 문장 : {}'.format(np.min(str_len)))\n",
    "print('가장 긴 문장  : {}'.format(np.max(str_len)))\n",
    "print('평균 문장 문장 : {}'.format(np.mean(str_len)))"
   ]
  },
  {
   "cell_type": "markdown",
   "id": "84869736",
   "metadata": {},
   "source": [
    "## 분야마다 많이 사용한 단어 분포"
   ]
  },
  {
   "cell_type": "code",
   "execution_count": 21,
   "id": "89ed91b3",
   "metadata": {},
   "outputs": [],
   "source": [
    "def plot_wordcloud(text):#워드클라우딩(명사 추출)\n",
    "    def preprocess_text(text):\n",
    "        corpus=[]\n",
    "        for a in text:\n",
    "            tokens = [word for word in okt.nouns(a) if len(word)>1]\n",
    "            corpus.extend(tokens)\n",
    "        return corpus\n",
    "    corpus=preprocess_text(text)\n",
    "    count = Counter(corpus)\n",
    "    words = dict(count.most_common())\n",
    "    wordcloud = WordCloud(\n",
    "    font_path='malgun',\n",
    "    background_color='white',\n",
    "    max_words=100,\n",
    "    max_font_size=50, \n",
    "    scale=7,\n",
    "    random_state=1)\n",
    "    wordcloud = wordcloud.generate_from_frequencies(words)\n",
    "    return wordcloud"
   ]
  },
  {
   "cell_type": "markdown",
   "id": "e4211c30",
   "metadata": {},
   "source": [
    "IT,0 경제,1 사회,2 생활문화,3 스포츠,4 정치,5"
   ]
  },
  {
   "cell_type": "code",
   "execution_count": 40,
   "id": "9315bc1a",
   "metadata": {
    "collapsed": true
   },
   "outputs": [
    {
     "ename": "KeyboardInterrupt",
     "evalue": "",
     "output_type": "error",
     "traceback": [
      "\u001b[1;31m---------------------------------------------------------------------------\u001b[0m",
      "\u001b[1;31mKeyboardInterrupt\u001b[0m                         Traceback (most recent call last)",
      "Input \u001b[1;32mIn [40]\u001b[0m, in \u001b[0;36m<cell line: 5>\u001b[1;34m()\u001b[0m\n\u001b[0;32m      4\u001b[0m topic\u001b[38;5;241m=\u001b[39m[\u001b[38;5;124m'\u001b[39m\u001b[38;5;124mIT\u001b[39m\u001b[38;5;124m'\u001b[39m,\u001b[38;5;124m'\u001b[39m\u001b[38;5;124m경제\u001b[39m\u001b[38;5;124m'\u001b[39m,\u001b[38;5;124m'\u001b[39m\u001b[38;5;124m사회\u001b[39m\u001b[38;5;124m'\u001b[39m,\u001b[38;5;124m'\u001b[39m\u001b[38;5;124m문화\u001b[39m\u001b[38;5;124m'\u001b[39m,\u001b[38;5;124m'\u001b[39m\u001b[38;5;124m스포츠\u001b[39m\u001b[38;5;124m'\u001b[39m,\u001b[38;5;124m'\u001b[39m\u001b[38;5;124m정치\u001b[39m\u001b[38;5;124m'\u001b[39m]\n\u001b[0;32m      5\u001b[0m \u001b[38;5;28;01mfor\u001b[39;00m i \u001b[38;5;129;01min\u001b[39;00m \u001b[38;5;28mrange\u001b[39m(\u001b[38;5;241m6\u001b[39m):\n\u001b[1;32m----> 6\u001b[0m     wordcloud\u001b[38;5;241m=\u001b[39m\u001b[43mplot_wordcloud\u001b[49m\u001b[43m(\u001b[49m\u001b[43mdata\u001b[49m\u001b[43m[\u001b[49m\u001b[43mdata\u001b[49m\u001b[43m[\u001b[49m\u001b[38;5;124;43m'\u001b[39;49m\u001b[38;5;124;43mtopic_idx\u001b[39;49m\u001b[38;5;124;43m'\u001b[39;49m\u001b[43m]\u001b[49m\u001b[38;5;241;43m==\u001b[39;49m\u001b[43mi\u001b[49m\u001b[43m]\u001b[49m\u001b[43m[\u001b[49m\u001b[38;5;124;43m'\u001b[39;49m\u001b[38;5;124;43mcleaned_title\u001b[39;49m\u001b[38;5;124;43m'\u001b[39;49m\u001b[43m]\u001b[49m\u001b[43m)\u001b[49m\n\u001b[0;32m      7\u001b[0m     ax\u001b[38;5;241m=\u001b[39mfig\u001b[38;5;241m.\u001b[39madd_subplot(rows,cols,i\u001b[38;5;241m+\u001b[39m\u001b[38;5;241m1\u001b[39m)\n\u001b[0;32m      8\u001b[0m     ax\u001b[38;5;241m.\u001b[39maxis(\u001b[38;5;124m'\u001b[39m\u001b[38;5;124moff\u001b[39m\u001b[38;5;124m'\u001b[39m)\n",
      "Input \u001b[1;32mIn [39]\u001b[0m, in \u001b[0;36mplot_wordcloud\u001b[1;34m(text)\u001b[0m\n\u001b[0;32m      6\u001b[0m         corpus\u001b[38;5;241m.\u001b[39mextend(tokens)\n\u001b[0;32m      7\u001b[0m     \u001b[38;5;28;01mreturn\u001b[39;00m corpus\n\u001b[1;32m----> 8\u001b[0m corpus\u001b[38;5;241m=\u001b[39m\u001b[43mpreprocess_text\u001b[49m\u001b[43m(\u001b[49m\u001b[43mtext\u001b[49m\u001b[43m)\u001b[49m\n\u001b[0;32m      9\u001b[0m count \u001b[38;5;241m=\u001b[39m Counter(corpus)\n\u001b[0;32m     10\u001b[0m words \u001b[38;5;241m=\u001b[39m \u001b[38;5;28mdict\u001b[39m(count\u001b[38;5;241m.\u001b[39mmost_common())\n",
      "Input \u001b[1;32mIn [39]\u001b[0m, in \u001b[0;36mplot_wordcloud.<locals>.preprocess_text\u001b[1;34m(text)\u001b[0m\n\u001b[0;32m      3\u001b[0m corpus\u001b[38;5;241m=\u001b[39m[]\n\u001b[0;32m      4\u001b[0m \u001b[38;5;28;01mfor\u001b[39;00m a \u001b[38;5;129;01min\u001b[39;00m text:\n\u001b[1;32m----> 5\u001b[0m     tokens \u001b[38;5;241m=\u001b[39m [word \u001b[38;5;28;01mfor\u001b[39;00m word \u001b[38;5;129;01min\u001b[39;00m \u001b[43mokt\u001b[49m\u001b[38;5;241;43m.\u001b[39;49m\u001b[43mnouns\u001b[49m\u001b[43m(\u001b[49m\u001b[43ma\u001b[49m\u001b[43m)\u001b[49m \u001b[38;5;28;01mif\u001b[39;00m \u001b[38;5;28mlen\u001b[39m(word)\u001b[38;5;241m>\u001b[39m\u001b[38;5;241m1\u001b[39m]\n\u001b[0;32m      6\u001b[0m     corpus\u001b[38;5;241m.\u001b[39mextend(tokens)\n\u001b[0;32m      7\u001b[0m \u001b[38;5;28;01mreturn\u001b[39;00m corpus\n",
      "File \u001b[1;32m~\\anaconda3\\lib\\site-packages\\konlpy\\tag\\_okt.py:83\u001b[0m, in \u001b[0;36mOkt.nouns\u001b[1;34m(self, phrase)\u001b[0m\n\u001b[0;32m     80\u001b[0m \u001b[38;5;28;01mdef\u001b[39;00m \u001b[38;5;21mnouns\u001b[39m(\u001b[38;5;28mself\u001b[39m, phrase):\n\u001b[0;32m     81\u001b[0m     \u001b[38;5;124;03m\"\"\"Noun extractor.\"\"\"\u001b[39;00m\n\u001b[1;32m---> 83\u001b[0m     tagged \u001b[38;5;241m=\u001b[39m \u001b[38;5;28;43mself\u001b[39;49m\u001b[38;5;241;43m.\u001b[39;49m\u001b[43mpos\u001b[49m\u001b[43m(\u001b[49m\u001b[43mphrase\u001b[49m\u001b[43m)\u001b[49m\n\u001b[0;32m     84\u001b[0m     \u001b[38;5;28;01mreturn\u001b[39;00m [s \u001b[38;5;28;01mfor\u001b[39;00m s, t \u001b[38;5;129;01min\u001b[39;00m tagged \u001b[38;5;28;01mif\u001b[39;00m t \u001b[38;5;241m==\u001b[39m \u001b[38;5;124m'\u001b[39m\u001b[38;5;124mNoun\u001b[39m\u001b[38;5;124m'\u001b[39m]\n",
      "File \u001b[1;32m~\\anaconda3\\lib\\site-packages\\konlpy\\tag\\_okt.py:71\u001b[0m, in \u001b[0;36mOkt.pos\u001b[1;34m(self, phrase, norm, stem, join)\u001b[0m\n\u001b[0;32m     59\u001b[0m \u001b[38;5;124;03m\"\"\"POS tagger.\u001b[39;00m\n\u001b[0;32m     60\u001b[0m \u001b[38;5;124;03mIn contrast to other classes in this subpackage,\u001b[39;00m\n\u001b[0;32m     61\u001b[0m \u001b[38;5;124;03mthis POS tagger doesn't have a `flatten` option,\u001b[39;00m\n\u001b[1;32m   (...)\u001b[0m\n\u001b[0;32m     67\u001b[0m \u001b[38;5;124;03m:param join: If True, returns joined sets of morph and tag.\u001b[39;00m\n\u001b[0;32m     68\u001b[0m \u001b[38;5;124;03m\"\"\"\u001b[39;00m\n\u001b[0;32m     69\u001b[0m validate_phrase_inputs(phrase)\n\u001b[1;32m---> 71\u001b[0m tokens \u001b[38;5;241m=\u001b[39m \u001b[38;5;28;43mself\u001b[39;49m\u001b[38;5;241;43m.\u001b[39;49m\u001b[43mjki\u001b[49m\u001b[38;5;241;43m.\u001b[39;49m\u001b[43mtokenize\u001b[49m\u001b[43m(\u001b[49m\n\u001b[0;32m     72\u001b[0m \u001b[43m            \u001b[49m\u001b[43mphrase\u001b[49m\u001b[43m,\u001b[49m\n\u001b[0;32m     73\u001b[0m \u001b[43m            \u001b[49m\u001b[43mjpype\u001b[49m\u001b[38;5;241;43m.\u001b[39;49m\u001b[43mjava\u001b[49m\u001b[38;5;241;43m.\u001b[39;49m\u001b[43mlang\u001b[49m\u001b[38;5;241;43m.\u001b[39;49m\u001b[43mBoolean\u001b[49m\u001b[43m(\u001b[49m\u001b[43mnorm\u001b[49m\u001b[43m)\u001b[49m\u001b[43m,\u001b[49m\n\u001b[0;32m     74\u001b[0m \u001b[43m            \u001b[49m\u001b[43mjpype\u001b[49m\u001b[38;5;241;43m.\u001b[39;49m\u001b[43mjava\u001b[49m\u001b[38;5;241;43m.\u001b[39;49m\u001b[43mlang\u001b[49m\u001b[38;5;241;43m.\u001b[39;49m\u001b[43mBoolean\u001b[49m\u001b[43m(\u001b[49m\u001b[43mstem\u001b[49m\u001b[43m)\u001b[49m\u001b[43m)\u001b[49m\u001b[38;5;241m.\u001b[39mtoArray()\n\u001b[0;32m     75\u001b[0m \u001b[38;5;28;01mif\u001b[39;00m join:\n\u001b[0;32m     76\u001b[0m     \u001b[38;5;28;01mreturn\u001b[39;00m [t \u001b[38;5;28;01mfor\u001b[39;00m t \u001b[38;5;129;01min\u001b[39;00m tokens]\n",
      "\u001b[1;31mKeyboardInterrupt\u001b[0m: "
     ]
    },
    {
     "data": {
      "image/png": "[encoded data removed]",
      "text/plain": [
       "<Figure size 1440x1440 with 3 Axes>"
      ]
     },
     "metadata": {
      "needs_background": "light"
     },
     "output_type": "display_data"
    }
   ],
   "source": [
    "fig=plt.figure(figsize=(20,20))\n",
    "rows=3\n",
    "cols=2\n",
    "topic=['IT','경제','사회','문화','스포츠','정치']\n",
    "for i in range(6):\n",
    "    wordcloud=plot_wordcloud(data[data['topic_idx']==i]['cleaned_title'])\n",
    "    ax=fig.add_subplot(rows,cols,i+1)\n",
    "    ax.axis('off')\n",
    "    ax.set_title('wordcloud by topic:{}'.format(topic[i]))\n",
    "    ax.imshow(wordcloud)"
   ]
  },
  {
   "cell_type": "code",
   "execution_count": 22,
   "id": "e3808280",
   "metadata": {},
   "outputs": [],
   "source": [
    "def plot_wordcloud_words(text):#워드클라우딩(단어 추출, 불용어 제거)\n",
    "    def preprocess_text(text):\n",
    "        corpus=[]\n",
    "        for a in text:\n",
    "            tokens = [word[0] for word in okt.pos(a) if word[1] in ['Noun']]\n",
    "            corpus.extend(tokens)\n",
    "        return corpus\n",
    "    corpus=preprocess_text(text)\n",
    "    count = Counter(corpus)\n",
    "    words = dict(count.most_common())\n",
    "    wordcloud = WordCloud(\n",
    "    font_path='malgun',\n",
    "    background_color='white',\n",
    "    max_words=100,\n",
    "    max_font_size=50, \n",
    "    scale=7,\n",
    "    random_state=1)\n",
    "    wordcloud = wordcloud.generate_from_frequencies(words)\n",
    "    return wordcloud"
   ]
  },
  {
   "cell_type": "code",
   "execution_count": null,
   "id": "7cec5832",
   "metadata": {},
   "outputs": [],
   "source": [
    "fig=plt.figure(figsize=(10,10))\n",
    "rows=3\n",
    "cols=2\n",
    "# topic=['IT과학','경제','사회','생활문화','세계','스포츠','정치']\n",
    "for i in range(6):\n",
    "    wordcloud=plot_wordcloud_words(train[data['topic_idx']==i]['cleaned_title'])\n",
    "    ax=fig.add_subplot(rows,cols,i+1)\n",
    "    ax.axis('off')\n",
    "    ax.set_title('wordcloud by topic:{}'.format(format(topic[i])))\n",
    "    ax.imshow(wordcloud)"
   ]
  },
  {
   "cell_type": "code",
   "execution_count": null,
   "id": "430bc700",
   "metadata": {
    "scrolled": true
   },
   "outputs": [],
   "source": [
    "fig=plt.figure(figsize=(17,20)) #전처리 한 상태에서 제일 많이 나온 단어\n",
    "rows=2\n",
    "cols=3\n",
    "#topic=['IT과학','경제','사회','생활문화','세계','스포츠','정치']\n",
    "def plot_top_non_stopwords_barchart(text):\n",
    "    corpus=[]\n",
    "    for i in text:\n",
    "        for word in okt.pos(i):\n",
    "            if word[1] in ['Noun'] and len(word[0])>1:\n",
    "                corpus.append(word[0])\n",
    "    counter=Counter(corpus)\n",
    "    most=counter.most_common()\n",
    "    x, y=[], []\n",
    "    for word,count in most[:10]:\n",
    "        x.append(word)\n",
    "        y.append(count)\n",
    "    return x, y\n",
    "for i in range(6):\n",
    "    x,y = plot_top_non_stopwords_barchart(train[train['topic_idx']==i]['cleaned_title'])\n",
    "    ax = fig.add_subplot(rows, cols, i+1)\n",
    "    ax.set_title('wordcloud by topic:{}'.format(topic[i]))\n",
    "    sns.barplot(x=y,y=x)"
   ]
  },
  {
   "cell_type": "code",
   "execution_count": 23,
   "id": "d18306fb",
   "metadata": {},
   "outputs": [],
   "source": [
    "stopwords=[]\n",
    "for i in data_text:\n",
    "    for word in okt.pos(i):\n",
    "        if word[0] not in stopwords:\n",
    "            if word[1] in ['Josa','Determiner','Eomi','Exclamation','KoreanParticle','Suffix']:\n",
    "                stopwords.append(word[0])\n",
    "        else:\n",
    "            pass"
   ]
  },
  {
   "cell_type": "code",
   "execution_count": 24,
   "id": "6aa34849",
   "metadata": {},
   "outputs": [],
   "source": [
    "stopwords=list(set(stopwords))"
   ]
  },
  {
   "cell_type": "markdown",
   "id": "f7858979",
   "metadata": {},
   "source": [
    "## 모델 설계(딥러닝-TfidfVectorizer, 불용어제거)"
   ]
  },
  {
   "cell_type": "code",
   "execution_count": 48,
   "id": "a0168aee",
   "metadata": {},
   "outputs": [],
   "source": [
    "train_label = np.asarray(data.topic_idx)\n",
    "x_train,x_test,y_train,y_test=train_test_split(data_text, train_label, test_size = 0.3, random_state = 1)\n",
    "#y_train=to_categorical(y_train)\n",
    "#y_test=to_categorical(y_test)"
   ]
  },
  {
   "cell_type": "code",
   "execution_count": 49,
   "id": "b2741adc",
   "metadata": {},
   "outputs": [
    {
     "data": {
      "text/plain": [
       "array([4, 5, 4, ..., 2, 2, 1], dtype=int64)"
      ]
     },
     "execution_count": 49,
     "metadata": {},
     "output_type": "execute_result"
    }
   ],
   "source": [
    "y_train"
   ]
  },
  {
   "cell_type": "code",
   "execution_count": 55,
   "id": "f15cd24a",
   "metadata": {},
   "outputs": [
    {
     "data": {
      "text/plain": [
       "TfidfVectorizer(max_features=500000, ngram_range=(1, 2),\n",
       "                stop_words=['요', '도', '네만', '만이라도', '에구구', '까지야', '말고는', '로운',\n",
       "                            '에만', '조', '틱', 'ㄴ', '악', '이니까', 'ㅡ', 'ㅇㄱㄹㅇ', '분',\n",
       "                            '플', '어휴', '에크', '라는', '난', '으로의', '아이구', '만큼이나',\n",
       "                            '에를', '마다', 'ㅇㅇ', '와는', '하악', ...],\n",
       "                sublinear_tf=True)"
      ]
     },
     "execution_count": 55,
     "metadata": {},
     "output_type": "execute_result"
    }
   ],
   "source": [
    "tfidf = TfidfVectorizer(analyzer='word', sublinear_tf=True,max_features=500000, ngram_range=(1, 2), binary=False,\n",
    "                       stop_words=stopwords)\n",
    "tfidf.fit(data_text)"
   ]
  },
  {
   "cell_type": "code",
   "execution_count": 56,
   "id": "f3b69b31",
   "metadata": {
    "scrolled": true
   },
   "outputs": [],
   "source": [
    "train_tf_text = tfidf.transform(x_train).astype('float32')\n",
    "#max_feature 안 쓸 경우: 849060x4923099 sparse matrix of type '<class 'numpy.float32'>' with 9504629 stored elements in Compressed Sparse Row format\n",
    "#단어벡터의 열이 4923099이므로 500000으로 축소\n",
    "test_tf_text = tfidf.transform(x_test).astype('float32')"
   ]
  },
  {
   "cell_type": "code",
   "execution_count": 57,
   "id": "7a410ad9",
   "metadata": {},
   "outputs": [
    {
     "data": {
      "text/plain": [
       "<849060x500000 sparse matrix of type '<class 'numpy.float32'>'\n",
       "\twith 6096887 stored elements in Compressed Sparse Row format>"
      ]
     },
     "execution_count": 57,
     "metadata": {},
     "output_type": "execute_result"
    }
   ],
   "source": [
    "train_tf_text"
   ]
  },
  {
   "cell_type": "markdown",
   "id": "63ad1335",
   "metadata": {},
   "source": [
    "## 2층 쌓을 때"
   ]
  },
  {
   "cell_type": "code",
   "execution_count": 58,
   "id": "600ff3e6",
   "metadata": {
    "scrolled": true
   },
   "outputs": [
    {
     "name": "stdout",
     "output_type": "stream",
     "text": [
      "Model: \"sequential\"\n",
      "_________________________________________________________________\n",
      " Layer (type)                Output Shape              Param #   \n",
      "=================================================================\n",
      " dense (Dense)               (None, 128)               64000128  \n",
      "                                                                 \n",
      " dropout (Dropout)           (None, 128)               0         \n",
      "                                                                 \n",
      " dense_1 (Dense)             (None, 6)                 774       \n",
      "                                                                 \n",
      "=================================================================\n",
      "Total params: 64,000,902\n",
      "Trainable params: 64,000,902\n",
      "Non-trainable params: 0\n",
      "_________________________________________________________________\n"
     ]
    }
   ],
   "source": [
    "model=Sequential()\n",
    "model.add(Dense(128,input_dim=500000,activation='relu'))\n",
    "model.add(Dropout(0.8))\n",
    "model.add(Dense(6,activation='softmax'))\n",
    "model.summary()"
   ]
  },
  {
   "cell_type": "code",
   "execution_count": 59,
   "id": "c2530341",
   "metadata": {},
   "outputs": [],
   "source": [
    "model.compile(loss='sparse_categorical_crossentropy',optimizer='adam',\n",
    "             metrics=['accuracy'])"
   ]
  },
  {
   "cell_type": "code",
   "execution_count": 61,
   "id": "e7fa52ee",
   "metadata": {},
   "outputs": [
    {
     "name": "stdout",
     "output_type": "stream",
     "text": [
      "Epoch 1/10\n",
      "850/850 [==============================] - 525s 617ms/step - loss: 1.0404 - accuracy: 0.6598 - val_loss: 0.6726 - val_accuracy: 0.7772\n",
      "Epoch 2/10\n",
      "850/850 [==============================] - 524s 615ms/step - loss: 0.6618 - accuracy: 0.7865 - val_loss: 0.6072 - val_accuracy: 0.7920\n",
      "Epoch 3/10\n",
      "850/850 [==============================] - 532s 625ms/step - loss: 0.5619 - accuracy: 0.8172 - val_loss: 0.5938 - val_accuracy: 0.7955\n",
      "Epoch 4/10\n",
      "850/850 [==============================] - 523s 614ms/step - loss: 0.5011 - accuracy: 0.8355 - val_loss: 0.5958 - val_accuracy: 0.7961\n",
      "Epoch 5/10\n",
      "850/850 [==============================] - 522s 613ms/step - loss: 0.4577 - accuracy: 0.8485 - val_loss: 0.6058 - val_accuracy: 0.7961\n",
      "Epoch 6/10\n",
      "850/850 [==============================] - 522s 613ms/step - loss: 0.4225 - accuracy: 0.8585 - val_loss: 0.6182 - val_accuracy: 0.7954\n",
      "Epoch 7/10\n",
      "850/850 [==============================] - 524s 615ms/step - loss: 0.3950 - accuracy: 0.8669 - val_loss: 0.6330 - val_accuracy: 0.7939\n",
      "Epoch 8/10\n",
      "850/850 [==============================] - 524s 616ms/step - loss: 0.3704 - accuracy: 0.8738 - val_loss: 0.6493 - val_accuracy: 0.7934\n",
      "Epoch 9/10\n",
      "850/850 [==============================] - 534s 627ms/step - loss: 0.3505 - accuracy: 0.8801 - val_loss: 0.6676 - val_accuracy: 0.7923\n",
      "Epoch 10/10\n",
      "850/850 [==============================] - 526s 618ms/step - loss: 0.3317 - accuracy: 0.8856 - val_loss: 0.6877 - val_accuracy: 0.7915\n"
     ]
    }
   ],
   "source": [
    "history = model.fit(x =train_tf_text, y = y_train,batch_size=1000,\n",
    "                    validation_data =(test_tf_text,y_test),\n",
    "                    epochs = 10)"
   ]
  },
  {
   "cell_type": "code",
   "execution_count": 62,
   "id": "58c9f101",
   "metadata": {},
   "outputs": [
    {
     "data": {
      "image/png": "[encoded data removed]",
      "text/plain": [
       "<Figure size 432x288 with 1 Axes>"
      ]
     },
     "metadata": {
      "needs_background": "light"
     },
     "output_type": "display_data"
    }
   ],
   "source": [
    "epochs = range(1, len(history.history['accuracy']) + 1) #Dense,Dropout사용\n",
    "plt.plot(epochs, history.history['loss'])\n",
    "plt.plot(epochs, history.history['val_loss'])\n",
    "plt.title('model loss')\n",
    "plt.ylabel('loss')\n",
    "plt.xlabel('epoch')\n",
    "\n",
    "plt.legend(['train', 'test'], loc='upper left')\n",
    "plt.show()"
   ]
  },
  {
   "cell_type": "code",
   "execution_count": 63,
   "id": "28db5648",
   "metadata": {},
   "outputs": [
    {
     "data": {
      "image/png": "[encoded data removed]",
      "text/plain": [
       "<Figure size 432x288 with 1 Axes>"
      ]
     },
     "metadata": {
      "needs_background": "light"
     },
     "output_type": "display_data"
    }
   ],
   "source": [
    "epochs = range(1, len(history.history['accuracy']) + 1) #Dense,Dropout사용\n",
    "plt.plot(epochs, history.history['accuracy'])\n",
    "plt.plot(epochs, history.history['val_accuracy'])\n",
    "plt.title('model loss')\n",
    "plt.ylabel('loss')\n",
    "plt.xlabel('epoch')\n",
    "\n",
    "plt.legend(['train', 'test'], loc='upper left')\n",
    "plt.show()"
   ]
  },
  {
   "cell_type": "code",
   "execution_count": 65,
   "id": "82425ac5",
   "metadata": {},
   "outputs": [
    {
     "name": "stdout",
     "output_type": "stream",
     "text": [
      "11372/11372 [==============================] - 12s 883us/step\n"
     ]
    }
   ],
   "source": [
    "tmp_pred=model.predict(test_tf_text)"
   ]
  },
  {
   "cell_type": "code",
   "execution_count": 66,
   "id": "f73ad4ae",
   "metadata": {},
   "outputs": [
    {
     "data": {
      "text/plain": [
       "0.7914576938191672"
      ]
     },
     "execution_count": 66,
     "metadata": {},
     "output_type": "execute_result"
    }
   ],
   "source": [
    "np.mean(np.argmax(tmp_pred,axis=1)==y_test)"
   ]
  },
  {
   "cell_type": "code",
   "execution_count": 67,
   "id": "70a656ba",
   "metadata": {},
   "outputs": [
    {
     "name": "stdout",
     "output_type": "stream",
     "text": [
      "[2 4 4 ... 2 1 4]\n"
     ]
    }
   ],
   "source": [
    "print(np.argmax(tmp_pred,axis=1))"
   ]
  },
  {
   "cell_type": "code",
   "execution_count": 68,
   "id": "d1629643",
   "metadata": {},
   "outputs": [
    {
     "name": "stdout",
     "output_type": "stream",
     "text": [
      "[2 4 2 ... 2 1 4]\n"
     ]
    }
   ],
   "source": [
    "print(y_test)"
   ]
  },
  {
   "cell_type": "code",
   "execution_count": 71,
   "id": "8f6dae7e",
   "metadata": {},
   "outputs": [
    {
     "data": {
      "text/plain": [
       "array([2, 4, 2, ..., 2, 1, 4], dtype=int64)"
      ]
     },
     "execution_count": 71,
     "metadata": {},
     "output_type": "execute_result"
    }
   ],
   "source": [
    "y_test"
   ]
  },
  {
   "cell_type": "code",
   "execution_count": 78,
   "id": "704b5d7a",
   "metadata": {},
   "outputs": [
    {
     "data": {
      "text/plain": [
       "array([ True,  True, False, ...,  True,  True,  True])"
      ]
     },
     "execution_count": 78,
     "metadata": {},
     "output_type": "execute_result"
    }
   ],
   "source": [
    "np.argmax(tmp_pred,axis=1)==y_test"
   ]
  },
  {
   "cell_type": "code",
   "execution_count": 79,
   "id": "e1aa1351",
   "metadata": {},
   "outputs": [
    {
     "data": {
      "text/plain": [
       "array([[5.4763060e-02, 5.1164132e-02, 5.2312320e-01, 3.6658061e-01,\n",
       "        1.1070110e-03, 3.2619317e-03],\n",
       "       [8.5326174e-04, 2.4629461e-03, 3.1737936e-01, 8.7012397e-03,\n",
       "        6.6362578e-01, 6.9774883e-03],\n",
       "       [4.4873391e-06, 6.7362584e-05, 2.3414752e-01, 3.4727907e-04,\n",
       "        7.6491553e-01, 5.1786815e-04],\n",
       "       ...,\n",
       "       [1.4500291e-05, 1.5098329e-03, 9.9739635e-01, 1.0198178e-03,\n",
       "        4.2386989e-07, 5.9042286e-05],\n",
       "       [1.8425037e-01, 8.0256748e-01, 1.0907699e-03, 1.1991464e-02,\n",
       "        1.6778409e-05, 8.3237610e-05],\n",
       "       [1.0797510e-06, 4.5381614e-05, 5.2327006e-05, 5.5094797e-06,\n",
       "        9.9989402e-01, 1.6232278e-06]], dtype=float32)"
      ]
     },
     "execution_count": 79,
     "metadata": {},
     "output_type": "execute_result"
    }
   ],
   "source": [
    "tmp_pred"
   ]
  },
  {
   "cell_type": "code",
   "execution_count": 91,
   "id": "f0fb4adf",
   "metadata": {},
   "outputs": [],
   "source": [
    "dl2=pd.DataFrame({'text':x_test,'y_test':y_test,'pred':np.argmax(tmp_pred,axis=1)})"
   ]
  },
  {
   "cell_type": "code",
   "execution_count": 94,
   "id": "8ba3beed",
   "metadata": {},
   "outputs": [
    {
     "data": {
      "text/plain": [
       "(363883, 3)"
      ]
     },
     "execution_count": 94,
     "metadata": {},
     "output_type": "execute_result"
    }
   ],
   "source": [
    "dl2.shape"
   ]
  },
  {
   "cell_type": "code",
   "execution_count": 106,
   "id": "77bba45d",
   "metadata": {},
   "outputs": [],
   "source": [
    "dl2_correct=dl2[dl2.pred==dl2.y_test] #pred와 test가 일치하는 부분"
   ]
  },
  {
   "cell_type": "code",
   "execution_count": 104,
   "id": "7fbf5b67",
   "metadata": {
    "collapsed": true
   },
   "outputs": [
    {
     "data": {
      "text/plain": [
       "['신규확진 10만 2211명 이틀연속 10만명대',\n",
       " '고예림물 뿌리는 세레모니 ',\n",
       " '박은신 드라이브샷',\n",
       " '코웨이 우리집 화장실 업그레이드 프로모션 실시',\n",
       " '당정대 경제위기 심각민간 주도로 정책 전환',\n",
       " '간병인 PCR 우선순위 제외보호자 면회도 어려워',\n",
       " '김인철 외대총장 시절 친일 설립자 동상 설치 강행',\n",
       " '삶은 달걀과 귤의 조합 몸의 변화가',\n",
       " '원전 보호울진 산불지역에 산불확산차단제 긴급 투하',\n",
       " ' 내 난소 나이는 몇 살 증가하는 난임 환자',\n",
       " '카카오모빌리티 반려동물 이동 위한 카카오T 펫 베타서비스 출시',\n",
       " '코로나 오후 9시까지 6만2471명 확진어제보다 1만1576명',\n",
       " ' 김보름 이 악물고',\n",
       " '아쉽게 결승 진출 실패하는 박지우 ',\n",
       " ' 몸에 맞는 볼로 출루하는 김도영',\n",
       " '승리 거둔 한화 3연패 탈출 ',\n",
       " '제르소샌드위치 ',\n",
       " '한국가스공사1위 KT 잡고 연패탈출 ',\n",
       " '코로나 장기화로 부부갈등 폭발작년 이혼 상담건수 9 늘었다',\n",
       " '군포시 소상공인 경영상담 전문가 자문위원단 위촉',\n",
       " '강원 청년신혼부부 임대주택 23가구 공급',\n",
       " '다음 주 북서울자이폴라리스 등 7815가구 분양',\n",
       " '박찬욱탕웨이박해일 헤어질 결심 칸 진출 소감 누구보다 오래',\n",
       " '사울 나상호 위험해',\n",
       " '문 대통령 도산 안창호 막내아들 안필영 선생 별세 애도',\n",
       " '김정숙 여사 서 아이들과 운동회',\n",
       " 'SK매직 에코미니 정수기 그린41 일시불 상품 출시',\n",
       " '질주하는 이승훈',\n",
       " 'LG전자 식물생활가전 틔운 제주도에서 체험해보세요',\n",
       " ' 판정으로 바뀐 결과3위 중국은 결승 진출 2위 미국은 페널티',\n",
       " '명단에 없어요 방치에 119 눌렀다셀프치료 첫날 대혼란',\n",
       " '50대 기업 평균 연봉 9400만 원 1억200만 원 7300만 원',\n",
       " ' 안철수 국가 통합 사이버안보체계 확립해야',\n",
       " '몽클레르 5 몽클레르 크레이그 그린 컬렉션 론칭',\n",
       " '배정대 타점에 득점까지',\n",
       " '대형 개발사 넥슨게임즈 출범글로벌 정조준',\n",
       " '논의하는 박범계박재민',\n",
       " '신재생에너지 정체되고 원전 되살아나나에너지업계 촉각',\n",
       " '성인 초기의 혈압 상승 나이 들면서 뇌 건강 악화와 연관연구',\n",
       " '53조 초과세수 너무 많았나예정처 경기 하방위험 감안해야',\n",
       " '이용수 할머니와 기념촬영하는 김현숙 여가부 장관',\n",
       " '용인시 외국인 대상 3차 백신 접종불법체류자도 가능',\n",
       " '처자식 두고 소개팅 앱 여성 속여 돈 뜯어낸 20대',\n",
       " '대구 방화범 불 지르기 1시간 전 다른 사건 패소',\n",
       " '식목일 강원경북산지에 강풍대기 건조해 불조심',\n",
       " '코로나 집단감염 프로농구 내일 이사회서 대책 논의',\n",
       " '스타몽리맥스코리아 애견사업 매장 확장 업무협약',\n",
       " ' 이웃과 교류살아보고 귀농귀촌',\n",
       " 'LG전자 창원공장 제조업 등대로 불 밝혔다',\n",
       " '울산 690명 신규 확진일주일 만에 다시 1000명 아래',\n",
       " '얼음 속의 오륜',\n",
       " '황희찬 선제골 기뻐하는 대표팀',\n",
       " ' 오후 9시까지 28만1262명 신규 확진전날 동기보다 2만1626명',\n",
       " ' 김시래 순간 돌파로 레이업',\n",
       " '책에 빠지다',\n",
       " 'LG CNS 5G 특화망 신청스마트팩토리 접목',\n",
       " '중국 2월 물가 상승률 안정세55 성장률 목표 총력종합',\n",
       " ' 전국 쾌청해요 큰 일교차 주의',\n",
       " '땅끝 해남에 친환경무장애 호텔 들어선다',\n",
       " 'NBA 밀워키 동부 우승 후보 맞대결서 브루클린에 완승',\n",
       " '무역관장회의 실리콘밸리서 개최',\n",
       " '래리 서튼 감독 볼 판정에 강한 어필 ',\n",
       " '원자력환경공단 울진 산불 이재민에 위문품 전달',\n",
       " 'LGU 우체국 전용 스마트폰 출시알뜰폰 요금제 추가',\n",
       " '문보인 얼음을 손으로 느끼며 ',\n",
       " '넷플릭스 블랙미러 새 시즌 나온다',\n",
       " ' 환호하는 우리카드 포스트시즌 진출의 기쁨',\n",
       " '대통령실 서해 공무원 피살 입장 변경에 유가족 진상 규명에 정부가 응답',\n",
       " '작황 부진 단양마늘 한 접 가격 4만 원 웃돌 듯',\n",
       " '엄마도 잠 좀 자자 ㅠㅠ우리 아이 꿀잠 자는 방법 어디 없나요 ',\n",
       " ' 김주형 7연승 하이파이브',\n",
       " ' 당선인 초대 국무총리 후보자에 한덕수 전 총리 지명',\n",
       " '대기업 직원인데 전화에 3000만원 입금 경찰도 속았다',\n",
       " '카이노스메드 화학과 뇌질환 특허권 인수 계약 체결',\n",
       " ' ICBM 발사 현안보고 준비하는 서욱 장관',\n",
       " '중고거래액 17조 번개장터 820억 신규 투자 유치',\n",
       " ' 내일 상춘재 만찬 회동대선 이후 19일만',\n",
       " ' 윤심 대 명심 구도 윤심 판정승명심은 재명만 살았다',\n",
       " '진성용 꼼꼼히 계산한다',\n",
       " '신규 확진 50만 명 육박위기 극복 전환점',\n",
       " '기업가정신 선언국민의 박수 받는 날이 올 것',\n",
       " '고효준 크론을 향한 꽃미소',\n",
       " '지하철 기다리는 이재명 후보',\n",
       " 'DGB금융 1분기 순익 1622억역대 최대 분기 실적',\n",
       " '박지원 경기 침체 정부 탓 아닌가국민은 걱정한다',\n",
       " '주부습진 유사한 재발성 질환 한포진 치료는',\n",
       " '아프리카TV 이용자 직접 참가하는 애드벌룬 이벤트 진행',\n",
       " '서울 팬 수원 팬들로부터 집단폭행법적 조치 예정',\n",
       " 'GOS 논란에도 갤럭시S22 1분기 선방매출 전년 108종합',\n",
       " '웹케시 AI로 횡령자금사고 원천 차단',\n",
       " '선거 앞둔 정부 영끌 추경국채발행 없이 33조 가능할까',\n",
       " ' 신규 확진 22만 명 근접 치명률 낮다지만방역 완화새 학기 대비책은',\n",
       " '한국인 평균 키 40년 전보다 남 64cm여 53cm 커졌다',\n",
       " '산림조합중앙회 새해에도 계속되는 이웃사랑 나눔',\n",
       " '알뜰폰 시장 확대 나선 LG유플러스첫 전문 매장',\n",
       " '경기도 광교 신청사에 전직원 원격업무 스마트워크센터 구축',\n",
       " '전남도 일반관리군 확진자 상담센타 가동',\n",
       " '뿔난 강성휘 경선은 참여김종식 배제 않은 목포시장 경선 유감',\n",
       " ' 일본이 선진국에서 탈락하는 날',\n",
       " ' 백지은 선수에서 코치로',\n",
       " '가위바위보 이기면 옷 벗기청소년 게임 와이푸 선정성 논란',\n",
       " '제로투세븐 알로앤루알퐁소 2022년 SS 컬렉션 공개',\n",
       " '민주당 이재명 통화기록 내라 성남 인수위 맹공월권 불법',\n",
       " '퇴임하는 박병석 의장 대선 패배한 민주당 성찰 소홀',\n",
       " '만능 이빨 아냐임플란트도 주기적 관리검진 필수',\n",
       " '신진 작가들의 축제 빈칸 아트 페스티벌 6월 1112일 열려',\n",
       " '모르는 분도 많으실 텐데 육성선수 출신 신인에게 찾아온 천금 기회',\n",
       " '박보균 장관 관광업계와 정책방향 논의',\n",
       " '성희롱 피해 여경 보복 수사한 경찰 문제점 되짚어 보겠다',\n",
       " '페이스북 메타가 첫 오픈한 오프라인 매장 모습',\n",
       " '파주시 내달 3일까지 청년 메타버스 기획단 모집',\n",
       " '경기교육청 안산동산고 자사고 소송 상고 포기',\n",
       " '박지수의 새해 소망 통합우승금메달 따고 남자친구와 여행',\n",
       " '경기 연천서 미군 장병주민 소외계층에 반찬 봉사',\n",
       " '여수시의회 여수세계박람회장 공공 개발 촉구',\n",
       " '코스타 한 골 더 넣으러 가자',\n",
       " ' 기상청',\n",
       " '518 유공자 3백여 명 윤석열 후보 지지 선언',\n",
       " '구자열 무역협회장 한국국제아트페어 조직위원장 위촉',\n",
       " '아이언샷하는 정연주',\n",
       " ' 고춘화 씨 별세 ',\n",
       " '풍계리 움직임 지속에도 7차 핵실험 미뤄지는 이유는',\n",
       " '혁신금융서비스 지정에 생존 달렸지만 승인까지 첩첩산중조각투자 혁신인가 허상인가',\n",
       " '가위바위보 승자는',\n",
       " ' GS칼텍스 오늘 연패 끊어보자',\n",
       " '지수선물 하락36530020p',\n",
       " ' 김광호 한국은행 인천본부 부국장 부친상',\n",
       " ' 무엇을 상상하든 그 이상 결사곡 3',\n",
       " '삼성증권 1분기 영업익 2122억원전년비 47',\n",
       " ' 도지한 최근 넷플릭스 정말 즐겨봐 추천작은 오징어 게임과 고요의 바다',\n",
       " '고양창릉부천대장 사전청약당첨 안정권은 얼마',\n",
       " '스마트폰 충전기 뺀 애플 조롱하던 삼성 이제 와서 돈 내고 사',\n",
       " '이재명 윤석열 여가부 폐지 넘어 대안 제시해야',\n",
       " '2차 필리버스터 첫주자 김형동 오늘은 정권 대선불복의 날',\n",
       " '문 대통령 깐부 할아버지 오영수 배우 골든글로브 수상 축하',\n",
       " '유한양행 위무력증 치료제 YH12852 임상 환자 투여 시작',\n",
       " '변협 회장 박 의장에 검수완박 상정에 신중 기해달라 서한',\n",
       " '영아돌연사 위험 높이는 요인 발견',\n",
       " '김원 건축가 소장 작품 기증전',\n",
       " '국민 21만 맞춤 서비스에 온라인 활동정보 제공 의향',\n",
       " '7명으로 교체 없이 뛴 여자핸드볼 경남개발공사 서울시청 제압',\n",
       " '파리오페라발레단 에투알 박세은과 7월 내한공연',\n",
       " '인천에서도 청소년 방역패스 효력 정지 결정',\n",
       " '문 대통령 강력한 분노 적폐 수사 발언 사과 요구',\n",
       " '김기동 감독패배는 없어 ',\n",
       " '동남아 축구에 막히고뚫리고굴욕의 K리그',\n",
       " '2년 만에 돌아온 계절근로자 농가 인력난 숨통',\n",
       " '아난티 힐튼 부산 이른 여름 더위에 건강과 맛 모두 챙긴 빵 맛보세요',\n",
       " '윤석열 경남 표심 공략거제 조선업 강력 지원',\n",
       " '투표로 빛나는 너와 나',\n",
       " '한희수 사랑스러워',\n",
       " '홍천에핀 2022 KXO 3X3 윈터리그 2R 정상',\n",
       " '박홍근 원내대표 민주당 워크숍 발언',\n",
       " 'SK에너지 조경목 창사 60주년지구로부터 인정받는 기업 될것',\n",
       " '5000명 면접 즉석 채용까지지방서도 이런 행사 열어주세요',\n",
       " '환자 바로 옆에서 지키는 든든한 입원전담전문의',\n",
       " '대검 헌법소송 포함 적극대응한동훈 문제점대응책 밝힐 것종합',\n",
       " '성큼 다가온 봄',\n",
       " '현세린 오차없이 조준한다',\n",
       " '터프팅 뽀글뽀글한 느낌 내고 싶다면',\n",
       " ' 이예람 중사 특검 후보로 안미영이인람 변호사 최종 추천',\n",
       " ' 박진우황택의 받았지',\n",
       " ' 문대통령 통합이 가장 시급한 과제협력의 정치가 시대정신',\n",
       " '한송이 놓치면 큰일이야 ',\n",
       " '조정된 거리두기 다음주부터 시행확진자 7천명 넘기면 특별방역체제 가동',\n",
       " '농업인 공익수당 지급 범위 양보없다 보은군군의회 갈등 첨예',\n",
       " '햇반 생산 CJ진천공장 2025년 바이오매스로 온실가스 확 줄인다',\n",
       " '전남도 식품위생업소 저리 융자 지원 대상 확대',\n",
       " '문 연 빛의 시어터',\n",
       " '국회 원구성 협상 위해 들어서는 여야 원내수석부대표',\n",
       " '리더스기술투자 JC어슈어런스제2호 주식 처분',\n",
       " '강릉시 가족사랑 사진 UCC 전시회 개최',\n",
       " '고개숙인 임준형 ',\n",
       " 'YTN 새정권 비위 맞추기 지라시에 한심한 행태',\n",
       " '누리호 다시 기립',\n",
       " '홍영표 치매냐던 개딸 꽃다발 들고 사무실 간 이유',\n",
       " '고려인 출신 우크라 난민 100여명 부활주일 예배',\n",
       " '최민정 내 뒤를 따르라',\n",
       " ' 산딸나무 꽃',\n",
       " '지씨셀 4분기 영업이익 210억원1483',\n",
       " '키움 전날 패배를 완벽 설욕',\n",
       " '해외 로밍 데이터통화 혜택 늘린다',\n",
       " '효성 주총서 3세 조현준조현상 형제 사내이사 재선임',\n",
       " '학교 돈 횡령 이규태 회장 기소됐는데공익제보자 복직 안돼',\n",
       " ' 박병호 이번엔 안 놓쳤다',\n",
       " '이창용 한국 장기 저성장 우려',\n",
       " '황희찬 즐거운 대화',\n",
       " '설연휴 TV토론 놓고 기싸움3130일로 다시 제안',\n",
       " '새빗켐 LG화학켐코 합작법인에 대규모 전구체 복합액 공급 MOU체결',\n",
       " '국회 공백 일주일째역대급 지각 국회 오명 쓰나',\n",
       " '스타벅스 매니저들이 덕수궁 청소문화재 보호 캠페인 개시',\n",
       " 'CJ올리브영 올해 첫 올영세일 최대 70 할인',\n",
       " '비행운 만드며 날아오르는 누리호',\n",
       " ' LG 117 한화',\n",
       " '지그재그 지난해 거래액 1조원 첫 돌파',\n",
       " '브레이킹 국가대표 선수단 퍼포먼스 ',\n",
       " '독이 든 성배 든 송영길정치적 미래 좌우할 서울 출마 수순',\n",
       " ' 우주청 설치해 지원',\n",
       " '경기도 김혜경 법카 유용 의혹 관련 고발장 제출',\n",
       " ' 550명의 삭발 발달장애인 24시간 지원체계 구축',\n",
       " '넥슨 카트라이더 소닉과 함께 달린다',\n",
       " '범죄도시 2 관객 700만 명흥행 성적 전편 추월',\n",
       " '문화재 보수용 전통석회 연구 보고서 발간',\n",
       " ' 맑다가 밤부터 비',\n",
       " '아스널 말고 우리 팀 와UCL 진출 유력한 토트넘 EPL 정상급 MF 유혹',\n",
       " '택배 노조 대규모 집회CJ대한통운 3층 점거 해제',\n",
       " '스태그플레이션 가능성 낮아경기 부양보다는 물가 잡는 게 우선',\n",
       " '업계 시들했던 1월반도체 수급 여파 언제까지',\n",
       " 'SK매직 친환경 자가관리 정수기 에코 정수기 그린41 출시',\n",
       " '여론조사와 후보 입만 쳐다보는 대선 보도',\n",
       " ' 발언 수위 조절 전략',\n",
       " '최태원 대한상의 회장 사회가 필요로 하는 기업 역할 찾아야',\n",
       " '60세 이상 4차 접종 둘러싼 의문들 정은경 답변은',\n",
       " '제주항공 영업손실 789억원매출은 작년보다 2배',\n",
       " '창원 마산해양신도시 실시협약 협상 잠정 보류현대산업개발 붕괴사고 영향',\n",
       " '업비트 루나 거래종료입출금 관련 논란 시장 왜곡 최소화 위한 결정',\n",
       " '어퍼컷 세리머니로 인사하는 윤석열 당선인',\n",
       " '15개월만에 꺾인 강남구 아파트 값',\n",
       " '수도권 공략 이어가는 이재명',\n",
       " '회의실 입장하는 김정은 위원장',\n",
       " '우회전 버스에 끼여 숨져보행자 가린 방음벽 참변',\n",
       " '국가청렴도 향상 토론회',\n",
       " '자가검사키트 3000만명분 풀린다정부 2주간 약국 편의점에 공급',\n",
       " '운동일상 경계 지워라투마일웨어 뜬다',\n",
       " '지난해 26초에 한번 꼴로119 신고',\n",
       " ' 애니팡 사천성 챔피언리그 승자에겐 보상 팡팡',\n",
       " '클래스팅 누적 가입자 800만 명 돌파 활용 가능한 빅데이터 구축',\n",
       " ' 카카오 클레이튼 글로벌 톱티어 메타버스 플랫폼으로 성장할 것',\n",
       " '대통령 고 이예람 특검보에 유병두이태승손영은 임명',\n",
       " '골드앤에스 작년 영업익 14억흑자전환',\n",
       " '사우디아라비아우즈베키스탄 우승컵의 주인은 ',\n",
       " '오승현 마스크 샷 ',\n",
       " '송파책박물관에서 만나는 잡지의 발자취',\n",
       " '벨라루스 전 지역 여행경보 3단계 출국권고 확대발령',\n",
       " '슛하는 안영준',\n",
       " '청와대 앞에 선 권성동',\n",
       " '61 지방선거 으로 정권견제론 날려 김포공항 이전 역효과',\n",
       " '이재명 새해 첫날 PK행민생경제 회복 최우선',\n",
       " '전북장애인복지관 여성 장애인 가사지원 사업 추진21일 까지 접수',\n",
       " '힐리 바라보는 최지만 ',\n",
       " ' 새해부터 대구 더비 가스공사 vs 오리온',\n",
       " '노무사는 중대재해 고소 대리상담 못한다',\n",
       " '삼성증권 작년 영업익 13조3년 연속사상 최대',\n",
       " '전쟁 리스크 완전 해소된 걸까과거로 읽는 증시 ',\n",
       " '르노코리아 국내 점유율 4 10로 확대',\n",
       " '끝이 보이지 않는 선별진료소 대기줄',\n",
       " ' 주요 증시 지표 6월 8일',\n",
       " 'KT 그룹사 된 HCN 제2 도약홍기섭 대표 직속 TF도 신설',\n",
       " '광주 소녀대구 소년이 꽃다발국민이 꾸민 화합 무대',\n",
       " '기회 주어지니 펄펄 나네롯데 경쟁 선순환 효과 제대로 누린다',\n",
       " ' 샤이니 민호 8일 NBA 중계 도전',\n",
       " ' 오미크론발 5차 대유행 시작대선 영향은',\n",
       " '잠수교동부간선도로 전면 통제탄천 홍수주의보',\n",
       " '노재팬 끝나고 일본여행 터질까한일 관광교류 본격화',\n",
       " '손흥민 아시아 최초 시즌 20호골2골차 살라 맹추격',\n",
       " 'WHO 반복적인 백신 추가 접종 새 변이에 적절치 않아',\n",
       " '의회 인권법 재승인법 발의UN 인권결의안 채택도 임박',\n",
       " '국세청 신속한 손실보상 위해 과세정보 제공',\n",
       " '쿠팡이츠 배달량 몰려 서버 다운복구 진행 중',\n",
       " '시큐아이 베트남 1위 ICT기업 손잡고 현지 진출',\n",
       " '세종문화회관 대관 극장에서 제작 극장으로 탈바꿈할 것',\n",
       " '소득주도성장 설계 홍장표 최저임금 올렸어도 고용에 부정적 영향 없어',\n",
       " '롯데건설 역세권 청년주택 용산 원효 루미니 정당계약 진행',\n",
       " '2점차 리드 지키지 못한 성남FC다잡은 승리를 또 놓쳤네 ',\n",
       " '예산군 예산읍 도시숲에 봉대미폭포 본격 가동',\n",
       " '전해철 장관 중앙지방정책협의회 및 안전정책조정위원회 주재',\n",
       " 'UCL 가능하겠는데아스널 영입 타깃 4명 포함 Best 11 공개',\n",
       " ' 감찰 무마 폭로 김태우 전 수사관 항소심 징역 2년6월 구형',\n",
       " ' 광주 아파트 붕괴 2338층 잔해 22층에 쌓여 있어',\n",
       " '안양시 소상공인 특례보증대출이자 지원',\n",
       " '무릎 연골 손상 치료 미루다가는 2차 질환 유발',\n",
       " ' 박병호 가볍게 안타치고 1루로',\n",
       " '쓰레기나 논밭두렁 태우려다 그만최근 5년 산불 원인의 절반 육박',\n",
       " '문재인 전 대통령 내외 양산 사저 도착',\n",
       " '최운정 오늘도 아버지와 함께 ',\n",
       " '박석민 창원팬들의 뜨거운 응원 받으며',\n",
       " '반도체 인력 모십니다연봉 올리고 처우 개선해도 1000명 부족',\n",
       " '고고엑스GOGOX IT기기 커스텀 물류 서비스 확대',\n",
       " '왓퍼드 전 마치고 옛 동료 시소코와 포옹하는 손흥민',\n",
       " '1주택자 보유세 동결6월전 추가 완화 여지 남겼다',\n",
       " '검수완박 법안 법사위 소위 상정심사 진행 중',\n",
       " '구미시 구미맛집 100선 선정관광마케팅과도 연계',\n",
       " '강소기업이 대구로 온다대구시 판교 등 수도권 AI 강소 기업 유치',\n",
       " '접전',\n",
       " '마주보는 안철수 최진석 교수',\n",
       " ' 탄도미사일 발사 도발로 재규정',\n",
       " '기상 가뭄 16개 지역급수대책 등에 140억 원 투입',\n",
       " '울진 기지국 일부 피해고립LG유플러스 통신인터넷 일부 장애',\n",
       " '넷플릭스 계정 공유하면 추가 요금내는 새 요금제 선보여',\n",
       " '기자간담회에서 발언하는 추경호 경제부총리 후보자',\n",
       " '2개월된 아기 때려 중태에 빠뜨린 20대 친부혐의 인정',\n",
       " '3040 저렴한 알뜰폰 78월 대거 출시',\n",
       " ' 늦은 오후부터 중부 내륙 중심에 비고온 현상 지속',\n",
       " '내일 미국 가는 이낙연 잊혀지는 건 두렵지 않아 연이틀 메시지',\n",
       " '인사하는 이창용 한은 신임 총재',\n",
       " '김종민 행안부 경찰국 신설 적절황운하 같은 정치 경찰 안 나오게 견제해야',\n",
       " '코로나 수퍼 항체는 없다 재감염자 분석하니',\n",
       " '국내 정유사 1Q 석유제품 수출 20 증가수출국 1위는 호주',\n",
       " '구글 인앱결제 꼼수에 가격 도미노 인상되나',\n",
       " '이준석 김건희 팬카페 사진공개에 공적조직 통하면 좋겠다종합',\n",
       " '해안경계작전 장병 격려하는 서욱 장관',\n",
       " '이슈한반도 핵실험 재개 가능성 김정은 강해져야 한다',\n",
       " '민학수의 골프 오디세이78 골프 잘 칠 수밖에 없게 하는 준비의 여왕 KLPGA 상금 50억원 처음 돌파한 장하나의 시즌 준비 지켜보니',\n",
       " '송영길 이 양반 참 재밌다술 나오면 눈이 반짝',\n",
       " 'SK바이오팜 소아간질 치료제 글로벌 임상 3상 시작',\n",
       " '헌화하는 문재인 전 대통령 부부',\n",
       " '윤석열 야권 단일화 질문에 더 드릴 말씀 없다',\n",
       " '유례없는 동시다발 훈련임박한 7차 핵실험과 연계',\n",
       " '거창군 상상생활문화센터 지역문화공간으로 정착 ',\n",
       " '민주당 전열 정비 완료박홍근 추경 편성 여야가 힘 모으자',\n",
       " '크래프톤 독립스튜디오 드림모션 모바일 전략 로드 투 발러 엠파이어스 사전예약 시작',\n",
       " '정호영 아들 22개월만에 병원 방문열흘 뒤 병역4급 판정',\n",
       " '설 이후 특이동향 지역 발표할까국토부 공개 두고 고심',\n",
       " '꽃구경 지겹다면 당장 이 밭으로 달려가세요',\n",
       " '강원도 자치경찰위원회 어린이 없는 보호구역 해제 심의',\n",
       " 'SK케미칼 올해의 연구원에 재활용 플라스틱 개발자 3인',\n",
       " '여성을 위한 스타트업 대표 간담회 참석하는 이재명 대선 후보',\n",
       " ' 세상 떠난 동료에게네덜란드 선수들의 특별한 세리머니',\n",
       " '고민정 오세훈에 집 앞마당 청소 좀 부탁뚝섬 한강공원에 무슨 일이',\n",
       " '고창 심원 117 전주 354mm내일까지 전북 곳곳 강한 비',\n",
       " '네이마르 PK 결승골브라질 일본 두 줄 수비 뚫고 10 신승',\n",
       " '삼진 아웃에 입맛 다시는 홍창기 ',\n",
       " '채권시장 변동성 한은연준 통화정책 불확실성 지속',\n",
       " ' 정재현 이글 성공하며 주먹 불끈',\n",
       " '갯바위 위 사찰멸치만 명물 판타스틱 테마파크도 추가',\n",
       " ' 스트라이크 판정에 아쉬움 드러내는 추신수',\n",
       " '인사하는 황의조',\n",
       " '호날두는 참지 않기맨유 낡은 훈련장에 불만 2009년과 달라진 게 없다',\n",
       " '코로나19 지원금 오지급부정수급 환수9월 이후 시행',\n",
       " '도쿄 올림픽 전웅태 항저우 AG 근대5종 대표로 출전',\n",
       " 'MBC 떠나는 김태호PD 싹쓰리 인연 이효리 손 잡는다',\n",
       " '스펠맨과 오세근이 부활했다대혼돈의 KBL 챔피언결정전',\n",
       " ' 밤사이 남해안제주 강한 비오후에 대부분 그쳐',\n",
       " '휴넷 팀장 리더십 교육 50 버전 출시수강생 5만명 배출',\n",
       " '고척서 공연 선보이는 그룹 나인아이',\n",
       " ' 히든 카드 메테오 레이크 공개한 인텔제국의 역습 성공할까',\n",
       " '누리호 성능검증 위성남극 세종기지 교신 성공',\n",
       " '폭스바겐 배출가스 조작 벌금 11억 원 확정',\n",
       " ' 대통령 두산에너빌리티 원자력공장 방문 협력업체와 간담회',\n",
       " '외교부 러시아 내 우크라이나 접경지 우리 국민 출국 권고',\n",
       " '김윤덕 전북지사 후보 김관영에 인재영입 홍보 자제하라 직격',\n",
       " '리오프닝 기대구매한도 폐지면세점 업계 봄바람',\n",
       " '수베로 감독모두 수고했어 ',\n",
       " '흐린 날에도 자외선 차단제 발라야 할까',\n",
       " '오바메양 해트트릭에 격분아르테타 무슨 짓 한 거야',\n",
       " '전우 사체 입에 군번줄 물리며 눈물 철원평야 사수한 호국영웅',\n",
       " ' 외인 4거래일 연속 팔자에 코스피 2690선 털썩',\n",
       " '이륜차산업발전포럼 발족시장 활성화 방안 논의',\n",
       " '인수위 청년소통TF 설치대국민 소통 강화',\n",
       " '가맹점과 동반성장창업 당시 자금 1000배로 초심 담았다',\n",
       " 'LG CNS 버추얼 팩토리 본격화기술검증 완료',\n",
       " ' 아침까지 내륙에 안개일교차 15도 내외로 커',\n",
       " '지방금융지주 순익도 역대 최대',\n",
       " '최병암 산림청장 브리핑 듣는 윤석열 당선인',\n",
       " ' 어제와 기온 비슷오후에 동쪽 지역 소나기',\n",
       " ' LG vs KIA 4월 2일',\n",
       " '국민통합 강조헌법 전문 언급 없어 유감',\n",
       " '서울 구로구 소식지 스마트구로 개편',\n",
       " '이재명 여성 부담 옳지 않아남성 복무에 상응보상해야',\n",
       " '코로나도 아닌데 마른기침 유발하는 의외의 질환',\n",
       " '노현송 강서구청장 인공지능AI 서비스 로봇 구축 시연회 참석',\n",
       " '충북 현안 민선8기에 해결될까사업 유치추진 하반기 판가름',\n",
       " '의견 나누는 권칠승 장관제임스 김 회장',\n",
       " '대구시민들 손 잡은 윤석열',\n",
       " '테라 지원재단 보유 비트코인 8만여개 팔아 313개 남았다',\n",
       " '한덕수 총리가 서명한 국무위원 후보자 추천서 공개하는 원일희 수석대변인',\n",
       " ' 벌거벗은 임금님과 비선 논란',\n",
       " '머리열상 봉합 수술받는 송영길 대표',\n",
       " '헤이 구글 한 마디로 조명부터 가전까지 척척',\n",
       " '역사공정 이어 김치한복공정까지 횡포에 저자세 외교로 상황 악화',\n",
       " '발리예바 취재진 질문에 끝까지 침묵',\n",
       " 'TS트릴리온 TS샴푸 쿠팡 월 매출 10억원 달성',\n",
       " '광주시교육청 청사 이전 요원부지 확보예산 마련 난관',\n",
       " '스마트폰 골드번호 잡아라SKTLGU 각각 5000개 추첨',\n",
       " '애틀랜타 연준 3월 05p 금리인상 가능성 여전',\n",
       " '문 대통령 리야드 메트로 건설현장 방문 근로자 격려',\n",
       " '캣벨강력하게 ',\n",
       " '크래프톤 공모가 대비 41 하락장병규 경영진 믿어달라',\n",
       " ' 박찬규 응원 감사합니다',\n",
       " '바이든 순방 첫날부터 중국 견제한국과의 반도체 협력 역설',\n",
       " '만취 화물차 냅다 인도로마른하늘에 행인 날벼락',\n",
       " ' 스페이서 콘크리트 모형 직접 만든 로펌 김앤장법률사무소 특허무효 소송서 역전승',\n",
       " '이준석 실외 마스크 해제 타당성 있다인수위와 엇박자',\n",
       " '반려동물 양육자 261 양육 포기파양 고려한 이유는',\n",
       " '심상정 후보 129 보건복지상담센터 상담사 현장 간담회',\n",
       " '디지털 대전환 시대초중등 정보 교과목 수업 시수 최대한 확보 해야',\n",
       " '서울중앙지검 기업 수사 담당 공정거래조사부 확대 개편',\n",
       " 'SP 신용등급 AA 유지우수한 재정건전성이 국가신용도 뒷받침',\n",
       " '종이빨대서 휘발유 냄새가 스타벅스 물량 전량 회수',\n",
       " '실물 대신 동물 캐릭터줌 아바타 기능 출시',\n",
       " '결승전 뜻밖의 슛부진 허웅 3점슛 콘테스트 준우승이관희 우승 오쎈 대구',\n",
       " ' 안철수 측 인수위원장하며 총리 인준 절차 밟을 수도',\n",
       " '30일 오후 9시 서울 전역 호우경보 해제',\n",
       " '모델Y 잡는다 기아 첫 대형 전기 SUV EV9 내년 출시',\n",
       " '충북 기업가계대출 문턱 낮은 제2금융권에 몰려',\n",
       " '전광인 페어플레이상 수상',\n",
       " '포스코건설 리모델링 최적화 유니트 디자인 개발',\n",
       " ' 김진태 도지사 당선인 강원도 규제혁파 전담팀 구성',\n",
       " '서울라이트 후속 쇼 빅 무브 위드 리아킴',\n",
       " '오후 9시까지 전국서 20만405명 확진어제보다 3만1901명 적어',\n",
       " '방염복으로 무장한 산림항공본부 공중 진화대',\n",
       " '역대 첫 대상 특검 도입이예람 중사 측 사법 한계',\n",
       " '류현진 팔꿈치 수술 결정 야구 인생 갈림길',\n",
       " '산림치유원산림복지연구개발센터 혈액수급난 극복 헌혈행사',\n",
       " '전남 보성에서 들불50대 남성 숨진 채 발견',\n",
       " '심장을 뺏긴 돼지는 어떻게 됐을까',\n",
       " '한국 조별리그 성적 손흥민에게 달려 있어 매체 분석',\n",
       " ' Korea made it to space but where does that take it',\n",
       " '이재명 김은혜유정복 국민 심판만 남아D2 쌍끌이 공세',\n",
       " '해남군 농업인의 경제적 부담을 줄 일 불용농기계 매각',\n",
       " 'LS그룹 한국MS와 디지털 전환 업무협약 체결',\n",
       " ' 금융시장 요동에 가상화폐도 출렁엘살바도르 국가부도 위기',\n",
       " '625전쟁 72주년 행사총리 호국 영웅 잊지 않을 것',\n",
       " '윤영찬에 나중에 된다고 한 이재명 비서 결국 사과',\n",
       " '헛스윙 삼진으로 물러나는 피렐라 배트를 휙 ',\n",
       " ' 한덕수 임명동의안 찬성 208표로 통과',\n",
       " '한국축구에 주사 한방 UAE 아부다비 문화예술 드라이브',\n",
       " '차량 추락사고 동생만 사망살인 혐의 친오빠 숨진 채 발견',\n",
       " '악수하는 대통령과 바이든',\n",
       " '투런포 안치홍 이대호와 하이파이브 ',\n",
       " '서빙로봇 기술은 어디까지 왔을까',\n",
       " '유진테크 작년 영업익 740억전년 2321 ',\n",
       " '윤석열 이재명 겨냥 북한 미사일에 말 바꿔진정성 의심',\n",
       " '충남소방 위험물 자격 취득 후 운반하세요',\n",
       " ' 1월 26일',\n",
       " '이엔플러스 수주공시 소방펌프차 공급계약 325억원 매출액대비 1288 ',\n",
       " '베스핀글로벌 아부다비 최초 클라우드 아카데미 개설중동 시장 공략',\n",
       " '문 전 대통령 사저 앞 7m 가림막 철거숨길 이유 없어',\n",
       " '인간 유전자 서열 마지막 8 조각을 맞추다',\n",
       " 'SWITZERLAND ALPINE SKIING WORLD CUP',\n",
       " '김선기 전력투구 ',\n",
       " '국내 1호 포스코 자회사형 장애인 사업장 광양클리닝센터 새단장',\n",
       " '경찰 100일동안 강절도 및 폭력범죄 집중단속',\n",
       " '네이버 라인 넥스트와 NFT 협업 도시DOSI 플랫폼에 네이버 기술 및 콘텐츠 접목',\n",
       " '이재명김동연 양자토론 주제는경제 정치 외교 논의',\n",
       " '원정 연전에도 끄떡없는 포항 업그레이드된 기동타격대',\n",
       " '유시민 재판 증인 출석한동훈 죄 있으면 벌 받아야',\n",
       " '발견 늦으면 치명률 50 이것 AI현미경으로 즉각 잡아낸다',\n",
       " '안보동맹 과시하는 한미 정상',\n",
       " '프로농구 수원 kt 수원특례시 축하 유니폼 제작',\n",
       " '오미크론발 소비 부진에 혼조다우 06',\n",
       " '한국관광공사로얄캐닌코리아 펫티켓 챌린지로 적립한 사료 1톤 기부',\n",
       " ' 햇살 쏟아지는 테라스 맛집 6',\n",
       " '두달연속 무역적자4월에만 27억',\n",
       " '시도당 위원장단 연석회의에서 발언하는 이재명 후보',\n",
       " '추신수 합류 첫 날 기분좋은 선취점 ',\n",
       " '한국내화 사외이사에 조정철 전 서울중앙지검 부장검사',\n",
       " '원달러 환율 1270원 뚫었다5일째 연고점 경신종합',\n",
       " '김만배 서울수원 재판 합쳐달라 신청대법 기각',\n",
       " '풀무원 개인 생애 및 생활주기 맞춤 식단 사업디자인밀 통합 런칭',\n",
       " '신세계백화점 노이치 러그 팝업 운영',\n",
       " '스마트사운드 비대면 진료에 최적화된 스마트 무선 청진기',\n",
       " '동물단체 국제 강아지의 날 맞아 개식용금지 특별법 선포 촉구',\n",
       " ' 이경애씨 별세 외',\n",
       " '59억 가로챈 모아저축은행 직원 구속도박 탕진종합',\n",
       " '3년 만에 정상 개최개막 앞둔 강릉단오제',\n",
       " 'DSR까지 풀어야실수요자 내집 마련 숨통',\n",
       " '제약바이오협회 디지털헬스위원회 가동산업 성장 기반 마련',\n",
       " ' 차유람 쉽지 않네',\n",
       " '5골 맹폭 브라질 치치 감독 손흥민 막는 데 주력 황의조백승호 인상적',\n",
       " '남양주시 월10만원 2년저축 580만원 지급',\n",
       " '소병철의원 민주당 공천 결과 설명1대1 토론 검토',\n",
       " '노조비 10억여원 횡령 진병준 건설노조 위원장 구속',\n",
       " '모모랜드 혜빈낸시 멕시코에서 코로나 확진현지 일정 중단',\n",
       " '도로공사 흥국생명 완파대한항공 선두 고공 비행 ',\n",
       " '여름 물살',\n",
       " '김해시 메타버스 도입3개 분야 과제 선정',\n",
       " ' 물가안정 시급 구두 닳도록 일해야용산 온 이유',\n",
       " '점심시간 쪼개 퇴근 뒤 비대면 진료어디까지 감당해야 하는지',\n",
       " '민주당 기장군 4인 경선국민의힘 대부분 경선',\n",
       " '영세중소 가맹점 카드 수수료율 0515로 경감',\n",
       " '카카오 공동체 기후위기 대응2040년까지 넷제로 달성',\n",
       " '대통령실 김창룡 사의에 왜 순방 갔을 때법 따라 추후 결정종합',\n",
       " '소크라테스 나도 1타점 2루타 ',\n",
       " '중견주택업계 3월 9104가구 공급',\n",
       " '접는 아이폰 이런 모습갤플립 닮고 펀치홀 디스플레이',\n",
       " ' 07p 차김은혜 vs 김동연 더 좁혀졌다',\n",
       " ' 적극적인 수비로 공을 뺏는 인천현대제철 최유리',\n",
       " ' 팬들에게 작별 인사하는 쿠에바스',\n",
       " '디에이테크놀로지 작년 영업손실 123억적자 지속',\n",
       " 'K리그 2021 스폰서십 경제적 효과 합계 3447억',\n",
       " ' 베이징 자율주행 버스 운행 세칙 제정안전요원보험',\n",
       " '모우라 잘하는 날은 손흥민케인급혼자 경기 바꿀 수 있다',\n",
       " '호남대 식품숙련기술 대물림교육 4년연속 선정',\n",
       " '가장 작지만 하루에 얼음만 600개코웨이 아이콘 승부수',\n",
       " '또 가짜뉴스 퍼트린 윤호중 북 미사일에도 퇴근',\n",
       " ' 법무부 공약 취지 큰 틀 공감장관 수사지휘권 문제에 공감',\n",
       " '토박스코리아 1분기 영업익 8억원대전년 44',\n",
       " ' 기업이 살아야 정부도 산다',\n",
       " '하이브 본사 찾은 안철수 인수위원장',\n",
       " '오미크론 우려에 4인 6인 거리두기 찔끔 완화 될 듯',\n",
       " '이번 봄 대세는 나비 제니태연백예린있지 예지의 나비 아이템',\n",
       " '한교총 한국전쟁 72주년 맞아 평화 기도하는 예배 드려',\n",
       " '데이터시장을 2배로 인수위 찜한 산업군은',\n",
       " '마티니 내야를 뚫었어',\n",
       " '밀양교육지원청 학교폭력예방 백신찾아가는 교육시행',\n",
       " '코스피 외국인 매도 공세에 2700선 무너져',\n",
       " '2차전지 소재 기업 새만금산단에 1000억대 투자114명 신규채용',\n",
       " '테니스 여왕 샤라포바 임신했다직접 공개한 D라인',\n",
       " '파안대소하는 프레드',\n",
       " '국내 스타트업 아이디씨티 터널지하에서도 터지는 uGPS 시스템 개발',\n",
       " '상처 연고흉터 연고 이렇게 사용하세요',\n",
       " '김병우 충북교육감 후보 혁신도시 초중통합학교 등 중부권 정책공약 발표',\n",
       " '승진 도움 주겠다며 금품 요구한 경찰 간부 입건',\n",
       " '완전 자본잠식 효성의 세빛섬 서울시장 선거에 촉각',\n",
       " ' 영화 브로커빛나는 연기 빛바랜 연출',\n",
       " '부산 경찰 보이스피싱 피해 27 줄었지만 예방 집중해야',\n",
       " '고민정 이재명 첫인상 싫었다말싸움하면 내가 이겨',\n",
       " '무병장수 기원하며 달집 태우기',\n",
       " '제대로 폭발한 황운하 틈만 나면 하명수사 타령특검 도입하자',\n",
       " '권기창 안동시장 예비후보 생활 밀착형 맞춤공약 발표',\n",
       " '유영상 SKT 대표 MWC서 메타버스양자암호 소개',\n",
       " '황대헌전국체전 마치고 인터뷰 없이 퇴근 ',\n",
       " '쓰레기통 돼 버린 볼라드',\n",
       " '주금공 주택금융 실태조사 발표일반가구 383 주택금융상품 이용',\n",
       " '박원순 피해자 조롱 논란 검사 정직당하자 과 맞장',\n",
       " ' D30 베이징 동계올림픽 경기 일정',\n",
       " '미얀마 신부 군부 폭정 한국천주교에 호소평화기도 부탁',\n",
       " ' 베이징 동계올림픽',\n",
       " '스케일업 팁스 선정 메디밸류 반도체 기술로 바이오의료소재 개발',\n",
       " '고등학생 때 논문 썼다던 그 많은 천재들은 어디로 갔나',\n",
       " '꿀영입 김진규 전북 데뷔골 전북수원1대0 꺾고 시즌 첫 연승',\n",
       " '민주당 김대중노무현 정신 모욕하지 마라',\n",
       " '알뜰폰 요금 비교 플랫폼 모요 카카오벤처스 투자 유치',\n",
       " '충북 20대 대선 최종 투표율 748지난 19대 때와 동일',\n",
       " ' 윤석열 원팀 선거운동 강조 또 강조',\n",
       " 'LGU 창사이래 최대 영업익IT인건비 전쟁으로 1조원 못미쳐종합2보',\n",
       " '국민의례하는 송영길 대표윤호중 원내대표',\n",
       " '24세 이정후 vs 40세 이대호흥미로운 경쟁 벌어졌다',\n",
       " '이수지 어린이책 노벨상 안데르상 수상 한국인 최초',\n",
       " ' 조용한 봄 풍경',\n",
       " '기아 EV 인포테인먼트 시스템 iF 디자인 어워드서 수상',\n",
       " '청소년 교육 발벗고 나선 통신게임업계',\n",
       " '올해 예상적자 30조원한국전력에도 볕드나',\n",
       " '넓어진 S존이 궁금한 kt ',\n",
       " '코로나 집단감염 동부구치소 수용자의 국가 상대 소송 1심서 패소',\n",
       " '아이 초등학교 들어간 첫달육아휴직 낼 수 있으면 내세요 ',\n",
       " '티몬 백혈병 엄마 지키는 준수 돕기 소셜기부',\n",
       " '삼성전자 갤럭시S22갤럭시탭S8 전 세계 본격 출시',\n",
       " '육군참모총장 지휘권 이양',\n",
       " '8회 빅이닝 KIA 롯데에 짜릿한 역전승',\n",
       " '편의점치킨영화관 혜택 한 곳에SKT 우주패스 핫픽 출시',\n",
       " '거지같은 게 아파트 물 흐려층간소음 항의에 돌아온 막말',\n",
       " '양산 사저서 드디어 내 집 왔다 농사 짓고 주민들과 막걸리도 마실 것',\n",
       " '충청 대망론 충남 미래 견인지로대전 과학특별시로',\n",
       " '금천구청 앞 부영그룹 우정병원 5월 착공',\n",
       " ' 오미크론 넘어 일상회복 이루도록 당정 방역에 총력',\n",
       " '강변북로 진출로서 화물차 5m 아래로 추락2명 사상',\n",
       " '온 세상이 분홍빛지금 가야 할 터키 소금호수',\n",
       " '젠틀몬스터 블랙핑크 제니의 판타지를 담은 JENTLE GARDEN 팝업 오픈',\n",
       " '나란히 입소하는 박지수권창훈 ',\n",
       " '광주은행 코로나 피해업체 지원 10억원 특별출연',\n",
       " '쉬지 않고 내리는 비에 잠실 LGNC전 취소 ',\n",
       " '2022 프로야구 개막전 승리 거둔 롯데 자이언츠',\n",
       " '송영길 습격 유튜버 진술 거부구속 영장 신청',\n",
       " '박지현 586 아름다운 퇴장 준비해야민주당 발칵',\n",
       " '둔촌주공 사업비 대출 연장 불가조합원당 1억씩 갚아야',\n",
       " '송영길 괴한에 둔기 피습 폭력까지 등장한 선거판 대선 D1',\n",
       " '오후 6시 기준 신규 확진 2877명어제보다 25명 많아',\n",
       " ' 어제 14안타 치고도 진 LG 오늘은 만루포대타 홈런으로 kt에 역전승',\n",
       " '붕괴사고 2주째오늘부터 24시간 수색',\n",
       " '한우과일 없어서 못 팝니다 설날 선물세트 역대급 특수',\n",
       " '프로야구 개막 대장정 시작',\n",
       " '코로나19 확진자 4만 명 가까이 늘어광주전남 각 1천명 선 유지',\n",
       " '녹지제주 내국인 진료 제한 조건 풀면 영리병원 재추진',\n",
       " '외식가격 공표제 시행에 프랜차이즈업계 반응 싸늘왜',\n",
       " '한드림넷스텔라사이버 AIML 기반 보안 솔루션 출시 협력',\n",
       " '광주 신축 아파트 붕괴 매몰 상태로 발견된 작업자 2명 신원 확인',\n",
       " '부평 문화거리에서 시민들 만나는 이재명 후보',\n",
       " '홍준표 김부겸의 정계 은퇴 시사에 얼마나 마음고생 심했을까 측은함도 있다',\n",
       " '초통령 게임 마인크래프트 19금 풀렸다',\n",
       " '국립변산자연휴양림 숲속의집 9개동 신축 공사 추진',\n",
       " ' 민심 다지기 시작수도권 집값부터 잡아라 종부세 폭탄 손질한다지만 결국은 팔아라 등',\n",
       " '저선량 방사선 치료하면 골관절염 진행 억제',\n",
       " '안면 마스크 쓴 진안 경기 향한 의지 ',\n",
       " '계곡 살인 이은해 조현수 도피 조력자 2명 오늘 구속 영장 심사',\n",
       " ' 누리호 2차 발사 성공세계 7대 우주강국 도약',\n",
       " '가격 오른 광어와 우럭',\n",
       " '항공우주청 경남 입지 공약에 속앓이 깊어지는 대전',\n",
       " '대기업 수소NFT 승부수 띄운다올 주총시즌 정관 대폭 손질',\n",
       " ' 당선인 20일 오전 11시 기자회견대통령 집무실 이전 발표할듯',\n",
       " ' 드론으로 산불 막는다24시간 산불 감시',\n",
       " '신사임당 후예실력국제경험 갖춘 이창용 한은 총재 지명자',\n",
       " '검찰수사권 박탈 국민피해와 직결수도권 검찰 여론전 동참',\n",
       " '뽑히면 안 보낼 수 있나요 심우준박성한김지찬 항저우AG 유격수 정조준',\n",
       " '이소영 핀에 붙었다',\n",
       " '크레인 아래에서 일하던 근로자 건축자재 떨어져 참변',\n",
       " ' 로마 공화정 중기의 호민관',\n",
       " '동부전선 월북자 1년여 전 귀순한 30대 탈북민',\n",
       " '제주서 12개월 영아 코로나로 숨져제주 첫 미성년자 사망',\n",
       " ' 규제 비웃는 공기관 황제대출083에 12억도',\n",
       " 'PARAGUAY SOCCER LIBERTADORES',\n",
       " '여의도 미성 목화 한숨 돌렸다서울시 아파트지구 정비구역 일몰제 제외',\n",
       " ' 이재명윤석열의 변화필승방정식 될까',\n",
       " 'CES 최고혁신상 받은 반려견 스타트업 200배 큰 시장 진출',\n",
       " ' 내일 다시 강추위제주 산간호남 대설특보',\n",
       " '제주 코로나19 신규 확진자 1022명 발생',\n",
       " '윤 대통령 국정원 2차장 등 차관급 인사 검찰법대 중용',\n",
       " '외톨이들은 모든 성운보다 더 빛난다',\n",
       " '제주 이 달 확진자만 10만 명기저질환자 3명 사망',\n",
       " '체육인 대회 참석해 축사하는 윤석열 대선후보',\n",
       " '다시 오지 않는 이 상이윤정박승수 신인선수상 수상',\n",
       " '악수하는 강병원박용진',\n",
       " '피해자 의사 상관없이 엄벌스토킹처벌법 바뀌나',\n",
       " '동점 득점한 김도영',\n",
       " '검수완박 반박한 김오수에 호통취임1년 뭐했나 사과부터 해라',\n",
       " '인천 아파트 중학생 숨진 채 발견부검 통해 사인 조사',\n",
       " '이경훈 PGA투어 단일대회 연속 우승한국 최초',\n",
       " '국민은행도 전세대출 완화5대 은행 모두 문턱 낮춰',\n",
       " '1000m 결승 진출한 최민정',\n",
       " '대전보건환경연구원 대기 측정대행업체 숙련도시험 실시',\n",
       " '이동경도 독일 진출 메디컬 테스트 위해 출국2월 1일 벤투호 복귀',\n",
       " '최고 중에 최고 안철수 26일 청년정책 음원 낸다',\n",
       " ' 전국 대부분 다소 쌀쌀중북부 비 살짝',\n",
       " '윤석열 유세차 사고 빈소 조문마음의 위로 드려',\n",
       " '카카오벤처스 뷰티 기업 메이코더스에 4억5천만원 투자',\n",
       " ' 목포시 방역수칙 위반 유흥업소 행정처분 외',\n",
       " '알카라스 시즌 세 번째 타이틀 획득 TOP10 진입',\n",
       " '석유관리원 부패방지 시책평가 7년 연속 우수기관 선정',\n",
       " '파울 당하는 김종규',\n",
       " '안희정 전 충남지사 옥중 부친상검찰 형집행정지 허가',\n",
       " 'ViewInsight시험대에 선 미사일 방어 고고도엔 구멍 조기경보는 반쪽우려',\n",
       " '풍기인삼의 원류를 찾아 걷다',\n",
       " '이종호 장관 OTT는 국격을 높이는 신성장동력혁신성장 지원',\n",
       " '개소 2년 43트라우마센터 치유 공간으로 자리매김',\n",
       " '이재명 지방선거 등판론윤호중 승리 기여 방안 찾아 제안',\n",
       " '뮤직카우 뷰민라2022 공연 티켓 증정 이벤트 연다',\n",
       " '이인영 장관 새정부 전향적 대북정책 펴달라',\n",
       " '캡틴의 품격',\n",
       " '이종섭 호주와 오늘 국방장관회담방산협력 등 논의',\n",
       " '오미크론 우세종화 코앞새 의료체계 초읽기',\n",
       " ' 겨울 고라니',\n",
       " ' 대투수 양현종 팬들에게 감사한 마음',\n",
       " '소병철 의원 여순사건 민간인 희생자 장환봉씨 순직 결정 환영',\n",
       " '좀도둑 된 대도 조세형 출소 두 달 만에 또 절도로 구속',\n",
       " '멀리 서면 풍경화 가까이 서면 풍속화거스키의 작품 두 번 봐야 보입니다',\n",
       " '티샷하는 황재민',\n",
       " '안철수 내일 인수위 업무복귀코로나 대책 최우선',\n",
       " '대동 스마트팜 코리아 박람회 참가해 첨단 농기계 선보여',\n",
       " '유튜브넷플릭스 등 구독 취소 방해하다 과태료',\n",
       " '지역 정치권지자체 충남 무시 사드 배치 철회 촉구',\n",
       " '손실보상 예산 바닥대선전 추경 급물살',\n",
       " ' ARS 전화면접 여론조사에 대해 궁금한 모든 것 알려드립니다 KSOI 이강윤 리얼미터 배철호',\n",
       " '제주에는 벚꽃이 활짝',\n",
       " '아침에 선선 낮부터 더워대구경북 건조특보',\n",
       " '확진 1000만명 넘어섰다5명당 1명꼴 감염',\n",
       " ' 지선 비상등에 이해찬 등 동원령추도식 총출동',\n",
       " '위고데이터 인공지능 챗봇솔루션 위고봇 AI 엑스포서 공개',\n",
       " '전국 부장검사회의 시작평검사 검수완박 범죄 방치법',\n",
       " '이통3사 주총 시즌이 왔다올해 화두는',\n",
       " '한국보육진흥원중앙육아종합지원센터 통합',\n",
       " '한성정 수비까지 완벽',\n",
       " ' 이재명 민주당 광역단체장 권력형 성범죄 2차 가해 죄송',\n",
       " '살라한테 받은거 있어SON 득점왕 원한 팀 동료의 도발',\n",
       " '홍준표 국민의힘 대구시장 후보 확정',\n",
       " '답변하는 권성동 원내대표',\n",
       " '안철수 국당 몫 최고위원 논란에 문제 만든 사람이 풀어야',\n",
       " '대형 화면으로 만나는 작가의 노트',\n",
       " '알까기 장인 황희찬 PL 넛멕 성공 횟수 3위',\n",
       " '코스맥스 온라인 서비스 플랫폼 코스맥스 플러스 오픈',\n",
       " '심상정 반려동물 생애 복지 공약 발표',\n",
       " '캠퍼스라이프 이제 메타버스로 즐기자 동의대 제1기 메타버스 서포터즈 발대식',\n",
       " '롯데 와인위스키 주류 선물세트 매출 전년 173',\n",
       " '양주 철거 공사 현장서 50대 노동자 벽에 깔려 숨져굴착기 기사 입건',\n",
       " '케인 PK 선제골토트넘 번리에 10 리드 전반 종료',\n",
       " '법흥사터 초석 논란 일자 대통령 부처님 공경 한결같아 해명',\n",
       " '배선우이소영 즐거운 브이로 출발',\n",
       " '전교조 전북지부 전북교육 과거 회귀 우려되는 시기',\n",
       " '휠라홀딩스 1분기 매출 1조 넘겨 사상 최대골프 열풍에 날개',\n",
       " '선관위 사전투표 조작설 유포 황교안민경욱 검찰 고발',\n",
       " '포스코현대제철 등 15개 철강사 ESG 연구회 발족',\n",
       " '사이버 경보 주의로 격상러시아 위협 우려',\n",
       " '레드햇 RHEL9 출시',\n",
       " '김연아 1억원최민정 5000만원빙판스타들 산불 성금 쾌척종합',\n",
       " '네이버뉴스 언론구독플랫폼으로구독 2500만명 돌파',\n",
       " '오스템임플란트 피의자 가족 집 압수수색회사 CCTV도 분석종합',\n",
       " '박의장 취약계층 절박추경 마냥 미룰 수 없다21일 데드라인',\n",
       " '포켓몬빵 여기 있다 초등생 유인해 추행한 전자발찌 편의점주',\n",
       " '유가증권 기관외국인개인 순매수순매도 상위종목4월 5일최종치',\n",
       " ' 무면허 상태 음주운전 추정 사고50대 남성 사망',\n",
       " '진안 32점 BNK 신한은행 잡고 PO 진출 가능성 살렸다',\n",
       " '검수완박하면 공수완박 될까공수처 영향 없다 판단',\n",
       " '3억5000만원에 월세 70만원 60억 건물주 기안84 새집 공개',\n",
       " 'SPAIN SOCCER',\n",
       " ' 설날 세배해도 되나요',\n",
       " '김혜경 모두 제 불찰악재 털겠다 직접 사과',\n",
       " '가계대출 줄자 은행 문턱도 낮아져마이너스통장 한도도 ',\n",
       " '코로나19 영향대량 출하로 가격 폭락한 양파',\n",
       " '집주인이 싫어해요엄동설한에 방 구하기 힘든 독거노인',\n",
       " ' 김포 역사적 첫 홈경기서 명경기 연출서울이랜드와 22 무승부',\n",
       " '신규 확진 4천명대로먹는 치료제 내일 도입',\n",
       " '고품격 하이엔드 주거단지 광주 라데사 포레 매곡 샘플하우스 오는 1일 공개',\n",
       " '에스티씨랩 전 직군 채용면접부터 합격까지 하루만에',\n",
       " '분향하는 박병석 국회의장',\n",
       " '부산교육감 후보 당과 거리두기 vs 밀접접촉',\n",
       " ' 잇따른 주말 깜짝행보있는 그대로가 과 차이',\n",
       " '정부 낙농진흥회 이사회 개의조건 완화낙농단체 16일 결의대회',\n",
       " '옥천 지재 충청북도문화재자료 지정예고',\n",
       " ' 내일도 예년보다 따뜻흐리고 점차 비',\n",
       " '휴넷 공인중개사 최대 실적 기록3년만에 수강생 및 합격자 수 200',\n",
       " '4연승PO 확보 KB손해보험 1위 대한항공 승점 2점 차 추격OK금융그룹 3연패',\n",
       " '민주당 정치 1번지 무공천국힘은 대구 등 텃밭 공천 혈투',\n",
       " 'AC밀란 사수올로 꺾고 11년 만에 세리에A 감격의 우승통산 19번째',\n",
       " ' 조부모 손자 입양 가능아이 행복 우선',\n",
       " '메리츠 자산운용 2022 대한민국 펀드어워즈 중국주식 부문 최우수상 수상',\n",
       " '마스턴프리미어리츠 성담으로 최대주주 변경',\n",
       " 'JB금융지주 반 년만에 회사채 시장 복귀최대 1500억',\n",
       " '아이가 좋아해서 순살 치킨 서비스로 요청한 고객',\n",
       " '스튜디오끼 벽돌작가 김강용 개인전BHAK Boundaries',\n",
       " ' 대통령실 인선 신중 모드장관 부실검증 논란 등 고려',\n",
       " ' 학령인구 감소에 지방대 위기 가속정부 대응 역부족',\n",
       " '누리호 발사',\n",
       " '이재명 비정규직 공정수당 성과 바탕으로노동 존중 사회로 나아가겠다',\n",
       " '어젯밤 9시까지 20만명 넘어그제보다 3만여명',\n",
       " '프로야구 한화 4실책 자멸 키움에 역전승4연패 탈출',\n",
       " '역투하는 이현승',\n",
       " '회의 가진 민주당이재명 책임론 놓고 계파 간 난타전',\n",
       " '오늘은 우리들의 날3년 만에 어린이날 행사 재개',\n",
       " '인수위 물가 안정 위해 한은과 정책적 소통 필요',\n",
       " ' 오후 9시까지 전국서 12만3627명 확진어제보다 2만885명',\n",
       " ' 집회 강행 양경수 민주노총 위원장 2심서도 징역형 구형',\n",
       " '데이터스트림즈 강릉영동대 AI빅데이터 인재에 장학금 1000만원 전달',\n",
       " '황대헌 실격의 순간',\n",
       " '광주시교육청 끄덕끄덕 학생보호망 가동',\n",
       " '롯데백화점 대구점 설 맞아 안마의자 프로모션 강화',\n",
       " '스토케 하이엔드 디럭스 유모차 익스플로리 엑스 시그니처 출시',\n",
       " '잔류 위해 수면 방해에버튼 팬들 첼시 호텔 앞에서 불꽃놀이',\n",
       " ' 대선에 나타난 전북 표심보수 전북서 역대 최다 득표',\n",
       " '로니 KBO 데뷔 승리를 향해 ',\n",
       " '한글 창제 이후 제작된 금속 한글 활자',\n",
       " '카카오페이 트위터 후원하기 송금 지원',\n",
       " '근로자 퇴직 연령 평균 493세권고사직명예퇴직 등 비자발적 퇴직 늘어',\n",
       " '울진군 시각장애인 안마 서비스 등 다양한 지역사회 서비스를 제공',\n",
       " '메달따도 시상식 없는데도핑 논란 발리예바 쇼트 1위',\n",
       " '모든 NBA 팬들이 기다린 클레이 탐슨의 3점슛 ',\n",
       " '비트코인 5300만원대러시아 원유 결제 대안에 상승세',\n",
       " '코스피 005 상승 275920 마감',\n",
       " '서울시의회 울진삼척동해 산불 이재민 돕기 나서',\n",
       " '진짜로 힘들다니까 부상 악재 맞은 카바니 경기 불참 루머에 입 열었다',\n",
       " '인천 찾은 공산침략에 자유 지킨 본산지인천상륙작전처럼 역전드라마 시작',\n",
       " ' 우리나라 겨울철 강수량',\n",
       " '어촌에 살고 싶다면 귀어귀촌 종합교육 신청하세요',\n",
       " '삼진제약 마케팅본부장에 삼성에피스 출신 전상진 상무 영입',\n",
       " '용인시 골프 캐디 양성과정 교육생 20명 모집',\n",
       " 'LGU 5G 적용한 스마트항만 조성안전 사고 예방',\n",
       " ' 대통령 참모진에 사무실에 갇혀있지 말고 민심 가감없이 들어라',\n",
       " '울진 산불 확산한울원전 접근에 비상',\n",
       " '전북 확진격리자 투표 시작이번엔 투표함에 직접',\n",
       " '서재덕 전부 간파했어 ',\n",
       " ' 4000억 회사채 발행 늘린 KT 크게 낮춘 조달금리 눈길',\n",
       " '3명 매몰사고 삼표산업 중대재해법 1호 사업장노동부 중대재해처벌법 수사 착수',\n",
       " '한덕수 후보자 종부세 세 부담 급증으로 개선 필요',\n",
       " '불법 투여시체 유기 면허 취소된 의사법원 재기의 기회 줘야',\n",
       " '말하는 중에도 멍해진다 알리 성폭행 피해 고백',\n",
       " '로키 산맥 보며 티샷캐나다 BC주 골프 명소들은',\n",
       " 'CJ바이오사이언스 공식 출범마이크로바이옴 신약 세계 1위',\n",
       " ' 아이스하키 광운대 윤일로 기습적인 슛 시도',\n",
       " '악마의 재능 귀한발로텔리 이탈리아 국대 승선 유력',\n",
       " '울산 젊음의거리서 지지 호소하는 송철호',\n",
       " '완도군완도군의회 인사권 독립에 따른 업무 협약 체결',\n",
       " '폭염경보 속 맑은 포항 하늘',\n",
       " ' 대선 출정식 같았는데실언으로 끝난 서울시당 워크숍',\n",
       " 'AGAIN 2020 우승 배터리 의기투합7이닝 8K 무실점 쐐기포 2타점 오쎈 창원',\n",
       " '19일 전국 평검사대표회의검수완박 집단 대응 움직임',\n",
       " 'LG 이관희 드라이브인',\n",
       " '신세계 챌린저와 샘바이펜의 콜라보 골프용품 선보여',\n",
       " '원희룡 장관 폴란드 신공항 협력단과 면담',\n",
       " '소식없는 확진자 투표소',\n",
       " '학교 가야되는데 월세 올라 자취방 못구한 대학생들 울상 ',\n",
       " '대구 경북내륙 건조주의보 발효 중일교차 10도',\n",
       " '국민의힘 커뮤니티서 여론조작 vs 민주 사실아냐 명예훼손',\n",
       " '불 댕긴 야권 단일화본격 수싸움',\n",
       " '연준 충격요법 필요성 점증주가 변동성 커진다',\n",
       " '힘차게 공 던지는 양현종',\n",
       " '칸 2관왕 이끈 CJ문화식품산업에 12조 투자',\n",
       " '멍멍 허허벌판 출몰한 푸들떼벌금 안 무섭지',\n",
       " '임희정박민지 우승 축하해',\n",
       " '산책 방해된다전기자전거 22대 하천에 던진 80대 징역형',\n",
       " '이정후 역전 3루타 키움 2위 LG 잡고 1경기차 맹추격 잠실스코어',\n",
       " '김훈 김지하 저항 자체 비판한 것 아니라 죽음 만류한 것',\n",
       " '한국일본 버거킹 일괄매각 추진 매각가는 1조원대',\n",
       " '악 SUV에 깔린 순간 차 들어올린 시민들 ',\n",
       " '김은혜 과세표준 3억1가구 1주택 경기도민 재산세 100 감면',\n",
       " '2조 2천억원 중앙공원 1지구 특례사업 광주판 대장동 의혹으로 번지나',\n",
       " ' 사랑의 열매 죽절초',\n",
       " '신학철 LG화학 부회장 2030년 매출 60조원2배 이상 늘리겠다',\n",
       " ' 낮 최고 30도 포근건조강풍 산불 조심',\n",
       " '플럿코루이즈 입국LG 대권 재도전 마지막 퍼즐',\n",
       " '하태경 민주당 출신들은 팩트체크 열심히 안 해운동권 문화 아직 못 벗어나',\n",
       " '부산 아홉산 산불 2시간30여분만에 진화산림 07ha 태워종합',\n",
       " '롯데 부산서 대규모 아트페어미술 시장 입지 다진다',\n",
       " '부산 코로나 2만7758명 확진 31명 사망',\n",
       " '바이든 평택서 반도체 동맹 한목소리 협력 의미는',\n",
       " '귀여운 장수풍뎅이 소중하게',\n",
       " '자율주행로봇 기업 찾은 한 총리 과도한 규제는 철폐해야',\n",
       " '사라진 코로나 포비아가을이면 돌아온다',\n",
       " '원자잿값 고공행진무역수지 적자 폭 확대',\n",
       " '산불 피해 지원에 팔걷고 나선 금융권 만기연장상환유예 등',\n",
       " '누리호 발사장 이송 내일 아침 다시 결정비행시험위 기상상황 유동적',\n",
       " '한미연합훈련 사전연습 12일 시작 항모 동해 진입',\n",
       " ' 인천 조성환 감독 옛 제자 MF 이동수 영입',\n",
       " '분당갑 보궐선거 김병관 후보와 안철수 후보',\n",
       " '제약바이오 해외진출 지원위해 영어 등 7개 언어 통번역 서비스 제공',\n",
       " '이별 통보했다고 언니 살해한 가해자 신상 공개해주세요',\n",
       " '크래프톤 배틀그라운드 모바일 쇼다운 2022 한일전 우승',\n",
       " '한국 독자 개발 발사체 누리호 발사',\n",
       " '타이거즈 우타거포 시련의 6월1홈런에 2할이라니 돌아와요 타점머신',\n",
       " ' 나토 한미일 3개국 29일 정상회담한일회담은 무산',\n",
       " '6골 폭발 리버풀 벌써 지난 시즌 득점 기록 돌파골득실 1위 등극',\n",
       " '모빌리티 혁신위원회 킥오프 회의',\n",
       " '컴투스 멀티체인 메타버스 플랫폼 기업 매트릭스 랩스에 시드 투자',\n",
       " 'KT 주가 장중 3만8500원52주 신고가 경신',\n",
       " '이한열 열사 배은심 여사 장례 사회장으로',\n",
       " ' 한미 북한 비핵화 목표 재확인 대북 억제 중요성 공감상보',\n",
       " '214시간 불탄 역대 최악 산불 5mm 봄비가 잠재웠다',\n",
       " '검찰청법 개정안 가결에 민주당 박수',\n",
       " '한덕수 윤석열 정부 초대 국무총리 사실상 내정',\n",
       " '정주영 21주기 맞아 범현대가 청운동 모여',\n",
       " '방역지원금 300만원 소상공인 숨퉁 트일까',\n",
       " '오늘의 운세 2022년 1월 20일 ',\n",
       " '40년 과학 연구한 두뇌들 안동으로 모십니다',\n",
       " '78억 마리 벌들의 죽음인간이 만든 온난화 등 주범',\n",
       " '한국판 NASA 나오나 과학 중심 국정운영 펼친다',\n",
       " '강종효씨쿠키뉴스 부산경남본부장 장모상',\n",
       " ' 최태원 회장 국가발전 프로젝트 맡을 CEO 찾아요',\n",
       " '지하철로 퇴근하는 시민들',\n",
       " '면역력 챙기려면 팽이버섯 표고양송이는',\n",
       " '금천구 건설현장서 50대 노동자 추락해 중상',\n",
       " ' 봄에 이런 장면이 기가 막히네요',\n",
       " '서초구 청소년도서관서 이색 북큐레이션 즐겨요',\n",
       " '정의선 회장 장녀 6월 화촉 대우와 사돈',\n",
       " '전남농협 우리 쌀 소비 촉진백설기 떡 나눔',\n",
       " '김도영위기는 없다 ',\n",
       " 'CU 도시락삼각김밥 등 간편식 할인행사런치플레이션 대응',\n",
       " '공공기술 활용 청년 기술창업 경진대회 결선 개최',\n",
       " '대한상의 살아나던 소매경기 1분기에 다시 위축',\n",
       " ' 한덕수 초대 총리 후보로 지명올드보이 vs 적임자',\n",
       " '새 정부 탄생 증시 어디로 흐르나FOMC러시아 디폴트 우려도 ',\n",
       " ' 숭실대 외',\n",
       " '김동연 아니고 이재명 때리는 김은혜 얼룩진 부정 바로잡을 것',\n",
       " '마스크 써도50cm 이내서 대화하면 오미크론 감염 확률 ',\n",
       " '동료들의 축하는 받는 김현수',\n",
       " '작년 유럽서 팔린 삼성 스마트폰 중 59가 갤럭시A',\n",
       " ' SK 우리가 우승이다',\n",
       " '장민재 한유섬에게 솔로포 허용 ',\n",
       " '얼마나 살 수 있을까',\n",
       " '올해도 비대면 설e커머스 선물 기획전',\n",
       " '네이버가 만든 초거대 인공지능 공공기관대학 연구개발에 쓴다',\n",
       " '광주시 청년드림수당 2기 참여자 560명 선정',\n",
       " '경기침체 우려 커지자민자사업 연 7로 확대',\n",
       " '3개 여론조사 윤석열 3176차 당선 유력 ',\n",
       " '기초과학연구원IBS',\n",
       " '팀 장윤정고백 스위스에 연장접전끝 7대8 석패 2연패',\n",
       " '현대중공업 올해 별도 기준 매출 10조 돌파 전망',\n",
       " '한국거래소 외부위탁운용사에 한국투자증권미래에셋증권 선정',\n",
       " '62일 만에 1군 경기 등판 72개 공으로 5이닝 무실점 노경은 한화 타선은 허수아비였다',\n",
       " '어린이날 100주년 다채로운 가정의 달 행사',\n",
       " '호프집 먹튀 커플 맥주병에 찍힌 지문으로 잡았다',\n",
       " 'ICBM까지 쐈는데도외교부 장관 대북정책 실패 아냐',\n",
       " '외교부 한복 논란에 고유문화 존중 필요',\n",
       " '취재진 질문에 답하는 정진석 단장',\n",
       " '기초과학연 극단 및 확률 조합 연구그룹 출범',\n",
       " '임금피크제 무효 판결에경제계 고용불안 심해질 것',\n",
       " '우체국택배 파업장기화 전망도',\n",
       " 'KT 국내 최대 ICT 전시회 월드 IT쇼 2022 참가',\n",
       " '과잉 의전 대국민사과 앞두고 당사 도착한 김혜경 ',\n",
       " '자치단체 시민안전보험시민들은 몰라',\n",
       " '김은혜 소상공인 600만원 보상금 일괄 지급 부족하면 가 준다',\n",
       " '수원 윌스기념병원 종합병원 승격',\n",
       " ' 박정우 제대로 맞았어',\n",
       " '국민의힘 탈당한 무소속 후보 복당 없다',\n",
       " ' 3161p120 오른 266999 마감',\n",
       " '실제 위성 싣고 우주로누리호 2차 6월 15일 쏜다',\n",
       " ' 24일 전국 한여름 더위',\n",
       " ' 지지자 몰린 박근혜 사저 담 넘고 집안 엿보기도',\n",
       " ' 부산 당분간 추위 계속낮 기온 6도',\n",
       " '임기 끝까지 노무현 떠올린 대통령운명의 장면 셋정치쫌',\n",
       " '비즈 롯데호텔 무궁화 한미정상회담 만찬 메뉴 선보여 ',\n",
       " ' 태극기 준비하는 쇼트트랙 계주 대표팀',\n",
       " '홍정민 우승 매치퀸이 되었어요',\n",
       " ' 사실묘사와 반구상 이병철 회장이 인정한 두 개의 작품 세계',\n",
       " ' 오후 6시까지 77249명 확진어제보다 5334명 늘어 또 최다',\n",
       " '광주은행 대한적십자사 10억 기부 클럽 가입',\n",
       " '특발성 척추 측만증의 진단과 치료 방법',\n",
       " '티모넷 NFT 전문 갤러리 Adition 오픈',\n",
       " '충남도 1조 규모 정부 산업단지 대개조 사업 공모 통과',\n",
       " '한화 거제 벨버디어 수영장 이용 호캉스 한정판매',\n",
       " '민주 한덕수 총리로서 결격 사유가 차고 넘쳐 부적격 판정',\n",
       " '모델 뺨치는 여축들의 찐포스 절대1강현대제철엄브로와 사상 첫 스폰서십',\n",
       " '단단한 것 먹다가 우지끈 이 깨진 것 방치하면 벌어지는 일',\n",
       " ' 채은성 가자 동점이다',\n",
       " ' 개막 2연승 T1 단독 1위팀 순위 1월 14일 기준 ',\n",
       " '여야 추경 합의 손실보상 364조 39조 확대소급적용은 추후 논의',\n",
       " ' 중대재해 제로경남개발공사 안전보건 서약식',\n",
       " '검찰 손떼는 선거수사 공소시효 등 보완 필요',\n",
       " ' 동반 연승 행진 천안 형제 나란히 선두 질주',\n",
       " '남지민 강판 ',\n",
       " 'NO 아이파크 후폭풍삼성동 아이파크 두달새 14억 뚝 떨어져',\n",
       " 'CJ ENM 지난해 영업익 2천969억원전년 91',\n",
       " ' 반도체배터리AI양자바이오 등 협력 강화경제안보대화 신설',\n",
       " '정상회담 하루 남았는데용산서 시민 폭행한 국토안보부 직원 입건',\n",
       " '이창양 신임장관 만난 최태원 산업에너지정책 민관협력 필요',\n",
       " '첫 창원특례시장인지도 높은 민주 현직 vs 지지율 높은 국힘 신인',\n",
       " '이소영 핀을 다시 확인',\n",
       " '디에이치피코리아 6월3일 주총사명 옵투스제약 변경안',\n",
       " ' 질병청 국내 첫 원숭이두창 감염 의심자 검사 중',\n",
       " ' 베트남 U23 끝 박항서 감독 공오균이 잘할 것스트레스 반으로 줄듯',\n",
       " '케이뱅크 이어 농협은행도 전세대출 금리 내린다',\n",
       " '군산대 총장 임용 터덕투표 반영비율 갈등 영향',\n",
       " ' 언론 황대헌 올림픽 기록은 최첨단 얼음 덕분에',\n",
       " '확진자 자가격리 4주 연장 중고생 기말시험 응시땐 예외',\n",
       " ' 이영택 감독 그건 아니죠',\n",
       " '그것이 알고 싶다 꿀벌실종사건 군집붕괴현상이란',\n",
       " '매몰사고 삼표산업 양주사업소 압수수색실종자 수색 난항',\n",
       " ' 주장 손흥민 득점왕 소식에 벤투모두가 행복한 마음',\n",
       " ' 듀라소닉 초음파 정밀 세정 장비 선봬',\n",
       " '논란의혹만 10여개 정호영 17일 기자회견 초미관심',\n",
       " ' 베이징에 태극기 휘날리는 황대헌',\n",
       " '권영진 대구시장 2월 한달이 고비 현행 사회적 거리두기 2주 연장한다',\n",
       " '대신경제 한국건설방재시험 ESG 공동 사업 맞손',\n",
       " '한국도로공사 짜릿한 역전승',\n",
       " '러시아 수입의존도 나프타 23대게는 100',\n",
       " '우상호 검수완박 탈당 민형배 복당요청 생각없다헌재 판결 먼저',\n",
       " '김선형 찬스다',\n",
       " '재건축 멈춘 목동한신청구 현대 리모델링 조합설립은 속도',\n",
       " '민주노총 노동 중심 국정 운영하라정부 5년간 투쟁할 것',\n",
       " '애플 8일 특별 행사 개최무슨 제품 선보일까',\n",
       " '이재학연습도 실전처럼 ',\n",
       " '5G 무제한 요금제 써도 44GB만 사용중간 요금제 절실한 이유',\n",
       " '삼성 이어 LG전자도 러시아행 선적 전면 중단',\n",
       " '중랑 다세대주택서 한밤 화재1명 사망 1명 부상',\n",
       " ' 김민규 네번의 준우승끝에 차지한 우승 트로피',\n",
       " ' 카카오 떠나는 여민수 신뢰 상실에 책임감일련 논란 사과',\n",
       " ' 민주당 비상대책위원회 전환절반은 2030 친해질 수 있을까',\n",
       " 'SSG NC 꺾고 시리즈 스윕승 ',\n",
       " '국내 첫 시험관 아기 시술 성공 장윤석 명예교수 별세',\n",
       " '비싸고 재고 없다그래픽카드 구매 미루는 소비자들',\n",
       " '현충원 찾은 공군 부사관단',\n",
       " 'SK브로드밴드 61개 대학교에 디도스 방어 솔루션 무상제공',\n",
       " '모바일 액션MMORPG 용의기원 25급 장비 업데이트',\n",
       " '대통령 김창기 국세청장 인사청문회 없이 임명종합',\n",
       " '본격화한 비대면 세상디지털 전환이 기업 성패 갈랐다',\n",
       " '소아청소년 확진자 폭증에 주말 상담센터 가동의료진 과부하 우려도',\n",
       " '확진자 폭증세 오후 9시에 15만8005명내일 16만명 안팎종합',\n",
       " 'LG에너지솔루션 테슬라 공급 유력 원통형 배터리 7300억원 투자',\n",
       " '김홍국 하림 회장 전북대서 명예박사학위 받아',\n",
       " '민주 국회의장 후보들 강경파 구애 출사표당대표 선거 나왔나',\n",
       " '박현경 새로운 세상에서 큐티풀 팬클럽과 미팅',\n",
       " '유승민 IOC 선수위 부위원장 재선출',\n",
       " ' 오후 6시까지 확진자 30만명 육박역대 최다 규모',\n",
       " '한덕수 놓고 수싸움여 청문회 연기 야 몽니',\n",
       " '차 사고시 치료비 과다청구 막는다보험개발원 경상환자 과잉치료 기준 연내 마련',\n",
       " '삼일제약 국내 최초 레바미피드 성분 안구건조증 신약 허가 획득',\n",
       " '계양이 호구냐 이재명 맹폭 수도권 공략 61 지방선거',\n",
       " '주주 회계장부 열람 요구 경위목적 설명으로 충분 대법 옛 종로학원 남매소송서 여동생 손 들어줘',\n",
       " '국민의힘 정미경 최고위원 이준석 그 입 다물라',\n",
       " 'LG유플러스 맞춤 메타버스로 제페토 추격',\n",
       " 'FIFA 온라인 4 네덜란드 레전드 굴리트 등장 등 여름 업데이트 내용 공개',\n",
       " '인천고 개성고를 상대로 20 짜릿한 승리 ',\n",
       " ' 장마전선 북상 중부 장맛비남부 무더위 속 소나기',\n",
       " '박병춘 제8대 전주교육대학교 총장 취임식',\n",
       " '마차도가 LG로 새 외인 찾는 류지현 감독의 속내 공격력 필요하긴 한데 ',\n",
       " '공군 훈련기 2대 충돌 후 추락탑승 4명 모두 순직',\n",
       " ' 뮤지컬 인맥 캐스팅 논란자정 나서야 호소문',\n",
       " '솔로포 마티니와 강인권 감독 대행의 하이파이브 ',\n",
       " ' 김상식 감독 우리 축구를 했다 우승 경쟁 불 지폈어',\n",
       " '유서연 가볍게 날아서',\n",
       " '바이든 제조업 돌아왔다',\n",
       " '강릉단오제 주신의 행차',\n",
       " '대법관헌법재판관까지 검증독립성 침해 우려',\n",
       " '동점 허용한 김원중 ',\n",
       " '잠도 못자는 고통정부 사과까지 분향소 지킬 것코백회 사람들을 만나다',\n",
       " '한세그룹 8살 손자 80억 주주로니가 왜 거기서 나와',\n",
       " '윤석열 이전 후보지 답사결단 임박 전망',\n",
       " '한동훈 감찰방해 윤석열 징계하라한동훈 법무장관이 주장하나',\n",
       " '7월 선거 앞둔 기시다 취임식에 참석 땐 관계 복원 신호탄',\n",
       " ' 윤 후보님 빙하타고 온 둘리 같다 정상적 질문을 해라',\n",
       " '3점 적시타의 주인공 김선빈',\n",
       " '영주시 저소득층 한시 긴급생활지원금 지급6254가구 28억여원',\n",
       " '삼성전자 고려대학교와 채용조건형 계약학과 신설6G 시대 선도할 통신 인재 육성 나선다',\n",
       " '코스피 바닥권이지만외국인 수급개선 안보여 당분간 관망을',\n",
       " '헤어진 연인 찾아가 염산 뿌린 60대 남성 현행범 체포',\n",
       " '손예진 서른아홉 NFT 8분만에 완판수익금 기부',\n",
       " '탄소중립시대 월드비텍 수냉식 건물냉각 기술로 에너지 절감',\n",
       " '3회에만 6실점 LG 플럿코도 무너졌다키움전 5이닝 6실점 난타',\n",
       " '철원 오미크론 확진자 급증사흘간 군장병 54명 등 566명 감염',\n",
       " '에이스엠자임 IPO 시동기업가치 1조원 목표',\n",
       " '윤석열 이재명 본진서 반헌법 세력 맞서 형사법 집행하듯 타협 않겠다',\n",
       " '윤석준 후보 지지선언 잇따라우성진 후보와 최종 경선',\n",
       " '한국스포츠미디어학회 스포츠와 디지털 경제 주제로 세미나',\n",
       " '휘발윳값 9주 연속 상승세 가장 낮은 지역은',\n",
       " '꽃미모 되찾은 누더기견수컷이라고 입양 취소됐어요',\n",
       " 'DGB생명 RPA시스템 구축 및 안정화 완료',\n",
       " '거수경례하는 이용일 상사와 이규철 상사',\n",
       " '하반신 마비 환자 전극 이식수술 하루 만에 걸었다 연구',\n",
       " '박상진 네이버파이낸셜 대표 페이 이용액 2025년 100조원 목표',\n",
       " '광주시장 출구조사에 환호하는 강기정',\n",
       " '넷마블 북미 자회사 카밤 디즈니 미러 가디언즈 전세계 출시',\n",
       " '목요일 출근길 꽁꽁전라서해안 아침 눈 날림',\n",
       " '대통령실 화물연대 운송거부 종료 다행위기 극복에 도움 될 것',\n",
       " ...]"
      ]
     },
     "execution_count": 104,
     "metadata": {},
     "output_type": "execute_result"
    }
   ],
   "source": [
    "x_test #IT과학,0 경제,1 사회,2 생활문화,3 스포츠,4 정치,5"
   ]
  },
  {
   "cell_type": "code",
   "execution_count": null,
   "id": "1ca6d9eb",
   "metadata": {},
   "outputs": [],
   "source": [
    "fig=plt.figure(figsize=(10,10))\n",
    "rows=3\n",
    "cols=2\n",
    "topic=['IT과학','경제','사회','생활문화','세계','스포츠','정치']\n",
    "for i in range(6):\n",
    "    wordcloud=plot_wordcloud_words(dl2_correct[dl2_correct['y_test']==i]['text'])\n",
    "    ax=fig.add_subplot(rows,cols,i+1)\n",
    "    ax.axis('off')\n",
    "    ax.set_title('wordcloud by topic:{}'.format(topic[i]))\n",
    "    ax.imshow(wordcloud)"
   ]
  },
  {
   "cell_type": "markdown",
   "id": "173b3842",
   "metadata": {},
   "source": [
    "## 3층"
   ]
  },
  {
   "cell_type": "code",
   "execution_count": 95,
   "id": "17101136",
   "metadata": {},
   "outputs": [
    {
     "name": "stdout",
     "output_type": "stream",
     "text": [
      "Model: \"sequential_1\"\n",
      "_________________________________________________________________\n",
      " Layer (type)                Output Shape              Param #   \n",
      "=================================================================\n",
      " dense_2 (Dense)             (None, 128)               64000128  \n",
      "                                                                 \n",
      " dropout_1 (Dropout)         (None, 128)               0         \n",
      "                                                                 \n",
      " dense_3 (Dense)             (None, 64)                8256      \n",
      "                                                                 \n",
      " dropout_2 (Dropout)         (None, 64)                0         \n",
      "                                                                 \n",
      " dense_4 (Dense)             (None, 6)                 390       \n",
      "                                                                 \n",
      "=================================================================\n",
      "Total params: 64,008,774\n",
      "Trainable params: 64,008,774\n",
      "Non-trainable params: 0\n",
      "_________________________________________________________________\n"
     ]
    }
   ],
   "source": [
    "threemodel=Sequential()\n",
    "threemodel.add(Dense(128,input_dim=500000,activation='relu'))\n",
    "threemodel.add(Dropout(0.8))\n",
    "threemodel.add(Dense(64,activation='relu'))\n",
    "threemodel.add(Dropout(0.8))\n",
    "threemodel.add(Dense(6,activation='softmax'))\n",
    "threemodel.summary()"
   ]
  },
  {
   "cell_type": "code",
   "execution_count": null,
   "id": "03be9798",
   "metadata": {},
   "outputs": [],
   "source": [
    "threemodel.add(Dense(6, activation='softmax'))\n",
    "threemodel.compile(loss='categorical_crossentropy',optimizer='adam',\n",
    "             metrics=['accuracy'])\n",
    "es = EarlyStopping(monitor='val_loss', mode='min', verbose=1, patience=4)\n",
    "mc = ModelCheckpoint(filepath='./{epoch}-{val_loss:.2f}-{val_accuracy:.2f}.h5', monitor='val_accuracy', mode='max', verbose=1, save_best_only=True)\n",
    "history3 = threemodel.fit(train_tf_text, y_train, epochs=30, callbacks=[es, mc], batch_size=64,validation_data=(test_tf_text, y_test))"
   ]
  },
  {
   "cell_type": "code",
   "execution_count": null,
   "id": "43fa4cbf",
   "metadata": {},
   "outputs": [],
   "source": [
    "epochs = range(1, len(history3.history['accuracy']) + 1) #Dense,Dropout사용\n",
    "plt.plot(epochs, history3.history['loss'])\n",
    "plt.plot(epochs, history3.history['val_loss'])\n",
    "plt.title('model loss')\n",
    "plt.ylabel('loss')\n",
    "plt.xlabel('epoch')\n",
    "\n",
    "plt.legend(['train', 'test'], loc='upper left')\n",
    "plt.show()"
   ]
  },
  {
   "cell_type": "code",
   "execution_count": null,
   "id": "d3aa0450",
   "metadata": {},
   "outputs": [],
   "source": [
    "epochs = range(1, len(history3.history['accuracy']) + 1) #Dense,Dropout사용\n",
    "plt.plot(epochs, history3.history['accuracy'])\n",
    "plt.plot(epochs, history3.history['val_accuracy'])\n",
    "plt.title('model loss')\n",
    "plt.ylabel('loss')\n",
    "plt.xlabel('epoch')\n",
    "\n",
    "plt.legend(['train', 'test'], loc='upper left')\n",
    "plt.show()"
   ]
  },
  {
   "cell_type": "markdown",
   "id": "309bd7db",
   "metadata": {},
   "source": [
    "## 4층"
   ]
  },
  {
   "cell_type": "code",
   "execution_count": null,
   "id": "88622c97",
   "metadata": {},
   "outputs": [],
   "source": [
    "model=Sequential()\n",
    "model.add(Dense(128,input_dim=150000,activation='relu'))\n",
    "model.add(Dropout(0.8))\n",
    "model.add(Dense(64,activation='relu'))\n",
    "model.add(Dropout(0.8))\n",
    "model.add(Dense(32,activation='relu'))\n",
    "model.add(Dropout(0.8))\n",
    "model.add(Dense(6,activation='softmax'))\n",
    "model.summary()"
   ]
  },
  {
   "cell_type": "markdown",
   "id": "6006d282",
   "metadata": {},
   "source": [
    "## 머신러닝"
   ]
  },
  {
   "cell_type": "code",
   "execution_count": 25,
   "id": "02843a29",
   "metadata": {},
   "outputs": [],
   "source": [
    "def split(text):\n",
    "    tokens=okt.morphs(text)\n",
    "    return tokens"
   ]
  },
  {
   "cell_type": "code",
   "execution_count": 26,
   "id": "8be45169",
   "metadata": {},
   "outputs": [
    {
     "data": {
      "text/html": [
       "<div>\n",
       "<style scoped>\n",
       "    .dataframe tbody tr th:only-of-type {\n",
       "        vertical-align: middle;\n",
       "    }\n",
       "\n",
       "    .dataframe tbody tr th {\n",
       "        vertical-align: top;\n",
       "    }\n",
       "\n",
       "    .dataframe thead th {\n",
       "        text-align: right;\n",
       "    }\n",
       "</style>\n",
       "<table border=\"1\" class=\"dataframe\">\n",
       "  <thead>\n",
       "    <tr style=\"text-align: right;\">\n",
       "      <th></th>\n",
       "      <th>title</th>\n",
       "      <th>topic_idx</th>\n",
       "      <th>topic</th>\n",
       "      <th>cleaned_title</th>\n",
       "    </tr>\n",
       "  </thead>\n",
       "  <tbody>\n",
       "    <tr>\n",
       "      <th>0</th>\n",
       "      <td>\"1년차 연봉 5000만원, 만족도 100%\" 40대 환경미화원 후기</td>\n",
       "      <td>1</td>\n",
       "      <td>경제</td>\n",
       "      <td>1년차 연봉 5000만원 만족도 100 40대 환경미화원 후기</td>\n",
       "    </tr>\n",
       "    <tr>\n",
       "      <th>1</th>\n",
       "      <td>울산시, 특별교부세 437억 원 확보..역대 최대</td>\n",
       "      <td>1</td>\n",
       "      <td>경제</td>\n",
       "      <td>울산시 특별교부세 437억 원 확보역대 최대</td>\n",
       "    </tr>\n",
       "    <tr>\n",
       "      <th>2</th>\n",
       "      <td>\"올해 울산에 6천 8백여 가구 분양 예상\"</td>\n",
       "      <td>1</td>\n",
       "      <td>경제</td>\n",
       "      <td>올해 울산에 6천 8백여 가구 분양 예상</td>\n",
       "    </tr>\n",
       "    <tr>\n",
       "      <th>3</th>\n",
       "      <td>울산 주택 매매가 상승률 둔화..16개월 내 최저</td>\n",
       "      <td>1</td>\n",
       "      <td>경제</td>\n",
       "      <td>울산 주택 매매가 상승률 둔화16개월 내 최저</td>\n",
       "    </tr>\n",
       "    <tr>\n",
       "      <th>4</th>\n",
       "      <td>2020년 울산 기업체 성장·수익·안전성 악화</td>\n",
       "      <td>1</td>\n",
       "      <td>경제</td>\n",
       "      <td>2020년 울산 기업체 성장수익안전성 악화</td>\n",
       "    </tr>\n",
       "  </tbody>\n",
       "</table>\n",
       "</div>"
      ],
      "text/plain": [
       "                                    title  topic_idx topic  \\\n",
       "0  \"1년차 연봉 5000만원, 만족도 100%\" 40대 환경미화원 후기          1    경제   \n",
       "1             울산시, 특별교부세 437억 원 확보..역대 최대          1    경제   \n",
       "2                \"올해 울산에 6천 8백여 가구 분양 예상\"          1    경제   \n",
       "3             울산 주택 매매가 상승률 둔화..16개월 내 최저          1    경제   \n",
       "4               2020년 울산 기업체 성장·수익·안전성 악화          1    경제   \n",
       "\n",
       "                        cleaned_title  \n",
       "0  1년차 연봉 5000만원 만족도 100 40대 환경미화원 후기  \n",
       "1            울산시 특별교부세 437억 원 확보역대 최대  \n",
       "2              올해 울산에 6천 8백여 가구 분양 예상  \n",
       "3           울산 주택 매매가 상승률 둔화16개월 내 최저  \n",
       "4             2020년 울산 기업체 성장수익안전성 악화  "
      ]
     },
     "execution_count": 26,
     "metadata": {},
     "output_type": "execute_result"
    }
   ],
   "source": [
    "data.head()"
   ]
  },
  {
   "cell_type": "code",
   "execution_count": 30,
   "id": "11656500",
   "metadata": {},
   "outputs": [],
   "source": [
    "# tfidf = TfidfVectorizer(analyzer='word', sublinear_tf=True,max_features=500000, ngram_range=(1, 2), binary=False,\n",
    "#                        stop_words=stopwords)\n",
    "tfidf_vect = TfidfVectorizer(tokenizer=split,stop_words=stopwords)\n",
    "tfidf_vect.fit(data['cleaned_title'])\n",
    "tfidf_matrix_data = tfidf_vect.transform(data['cleaned_title'])"
   ]
  },
  {
   "cell_type": "code",
   "execution_count": 31,
   "id": "b0e87f95",
   "metadata": {},
   "outputs": [],
   "source": [
    "X_train,X_test,y_train,y_test=train_test_split(tfidf_matrix_data,data['topic_idx'],test_size=0.3,\n",
    "                                              random_state=42)"
   ]
  },
  {
   "cell_type": "code",
   "execution_count": 32,
   "id": "cb5d1f77",
   "metadata": {},
   "outputs": [],
   "source": [
    "def objective(trial):\n",
    "    \"\"\"\n",
    "    Objective function to be minimized.\n",
    "    \"\"\"\n",
    "    param = {\n",
    "        \"objective\": \"multiclass\",\n",
    "        \"metric\": \"multi_logloss\",\n",
    "        \"verbosity\": -1,\n",
    "        \"boosting_type\": \"dart\",\n",
    "        \"num_class\": 6,\n",
    "        \"lambda_l1\": trial.suggest_float(\"lambda_l1\", 1e-8, 10.0, log=True),\n",
    "        \"lambda_l2\": trial.suggest_float(\"lambda_l2\", 1e-8, 10.0, log=True),\n",
    "        \"num_leaves\": trial.suggest_int(\"num_leaves\", 2, 256),\n",
    "        \"feature_fraction\": trial.suggest_float(\"feature_fraction\", 0.4, 1.0),\n",
    "        \"bagging_fraction\": trial.suggest_float(\"bagging_fraction\", 0.4, 1.0),\n",
    "        \"bagging_freq\": trial.suggest_int(\"bagging_freq\", 1, 7),\n",
    "        \"min_child_samples\": trial.suggest_int(\"min_child_samples\", 5, 100),\n",
    "        'max_depth': trial.suggest_int('max_depth', 1, 10, step=1, log=False), \n",
    "        'learning_rate': trial.suggest_float('learning_rate', 0.0001, 0.1, log=True), \n",
    "        'n_estimators': trial.suggest_int('n_estimators', 8, 1024, step=1, log=True), \n",
    "        'colsample_bytree': trial.suggest_uniform('colsample_bytree', 0.7, 1.0)\n",
    "    }\n",
    "    gbm = LGBMClassifier(**param)\n",
    "    gbm.fit(X_train, y_train)\n",
    "    preds = gbm.predict(X_test)\n",
    "    accuracy = accuracy_score(y_test, preds)\n",
    "    return accuracy"
   ]
  },
  {
   "cell_type": "code",
   "execution_count": 33,
   "id": "cde983ed",
   "metadata": {},
   "outputs": [
    {
     "name": "stderr",
     "output_type": "stream",
     "text": [
      "\u001b[32m[I 2022-12-27 20:27:23,075]\u001b[0m A new study created in memory with name: lightgbm\u001b[0m\n",
      "C:\\Users\\aaa\\AppData\\Local\\Temp\\ipykernel_22016\\1003895381.py:21: FutureWarning: suggest_uniform has been deprecated in v3.0.0. This feature will be removed in v6.0.0. See https://github.com/optuna/optuna/releases/tag/v3.0.0. Use :func:`~optuna.trial.Trial.suggest_float` instead.\n",
      "  'colsample_bytree': trial.suggest_uniform('colsample_bytree', 0.7, 1.0)\n"
     ]
    },
    {
     "name": "stdout",
     "output_type": "stream",
     "text": [
      "[LightGBM] [Warning] feature_fraction is set=0.5813995435791038, colsample_bytree=0.8257583543209884 will be ignored. Current value: feature_fraction=0.5813995435791038\n",
      "[LightGBM] [Warning] lambda_l1 is set=5.6649755830282306e-05, reg_alpha=0.0 will be ignored. Current value: lambda_l1=5.6649755830282306e-05\n",
      "[LightGBM] [Warning] bagging_fraction is set=0.48805353449026784, subsample=1.0 will be ignored. Current value: bagging_fraction=0.48805353449026784\n",
      "[LightGBM] [Warning] lambda_l2 is set=0.030403280126677572, reg_lambda=0.0 will be ignored. Current value: lambda_l2=0.030403280126677572\n",
      "[LightGBM] [Warning] bagging_freq is set=1, subsample_freq=0 will be ignored. Current value: bagging_freq=1\n"
     ]
    },
    {
     "name": "stderr",
     "output_type": "stream",
     "text": [
      "\u001b[32m[I 2022-12-27 20:41:12,154]\u001b[0m Trial 0 finished with value: 0.2741018404267306 and parameters: {'lambda_l1': 5.6649755830282306e-05, 'lambda_l2': 0.030403280126677572, 'num_leaves': 2, 'feature_fraction': 0.5813995435791038, 'bagging_fraction': 0.48805353449026784, 'bagging_freq': 1, 'min_child_samples': 22, 'max_depth': 4, 'learning_rate': 0.0015498955191377143, 'n_estimators': 106, 'colsample_bytree': 0.8257583543209884}. Best is trial 0 with value: 0.2741018404267306.\u001b[0m\n",
      "C:\\Users\\aaa\\AppData\\Local\\Temp\\ipykernel_22016\\1003895381.py:21: FutureWarning: suggest_uniform has been deprecated in v3.0.0. This feature will be removed in v6.0.0. See https://github.com/optuna/optuna/releases/tag/v3.0.0. Use :func:`~optuna.trial.Trial.suggest_float` instead.\n",
      "  'colsample_bytree': trial.suggest_uniform('colsample_bytree', 0.7, 1.0)\n"
     ]
    },
    {
     "name": "stdout",
     "output_type": "stream",
     "text": [
      "[LightGBM] [Warning] feature_fraction is set=0.4164325559187557, colsample_bytree=0.9904784727158192 will be ignored. Current value: feature_fraction=0.4164325559187557\n",
      "[LightGBM] [Warning] lambda_l1 is set=0.01468843425028415, reg_alpha=0.0 will be ignored. Current value: lambda_l1=0.01468843425028415\n",
      "[LightGBM] [Warning] bagging_fraction is set=0.8022805061070413, subsample=1.0 will be ignored. Current value: bagging_fraction=0.8022805061070413\n",
      "[LightGBM] [Warning] lambda_l2 is set=6.919428843480712e-07, reg_lambda=0.0 will be ignored. Current value: lambda_l2=6.919428843480712e-07\n",
      "[LightGBM] [Warning] bagging_freq is set=3, subsample_freq=0 will be ignored. Current value: bagging_freq=3\n"
     ]
    },
    {
     "name": "stderr",
     "output_type": "stream",
     "text": [
      "\u001b[32m[I 2022-12-27 21:06:07,952]\u001b[0m Trial 1 finished with value: 0.32617352280815537 and parameters: {'lambda_l1': 0.01468843425028415, 'lambda_l2': 6.919428843480712e-07, 'num_leaves': 225, 'feature_fraction': 0.4164325559187557, 'bagging_fraction': 0.8022805061070413, 'bagging_freq': 3, 'min_child_samples': 58, 'max_depth': 2, 'learning_rate': 0.00039292030026239497, 'n_estimators': 385, 'colsample_bytree': 0.9904784727158192}. Best is trial 1 with value: 0.32617352280815537.\u001b[0m\n",
      "C:\\Users\\aaa\\AppData\\Local\\Temp\\ipykernel_22016\\1003895381.py:21: FutureWarning: suggest_uniform has been deprecated in v3.0.0. This feature will be removed in v6.0.0. See https://github.com/optuna/optuna/releases/tag/v3.0.0. Use :func:`~optuna.trial.Trial.suggest_float` instead.\n",
      "  'colsample_bytree': trial.suggest_uniform('colsample_bytree', 0.7, 1.0)\n"
     ]
    },
    {
     "name": "stdout",
     "output_type": "stream",
     "text": [
      "[LightGBM] [Warning] feature_fraction is set=0.9367639981023084, colsample_bytree=0.9873668590451505 will be ignored. Current value: feature_fraction=0.9367639981023084\n",
      "[LightGBM] [Warning] lambda_l1 is set=6.6193844201488494e-06, reg_alpha=0.0 will be ignored. Current value: lambda_l1=6.6193844201488494e-06\n",
      "[LightGBM] [Warning] bagging_fraction is set=0.4510265268218668, subsample=1.0 will be ignored. Current value: bagging_fraction=0.4510265268218668\n",
      "[LightGBM] [Warning] lambda_l2 is set=0.017017804924595526, reg_lambda=0.0 will be ignored. Current value: lambda_l2=0.017017804924595526\n",
      "[LightGBM] [Warning] bagging_freq is set=1, subsample_freq=0 will be ignored. Current value: bagging_freq=1\n"
     ]
    },
    {
     "name": "stderr",
     "output_type": "stream",
     "text": [
      "\u001b[32m[I 2022-12-27 21:13:09,732]\u001b[0m Trial 2 finished with value: 0.2507564244551133 and parameters: {'lambda_l1': 6.6193844201488494e-06, 'lambda_l2': 0.017017804924595526, 'num_leaves': 225, 'feature_fraction': 0.9367639981023084, 'bagging_fraction': 0.4510265268218668, 'bagging_freq': 1, 'min_child_samples': 21, 'max_depth': 9, 'learning_rate': 0.0001972606689184097, 'n_estimators': 59, 'colsample_bytree': 0.9873668590451505}. Best is trial 1 with value: 0.32617352280815537.\u001b[0m\n",
      "C:\\Users\\aaa\\AppData\\Local\\Temp\\ipykernel_22016\\1003895381.py:21: FutureWarning: suggest_uniform has been deprecated in v3.0.0. This feature will be removed in v6.0.0. See https://github.com/optuna/optuna/releases/tag/v3.0.0. Use :func:`~optuna.trial.Trial.suggest_float` instead.\n",
      "  'colsample_bytree': trial.suggest_uniform('colsample_bytree', 0.7, 1.0)\n"
     ]
    },
    {
     "name": "stdout",
     "output_type": "stream",
     "text": [
      "[LightGBM] [Warning] feature_fraction is set=0.8119005566089502, colsample_bytree=0.9367837985354466 will be ignored. Current value: feature_fraction=0.8119005566089502\n",
      "[LightGBM] [Warning] lambda_l1 is set=0.0006287638503361937, reg_alpha=0.0 will be ignored. Current value: lambda_l1=0.0006287638503361937\n",
      "[LightGBM] [Warning] bagging_fraction is set=0.9007754031384237, subsample=1.0 will be ignored. Current value: bagging_fraction=0.9007754031384237\n",
      "[LightGBM] [Warning] lambda_l2 is set=0.016861415310578325, reg_lambda=0.0 will be ignored. Current value: lambda_l2=0.016861415310578325\n",
      "[LightGBM] [Warning] bagging_freq is set=1, subsample_freq=0 will be ignored. Current value: bagging_freq=1\n"
     ]
    },
    {
     "name": "stderr",
     "output_type": "stream",
     "text": [
      "\u001b[32m[I 2022-12-27 21:14:12,983]\u001b[0m Trial 3 finished with value: 0.4527938925423831 and parameters: {'lambda_l1': 0.0006287638503361937, 'lambda_l2': 0.016861415310578325, 'num_leaves': 82, 'feature_fraction': 0.8119005566089502, 'bagging_fraction': 0.9007754031384237, 'bagging_freq': 1, 'min_child_samples': 77, 'max_depth': 10, 'learning_rate': 0.017558886158773757, 'n_estimators': 30, 'colsample_bytree': 0.9367837985354466}. Best is trial 3 with value: 0.4527938925423831.\u001b[0m\n",
      "C:\\Users\\aaa\\AppData\\Local\\Temp\\ipykernel_22016\\1003895381.py:21: FutureWarning: suggest_uniform has been deprecated in v3.0.0. This feature will be removed in v6.0.0. See https://github.com/optuna/optuna/releases/tag/v3.0.0. Use :func:`~optuna.trial.Trial.suggest_float` instead.\n",
      "  'colsample_bytree': trial.suggest_uniform('colsample_bytree', 0.7, 1.0)\n"
     ]
    },
    {
     "name": "stdout",
     "output_type": "stream",
     "text": [
      "[LightGBM] [Warning] feature_fraction is set=0.5761684890242077, colsample_bytree=0.8474719477841015 will be ignored. Current value: feature_fraction=0.5761684890242077\n",
      "[LightGBM] [Warning] lambda_l1 is set=8.492470739500463e-08, reg_alpha=0.0 will be ignored. Current value: lambda_l1=8.492470739500463e-08\n",
      "[LightGBM] [Warning] bagging_fraction is set=0.5726652031518092, subsample=1.0 will be ignored. Current value: bagging_fraction=0.5726652031518092\n",
      "[LightGBM] [Warning] lambda_l2 is set=0.00010740926273949015, reg_lambda=0.0 will be ignored. Current value: lambda_l2=0.00010740926273949015\n",
      "[LightGBM] [Warning] bagging_freq is set=1, subsample_freq=0 will be ignored. Current value: bagging_freq=1\n"
     ]
    },
    {
     "name": "stderr",
     "output_type": "stream",
     "text": [
      "\u001b[32m[I 2022-12-27 21:32:15,558]\u001b[0m Trial 4 finished with value: 0.2124776370426758 and parameters: {'lambda_l1': 8.492470739500463e-08, 'lambda_l2': 0.00010740926273949015, 'num_leaves': 233, 'feature_fraction': 0.5761684890242077, 'bagging_fraction': 0.5726652031518092, 'bagging_freq': 1, 'min_child_samples': 6, 'max_depth': 7, 'learning_rate': 0.00043140417921356194, 'n_estimators': 28, 'colsample_bytree': 0.8474719477841015}. Best is trial 3 with value: 0.4527938925423831.\u001b[0m\n",
      "C:\\Users\\aaa\\AppData\\Local\\Temp\\ipykernel_22016\\1003895381.py:21: FutureWarning: suggest_uniform has been deprecated in v3.0.0. This feature will be removed in v6.0.0. See https://github.com/optuna/optuna/releases/tag/v3.0.0. Use :func:`~optuna.trial.Trial.suggest_float` instead.\n",
      "  'colsample_bytree': trial.suggest_uniform('colsample_bytree', 0.7, 1.0)\n"
     ]
    },
    {
     "name": "stdout",
     "output_type": "stream",
     "text": [
      "[LightGBM] [Warning] feature_fraction is set=0.7535833221419705, colsample_bytree=0.8607689217746535 will be ignored. Current value: feature_fraction=0.7535833221419705\n",
      "[LightGBM] [Warning] lambda_l1 is set=3.021780442592028e-08, reg_alpha=0.0 will be ignored. Current value: lambda_l1=3.021780442592028e-08\n",
      "[LightGBM] [Warning] bagging_fraction is set=0.8198550160125587, subsample=1.0 will be ignored. Current value: bagging_fraction=0.8198550160125587\n",
      "[LightGBM] [Warning] lambda_l2 is set=0.0014691239860705116, reg_lambda=0.0 will be ignored. Current value: lambda_l2=0.0014691239860705116\n",
      "[LightGBM] [Warning] bagging_freq is set=1, subsample_freq=0 will be ignored. Current value: bagging_freq=1\n"
     ]
    },
    {
     "name": "stderr",
     "output_type": "stream",
     "text": [
      "\u001b[32m[I 2022-12-27 21:33:14,138]\u001b[0m Trial 5 finished with value: 0.24585924596642328 and parameters: {'lambda_l1': 3.021780442592028e-08, 'lambda_l2': 0.0014691239860705116, 'num_leaves': 39, 'feature_fraction': 0.7535833221419705, 'bagging_fraction': 0.8198550160125587, 'bagging_freq': 1, 'min_child_samples': 44, 'max_depth': 7, 'learning_rate': 0.0017479854309911975, 'n_estimators': 10, 'colsample_bytree': 0.8607689217746535}. Best is trial 3 with value: 0.4527938925423831.\u001b[0m\n",
      "C:\\Users\\aaa\\AppData\\Local\\Temp\\ipykernel_22016\\1003895381.py:21: FutureWarning: suggest_uniform has been deprecated in v3.0.0. This feature will be removed in v6.0.0. See https://github.com/optuna/optuna/releases/tag/v3.0.0. Use :func:`~optuna.trial.Trial.suggest_float` instead.\n",
      "  'colsample_bytree': trial.suggest_uniform('colsample_bytree', 0.7, 1.0)\n"
     ]
    },
    {
     "name": "stdout",
     "output_type": "stream",
     "text": [
      "[LightGBM] [Warning] feature_fraction is set=0.7519330243011957, colsample_bytree=0.9782525741188102 will be ignored. Current value: feature_fraction=0.7519330243011957\n",
      "[LightGBM] [Warning] lambda_l1 is set=0.009422188901528314, reg_alpha=0.0 will be ignored. Current value: lambda_l1=0.009422188901528314\n",
      "[LightGBM] [Warning] bagging_fraction is set=0.9420411491727301, subsample=1.0 will be ignored. Current value: bagging_fraction=0.9420411491727301\n",
      "[LightGBM] [Warning] lambda_l2 is set=0.00043052860159544285, reg_lambda=0.0 will be ignored. Current value: lambda_l2=0.00043052860159544285\n",
      "[LightGBM] [Warning] bagging_freq is set=1, subsample_freq=0 will be ignored. Current value: bagging_freq=1\n"
     ]
    },
    {
     "name": "stderr",
     "output_type": "stream",
     "text": [
      "\u001b[32m[I 2022-12-27 21:35:36,125]\u001b[0m Trial 6 finished with value: 0.2763855415064732 and parameters: {'lambda_l1': 0.009422188901528314, 'lambda_l2': 0.00043052860159544285, 'num_leaves': 242, 'feature_fraction': 0.7519330243011957, 'bagging_fraction': 0.9420411491727301, 'bagging_freq': 1, 'min_child_samples': 18, 'max_depth': 9, 'learning_rate': 0.0015596620715924295, 'n_estimators': 17, 'colsample_bytree': 0.9782525741188102}. Best is trial 3 with value: 0.4527938925423831.\u001b[0m\n",
      "C:\\Users\\aaa\\AppData\\Local\\Temp\\ipykernel_22016\\1003895381.py:21: FutureWarning: suggest_uniform has been deprecated in v3.0.0. This feature will be removed in v6.0.0. See https://github.com/optuna/optuna/releases/tag/v3.0.0. Use :func:`~optuna.trial.Trial.suggest_float` instead.\n",
      "  'colsample_bytree': trial.suggest_uniform('colsample_bytree', 0.7, 1.0)\n"
     ]
    },
    {
     "name": "stdout",
     "output_type": "stream",
     "text": [
      "[LightGBM] [Warning] feature_fraction is set=0.9299836547234859, colsample_bytree=0.9894520141445157 will be ignored. Current value: feature_fraction=0.9299836547234859\n",
      "[LightGBM] [Warning] lambda_l1 is set=1.3486297561351885e-05, reg_alpha=0.0 will be ignored. Current value: lambda_l1=1.3486297561351885e-05\n",
      "[LightGBM] [Warning] bagging_fraction is set=0.7742033242333654, subsample=1.0 will be ignored. Current value: bagging_fraction=0.7742033242333654\n",
      "[LightGBM] [Warning] lambda_l2 is set=0.05718852932029385, reg_lambda=0.0 will be ignored. Current value: lambda_l2=0.05718852932029385\n",
      "[LightGBM] [Warning] bagging_freq is set=6, subsample_freq=0 will be ignored. Current value: bagging_freq=6\n"
     ]
    },
    {
     "name": "stderr",
     "output_type": "stream",
     "text": [
      "\u001b[32m[I 2022-12-27 21:37:59,866]\u001b[0m Trial 7 finished with value: 0.4538876507009121 and parameters: {'lambda_l1': 1.3486297561351885e-05, 'lambda_l2': 0.05718852932029385, 'num_leaves': 187, 'feature_fraction': 0.9299836547234859, 'bagging_fraction': 0.7742033242333654, 'bagging_freq': 6, 'min_child_samples': 38, 'max_depth': 3, 'learning_rate': 0.04871454545414109, 'n_estimators': 62, 'colsample_bytree': 0.9894520141445157}. Best is trial 7 with value: 0.4538876507009121.\u001b[0m\n",
      "C:\\Users\\aaa\\AppData\\Local\\Temp\\ipykernel_22016\\1003895381.py:21: FutureWarning: suggest_uniform has been deprecated in v3.0.0. This feature will be removed in v6.0.0. See https://github.com/optuna/optuna/releases/tag/v3.0.0. Use :func:`~optuna.trial.Trial.suggest_float` instead.\n",
      "  'colsample_bytree': trial.suggest_uniform('colsample_bytree', 0.7, 1.0)\n"
     ]
    },
    {
     "name": "stdout",
     "output_type": "stream",
     "text": [
      "[LightGBM] [Warning] feature_fraction is set=0.9696935552242427, colsample_bytree=0.7008610981093476 will be ignored. Current value: feature_fraction=0.9696935552242427\n",
      "[LightGBM] [Warning] lambda_l1 is set=0.009353485565470611, reg_alpha=0.0 will be ignored. Current value: lambda_l1=0.009353485565470611\n",
      "[LightGBM] [Warning] bagging_fraction is set=0.6699472800879643, subsample=1.0 will be ignored. Current value: bagging_fraction=0.6699472800879643\n",
      "[LightGBM] [Warning] lambda_l2 is set=0.003937870971174469, reg_lambda=0.0 will be ignored. Current value: lambda_l2=0.003937870971174469\n",
      "[LightGBM] [Warning] bagging_freq is set=5, subsample_freq=0 will be ignored. Current value: bagging_freq=5\n"
     ]
    },
    {
     "name": "stderr",
     "output_type": "stream",
     "text": [
      "\u001b[32m[I 2022-12-27 21:41:33,571]\u001b[0m Trial 8 finished with value: 0.4820642898953785 and parameters: {'lambda_l1': 0.009353485565470611, 'lambda_l2': 0.003937870971174469, 'num_leaves': 31, 'feature_fraction': 0.9696935552242427, 'bagging_fraction': 0.6699472800879643, 'bagging_freq': 5, 'min_child_samples': 44, 'max_depth': 3, 'learning_rate': 0.05130250385596956, 'n_estimators': 126, 'colsample_bytree': 0.7008610981093476}. Best is trial 8 with value: 0.4820642898953785.\u001b[0m\n",
      "C:\\Users\\aaa\\AppData\\Local\\Temp\\ipykernel_22016\\1003895381.py:21: FutureWarning: suggest_uniform has been deprecated in v3.0.0. This feature will be removed in v6.0.0. See https://github.com/optuna/optuna/releases/tag/v3.0.0. Use :func:`~optuna.trial.Trial.suggest_float` instead.\n",
      "  'colsample_bytree': trial.suggest_uniform('colsample_bytree', 0.7, 1.0)\n"
     ]
    },
    {
     "name": "stdout",
     "output_type": "stream",
     "text": [
      "[LightGBM] [Warning] feature_fraction is set=0.9315652595864647, colsample_bytree=0.9991968551354442 will be ignored. Current value: feature_fraction=0.9315652595864647\n",
      "[LightGBM] [Warning] lambda_l1 is set=0.0035834737096036534, reg_alpha=0.0 will be ignored. Current value: lambda_l1=0.0035834737096036534\n",
      "[LightGBM] [Warning] bagging_fraction is set=0.6143618560014998, subsample=1.0 will be ignored. Current value: bagging_fraction=0.6143618560014998\n",
      "[LightGBM] [Warning] lambda_l2 is set=8.70570839382862e-06, reg_lambda=0.0 will be ignored. Current value: lambda_l2=8.70570839382862e-06\n",
      "[LightGBM] [Warning] bagging_freq is set=7, subsample_freq=0 will be ignored. Current value: bagging_freq=7\n"
     ]
    },
    {
     "name": "stderr",
     "output_type": "stream",
     "text": [
      "\u001b[32m[I 2022-12-27 21:44:51,106]\u001b[0m Trial 9 finished with value: 0.4300090963304139 and parameters: {'lambda_l1': 0.0035834737096036534, 'lambda_l2': 8.70570839382862e-06, 'num_leaves': 136, 'feature_fraction': 0.9315652595864647, 'bagging_fraction': 0.6143618560014998, 'bagging_freq': 7, 'min_child_samples': 64, 'max_depth': 1, 'learning_rate': 0.06142026716955348, 'n_estimators': 224, 'colsample_bytree': 0.9991968551354442}. Best is trial 8 with value: 0.4820642898953785.\u001b[0m\n",
      "C:\\Users\\aaa\\AppData\\Local\\Temp\\ipykernel_22016\\1003895381.py:21: FutureWarning: suggest_uniform has been deprecated in v3.0.0. This feature will be removed in v6.0.0. See https://github.com/optuna/optuna/releases/tag/v3.0.0. Use :func:`~optuna.trial.Trial.suggest_float` instead.\n",
      "  'colsample_bytree': trial.suggest_uniform('colsample_bytree', 0.7, 1.0)\n"
     ]
    },
    {
     "name": "stdout",
     "output_type": "stream",
     "text": [
      "[LightGBM] [Warning] feature_fraction is set=0.992593709070849, colsample_bytree=0.7058178769973622 will be ignored. Current value: feature_fraction=0.992593709070849\n",
      "[LightGBM] [Warning] lambda_l1 is set=7.721753827343493, reg_alpha=0.0 will be ignored. Current value: lambda_l1=7.721753827343493\n",
      "[LightGBM] [Warning] bagging_fraction is set=0.6755384737821297, subsample=1.0 will be ignored. Current value: bagging_fraction=0.6755384737821297\n",
      "[LightGBM] [Warning] lambda_l2 is set=4.039397504172109, reg_lambda=0.0 will be ignored. Current value: lambda_l2=4.039397504172109\n",
      "[LightGBM] [Warning] bagging_freq is set=5, subsample_freq=0 will be ignored. Current value: bagging_freq=5\n"
     ]
    },
    {
     "name": "stderr",
     "output_type": "stream",
     "text": [
      "\u001b[32m[I 2022-12-27 22:48:54,341]\u001b[0m Trial 10 finished with value: 0.5219122630076151 and parameters: {'lambda_l1': 7.721753827343493, 'lambda_l2': 4.039397504172109, 'num_leaves': 101, 'feature_fraction': 0.992593709070849, 'bagging_fraction': 0.6755384737821297, 'bagging_freq': 5, 'min_child_samples': 79, 'max_depth': 5, 'learning_rate': 0.009773114544570704, 'n_estimators': 933, 'colsample_bytree': 0.7058178769973622}. Best is trial 10 with value: 0.5219122630076151.\u001b[0m\n",
      "C:\\Users\\aaa\\AppData\\Local\\Temp\\ipykernel_22016\\1003895381.py:21: FutureWarning: suggest_uniform has been deprecated in v3.0.0. This feature will be removed in v6.0.0. See https://github.com/optuna/optuna/releases/tag/v3.0.0. Use :func:`~optuna.trial.Trial.suggest_float` instead.\n",
      "  'colsample_bytree': trial.suggest_uniform('colsample_bytree', 0.7, 1.0)\n"
     ]
    },
    {
     "name": "stdout",
     "output_type": "stream",
     "text": [
      "[LightGBM] [Warning] feature_fraction is set=0.8551068786194246, colsample_bytree=0.7041073244581906 will be ignored. Current value: feature_fraction=0.8551068786194246\n",
      "[LightGBM] [Warning] lambda_l1 is set=4.780260623410405, reg_alpha=0.0 will be ignored. Current value: lambda_l1=4.780260623410405\n",
      "[LightGBM] [Warning] bagging_fraction is set=0.6653286624732987, subsample=1.0 will be ignored. Current value: bagging_fraction=0.6653286624732987\n",
      "[LightGBM] [Warning] lambda_l2 is set=5.84765526896857, reg_lambda=0.0 will be ignored. Current value: lambda_l2=5.84765526896857\n",
      "[LightGBM] [Warning] bagging_freq is set=5, subsample_freq=0 will be ignored. Current value: bagging_freq=5\n"
     ]
    },
    {
     "name": "stderr",
     "output_type": "stream",
     "text": [
      "\u001b[32m[I 2022-12-27 23:59:37,362]\u001b[0m Trial 11 finished with value: 0.5209476672446913 and parameters: {'lambda_l1': 4.780260623410405, 'lambda_l2': 5.84765526896857, 'num_leaves': 97, 'feature_fraction': 0.8551068786194246, 'bagging_fraction': 0.6653286624732987, 'bagging_freq': 5, 'min_child_samples': 100, 'max_depth': 5, 'learning_rate': 0.010013686694706914, 'n_estimators': 894, 'colsample_bytree': 0.7041073244581906}. Best is trial 10 with value: 0.5219122630076151.\u001b[0m\n",
      "C:\\Users\\aaa\\AppData\\Local\\Temp\\ipykernel_22016\\1003895381.py:21: FutureWarning: suggest_uniform has been deprecated in v3.0.0. This feature will be removed in v6.0.0. See https://github.com/optuna/optuna/releases/tag/v3.0.0. Use :func:`~optuna.trial.Trial.suggest_float` instead.\n",
      "  'colsample_bytree': trial.suggest_uniform('colsample_bytree', 0.7, 1.0)\n"
     ]
    },
    {
     "name": "stdout",
     "output_type": "stream",
     "text": [
      "[LightGBM] [Warning] feature_fraction is set=0.843880014306968, colsample_bytree=0.707925363312996 will be ignored. Current value: feature_fraction=0.843880014306968\n",
      "[LightGBM] [Warning] lambda_l1 is set=7.818673267588219, reg_alpha=0.0 will be ignored. Current value: lambda_l1=7.818673267588219\n",
      "[LightGBM] [Warning] bagging_fraction is set=0.7031408949906939, subsample=1.0 will be ignored. Current value: bagging_fraction=0.7031408949906939\n",
      "[LightGBM] [Warning] lambda_l2 is set=5.237153987893642, reg_lambda=0.0 will be ignored. Current value: lambda_l2=5.237153987893642\n",
      "[LightGBM] [Warning] bagging_freq is set=4, subsample_freq=0 will be ignored. Current value: bagging_freq=4\n"
     ]
    },
    {
     "name": "stderr",
     "output_type": "stream",
     "text": [
      "\u001b[32m[I 2022-12-28 01:02:32,071]\u001b[0m Trial 12 finished with value: 0.5097050425548871 and parameters: {'lambda_l1': 7.818673267588219, 'lambda_l2': 5.237153987893642, 'num_leaves': 128, 'feature_fraction': 0.843880014306968, 'bagging_fraction': 0.7031408949906939, 'bagging_freq': 4, 'min_child_samples': 100, 'max_depth': 5, 'learning_rate': 0.008003312589881965, 'n_estimators': 1008, 'colsample_bytree': 0.707925363312996}. Best is trial 10 with value: 0.5219122630076151.\u001b[0m\n",
      "C:\\Users\\aaa\\AppData\\Local\\Temp\\ipykernel_22016\\1003895381.py:21: FutureWarning: suggest_uniform has been deprecated in v3.0.0. This feature will be removed in v6.0.0. See https://github.com/optuna/optuna/releases/tag/v3.0.0. Use :func:`~optuna.trial.Trial.suggest_float` instead.\n",
      "  'colsample_bytree': trial.suggest_uniform('colsample_bytree', 0.7, 1.0)\n"
     ]
    },
    {
     "name": "stdout",
     "output_type": "stream",
     "text": [
      "[LightGBM] [Warning] feature_fraction is set=0.8411032083286797, colsample_bytree=0.7652930373641221 will be ignored. Current value: feature_fraction=0.8411032083286797\n",
      "[LightGBM] [Warning] lambda_l1 is set=6.618320452569746, reg_alpha=0.0 will be ignored. Current value: lambda_l1=6.618320452569746\n",
      "[LightGBM] [Warning] bagging_fraction is set=0.546010433979286, subsample=1.0 will be ignored. Current value: bagging_fraction=0.546010433979286\n",
      "[LightGBM] [Warning] lambda_l2 is set=6.669303787691026, reg_lambda=0.0 will be ignored. Current value: lambda_l2=6.669303787691026\n",
      "[LightGBM] [Warning] bagging_freq is set=4, subsample_freq=0 will be ignored. Current value: bagging_freq=4\n"
     ]
    },
    {
     "name": "stderr",
     "output_type": "stream",
     "text": [
      "\u001b[32m[I 2022-12-28 02:03:11,294]\u001b[0m Trial 13 finished with value: 0.5231077022009822 and parameters: {'lambda_l1': 6.618320452569746, 'lambda_l2': 6.669303787691026, 'num_leaves': 104, 'feature_fraction': 0.8411032083286797, 'bagging_fraction': 0.546010433979286, 'bagging_freq': 4, 'min_child_samples': 100, 'max_depth': 6, 'learning_rate': 0.008611548076604037, 'n_estimators': 942, 'colsample_bytree': 0.7652930373641221}. Best is trial 13 with value: 0.5231077022009822.\u001b[0m\n",
      "C:\\Users\\aaa\\AppData\\Local\\Temp\\ipykernel_22016\\1003895381.py:21: FutureWarning: suggest_uniform has been deprecated in v3.0.0. This feature will be removed in v6.0.0. See https://github.com/optuna/optuna/releases/tag/v3.0.0. Use :func:`~optuna.trial.Trial.suggest_float` instead.\n",
      "  'colsample_bytree': trial.suggest_uniform('colsample_bytree', 0.7, 1.0)\n"
     ]
    },
    {
     "name": "stdout",
     "output_type": "stream",
     "text": [
      "[LightGBM] [Warning] feature_fraction is set=0.6398609605012098, colsample_bytree=0.7638728581170074 will be ignored. Current value: feature_fraction=0.6398609605012098\n",
      "[LightGBM] [Warning] lambda_l1 is set=0.3618325184731007, reg_alpha=0.0 will be ignored. Current value: lambda_l1=0.3618325184731007\n",
      "[LightGBM] [Warning] bagging_fraction is set=0.5405080711144874, subsample=1.0 will be ignored. Current value: bagging_fraction=0.5405080711144874\n",
      "[LightGBM] [Warning] lambda_l2 is set=0.3609081027823417, reg_lambda=0.0 will be ignored. Current value: lambda_l2=0.3609081027823417\n",
      "[LightGBM] [Warning] bagging_freq is set=3, subsample_freq=0 will be ignored. Current value: bagging_freq=3\n"
     ]
    },
    {
     "name": "stderr",
     "output_type": "stream",
     "text": [
      "\u001b[32m[I 2022-12-28 02:30:13,248]\u001b[0m Trial 14 finished with value: 0.4706073105915913 and parameters: {'lambda_l1': 0.3618325184731007, 'lambda_l2': 0.3609081027823417, 'num_leaves': 157, 'feature_fraction': 0.6398609605012098, 'bagging_fraction': 0.5405080711144874, 'bagging_freq': 3, 'min_child_samples': 81, 'max_depth': 7, 'learning_rate': 0.004193057745288164, 'n_estimators': 470, 'colsample_bytree': 0.7638728581170074}. Best is trial 13 with value: 0.5231077022009822.\u001b[0m\n",
      "C:\\Users\\aaa\\AppData\\Local\\Temp\\ipykernel_22016\\1003895381.py:21: FutureWarning: suggest_uniform has been deprecated in v3.0.0. This feature will be removed in v6.0.0. See https://github.com/optuna/optuna/releases/tag/v3.0.0. Use :func:`~optuna.trial.Trial.suggest_float` instead.\n",
      "  'colsample_bytree': trial.suggest_uniform('colsample_bytree', 0.7, 1.0)\n"
     ]
    },
    {
     "name": "stdout",
     "output_type": "stream",
     "text": [
      "[LightGBM] [Warning] feature_fraction is set=0.9943326896158998, colsample_bytree=0.7569954144229429 will be ignored. Current value: feature_fraction=0.9943326896158998\n",
      "[LightGBM] [Warning] lambda_l1 is set=0.39872734957789646, reg_alpha=0.0 will be ignored. Current value: lambda_l1=0.39872734957789646\n",
      "[LightGBM] [Warning] bagging_fraction is set=0.5381998105596045, subsample=1.0 will be ignored. Current value: bagging_fraction=0.5381998105596045\n",
      "[LightGBM] [Warning] lambda_l2 is set=2.202671571805859e-08, reg_lambda=0.0 will be ignored. Current value: lambda_l2=2.202671571805859e-08\n",
      "[LightGBM] [Warning] bagging_freq is set=4, subsample_freq=0 will be ignored. Current value: bagging_freq=4\n"
     ]
    },
    {
     "name": "stderr",
     "output_type": "stream",
     "text": [
      "\u001b[32m[I 2022-12-28 02:53:31,332]\u001b[0m Trial 15 finished with value: 0.5474094695272931 and parameters: {'lambda_l1': 0.39872734957789646, 'lambda_l2': 2.202671571805859e-08, 'num_leaves': 84, 'feature_fraction': 0.9943326896158998, 'bagging_fraction': 0.5381998105596045, 'bagging_freq': 4, 'min_child_samples': 86, 'max_depth': 6, 'learning_rate': 0.020471113634140527, 'n_estimators': 448, 'colsample_bytree': 0.7569954144229429}. Best is trial 15 with value: 0.5474094695272931.\u001b[0m\n",
      "C:\\Users\\aaa\\AppData\\Local\\Temp\\ipykernel_22016\\1003895381.py:21: FutureWarning: suggest_uniform has been deprecated in v3.0.0. This feature will be removed in v6.0.0. See https://github.com/optuna/optuna/releases/tag/v3.0.0. Use :func:`~optuna.trial.Trial.suggest_float` instead.\n",
      "  'colsample_bytree': trial.suggest_uniform('colsample_bytree', 0.7, 1.0)\n"
     ]
    },
    {
     "name": "stdout",
     "output_type": "stream",
     "text": [
      "[LightGBM] [Warning] feature_fraction is set=0.8808632373880857, colsample_bytree=0.7723041759149816 will be ignored. Current value: feature_fraction=0.8808632373880857\n",
      "[LightGBM] [Warning] lambda_l1 is set=0.2497087817501705, reg_alpha=0.0 will be ignored. Current value: lambda_l1=0.2497087817501705\n",
      "[LightGBM] [Warning] bagging_fraction is set=0.42038928774595363, subsample=1.0 will be ignored. Current value: bagging_fraction=0.42038928774595363\n",
      "[LightGBM] [Warning] lambda_l2 is set=6.942375867319202e-08, reg_lambda=0.0 will be ignored. Current value: lambda_l2=6.942375867319202e-08\n",
      "[LightGBM] [Warning] bagging_freq is set=3, subsample_freq=0 will be ignored. Current value: bagging_freq=3\n"
     ]
    },
    {
     "name": "stderr",
     "output_type": "stream",
     "text": [
      "\u001b[32m[I 2022-12-28 03:16:28,263]\u001b[0m Trial 16 finished with value: 0.5523753514179008 and parameters: {'lambda_l1': 0.2497087817501705, 'lambda_l2': 6.942375867319202e-08, 'num_leaves': 65, 'feature_fraction': 0.8808632373880857, 'bagging_fraction': 0.42038928774595363, 'bagging_freq': 3, 'min_child_samples': 89, 'max_depth': 6, 'learning_rate': 0.021495292504564494, 'n_estimators': 458, 'colsample_bytree': 0.7723041759149816}. Best is trial 16 with value: 0.5523753514179008.\u001b[0m\n",
      "C:\\Users\\aaa\\AppData\\Local\\Temp\\ipykernel_22016\\1003895381.py:21: FutureWarning: suggest_uniform has been deprecated in v3.0.0. This feature will be removed in v6.0.0. See https://github.com/optuna/optuna/releases/tag/v3.0.0. Use :func:`~optuna.trial.Trial.suggest_float` instead.\n",
      "  'colsample_bytree': trial.suggest_uniform('colsample_bytree', 0.7, 1.0)\n"
     ]
    },
    {
     "name": "stdout",
     "output_type": "stream",
     "text": [
      "[LightGBM] [Warning] feature_fraction is set=0.9140898720316737, colsample_bytree=0.7820266378224839 will be ignored. Current value: feature_fraction=0.9140898720316737\n",
      "[LightGBM] [Warning] lambda_l1 is set=0.21976190559660247, reg_alpha=0.0 will be ignored. Current value: lambda_l1=0.21976190559660247\n",
      "[LightGBM] [Warning] bagging_fraction is set=0.4052082779615889, subsample=1.0 will be ignored. Current value: bagging_fraction=0.4052082779615889\n",
      "[LightGBM] [Warning] lambda_l2 is set=1.4683574653433107e-08, reg_lambda=0.0 will be ignored. Current value: lambda_l2=1.4683574653433107e-08\n",
      "[LightGBM] [Warning] bagging_freq is set=3, subsample_freq=0 will be ignored. Current value: bagging_freq=3\n"
     ]
    },
    {
     "name": "stderr",
     "output_type": "stream",
     "text": [
      "\u001b[32m[I 2022-12-28 03:28:40,436]\u001b[0m Trial 17 finished with value: 0.5300385013864346 and parameters: {'lambda_l1': 0.21976190559660247, 'lambda_l2': 1.4683574653433107e-08, 'num_leaves': 65, 'feature_fraction': 0.9140898720316737, 'bagging_fraction': 0.4052082779615889, 'bagging_freq': 3, 'min_child_samples': 88, 'max_depth': 8, 'learning_rate': 0.020586830616246672, 'n_estimators': 250, 'colsample_bytree': 0.7820266378224839}. Best is trial 16 with value: 0.5523753514179008.\u001b[0m\n",
      "C:\\Users\\aaa\\AppData\\Local\\Temp\\ipykernel_22016\\1003895381.py:21: FutureWarning: suggest_uniform has been deprecated in v3.0.0. This feature will be removed in v6.0.0. See https://github.com/optuna/optuna/releases/tag/v3.0.0. Use :func:`~optuna.trial.Trial.suggest_float` instead.\n",
      "  'colsample_bytree': trial.suggest_uniform('colsample_bytree', 0.7, 1.0)\n"
     ]
    },
    {
     "name": "stdout",
     "output_type": "stream",
     "text": [
      "[LightGBM] [Warning] feature_fraction is set=0.9984007358790588, colsample_bytree=0.806071534637518 will be ignored. Current value: feature_fraction=0.9984007358790588\n",
      "[LightGBM] [Warning] lambda_l1 is set=0.2759006658657359, reg_alpha=0.0 will be ignored. Current value: lambda_l1=0.2759006658657359\n",
      "[LightGBM] [Warning] bagging_fraction is set=0.4074392911694658, subsample=1.0 will be ignored. Current value: bagging_fraction=0.4074392911694658\n",
      "[LightGBM] [Warning] lambda_l2 is set=1.0571137030755457e-08, reg_lambda=0.0 will be ignored. Current value: lambda_l2=1.0571137030755457e-08\n",
      "[LightGBM] [Warning] bagging_freq is set=2, subsample_freq=0 will be ignored. Current value: bagging_freq=2\n"
     ]
    },
    {
     "name": "stderr",
     "output_type": "stream",
     "text": [
      "\u001b[32m[I 2022-12-28 03:53:57,951]\u001b[0m Trial 18 finished with value: 0.6585166111085157 and parameters: {'lambda_l1': 0.2759006658657359, 'lambda_l2': 1.0571137030755457e-08, 'num_leaves': 59, 'feature_fraction': 0.9984007358790588, 'bagging_fraction': 0.4074392911694658, 'bagging_freq': 2, 'min_child_samples': 63, 'max_depth': 6, 'learning_rate': 0.09251294636269482, 'n_estimators': 451, 'colsample_bytree': 0.806071534637518}. Best is trial 18 with value: 0.6585166111085157.\u001b[0m\n",
      "C:\\Users\\aaa\\AppData\\Local\\Temp\\ipykernel_22016\\1003895381.py:21: FutureWarning: suggest_uniform has been deprecated in v3.0.0. This feature will be removed in v6.0.0. See https://github.com/optuna/optuna/releases/tag/v3.0.0. Use :func:`~optuna.trial.Trial.suggest_float` instead.\n",
      "  'colsample_bytree': trial.suggest_uniform('colsample_bytree', 0.7, 1.0)\n"
     ]
    },
    {
     "name": "stdout",
     "output_type": "stream",
     "text": [
      "[LightGBM] [Warning] feature_fraction is set=0.7044042032414632, colsample_bytree=0.8113827252030213 will be ignored. Current value: feature_fraction=0.7044042032414632\n",
      "[LightGBM] [Warning] lambda_l1 is set=0.08143459234933159, reg_alpha=0.0 will be ignored. Current value: lambda_l1=0.08143459234933159\n",
      "[LightGBM] [Warning] bagging_fraction is set=0.4000506500319285, subsample=1.0 will be ignored. Current value: bagging_fraction=0.4000506500319285\n",
      "[LightGBM] [Warning] lambda_l2 is set=3.669359443973598e-07, reg_lambda=0.0 will be ignored. Current value: lambda_l2=3.669359443973598e-07\n",
      "[LightGBM] [Warning] bagging_freq is set=2, subsample_freq=0 will be ignored. Current value: bagging_freq=2\n"
     ]
    },
    {
     "name": "stderr",
     "output_type": "stream",
     "text": [
      "\u001b[32m[I 2022-12-28 04:04:34,179]\u001b[0m Trial 19 finished with value: 0.6265970105775758 and parameters: {'lambda_l1': 0.08143459234933159, 'lambda_l2': 3.669359443973598e-07, 'num_leaves': 51, 'feature_fraction': 0.7044042032414632, 'bagging_fraction': 0.4000506500319285, 'bagging_freq': 2, 'min_child_samples': 66, 'max_depth': 8, 'learning_rate': 0.09826084064483218, 'n_estimators': 199, 'colsample_bytree': 0.8113827252030213}. Best is trial 18 with value: 0.6585166111085157.\u001b[0m\n",
      "C:\\Users\\aaa\\AppData\\Local\\Temp\\ipykernel_22016\\1003895381.py:21: FutureWarning: suggest_uniform has been deprecated in v3.0.0. This feature will be removed in v6.0.0. See https://github.com/optuna/optuna/releases/tag/v3.0.0. Use :func:`~optuna.trial.Trial.suggest_float` instead.\n",
      "  'colsample_bytree': trial.suggest_uniform('colsample_bytree', 0.7, 1.0)\n"
     ]
    },
    {
     "name": "stdout",
     "output_type": "stream",
     "text": [
      "[LightGBM] [Warning] feature_fraction is set=0.44202258278259293, colsample_bytree=0.8961756400789478 will be ignored. Current value: feature_fraction=0.44202258278259293\n",
      "[LightGBM] [Warning] lambda_l1 is set=0.052040133260765904, reg_alpha=0.0 will be ignored. Current value: lambda_l1=0.052040133260765904\n",
      "[LightGBM] [Warning] bagging_fraction is set=0.4804908515087584, subsample=1.0 will be ignored. Current value: bagging_fraction=0.4804908515087584\n",
      "[LightGBM] [Warning] lambda_l2 is set=5.426781197959567e-07, reg_lambda=0.0 will be ignored. Current value: lambda_l2=5.426781197959567e-07\n",
      "[LightGBM] [Warning] bagging_freq is set=2, subsample_freq=0 will be ignored. Current value: bagging_freq=2\n"
     ]
    },
    {
     "name": "stderr",
     "output_type": "stream",
     "text": [
      "\u001b[32m[I 2022-12-28 04:16:39,790]\u001b[0m Trial 20 finished with value: 0.5995223739498685 and parameters: {'lambda_l1': 0.052040133260765904, 'lambda_l2': 5.426781197959567e-07, 'num_leaves': 16, 'feature_fraction': 0.44202258278259293, 'bagging_fraction': 0.4804908515087584, 'bagging_freq': 2, 'min_child_samples': 66, 'max_depth': 8, 'learning_rate': 0.07344586895597342, 'n_estimators': 181, 'colsample_bytree': 0.8961756400789478}. Best is trial 18 with value: 0.6585166111085157.\u001b[0m\n",
      "C:\\Users\\aaa\\AppData\\Local\\Temp\\ipykernel_22016\\1003895381.py:21: FutureWarning: suggest_uniform has been deprecated in v3.0.0. This feature will be removed in v6.0.0. See https://github.com/optuna/optuna/releases/tag/v3.0.0. Use :func:`~optuna.trial.Trial.suggest_float` instead.\n",
      "  'colsample_bytree': trial.suggest_uniform('colsample_bytree', 0.7, 1.0)\n"
     ]
    },
    {
     "name": "stdout",
     "output_type": "stream",
     "text": [
      "[LightGBM] [Warning] feature_fraction is set=0.40867169226844763, colsample_bytree=0.900003783290083 will be ignored. Current value: feature_fraction=0.40867169226844763\n",
      "[LightGBM] [Warning] lambda_l1 is set=0.05635636584361577, reg_alpha=0.0 will be ignored. Current value: lambda_l1=0.05635636584361577\n",
      "[LightGBM] [Warning] bagging_fraction is set=0.480391513566382, subsample=1.0 will be ignored. Current value: bagging_fraction=0.480391513566382\n",
      "[LightGBM] [Warning] lambda_l2 is set=1.1058113612395596e-06, reg_lambda=0.0 will be ignored. Current value: lambda_l2=1.1058113612395596e-06\n",
      "[LightGBM] [Warning] bagging_freq is set=2, subsample_freq=0 will be ignored. Current value: bagging_freq=2\n"
     ]
    },
    {
     "name": "stderr",
     "output_type": "stream",
     "text": [
      "\u001b[32m[I 2022-12-28 04:25:01,307]\u001b[0m Trial 21 finished with value: 0.5536972048707964 and parameters: {'lambda_l1': 0.05635636584361577, 'lambda_l2': 1.1058113612395596e-06, 'num_leaves': 6, 'feature_fraction': 0.40867169226844763, 'bagging_fraction': 0.480391513566382, 'bagging_freq': 2, 'min_child_samples': 64, 'max_depth': 8, 'learning_rate': 0.0784982911557981, 'n_estimators': 161, 'colsample_bytree': 0.900003783290083}. Best is trial 18 with value: 0.6585166111085157.\u001b[0m\n",
      "C:\\Users\\aaa\\AppData\\Local\\Temp\\ipykernel_22016\\1003895381.py:21: FutureWarning: suggest_uniform has been deprecated in v3.0.0. This feature will be removed in v6.0.0. See https://github.com/optuna/optuna/releases/tag/v3.0.0. Use :func:`~optuna.trial.Trial.suggest_float` instead.\n",
      "  'colsample_bytree': trial.suggest_uniform('colsample_bytree', 0.7, 1.0)\n"
     ]
    },
    {
     "name": "stdout",
     "output_type": "stream",
     "text": [
      "[LightGBM] [Warning] feature_fraction is set=0.4907564032048746, colsample_bytree=0.8124552266002383 will be ignored. Current value: feature_fraction=0.4907564032048746\n",
      "[LightGBM] [Warning] lambda_l1 is set=0.0007739355145591913, reg_alpha=0.0 will be ignored. Current value: lambda_l1=0.0007739355145591913\n",
      "[LightGBM] [Warning] bagging_fraction is set=0.4047993183777665, subsample=1.0 will be ignored. Current value: bagging_fraction=0.4047993183777665\n",
      "[LightGBM] [Warning] lambda_l2 is set=1.9822225785498541e-07, reg_lambda=0.0 will be ignored. Current value: lambda_l2=1.9822225785498541e-07\n",
      "[LightGBM] [Warning] bagging_freq is set=2, subsample_freq=0 will be ignored. Current value: bagging_freq=2\n"
     ]
    },
    {
     "name": "stderr",
     "output_type": "stream",
     "text": [
      "\u001b[32m[I 2022-12-28 04:43:11,911]\u001b[0m Trial 22 finished with value: 0.5725109444519255 and parameters: {'lambda_l1': 0.0007739355145591913, 'lambda_l2': 1.9822225785498541e-07, 'num_leaves': 39, 'feature_fraction': 0.4907564032048746, 'bagging_fraction': 0.4047993183777665, 'bagging_freq': 2, 'min_child_samples': 70, 'max_depth': 8, 'learning_rate': 0.03674466746150052, 'n_estimators': 256, 'colsample_bytree': 0.8124552266002383}. Best is trial 18 with value: 0.6585166111085157.\u001b[0m\n",
      "C:\\Users\\aaa\\AppData\\Local\\Temp\\ipykernel_22016\\1003895381.py:21: FutureWarning: suggest_uniform has been deprecated in v3.0.0. This feature will be removed in v6.0.0. See https://github.com/optuna/optuna/releases/tag/v3.0.0. Use :func:`~optuna.trial.Trial.suggest_float` instead.\n",
      "  'colsample_bytree': trial.suggest_uniform('colsample_bytree', 0.7, 1.0)\n"
     ]
    },
    {
     "name": "stdout",
     "output_type": "stream",
     "text": [
      "[LightGBM] [Warning] feature_fraction is set=0.6977035986224902, colsample_bytree=0.8813750431861683 will be ignored. Current value: feature_fraction=0.6977035986224902\n",
      "[LightGBM] [Warning] lambda_l1 is set=0.05966621847058355, reg_alpha=0.0 will be ignored. Current value: lambda_l1=0.05966621847058355\n",
      "[LightGBM] [Warning] bagging_fraction is set=0.49121322470815526, subsample=1.0 will be ignored. Current value: bagging_fraction=0.49121322470815526\n",
      "[LightGBM] [Warning] lambda_l2 is set=1.292748494902548e-05, reg_lambda=0.0 will be ignored. Current value: lambda_l2=1.292748494902548e-05\n",
      "[LightGBM] [Warning] bagging_freq is set=2, subsample_freq=0 will be ignored. Current value: bagging_freq=2\n"
     ]
    },
    {
     "name": "stderr",
     "output_type": "stream",
     "text": [
      "\u001b[32m[I 2022-12-28 04:47:00,306]\u001b[0m Trial 23 finished with value: 0.6046558921411552 and parameters: {'lambda_l1': 0.05966621847058355, 'lambda_l2': 1.292748494902548e-05, 'num_leaves': 24, 'feature_fraction': 0.6977035986224902, 'bagging_fraction': 0.49121322470815526, 'bagging_freq': 2, 'min_child_samples': 54, 'max_depth': 10, 'learning_rate': 0.09728115100196315, 'n_estimators': 73, 'colsample_bytree': 0.8813750431861683}. Best is trial 18 with value: 0.6585166111085157.\u001b[0m\n",
      "C:\\Users\\aaa\\AppData\\Local\\Temp\\ipykernel_22016\\1003895381.py:21: FutureWarning: suggest_uniform has been deprecated in v3.0.0. This feature will be removed in v6.0.0. See https://github.com/optuna/optuna/releases/tag/v3.0.0. Use :func:`~optuna.trial.Trial.suggest_float` instead.\n",
      "  'colsample_bytree': trial.suggest_uniform('colsample_bytree', 0.7, 1.0)\n"
     ]
    },
    {
     "name": "stdout",
     "output_type": "stream",
     "text": [
      "[LightGBM] [Warning] feature_fraction is set=0.6757856713179058, colsample_bytree=0.8050824298832002 will be ignored. Current value: feature_fraction=0.6757856713179058\n",
      "[LightGBM] [Warning] lambda_l1 is set=1.13451803360157, reg_alpha=0.0 will be ignored. Current value: lambda_l1=1.13451803360157\n",
      "[LightGBM] [Warning] bagging_fraction is set=0.46638886998389095, subsample=1.0 will be ignored. Current value: bagging_fraction=0.46638886998389095\n",
      "[LightGBM] [Warning] lambda_l2 is set=1.7121051537075806e-05, reg_lambda=0.0 will be ignored. Current value: lambda_l2=1.7121051537075806e-05\n",
      "[LightGBM] [Warning] bagging_freq is set=2, subsample_freq=0 will be ignored. Current value: bagging_freq=2\n"
     ]
    },
    {
     "name": "stderr",
     "output_type": "stream",
     "text": [
      "\u001b[32m[I 2022-12-28 04:50:59,598]\u001b[0m Trial 24 finished with value: 0.6059722493218974 and parameters: {'lambda_l1': 1.13451803360157, 'lambda_l2': 1.7121051537075806e-05, 'num_leaves': 55, 'feature_fraction': 0.6757856713179058, 'bagging_fraction': 0.46638886998389095, 'bagging_freq': 2, 'min_child_samples': 53, 'max_depth': 10, 'learning_rate': 0.09935173894169765, 'n_estimators': 71, 'colsample_bytree': 0.8050824298832002}. Best is trial 18 with value: 0.6585166111085157.\u001b[0m\n",
      "C:\\Users\\aaa\\AppData\\Local\\Temp\\ipykernel_22016\\1003895381.py:21: FutureWarning: suggest_uniform has been deprecated in v3.0.0. This feature will be removed in v6.0.0. See https://github.com/optuna/optuna/releases/tag/v3.0.0. Use :func:`~optuna.trial.Trial.suggest_float` instead.\n",
      "  'colsample_bytree': trial.suggest_uniform('colsample_bytree', 0.7, 1.0)\n"
     ]
    },
    {
     "name": "stdout",
     "output_type": "stream",
     "text": [
      "[LightGBM] [Warning] feature_fraction is set=0.6892944114192476, colsample_bytree=0.8039614122193819 will be ignored. Current value: feature_fraction=0.6892944114192476\n",
      "[LightGBM] [Warning] lambda_l1 is set=1.203201033044929, reg_alpha=0.0 will be ignored. Current value: lambda_l1=1.203201033044929\n",
      "[LightGBM] [Warning] bagging_fraction is set=0.4459948250817518, subsample=1.0 will be ignored. Current value: bagging_fraction=0.4459948250817518\n",
      "[LightGBM] [Warning] lambda_l2 is set=7.089234733578625e-06, reg_lambda=0.0 will be ignored. Current value: lambda_l2=7.089234733578625e-06\n",
      "[LightGBM] [Warning] bagging_freq is set=2, subsample_freq=0 will be ignored. Current value: bagging_freq=2\n"
     ]
    },
    {
     "name": "stderr",
     "output_type": "stream",
     "text": [
      "\u001b[32m[I 2022-12-28 04:54:02,648]\u001b[0m Trial 25 finished with value: 0.5109856739666321 and parameters: {'lambda_l1': 1.203201033044929, 'lambda_l2': 7.089234733578625e-06, 'num_leaves': 57, 'feature_fraction': 0.6892944114192476, 'bagging_fraction': 0.4459948250817518, 'bagging_freq': 2, 'min_child_samples': 45, 'max_depth': 9, 'learning_rate': 0.03218974091155779, 'n_estimators': 51, 'colsample_bytree': 0.8039614122193819}. Best is trial 18 with value: 0.6585166111085157.\u001b[0m\n",
      "C:\\Users\\aaa\\AppData\\Local\\Temp\\ipykernel_22016\\1003895381.py:21: FutureWarning: suggest_uniform has been deprecated in v3.0.0. This feature will be removed in v6.0.0. See https://github.com/optuna/optuna/releases/tag/v3.0.0. Use :func:`~optuna.trial.Trial.suggest_float` instead.\n",
      "  'colsample_bytree': trial.suggest_uniform('colsample_bytree', 0.7, 1.0)\n"
     ]
    },
    {
     "name": "stdout",
     "output_type": "stream",
     "text": [
      "[LightGBM] [Warning] feature_fraction is set=0.6291432820593035, colsample_bytree=0.7394726090923593 will be ignored. Current value: feature_fraction=0.6291432820593035\n",
      "[LightGBM] [Warning] lambda_l1 is set=1.9639123558105762, reg_alpha=0.0 will be ignored. Current value: lambda_l1=1.9639123558105762\n",
      "[LightGBM] [Warning] bagging_fraction is set=0.40163849997609363, subsample=1.0 will be ignored. Current value: bagging_fraction=0.40163849997609363\n",
      "[LightGBM] [Warning] lambda_l2 is set=7.172937878456009e-05, reg_lambda=0.0 will be ignored. Current value: lambda_l2=7.172937878456009e-05\n",
      "[LightGBM] [Warning] bagging_freq is set=3, subsample_freq=0 will be ignored. Current value: bagging_freq=3\n"
     ]
    },
    {
     "name": "stderr",
     "output_type": "stream",
     "text": [
      "\u001b[32m[I 2022-12-28 04:56:43,908]\u001b[0m Trial 26 finished with value: 0.5915362905109609 and parameters: {'lambda_l1': 1.9639123558105762, 'lambda_l2': 7.172937878456009e-05, 'num_leaves': 53, 'feature_fraction': 0.6291432820593035, 'bagging_fraction': 0.40163849997609363, 'bagging_freq': 3, 'min_child_samples': 30, 'max_depth': 10, 'learning_rate': 0.09779585701255507, 'n_estimators': 41, 'colsample_bytree': 0.7394726090923593}. Best is trial 18 with value: 0.6585166111085157.\u001b[0m\n",
      "C:\\Users\\aaa\\AppData\\Local\\Temp\\ipykernel_22016\\1003895381.py:21: FutureWarning: suggest_uniform has been deprecated in v3.0.0. This feature will be removed in v6.0.0. See https://github.com/optuna/optuna/releases/tag/v3.0.0. Use :func:`~optuna.trial.Trial.suggest_float` instead.\n",
      "  'colsample_bytree': trial.suggest_uniform('colsample_bytree', 0.7, 1.0)\n"
     ]
    },
    {
     "name": "stdout",
     "output_type": "stream",
     "text": [
      "[LightGBM] [Warning] feature_fraction is set=0.7649429284444496, colsample_bytree=0.7979070605895114 will be ignored. Current value: feature_fraction=0.7649429284444496\n",
      "[LightGBM] [Warning] lambda_l1 is set=0.9446155824525668, reg_alpha=0.0 will be ignored. Current value: lambda_l1=0.9446155824525668\n",
      "[LightGBM] [Warning] bagging_fraction is set=0.6018621239440544, subsample=1.0 will be ignored. Current value: bagging_fraction=0.6018621239440544\n",
      "[LightGBM] [Warning] lambda_l2 is set=9.93740368256918e-08, reg_lambda=0.0 will be ignored. Current value: lambda_l2=9.93740368256918e-08\n",
      "[LightGBM] [Warning] bagging_freq is set=2, subsample_freq=0 will be ignored. Current value: bagging_freq=2\n"
     ]
    },
    {
     "name": "stderr",
     "output_type": "stream",
     "text": [
      "\u001b[32m[I 2022-12-28 05:04:06,133]\u001b[0m Trial 27 finished with value: 0.5380850438190298 and parameters: {'lambda_l1': 0.9446155824525668, 'lambda_l2': 9.93740368256918e-08, 'num_leaves': 81, 'feature_fraction': 0.7649429284444496, 'bagging_fraction': 0.6018621239440544, 'bagging_freq': 2, 'min_child_samples': 55, 'max_depth': 9, 'learning_rate': 0.0351586597198802, 'n_estimators': 115, 'colsample_bytree': 0.7979070605895114}. Best is trial 18 with value: 0.6585166111085157.\u001b[0m\n",
      "C:\\Users\\aaa\\AppData\\Local\\Temp\\ipykernel_22016\\1003895381.py:21: FutureWarning: suggest_uniform has been deprecated in v3.0.0. This feature will be removed in v6.0.0. See https://github.com/optuna/optuna/releases/tag/v3.0.0. Use :func:`~optuna.trial.Trial.suggest_float` instead.\n",
      "  'colsample_bytree': trial.suggest_uniform('colsample_bytree', 0.7, 1.0)\n"
     ]
    },
    {
     "name": "stdout",
     "output_type": "stream",
     "text": [
      "[LightGBM] [Warning] feature_fraction is set=0.5149993172183639, colsample_bytree=0.835073318505326 will be ignored. Current value: feature_fraction=0.5149993172183639\n",
      "[LightGBM] [Warning] lambda_l1 is set=0.0001066351938582988, reg_alpha=0.0 will be ignored. Current value: lambda_l1=0.0001066351938582988\n",
      "[LightGBM] [Warning] bagging_fraction is set=0.5115274528666954, subsample=1.0 will be ignored. Current value: bagging_fraction=0.5115274528666954\n",
      "[LightGBM] [Warning] lambda_l2 is set=2.0370571811062086e-06, reg_lambda=0.0 will be ignored. Current value: lambda_l2=2.0370571811062086e-06\n",
      "[LightGBM] [Warning] bagging_freq is set=3, subsample_freq=0 will be ignored. Current value: bagging_freq=3\n"
     ]
    },
    {
     "name": "stderr",
     "output_type": "stream",
     "text": [
      "\u001b[32m[I 2022-12-28 05:29:19,222]\u001b[0m Trial 28 finished with value: 0.45803183990458474 and parameters: {'lambda_l1': 0.0001066351938582988, 'lambda_l2': 2.0370571811062086e-06, 'num_leaves': 116, 'feature_fraction': 0.5149993172183639, 'bagging_fraction': 0.5115274528666954, 'bagging_freq': 3, 'min_child_samples': 71, 'max_depth': 7, 'learning_rate': 0.004045944787589238, 'n_estimators': 325, 'colsample_bytree': 0.835073318505326}. Best is trial 18 with value: 0.6585166111085157.\u001b[0m\n",
      "C:\\Users\\aaa\\AppData\\Local\\Temp\\ipykernel_22016\\1003895381.py:21: FutureWarning: suggest_uniform has been deprecated in v3.0.0. This feature will be removed in v6.0.0. See https://github.com/optuna/optuna/releases/tag/v3.0.0. Use :func:`~optuna.trial.Trial.suggest_float` instead.\n",
      "  'colsample_bytree': trial.suggest_uniform('colsample_bytree', 0.7, 1.0)\n"
     ]
    },
    {
     "name": "stdout",
     "output_type": "stream",
     "text": [
      "[LightGBM] [Warning] feature_fraction is set=0.5907907717363363, colsample_bytree=0.8256949205298835 will be ignored. Current value: feature_fraction=0.5907907717363363\n",
      "[LightGBM] [Warning] lambda_l1 is set=3.53327552401371e-07, reg_alpha=0.0 will be ignored. Current value: lambda_l1=3.53327552401371e-07\n",
      "[LightGBM] [Warning] bagging_fraction is set=0.45327814590703497, subsample=1.0 will be ignored. Current value: bagging_fraction=0.45327814590703497\n",
      "[LightGBM] [Warning] lambda_l2 is set=4.416097332264804e-08, reg_lambda=0.0 will be ignored. Current value: lambda_l2=4.416097332264804e-08\n",
      "[LightGBM] [Warning] bagging_freq is set=2, subsample_freq=0 will be ignored. Current value: bagging_freq=2\n"
     ]
    },
    {
     "name": "stderr",
     "output_type": "stream",
     "text": [
      "\u001b[32m[I 2022-12-28 05:35:35,645]\u001b[0m Trial 29 finished with value: 0.4953322908737149 and parameters: {'lambda_l1': 3.53327552401371e-07, 'lambda_l2': 4.416097332264804e-08, 'num_leaves': 155, 'feature_fraction': 0.5907907717363363, 'bagging_fraction': 0.45327814590703497, 'bagging_freq': 2, 'min_child_samples': 49, 'max_depth': 4, 'learning_rate': 0.04998684059760176, 'n_estimators': 99, 'colsample_bytree': 0.8256949205298835}. Best is trial 18 with value: 0.6585166111085157.\u001b[0m\n",
      "C:\\Users\\aaa\\AppData\\Local\\Temp\\ipykernel_22016\\1003895381.py:21: FutureWarning: suggest_uniform has been deprecated in v3.0.0. This feature will be removed in v6.0.0. See https://github.com/optuna/optuna/releases/tag/v3.0.0. Use :func:`~optuna.trial.Trial.suggest_float` instead.\n",
      "  'colsample_bytree': trial.suggest_uniform('colsample_bytree', 0.7, 1.0)\n"
     ]
    },
    {
     "name": "stdout",
     "output_type": "stream",
     "text": [
      "[LightGBM] [Warning] feature_fraction is set=0.6355629675029743, colsample_bytree=0.7359473622653494 will be ignored. Current value: feature_fraction=0.6355629675029743\n",
      "[LightGBM] [Warning] lambda_l1 is set=0.0015252453373401698, reg_alpha=0.0 will be ignored. Current value: lambda_l1=0.0015252453373401698\n",
      "[LightGBM] [Warning] bagging_fraction is set=0.4494659067495719, subsample=1.0 will be ignored. Current value: bagging_fraction=0.4494659067495719\n",
      "[LightGBM] [Warning] lambda_l2 is set=1.1624957467731732e-08, reg_lambda=0.0 will be ignored. Current value: lambda_l2=1.1624957467731732e-08\n",
      "[LightGBM] [Warning] bagging_freq is set=1, subsample_freq=0 will be ignored. Current value: bagging_freq=1\n"
     ]
    },
    {
     "name": "stderr",
     "output_type": "stream",
     "text": [
      "\u001b[32m[I 2022-12-28 06:12:26,517]\u001b[0m Trial 30 finished with value: 0.44626981749628314 and parameters: {'lambda_l1': 0.0015252453373401698, 'lambda_l2': 1.1624957467731732e-08, 'num_leaves': 3, 'feature_fraction': 0.6355629675029743, 'bagging_fraction': 0.4494659067495719, 'bagging_freq': 1, 'min_child_samples': 58, 'max_depth': 10, 'learning_rate': 0.01409676576567261, 'n_estimators': 642, 'colsample_bytree': 0.7359473622653494}. Best is trial 18 with value: 0.6585166111085157.\u001b[0m\n",
      "C:\\Users\\aaa\\AppData\\Local\\Temp\\ipykernel_22016\\1003895381.py:21: FutureWarning: suggest_uniform has been deprecated in v3.0.0. This feature will be removed in v6.0.0. See https://github.com/optuna/optuna/releases/tag/v3.0.0. Use :func:`~optuna.trial.Trial.suggest_float` instead.\n",
      "  'colsample_bytree': trial.suggest_uniform('colsample_bytree', 0.7, 1.0)\n"
     ]
    },
    {
     "name": "stdout",
     "output_type": "stream",
     "text": [
      "[LightGBM] [Warning] feature_fraction is set=0.7008783648457755, colsample_bytree=0.8771783820450071 will be ignored. Current value: feature_fraction=0.7008783648457755\n",
      "[LightGBM] [Warning] lambda_l1 is set=0.06280742912471228, reg_alpha=0.0 will be ignored. Current value: lambda_l1=0.06280742912471228\n",
      "[LightGBM] [Warning] bagging_fraction is set=0.4666044956296242, subsample=1.0 will be ignored. Current value: bagging_fraction=0.4666044956296242\n",
      "[LightGBM] [Warning] lambda_l2 is set=1.5127866542766126e-05, reg_lambda=0.0 will be ignored. Current value: lambda_l2=1.5127866542766126e-05\n",
      "[LightGBM] [Warning] bagging_freq is set=2, subsample_freq=0 will be ignored. Current value: bagging_freq=2\n"
     ]
    },
    {
     "name": "stderr",
     "output_type": "stream",
     "text": [
      "\u001b[32m[I 2022-12-28 06:17:32,817]\u001b[0m Trial 31 finished with value: 0.6058788126952894 and parameters: {'lambda_l1': 0.06280742912471228, 'lambda_l2': 1.5127866542766126e-05, 'num_leaves': 24, 'feature_fraction': 0.7008783648457755, 'bagging_fraction': 0.4666044956296242, 'bagging_freq': 2, 'min_child_samples': 51, 'max_depth': 10, 'learning_rate': 0.09678791244685941, 'n_estimators': 73, 'colsample_bytree': 0.8771783820450071}. Best is trial 18 with value: 0.6585166111085157.\u001b[0m\n",
      "C:\\Users\\aaa\\AppData\\Local\\Temp\\ipykernel_22016\\1003895381.py:21: FutureWarning: suggest_uniform has been deprecated in v3.0.0. This feature will be removed in v6.0.0. See https://github.com/optuna/optuna/releases/tag/v3.0.0. Use :func:`~optuna.trial.Trial.suggest_float` instead.\n",
      "  'colsample_bytree': trial.suggest_uniform('colsample_bytree', 0.7, 1.0)\n"
     ]
    },
    {
     "name": "stdout",
     "output_type": "stream",
     "text": [
      "[LightGBM] [Warning] feature_fraction is set=0.793480152666796, colsample_bytree=0.8687915762571371 will be ignored. Current value: feature_fraction=0.793480152666796\n",
      "[LightGBM] [Warning] lambda_l1 is set=0.07325680528825947, reg_alpha=0.0 will be ignored. Current value: lambda_l1=0.07325680528825947\n",
      "[LightGBM] [Warning] bagging_fraction is set=0.491833234835564, subsample=1.0 will be ignored. Current value: bagging_fraction=0.491833234835564\n",
      "[LightGBM] [Warning] lambda_l2 is set=2.844109617467818e-07, reg_lambda=0.0 will be ignored. Current value: lambda_l2=2.844109617467818e-07\n",
      "[LightGBM] [Warning] bagging_freq is set=2, subsample_freq=0 will be ignored. Current value: bagging_freq=2\n"
     ]
    },
    {
     "name": "stderr",
     "output_type": "stream",
     "text": [
      "\u001b[32m[I 2022-12-28 06:25:15,374]\u001b[0m Trial 32 finished with value: 0.6050186461032805 and parameters: {'lambda_l1': 0.07325680528825947, 'lambda_l2': 2.844109617467818e-07, 'num_leaves': 46, 'feature_fraction': 0.793480152666796, 'bagging_fraction': 0.491833234835564, 'bagging_freq': 2, 'min_child_samples': 37, 'max_depth': 9, 'learning_rate': 0.09802810026021518, 'n_estimators': 85, 'colsample_bytree': 0.8687915762571371}. Best is trial 18 with value: 0.6585166111085157.\u001b[0m\n",
      "C:\\Users\\aaa\\AppData\\Local\\Temp\\ipykernel_22016\\1003895381.py:21: FutureWarning: suggest_uniform has been deprecated in v3.0.0. This feature will be removed in v6.0.0. See https://github.com/optuna/optuna/releases/tag/v3.0.0. Use :func:`~optuna.trial.Trial.suggest_float` instead.\n",
      "  'colsample_bytree': trial.suggest_uniform('colsample_bytree', 0.7, 1.0)\n"
     ]
    },
    {
     "name": "stdout",
     "output_type": "stream",
     "text": [
      "[LightGBM] [Warning] feature_fraction is set=0.716085716659481, colsample_bytree=0.8260820194293632 will be ignored. Current value: feature_fraction=0.716085716659481\n",
      "[LightGBM] [Warning] lambda_l1 is set=0.03554471740784507, reg_alpha=0.0 will be ignored. Current value: lambda_l1=0.03554471740784507\n",
      "[LightGBM] [Warning] bagging_fraction is set=0.45009242523188814, subsample=1.0 will be ignored. Current value: bagging_fraction=0.45009242523188814\n",
      "[LightGBM] [Warning] lambda_l2 is set=3.459877274573958e-05, reg_lambda=0.0 will be ignored. Current value: lambda_l2=3.459877274573958e-05\n",
      "[LightGBM] [Warning] bagging_freq is set=3, subsample_freq=0 will be ignored. Current value: bagging_freq=3\n"
     ]
    },
    {
     "name": "stderr",
     "output_type": "stream",
     "text": [
      "\u001b[32m[I 2022-12-28 06:41:05,504]\u001b[0m Trial 33 finished with value: 0.5554120417826609 and parameters: {'lambda_l1': 0.03554471740784507, 'lambda_l2': 3.459877274573958e-05, 'num_leaves': 69, 'feature_fraction': 0.716085716659481, 'bagging_fraction': 0.45009242523188814, 'bagging_freq': 3, 'min_child_samples': 61, 'max_depth': 10, 'learning_rate': 0.029746402240324394, 'n_estimators': 180, 'colsample_bytree': 0.8260820194293632}. Best is trial 18 with value: 0.6585166111085157.\u001b[0m\n",
      "C:\\Users\\aaa\\AppData\\Local\\Temp\\ipykernel_22016\\1003895381.py:21: FutureWarning: suggest_uniform has been deprecated in v3.0.0. This feature will be removed in v6.0.0. See https://github.com/optuna/optuna/releases/tag/v3.0.0. Use :func:`~optuna.trial.Trial.suggest_float` instead.\n",
      "  'colsample_bytree': trial.suggest_uniform('colsample_bytree', 0.7, 1.0)\n"
     ]
    },
    {
     "name": "stdout",
     "output_type": "stream",
     "text": [
      "[LightGBM] [Warning] feature_fraction is set=0.673343962751801, colsample_bytree=0.9229792530547722 will be ignored. Current value: feature_fraction=0.673343962751801\n",
      "[LightGBM] [Warning] lambda_l1 is set=1.3351111112937257, reg_alpha=0.0 will be ignored. Current value: lambda_l1=1.3351111112937257\n",
      "[LightGBM] [Warning] bagging_fraction is set=0.5162167452940232, subsample=1.0 will be ignored. Current value: bagging_fraction=0.5162167452940232\n",
      "[LightGBM] [Warning] lambda_l2 is set=2.8280973152462416e-06, reg_lambda=0.0 will be ignored. Current value: lambda_l2=2.8280973152462416e-06\n",
      "[LightGBM] [Warning] bagging_freq is set=2, subsample_freq=0 will be ignored. Current value: bagging_freq=2\n"
     ]
    },
    {
     "name": "stderr",
     "output_type": "stream",
     "text": [
      "\u001b[32m[I 2022-12-28 06:49:10,927]\u001b[0m Trial 34 finished with value: 0.5822888126128454 and parameters: {'lambda_l1': 1.3351111112937257, 'lambda_l2': 2.8280973152462416e-06, 'num_leaves': 26, 'feature_fraction': 0.673343962751801, 'bagging_fraction': 0.5162167452940232, 'bagging_freq': 2, 'min_child_samples': 51, 'max_depth': 9, 'learning_rate': 0.06273331893300667, 'n_estimators': 132, 'colsample_bytree': 0.9229792530547722}. Best is trial 18 with value: 0.6585166111085157.\u001b[0m\n",
      "C:\\Users\\aaa\\AppData\\Local\\Temp\\ipykernel_22016\\1003895381.py:21: FutureWarning: suggest_uniform has been deprecated in v3.0.0. This feature will be removed in v6.0.0. See https://github.com/optuna/optuna/releases/tag/v3.0.0. Use :func:`~optuna.trial.Trial.suggest_float` instead.\n",
      "  'colsample_bytree': trial.suggest_uniform('colsample_bytree', 0.7, 1.0)\n"
     ]
    },
    {
     "name": "stdout",
     "output_type": "stream",
     "text": [
      "[LightGBM] [Warning] feature_fraction is set=0.5614254895579021, colsample_bytree=0.7890104410192696 will be ignored. Current value: feature_fraction=0.5614254895579021\n",
      "[LightGBM] [Warning] lambda_l1 is set=0.010714591078175587, reg_alpha=0.0 will be ignored. Current value: lambda_l1=0.010714591078175587\n",
      "[LightGBM] [Warning] bagging_fraction is set=0.585803870283894, subsample=1.0 will be ignored. Current value: bagging_fraction=0.585803870283894\n",
      "[LightGBM] [Warning] lambda_l2 is set=0.00043837527581886153, reg_lambda=0.0 will be ignored. Current value: lambda_l2=0.00043837527581886153\n",
      "[LightGBM] [Warning] bagging_freq is set=1, subsample_freq=0 will be ignored. Current value: bagging_freq=1\n"
     ]
    },
    {
     "name": "stderr",
     "output_type": "stream",
     "text": [
      "\u001b[32m[I 2022-12-28 06:53:40,322]\u001b[0m Trial 35 finished with value: 0.2579208152070858 and parameters: {'lambda_l1': 0.010714591078175587, 'lambda_l2': 0.00043837527581886153, 'num_leaves': 78, 'feature_fraction': 0.5614254895579021, 'bagging_fraction': 0.585803870283894, 'bagging_freq': 1, 'min_child_samples': 73, 'max_depth': 8, 'learning_rate': 0.0005774291578153468, 'n_estimators': 40, 'colsample_bytree': 0.7890104410192696}. Best is trial 18 with value: 0.6585166111085157.\u001b[0m\n",
      "C:\\Users\\aaa\\AppData\\Local\\Temp\\ipykernel_22016\\1003895381.py:21: FutureWarning: suggest_uniform has been deprecated in v3.0.0. This feature will be removed in v6.0.0. See https://github.com/optuna/optuna/releases/tag/v3.0.0. Use :func:`~optuna.trial.Trial.suggest_float` instead.\n",
      "  'colsample_bytree': trial.suggest_uniform('colsample_bytree', 0.7, 1.0)\n"
     ]
    },
    {
     "name": "stdout",
     "output_type": "stream",
     "text": [
      "[LightGBM] [Warning] feature_fraction is set=0.714857812545445, colsample_bytree=0.8516881961871068 will be ignored. Current value: feature_fraction=0.714857812545445\n",
      "[LightGBM] [Warning] lambda_l1 is set=0.00019204610073287706, reg_alpha=0.0 will be ignored. Current value: lambda_l1=0.00019204610073287706\n",
      "[LightGBM] [Warning] bagging_fraction is set=0.4343990034242844, subsample=1.0 will be ignored. Current value: bagging_fraction=0.4343990034242844\n",
      "[LightGBM] [Warning] lambda_l2 is set=3.7879469972386836e-06, reg_lambda=0.0 will be ignored. Current value: lambda_l2=3.7879469972386836e-06\n",
      "[LightGBM] [Warning] bagging_freq is set=1, subsample_freq=0 will be ignored. Current value: bagging_freq=1\n"
     ]
    },
    {
     "name": "stderr",
     "output_type": "stream",
     "text": [
      "\u001b[32m[I 2022-12-28 07:32:38,477]\u001b[0m Trial 36 finished with value: 0.42290241643605225 and parameters: {'lambda_l1': 0.00019204610073287706, 'lambda_l2': 3.7879469972386836e-06, 'num_leaves': 47, 'feature_fraction': 0.714857812545445, 'bagging_fraction': 0.4343990034242844, 'bagging_freq': 1, 'min_child_samples': 33, 'max_depth': 10, 'learning_rate': 0.0007502586437010772, 'n_estimators': 334, 'colsample_bytree': 0.8516881961871068}. Best is trial 18 with value: 0.6585166111085157.\u001b[0m\n",
      "C:\\Users\\aaa\\AppData\\Local\\Temp\\ipykernel_22016\\1003895381.py:21: FutureWarning: suggest_uniform has been deprecated in v3.0.0. This feature will be removed in v6.0.0. See https://github.com/optuna/optuna/releases/tag/v3.0.0. Use :func:`~optuna.trial.Trial.suggest_float` instead.\n",
      "  'colsample_bytree': trial.suggest_uniform('colsample_bytree', 0.7, 1.0)\n"
     ]
    },
    {
     "name": "stdout",
     "output_type": "stream",
     "text": [
      "[LightGBM] [Warning] feature_fraction is set=0.7897734975512019, colsample_bytree=0.8164561590247179 will be ignored. Current value: feature_fraction=0.7897734975512019\n",
      "[LightGBM] [Warning] lambda_l1 is set=0.1929243563792838, reg_alpha=0.0 will be ignored. Current value: lambda_l1=0.1929243563792838\n",
      "[LightGBM] [Warning] bagging_fraction is set=0.8596611542284166, subsample=1.0 will be ignored. Current value: bagging_fraction=0.8596611542284166\n",
      "[LightGBM] [Warning] lambda_l2 is set=2.3322678417936562e-05, reg_lambda=0.0 will be ignored. Current value: lambda_l2=2.3322678417936562e-05\n",
      "[LightGBM] [Warning] bagging_freq is set=3, subsample_freq=0 will be ignored. Current value: bagging_freq=3\n"
     ]
    },
    {
     "name": "stderr",
     "output_type": "stream",
     "text": [
      "\u001b[32m[I 2022-12-28 07:34:16,124]\u001b[0m Trial 37 finished with value: 0.47986578103401367 and parameters: {'lambda_l1': 0.1929243563792838, 'lambda_l2': 2.3322678417936562e-05, 'num_leaves': 15, 'feature_fraction': 0.7897734975512019, 'bagging_fraction': 0.8596611542284166, 'bagging_freq': 3, 'min_child_samples': 59, 'max_depth': 9, 'learning_rate': 0.041090607703451014, 'n_estimators': 21, 'colsample_bytree': 0.8164561590247179}. Best is trial 18 with value: 0.6585166111085157.\u001b[0m\n",
      "C:\\Users\\aaa\\AppData\\Local\\Temp\\ipykernel_22016\\1003895381.py:21: FutureWarning: suggest_uniform has been deprecated in v3.0.0. This feature will be removed in v6.0.0. See https://github.com/optuna/optuna/releases/tag/v3.0.0. Use :func:`~optuna.trial.Trial.suggest_float` instead.\n",
      "  'colsample_bytree': trial.suggest_uniform('colsample_bytree', 0.7, 1.0)\n"
     ]
    },
    {
     "name": "stdout",
     "output_type": "stream",
     "text": [
      "[LightGBM] [Warning] feature_fraction is set=0.6582327956208046, colsample_bytree=0.8408208756706552 will be ignored. Current value: feature_fraction=0.6582327956208046\n",
      "[LightGBM] [Warning] lambda_l1 is set=0.0025273728260977258, reg_alpha=0.0 will be ignored. Current value: lambda_l1=0.0025273728260977258\n",
      "[LightGBM] [Warning] bagging_fraction is set=0.6360799183925644, subsample=1.0 will be ignored. Current value: bagging_fraction=0.6360799183925644\n",
      "[LightGBM] [Warning] lambda_l2 is set=3.7091413594717564e-07, reg_lambda=0.0 will be ignored. Current value: lambda_l2=3.7091413594717564e-07\n",
      "[LightGBM] [Warning] bagging_freq is set=1, subsample_freq=0 will be ignored. Current value: bagging_freq=1\n"
     ]
    },
    {
     "name": "stderr",
     "output_type": "stream",
     "text": [
      "\u001b[32m[I 2022-12-28 08:28:46,817]\u001b[0m Trial 38 finished with value: 0.36733235682898074 and parameters: {'lambda_l1': 0.0025273728260977258, 'lambda_l2': 3.7091413594717564e-07, 'num_leaves': 210, 'feature_fraction': 0.6582327956208046, 'bagging_fraction': 0.6360799183925644, 'bagging_freq': 1, 'min_child_samples': 48, 'max_depth': 7, 'learning_rate': 0.00010759238000649659, 'n_estimators': 614, 'colsample_bytree': 0.8408208756706552}. Best is trial 18 with value: 0.6585166111085157.\u001b[0m\n",
      "C:\\Users\\aaa\\AppData\\Local\\Temp\\ipykernel_22016\\1003895381.py:21: FutureWarning: suggest_uniform has been deprecated in v3.0.0. This feature will be removed in v6.0.0. See https://github.com/optuna/optuna/releases/tag/v3.0.0. Use :func:`~optuna.trial.Trial.suggest_float` instead.\n",
      "  'colsample_bytree': trial.suggest_uniform('colsample_bytree', 0.7, 1.0)\n"
     ]
    },
    {
     "name": "stdout",
     "output_type": "stream",
     "text": [
      "[LightGBM] [Warning] feature_fraction is set=0.5997188710056651, colsample_bytree=0.9619640991982945 will be ignored. Current value: feature_fraction=0.5997188710056651\n",
      "[LightGBM] [Warning] lambda_l1 is set=0.023539887017497804, reg_alpha=0.0 will be ignored. Current value: lambda_l1=0.023539887017497804\n",
      "[LightGBM] [Warning] bagging_fraction is set=0.7309189048395635, subsample=1.0 will be ignored. Current value: bagging_fraction=0.7309189048395635\n",
      "[LightGBM] [Warning] lambda_l2 is set=5.675834597038466e-05, reg_lambda=0.0 will be ignored. Current value: lambda_l2=5.675834597038466e-05\n",
      "[LightGBM] [Warning] bagging_freq is set=1, subsample_freq=0 will be ignored. Current value: bagging_freq=1\n"
     ]
    },
    {
     "name": "stderr",
     "output_type": "stream",
     "text": [
      "\u001b[32m[I 2022-12-28 08:35:11,975]\u001b[0m Trial 39 finished with value: 0.5083859372380682 and parameters: {'lambda_l1': 0.023539887017497804, 'lambda_l2': 5.675834597038466e-05, 'num_leaves': 35, 'feature_fraction': 0.5997188710056651, 'bagging_fraction': 0.7309189048395635, 'bagging_freq': 1, 'min_child_samples': 26, 'max_depth': 4, 'learning_rate': 0.06644338805535936, 'n_estimators': 76, 'colsample_bytree': 0.9619640991982945}. Best is trial 18 with value: 0.6585166111085157.\u001b[0m\n",
      "C:\\Users\\aaa\\AppData\\Local\\Temp\\ipykernel_22016\\1003895381.py:21: FutureWarning: suggest_uniform has been deprecated in v3.0.0. This feature will be removed in v6.0.0. See https://github.com/optuna/optuna/releases/tag/v3.0.0. Use :func:`~optuna.trial.Trial.suggest_float` instead.\n",
      "  'colsample_bytree': trial.suggest_uniform('colsample_bytree', 0.7, 1.0)\n"
     ]
    },
    {
     "name": "stdout",
     "output_type": "stream",
     "text": [
      "[LightGBM] [Warning] feature_fraction is set=0.736281051881055, colsample_bytree=0.8795446849522264 will be ignored. Current value: feature_fraction=0.736281051881055\n",
      "[LightGBM] [Warning] lambda_l1 is set=0.005318366973592118, reg_alpha=0.0 will be ignored. Current value: lambda_l1=0.005318366973592118\n",
      "[LightGBM] [Warning] bagging_fraction is set=0.972762858127422, subsample=1.0 will be ignored. Current value: bagging_fraction=0.972762858127422\n",
      "[LightGBM] [Warning] lambda_l2 is set=1.0777192900649106e-06, reg_lambda=0.0 will be ignored. Current value: lambda_l2=1.0777192900649106e-06\n",
      "[LightGBM] [Warning] bagging_freq is set=2, subsample_freq=0 will be ignored. Current value: bagging_freq=2\n"
     ]
    },
    {
     "name": "stderr",
     "output_type": "stream",
     "text": [
      "\u001b[32m[I 2022-12-28 08:37:11,994]\u001b[0m Trial 40 finished with value: 0.4277363877949781 and parameters: {'lambda_l1': 0.005318366973592118, 'lambda_l2': 1.0777192900649106e-06, 'num_leaves': 92, 'feature_fraction': 0.736281051881055, 'bagging_fraction': 0.972762858127422, 'bagging_freq': 2, 'min_child_samples': 39, 'max_depth': 10, 'learning_rate': 0.02553175822163295, 'n_estimators': 12, 'colsample_bytree': 0.8795446849522264}. Best is trial 18 with value: 0.6585166111085157.\u001b[0m\n",
      "C:\\Users\\aaa\\AppData\\Local\\Temp\\ipykernel_22016\\1003895381.py:21: FutureWarning: suggest_uniform has been deprecated in v3.0.0. This feature will be removed in v6.0.0. See https://github.com/optuna/optuna/releases/tag/v3.0.0. Use :func:`~optuna.trial.Trial.suggest_float` instead.\n",
      "  'colsample_bytree': trial.suggest_uniform('colsample_bytree', 0.7, 1.0)\n"
     ]
    },
    {
     "name": "stdout",
     "output_type": "stream",
     "text": [
      "[LightGBM] [Warning] feature_fraction is set=0.7953870270984136, colsample_bytree=0.8665521173062518 will be ignored. Current value: feature_fraction=0.7953870270984136\n",
      "[LightGBM] [Warning] lambda_l1 is set=2.831445997966172, reg_alpha=0.0 will be ignored. Current value: lambda_l1=2.831445997966172\n",
      "[LightGBM] [Warning] bagging_fraction is set=0.4808886719738939, subsample=1.0 will be ignored. Current value: bagging_fraction=0.4808886719738939\n",
      "[LightGBM] [Warning] lambda_l2 is set=2.1514078253867498e-07, reg_lambda=0.0 will be ignored. Current value: lambda_l2=2.1514078253867498e-07\n",
      "[LightGBM] [Warning] bagging_freq is set=2, subsample_freq=0 will be ignored. Current value: bagging_freq=2\n"
     ]
    },
    {
     "name": "stderr",
     "output_type": "stream",
     "text": [
      "\u001b[32m[I 2022-12-28 08:45:53,952]\u001b[0m Trial 41 finished with value: 0.6072721176861794 and parameters: {'lambda_l1': 2.831445997966172, 'lambda_l2': 2.1514078253867498e-07, 'num_leaves': 49, 'feature_fraction': 0.7953870270984136, 'bagging_fraction': 0.4808886719738939, 'bagging_freq': 2, 'min_child_samples': 15, 'max_depth': 9, 'learning_rate': 0.09983636301356875, 'n_estimators': 87, 'colsample_bytree': 0.8665521173062518}. Best is trial 18 with value: 0.6585166111085157.\u001b[0m\n",
      "C:\\Users\\aaa\\AppData\\Local\\Temp\\ipykernel_22016\\1003895381.py:21: FutureWarning: suggest_uniform has been deprecated in v3.0.0. This feature will be removed in v6.0.0. See https://github.com/optuna/optuna/releases/tag/v3.0.0. Use :func:`~optuna.trial.Trial.suggest_float` instead.\n",
      "  'colsample_bytree': trial.suggest_uniform('colsample_bytree', 0.7, 1.0)\n"
     ]
    },
    {
     "name": "stdout",
     "output_type": "stream",
     "text": [
      "[LightGBM] [Warning] feature_fraction is set=0.7757484476108882, colsample_bytree=0.8540851822984307 will be ignored. Current value: feature_fraction=0.7757484476108882\n",
      "[LightGBM] [Warning] lambda_l1 is set=2.290261784889016, reg_alpha=0.0 will be ignored. Current value: lambda_l1=2.290261784889016\n",
      "[LightGBM] [Warning] bagging_fraction is set=0.5590931865421988, subsample=1.0 will be ignored. Current value: bagging_fraction=0.5590931865421988\n",
      "[LightGBM] [Warning] lambda_l2 is set=1.1926851937100444e-07, reg_lambda=0.0 will be ignored. Current value: lambda_l2=1.1926851937100444e-07\n",
      "[LightGBM] [Warning] bagging_freq is set=2, subsample_freq=0 will be ignored. Current value: bagging_freq=2\n"
     ]
    },
    {
     "name": "stderr",
     "output_type": "stream",
     "text": [
      "\u001b[32m[I 2022-12-28 08:52:11,213]\u001b[0m Trial 42 finished with value: 0.5421412926682477 and parameters: {'lambda_l1': 2.290261784889016, 'lambda_l2': 1.1926851937100444e-07, 'num_leaves': 57, 'feature_fraction': 0.7757484476108882, 'bagging_fraction': 0.5590931865421988, 'bagging_freq': 2, 'min_child_samples': 15, 'max_depth': 9, 'learning_rate': 0.049386370419786565, 'n_estimators': 53, 'colsample_bytree': 0.8540851822984307}. Best is trial 18 with value: 0.6585166111085157.\u001b[0m\n",
      "C:\\Users\\aaa\\AppData\\Local\\Temp\\ipykernel_22016\\1003895381.py:21: FutureWarning: suggest_uniform has been deprecated in v3.0.0. This feature will be removed in v6.0.0. See https://github.com/optuna/optuna/releases/tag/v3.0.0. Use :func:`~optuna.trial.Trial.suggest_float` instead.\n",
      "  'colsample_bytree': trial.suggest_uniform('colsample_bytree', 0.7, 1.0)\n"
     ]
    },
    {
     "name": "stdout",
     "output_type": "stream",
     "text": [
      "[LightGBM] [Warning] feature_fraction is set=0.7366202828732304, colsample_bytree=0.8715233867720028 will be ignored. Current value: feature_fraction=0.7366202828732304\n",
      "[LightGBM] [Warning] lambda_l1 is set=0.6052512940142448, reg_alpha=0.0 will be ignored. Current value: lambda_l1=0.6052512940142448\n",
      "[LightGBM] [Warning] bagging_fraction is set=0.4697553280050885, subsample=1.0 will be ignored. Current value: bagging_fraction=0.4697553280050885\n",
      "[LightGBM] [Warning] lambda_l2 is set=0.00016166264325372554, reg_lambda=0.0 will be ignored. Current value: lambda_l2=0.00016166264325372554\n",
      "[LightGBM] [Warning] bagging_freq is set=2, subsample_freq=0 will be ignored. Current value: bagging_freq=2\n"
     ]
    },
    {
     "name": "stderr",
     "output_type": "stream",
     "text": [
      "\u001b[32m[I 2022-12-28 09:00:42,487]\u001b[0m Trial 43 finished with value: 0.5755476348166856 and parameters: {'lambda_l1': 0.6052512940142448, 'lambda_l2': 0.00016166264325372554, 'num_leaves': 17, 'feature_fraction': 0.7366202828732304, 'bagging_fraction': 0.4697553280050885, 'bagging_freq': 2, 'min_child_samples': 14, 'max_depth': 8, 'learning_rate': 0.07303243749217105, 'n_estimators': 100, 'colsample_bytree': 0.8715233867720028}. Best is trial 18 with value: 0.6585166111085157.\u001b[0m\n",
      "C:\\Users\\aaa\\AppData\\Local\\Temp\\ipykernel_22016\\1003895381.py:21: FutureWarning: suggest_uniform has been deprecated in v3.0.0. This feature will be removed in v6.0.0. See https://github.com/optuna/optuna/releases/tag/v3.0.0. Use :func:`~optuna.trial.Trial.suggest_float` instead.\n",
      "  'colsample_bytree': trial.suggest_uniform('colsample_bytree', 0.7, 1.0)\n"
     ]
    },
    {
     "name": "stdout",
     "output_type": "stream",
     "text": [
      "[LightGBM] [Warning] feature_fraction is set=0.8205582201547963, colsample_bytree=0.9158015200203913 will be ignored. Current value: feature_fraction=0.8205582201547963\n",
      "[LightGBM] [Warning] lambda_l1 is set=0.1288387154282782, reg_alpha=0.0 will be ignored. Current value: lambda_l1=0.1288387154282782\n",
      "[LightGBM] [Warning] bagging_fraction is set=0.5148888342194895, subsample=1.0 will be ignored. Current value: bagging_fraction=0.5148888342194895\n",
      "[LightGBM] [Warning] lambda_l2 is set=4.583143893199131e-08, reg_lambda=0.0 will be ignored. Current value: lambda_l2=4.583143893199131e-08\n",
      "[LightGBM] [Warning] bagging_freq is set=3, subsample_freq=0 will be ignored. Current value: bagging_freq=3\n"
     ]
    },
    {
     "name": "stderr",
     "output_type": "stream",
     "text": [
      "\u001b[32m[I 2022-12-28 09:02:04,618]\u001b[0m Trial 44 finished with value: 0.5782380600357807 and parameters: {'lambda_l1': 0.1288387154282782, 'lambda_l2': 4.583143893199131e-08, 'num_leaves': 39, 'feature_fraction': 0.8205582201547963, 'bagging_fraction': 0.5148888342194895, 'bagging_freq': 3, 'min_child_samples': 66, 'max_depth': 10, 'learning_rate': 0.09951229620410497, 'n_estimators': 30, 'colsample_bytree': 0.9158015200203913}. Best is trial 18 with value: 0.6585166111085157.\u001b[0m\n",
      "C:\\Users\\aaa\\AppData\\Local\\Temp\\ipykernel_22016\\1003895381.py:21: FutureWarning: suggest_uniform has been deprecated in v3.0.0. This feature will be removed in v6.0.0. See https://github.com/optuna/optuna/releases/tag/v3.0.0. Use :func:`~optuna.trial.Trial.suggest_float` instead.\n",
      "  'colsample_bytree': trial.suggest_uniform('colsample_bytree', 0.7, 1.0)\n"
     ]
    },
    {
     "name": "stdout",
     "output_type": "stream",
     "text": [
      "[LightGBM] [Warning] feature_fraction is set=0.8868662650969102, colsample_bytree=0.8005330115273519 will be ignored. Current value: feature_fraction=0.8868662650969102\n",
      "[LightGBM] [Warning] lambda_l1 is set=2.9212730432318352, reg_alpha=0.0 will be ignored. Current value: lambda_l1=2.9212730432318352\n",
      "[LightGBM] [Warning] bagging_fraction is set=0.42810118779946815, subsample=1.0 will be ignored. Current value: bagging_fraction=0.42810118779946815\n",
      "[LightGBM] [Warning] lambda_l2 is set=6.267488305801243e-07, reg_lambda=0.0 will be ignored. Current value: lambda_l2=6.267488305801243e-07\n",
      "[LightGBM] [Warning] bagging_freq is set=7, subsample_freq=0 will be ignored. Current value: bagging_freq=7\n"
     ]
    },
    {
     "name": "stderr",
     "output_type": "stream",
     "text": [
      "\u001b[32m[I 2022-12-28 09:08:52,539]\u001b[0m Trial 45 finished with value: 0.48919845115050714 and parameters: {'lambda_l1': 2.9212730432318352, 'lambda_l2': 6.267488305801243e-07, 'num_leaves': 67, 'feature_fraction': 0.8868662650969102, 'bagging_fraction': 0.42810118779946815, 'bagging_freq': 7, 'min_child_samples': 75, 'max_depth': 9, 'learning_rate': 0.014003854762858595, 'n_estimators': 146, 'colsample_bytree': 0.8005330115273519}. Best is trial 18 with value: 0.6585166111085157.\u001b[0m\n",
      "C:\\Users\\aaa\\AppData\\Local\\Temp\\ipykernel_22016\\1003895381.py:21: FutureWarning: suggest_uniform has been deprecated in v3.0.0. This feature will be removed in v6.0.0. See https://github.com/optuna/optuna/releases/tag/v3.0.0. Use :func:`~optuna.trial.Trial.suggest_float` instead.\n",
      "  'colsample_bytree': trial.suggest_uniform('colsample_bytree', 0.7, 1.0)\n"
     ]
    },
    {
     "name": "stdout",
     "output_type": "stream",
     "text": [
      "[LightGBM] [Warning] feature_fraction is set=0.9663306641988544, colsample_bytree=0.8332311476537779 will be ignored. Current value: feature_fraction=0.9663306641988544\n",
      "[LightGBM] [Warning] lambda_l1 is set=7.948087003921053e-06, reg_alpha=0.0 will be ignored. Current value: lambda_l1=7.948087003921053e-06\n",
      "[LightGBM] [Warning] bagging_fraction is set=0.4271998331235016, subsample=1.0 will be ignored. Current value: bagging_fraction=0.4271998331235016\n",
      "[LightGBM] [Warning] lambda_l2 is set=0.0007124410569260592, reg_lambda=0.0 will be ignored. Current value: lambda_l2=0.0007124410569260592\n",
      "[LightGBM] [Warning] bagging_freq is set=1, subsample_freq=0 will be ignored. Current value: bagging_freq=1\n"
     ]
    },
    {
     "name": "stderr",
     "output_type": "stream",
     "text": [
      "\u001b[32m[I 2022-12-28 09:13:34,517]\u001b[0m Trial 46 finished with value: 0.46122517402571706 and parameters: {'lambda_l1': 7.948087003921053e-06, 'lambda_l2': 0.0007124410569260592, 'num_leaves': 26, 'feature_fraction': 0.9663306641988544, 'bagging_fraction': 0.4271998331235016, 'bagging_freq': 1, 'min_child_samples': 55, 'max_depth': 3, 'learning_rate': 0.053687191377589295, 'n_estimators': 67, 'colsample_bytree': 0.8332311476537779}. Best is trial 18 with value: 0.6585166111085157.\u001b[0m\n",
      "C:\\Users\\aaa\\AppData\\Local\\Temp\\ipykernel_22016\\1003895381.py:21: FutureWarning: suggest_uniform has been deprecated in v3.0.0. This feature will be removed in v6.0.0. See https://github.com/optuna/optuna/releases/tag/v3.0.0. Use :func:`~optuna.trial.Trial.suggest_float` instead.\n",
      "  'colsample_bytree': trial.suggest_uniform('colsample_bytree', 0.7, 1.0)\n"
     ]
    },
    {
     "name": "stdout",
     "output_type": "stream",
     "text": [
      "[LightGBM] [Warning] feature_fraction is set=0.5599433807642088, colsample_bytree=0.8971301505731721 will be ignored. Current value: feature_fraction=0.5599433807642088\n",
      "[LightGBM] [Warning] lambda_l1 is set=0.6632298830436196, reg_alpha=0.0 will be ignored. Current value: lambda_l1=0.6632298830436196\n",
      "[LightGBM] [Warning] bagging_fraction is set=0.4697548837625037, subsample=1.0 will be ignored. Current value: bagging_fraction=0.4697548837625037\n",
      "[LightGBM] [Warning] lambda_l2 is set=2.836642410867352e-08, reg_lambda=0.0 will be ignored. Current value: lambda_l2=2.836642410867352e-08\n",
      "[LightGBM] [Warning] bagging_freq is set=3, subsample_freq=0 will be ignored. Current value: bagging_freq=3\n"
     ]
    },
    {
     "name": "stderr",
     "output_type": "stream",
     "text": [
      "\u001b[32m[I 2022-12-28 09:19:27,363]\u001b[0m Trial 47 finished with value: 0.5079297466493351 and parameters: {'lambda_l1': 0.6632298830436196, 'lambda_l2': 2.836642410867352e-08, 'num_leaves': 114, 'feature_fraction': 0.5599433807642088, 'bagging_fraction': 0.4697548837625037, 'bagging_freq': 3, 'min_child_samples': 41, 'max_depth': 8, 'learning_rate': 0.04069638606891501, 'n_estimators': 39, 'colsample_bytree': 0.8971301505731721}. Best is trial 18 with value: 0.6585166111085157.\u001b[0m\n",
      "C:\\Users\\aaa\\AppData\\Local\\Temp\\ipykernel_22016\\1003895381.py:21: FutureWarning: suggest_uniform has been deprecated in v3.0.0. This feature will be removed in v6.0.0. See https://github.com/optuna/optuna/releases/tag/v3.0.0. Use :func:`~optuna.trial.Trial.suggest_float` instead.\n",
      "  'colsample_bytree': trial.suggest_uniform('colsample_bytree', 0.7, 1.0)\n"
     ]
    },
    {
     "name": "stdout",
     "output_type": "stream",
     "text": [
      "[LightGBM] [Warning] feature_fraction is set=0.6115795967766479, colsample_bytree=0.817041280627081 will be ignored. Current value: feature_fraction=0.6115795967766479\n",
      "[LightGBM] [Warning] lambda_l1 is set=0.012669170296710799, reg_alpha=0.0 will be ignored. Current value: lambda_l1=0.012669170296710799\n",
      "[LightGBM] [Warning] bagging_fraction is set=0.5125757032807403, subsample=1.0 will be ignored. Current value: bagging_fraction=0.5125757032807403\n",
      "[LightGBM] [Warning] lambda_l2 is set=0.007734648446244424, reg_lambda=0.0 will be ignored. Current value: lambda_l2=0.007734648446244424\n",
      "[LightGBM] [Warning] bagging_freq is set=6, subsample_freq=0 will be ignored. Current value: bagging_freq=6\n"
     ]
    },
    {
     "name": "stderr",
     "output_type": "stream",
     "text": [
      "\u001b[32m[I 2022-12-28 09:26:29,692]\u001b[0m Trial 48 finished with value: 0.270471552669402 and parameters: {'lambda_l1': 0.012669170296710799, 'lambda_l2': 0.007734648446244424, 'num_leaves': 48, 'feature_fraction': 0.6115795967766479, 'bagging_fraction': 0.5125757032807403, 'bagging_freq': 6, 'min_child_samples': 9, 'max_depth': 1, 'learning_rate': 0.0023014673799252004, 'n_estimators': 92, 'colsample_bytree': 0.817041280627081}. Best is trial 18 with value: 0.6585166111085157.\u001b[0m\n",
      "C:\\Users\\aaa\\AppData\\Local\\Temp\\ipykernel_22016\\1003895381.py:21: FutureWarning: suggest_uniform has been deprecated in v3.0.0. This feature will be removed in v6.0.0. See https://github.com/optuna/optuna/releases/tag/v3.0.0. Use :func:`~optuna.trial.Trial.suggest_float` instead.\n",
      "  'colsample_bytree': trial.suggest_uniform('colsample_bytree', 0.7, 1.0)\n"
     ]
    },
    {
     "name": "stdout",
     "output_type": "stream",
     "text": [
      "[LightGBM] [Warning] feature_fraction is set=0.6697902634709941, colsample_bytree=0.7866767907655056 will be ignored. Current value: feature_fraction=0.6697902634709941\n",
      "[LightGBM] [Warning] lambda_l1 is set=9.822744626222805, reg_alpha=0.0 will be ignored. Current value: lambda_l1=9.822744626222805\n",
      "[LightGBM] [Warning] bagging_fraction is set=0.5742187904496624, subsample=1.0 will be ignored. Current value: bagging_fraction=0.5742187904496624\n",
      "[LightGBM] [Warning] lambda_l2 is set=5.485778283116559e-06, reg_lambda=0.0 will be ignored. Current value: lambda_l2=5.485778283116559e-06\n",
      "[LightGBM] [Warning] bagging_freq is set=4, subsample_freq=0 will be ignored. Current value: bagging_freq=4\n"
     ]
    },
    {
     "name": "stderr",
     "output_type": "stream",
     "text": [
      "\u001b[32m[I 2022-12-28 09:35:03,534]\u001b[0m Trial 49 finished with value: 0.5964582022243413 and parameters: {'lambda_l1': 9.822744626222805, 'lambda_l2': 5.485778283116559e-06, 'num_leaves': 73, 'feature_fraction': 0.6697902634709941, 'bagging_fraction': 0.5742187904496624, 'bagging_freq': 4, 'min_child_samples': 22, 'max_depth': 7, 'learning_rate': 0.07410291662445494, 'n_estimators': 221, 'colsample_bytree': 0.7866767907655056}. Best is trial 18 with value: 0.6585166111085157.\u001b[0m\n",
      "C:\\Users\\aaa\\AppData\\Local\\Temp\\ipykernel_22016\\1003895381.py:21: FutureWarning: suggest_uniform has been deprecated in v3.0.0. This feature will be removed in v6.0.0. See https://github.com/optuna/optuna/releases/tag/v3.0.0. Use :func:`~optuna.trial.Trial.suggest_float` instead.\n",
      "  'colsample_bytree': trial.suggest_uniform('colsample_bytree', 0.7, 1.0)\n"
     ]
    },
    {
     "name": "stdout",
     "output_type": "stream",
     "text": [
      "[LightGBM] [Warning] feature_fraction is set=0.7299985188525964, colsample_bytree=0.8603875616135843 will be ignored. Current value: feature_fraction=0.7299985188525964\n",
      "[LightGBM] [Warning] lambda_l1 is set=2.7167516642837882e-05, reg_alpha=0.0 will be ignored. Current value: lambda_l1=2.7167516642837882e-05\n",
      "[LightGBM] [Warning] bagging_fraction is set=0.6336505531399325, subsample=1.0 will be ignored. Current value: bagging_fraction=0.6336505531399325\n",
      "[LightGBM] [Warning] lambda_l2 is set=0.0001962737287425211, reg_lambda=0.0 will be ignored. Current value: lambda_l2=0.0001962737287425211\n",
      "[LightGBM] [Warning] bagging_freq is set=1, subsample_freq=0 will be ignored. Current value: bagging_freq=1\n"
     ]
    },
    {
     "name": "stderr",
     "output_type": "stream",
     "text": [
      "\u001b[32m[I 2022-12-28 09:35:55,982]\u001b[0m Trial 50 finished with value: 0.5106146755962768 and parameters: {'lambda_l1': 2.7167516642837882e-05, 'lambda_l2': 0.0001962737287425211, 'num_leaves': 254, 'feature_fraction': 0.7299985188525964, 'bagging_fraction': 0.6336505531399325, 'bagging_freq': 1, 'min_child_samples': 80, 'max_depth': 6, 'learning_rate': 0.05259687513918691, 'n_estimators': 53, 'colsample_bytree': 0.8603875616135843}. Best is trial 18 with value: 0.6585166111085157.\u001b[0m\n",
      "C:\\Users\\aaa\\AppData\\Local\\Temp\\ipykernel_22016\\1003895381.py:21: FutureWarning: suggest_uniform has been deprecated in v3.0.0. This feature will be removed in v6.0.0. See https://github.com/optuna/optuna/releases/tag/v3.0.0. Use :func:`~optuna.trial.Trial.suggest_float` instead.\n",
      "  'colsample_bytree': trial.suggest_uniform('colsample_bytree', 0.7, 1.0)\n"
     ]
    },
    {
     "name": "stdout",
     "output_type": "stream",
     "text": [
      "[LightGBM] [Warning] feature_fraction is set=0.801702527895071, colsample_bytree=0.8760211496266336 will be ignored. Current value: feature_fraction=0.801702527895071\n",
      "[LightGBM] [Warning] lambda_l1 is set=0.0982783929282277, reg_alpha=0.0 will be ignored. Current value: lambda_l1=0.0982783929282277\n",
      "[LightGBM] [Warning] bagging_fraction is set=0.49323260465387164, subsample=1.0 will be ignored. Current value: bagging_fraction=0.49323260465387164\n",
      "[LightGBM] [Warning] lambda_l2 is set=2.7620122323741903e-07, reg_lambda=0.0 will be ignored. Current value: lambda_l2=2.7620122323741903e-07\n",
      "[LightGBM] [Warning] bagging_freq is set=2, subsample_freq=0 will be ignored. Current value: bagging_freq=2\n"
     ]
    },
    {
     "name": "stderr",
     "output_type": "stream",
     "text": [
      "\u001b[32m[I 2022-12-28 09:51:36,426]\u001b[0m Trial 51 finished with value: 0.6046448995968484 and parameters: {'lambda_l1': 0.0982783929282277, 'lambda_l2': 2.7620122323741903e-07, 'num_leaves': 42, 'feature_fraction': 0.801702527895071, 'bagging_fraction': 0.49323260465387164, 'bagging_freq': 2, 'min_child_samples': 5, 'max_depth': 9, 'learning_rate': 0.09316868823930433, 'n_estimators': 95, 'colsample_bytree': 0.8760211496266336}. Best is trial 18 with value: 0.6585166111085157.\u001b[0m\n",
      "C:\\Users\\aaa\\AppData\\Local\\Temp\\ipykernel_22016\\1003895381.py:21: FutureWarning: suggest_uniform has been deprecated in v3.0.0. This feature will be removed in v6.0.0. See https://github.com/optuna/optuna/releases/tag/v3.0.0. Use :func:`~optuna.trial.Trial.suggest_float` instead.\n",
      "  'colsample_bytree': trial.suggest_uniform('colsample_bytree', 0.7, 1.0)\n"
     ]
    },
    {
     "name": "stdout",
     "output_type": "stream",
     "text": [
      "[LightGBM] [Warning] feature_fraction is set=0.8266081593096871, colsample_bytree=0.8637053495235868 will be ignored. Current value: feature_fraction=0.8266081593096871\n",
      "[LightGBM] [Warning] lambda_l1 is set=0.1214213918951664, reg_alpha=0.0 will be ignored. Current value: lambda_l1=0.1214213918951664\n",
      "[LightGBM] [Warning] bagging_fraction is set=0.46585007944771734, subsample=1.0 will be ignored. Current value: bagging_fraction=0.46585007944771734\n",
      "[LightGBM] [Warning] lambda_l2 is set=1.0533417588659682e-06, reg_lambda=0.0 will be ignored. Current value: lambda_l2=1.0533417588659682e-06\n",
      "[LightGBM] [Warning] bagging_freq is set=2, subsample_freq=0 will be ignored. Current value: bagging_freq=2\n"
     ]
    },
    {
     "name": "stderr",
     "output_type": "stream",
     "text": [
      "\u001b[32m[I 2022-12-28 09:55:21,360]\u001b[0m Trial 52 finished with value: 0.5888431171557891 and parameters: {'lambda_l1': 0.1214213918951664, 'lambda_l2': 1.0533417588659682e-06, 'num_leaves': 58, 'feature_fraction': 0.8266081593096871, 'bagging_fraction': 0.46585007944771734, 'bagging_freq': 2, 'min_child_samples': 35, 'max_depth': 10, 'learning_rate': 0.07082107778590059, 'n_estimators': 85, 'colsample_bytree': 0.8637053495235868}. Best is trial 18 with value: 0.6585166111085157.\u001b[0m\n",
      "C:\\Users\\aaa\\AppData\\Local\\Temp\\ipykernel_22016\\1003895381.py:21: FutureWarning: suggest_uniform has been deprecated in v3.0.0. This feature will be removed in v6.0.0. See https://github.com/optuna/optuna/releases/tag/v3.0.0. Use :func:`~optuna.trial.Trial.suggest_float` instead.\n",
      "  'colsample_bytree': trial.suggest_uniform('colsample_bytree', 0.7, 1.0)\n"
     ]
    },
    {
     "name": "stdout",
     "output_type": "stream",
     "text": [
      "[LightGBM] [Warning] feature_fraction is set=0.8653199675225774, colsample_bytree=0.8449710691336428 will be ignored. Current value: feature_fraction=0.8653199675225774\n",
      "[LightGBM] [Warning] lambda_l1 is set=3.648002577401547, reg_alpha=0.0 will be ignored. Current value: lambda_l1=3.648002577401547\n",
      "[LightGBM] [Warning] bagging_fraction is set=0.42455565351752056, subsample=1.0 will be ignored. Current value: bagging_fraction=0.42455565351752056\n",
      "[LightGBM] [Warning] lambda_l2 is set=1.4105736387551126e-07, reg_lambda=0.0 will be ignored. Current value: lambda_l2=1.4105736387551126e-07\n",
      "[LightGBM] [Warning] bagging_freq is set=2, subsample_freq=0 will be ignored. Current value: bagging_freq=2\n"
     ]
    },
    {
     "name": "stderr",
     "output_type": "stream",
     "text": [
      "\u001b[32m[I 2022-12-28 09:59:28,014]\u001b[0m Trial 53 finished with value: 0.6064559212713977 and parameters: {'lambda_l1': 3.648002577401547, 'lambda_l2': 1.4105736387551126e-07, 'num_leaves': 89, 'feature_fraction': 0.8653199675225774, 'bagging_fraction': 0.42455565351752056, 'bagging_freq': 2, 'min_child_samples': 45, 'max_depth': 9, 'learning_rate': 0.09899062128247685, 'n_estimators': 121, 'colsample_bytree': 0.8449710691336428}. Best is trial 18 with value: 0.6585166111085157.\u001b[0m\n",
      "C:\\Users\\aaa\\AppData\\Local\\Temp\\ipykernel_22016\\1003895381.py:21: FutureWarning: suggest_uniform has been deprecated in v3.0.0. This feature will be removed in v6.0.0. See https://github.com/optuna/optuna/releases/tag/v3.0.0. Use :func:`~optuna.trial.Trial.suggest_float` instead.\n",
      "  'colsample_bytree': trial.suggest_uniform('colsample_bytree', 0.7, 1.0)\n"
     ]
    },
    {
     "name": "stdout",
     "output_type": "stream",
     "text": [
      "[LightGBM] [Warning] feature_fraction is set=0.8904367691291695, colsample_bytree=0.8474078280424024 will be ignored. Current value: feature_fraction=0.8904367691291695\n",
      "[LightGBM] [Warning] lambda_l1 is set=3.8625515898220746, reg_alpha=0.0 will be ignored. Current value: lambda_l1=3.8625515898220746\n",
      "[LightGBM] [Warning] bagging_fraction is set=0.41789900131694996, subsample=1.0 will be ignored. Current value: bagging_fraction=0.41789900131694996\n",
      "[LightGBM] [Warning] lambda_l2 is set=1.196322430028549e-07, reg_lambda=0.0 will be ignored. Current value: lambda_l2=1.196322430028549e-07\n",
      "[LightGBM] [Warning] bagging_freq is set=3, subsample_freq=0 will be ignored. Current value: bagging_freq=3\n"
     ]
    },
    {
     "name": "stderr",
     "output_type": "stream",
     "text": [
      "\u001b[32m[I 2022-12-28 10:07:27,127]\u001b[0m Trial 54 finished with value: 0.573412333085085 and parameters: {'lambda_l1': 3.8625515898220746, 'lambda_l2': 1.196322430028549e-07, 'num_leaves': 82, 'feature_fraction': 0.8904367691291695, 'bagging_fraction': 0.41789900131694996, 'bagging_freq': 3, 'min_child_samples': 46, 'max_depth': 9, 'learning_rate': 0.05806124078278533, 'n_estimators': 127, 'colsample_bytree': 0.8474078280424024}. Best is trial 18 with value: 0.6585166111085157.\u001b[0m\n",
      "C:\\Users\\aaa\\AppData\\Local\\Temp\\ipykernel_22016\\1003895381.py:21: FutureWarning: suggest_uniform has been deprecated in v3.0.0. This feature will be removed in v6.0.0. See https://github.com/optuna/optuna/releases/tag/v3.0.0. Use :func:`~optuna.trial.Trial.suggest_float` instead.\n",
      "  'colsample_bytree': trial.suggest_uniform('colsample_bytree', 0.7, 1.0)\n"
     ]
    },
    {
     "name": "stdout",
     "output_type": "stream",
     "text": [
      "[LightGBM] [Warning] feature_fraction is set=0.9606220555979795, colsample_bytree=0.7787279401289495 will be ignored. Current value: feature_fraction=0.9606220555979795\n",
      "[LightGBM] [Warning] lambda_l1 is set=0.33960504726544, reg_alpha=0.0 will be ignored. Current value: lambda_l1=0.33960504726544\n",
      "[LightGBM] [Warning] bagging_fraction is set=0.43223213803776284, subsample=1.0 will be ignored. Current value: bagging_fraction=0.43223213803776284\n",
      "[LightGBM] [Warning] lambda_l2 is set=1.0646563024448085e-08, reg_lambda=0.0 will be ignored. Current value: lambda_l2=1.0646563024448085e-08\n",
      "[LightGBM] [Warning] bagging_freq is set=2, subsample_freq=0 will be ignored. Current value: bagging_freq=2\n"
     ]
    },
    {
     "name": "stderr",
     "output_type": "stream",
     "text": [
      "\u001b[32m[I 2022-12-28 10:20:53,168]\u001b[0m Trial 55 finished with value: 0.40097503868001527 and parameters: {'lambda_l1': 0.33960504726544, 'lambda_l2': 1.0646563024448085e-08, 'num_leaves': 88, 'feature_fraction': 0.9606220555979795, 'bagging_fraction': 0.43223213803776284, 'bagging_freq': 2, 'min_child_samples': 62, 'max_depth': 10, 'learning_rate': 0.0011610381239834215, 'n_estimators': 192, 'colsample_bytree': 0.7787279401289495}. Best is trial 18 with value: 0.6585166111085157.\u001b[0m\n",
      "C:\\Users\\aaa\\AppData\\Local\\Temp\\ipykernel_22016\\1003895381.py:21: FutureWarning: suggest_uniform has been deprecated in v3.0.0. This feature will be removed in v6.0.0. See https://github.com/optuna/optuna/releases/tag/v3.0.0. Use :func:`~optuna.trial.Trial.suggest_float` instead.\n",
      "  'colsample_bytree': trial.suggest_uniform('colsample_bytree', 0.7, 1.0)\n"
     ]
    },
    {
     "name": "stdout",
     "output_type": "stream",
     "text": [
      "[LightGBM] [Warning] feature_fraction is set=0.865683595912633, colsample_bytree=0.8060925574581532 will be ignored. Current value: feature_fraction=0.865683595912633\n",
      "[LightGBM] [Warning] lambda_l1 is set=4.515562982604137, reg_alpha=0.0 will be ignored. Current value: lambda_l1=4.515562982604137\n",
      "[LightGBM] [Warning] bagging_fraction is set=0.40245392733755475, subsample=1.0 will be ignored. Current value: bagging_fraction=0.40245392733755475\n",
      "[LightGBM] [Warning] lambda_l2 is set=1.6766725093728368e-05, reg_lambda=0.0 will be ignored. Current value: lambda_l2=1.6766725093728368e-05\n",
      "[LightGBM] [Warning] bagging_freq is set=2, subsample_freq=0 will be ignored. Current value: bagging_freq=2\n"
     ]
    },
    {
     "name": "stderr",
     "output_type": "stream",
     "text": [
      "\u001b[32m[I 2022-12-28 10:24:11,933]\u001b[0m Trial 56 finished with value: 0.5342074238147976 and parameters: {'lambda_l1': 4.515562982604137, 'lambda_l2': 1.6766725093728368e-05, 'num_leaves': 33, 'feature_fraction': 0.865683595912633, 'bagging_fraction': 0.40245392733755475, 'bagging_freq': 2, 'min_child_samples': 68, 'max_depth': 8, 'learning_rate': 0.04142334786435364, 'n_estimators': 112, 'colsample_bytree': 0.8060925574581532}. Best is trial 18 with value: 0.6585166111085157.\u001b[0m\n",
      "C:\\Users\\aaa\\AppData\\Local\\Temp\\ipykernel_22016\\1003895381.py:21: FutureWarning: suggest_uniform has been deprecated in v3.0.0. This feature will be removed in v6.0.0. See https://github.com/optuna/optuna/releases/tag/v3.0.0. Use :func:`~optuna.trial.Trial.suggest_float` instead.\n",
      "  'colsample_bytree': trial.suggest_uniform('colsample_bytree', 0.7, 1.0)\n"
     ]
    },
    {
     "name": "stdout",
     "output_type": "stream",
     "text": [
      "[LightGBM] [Warning] feature_fraction is set=0.9112517915072988, colsample_bytree=0.7530540679046935 will be ignored. Current value: feature_fraction=0.9112517915072988\n",
      "[LightGBM] [Warning] lambda_l1 is set=0.8926589580096791, reg_alpha=0.0 will be ignored. Current value: lambda_l1=0.8926589580096791\n",
      "[LightGBM] [Warning] bagging_fraction is set=0.5279277296688938, subsample=1.0 will be ignored. Current value: bagging_fraction=0.5279277296688938\n",
      "[LightGBM] [Warning] lambda_l2 is set=1.8928940926010252e-06, reg_lambda=0.0 will be ignored. Current value: lambda_l2=1.8928940926010252e-06\n",
      "[LightGBM] [Warning] bagging_freq is set=1, subsample_freq=0 will be ignored. Current value: bagging_freq=1\n"
     ]
    },
    {
     "name": "stderr",
     "output_type": "stream",
     "text": [
      "\u001b[32m[I 2022-12-28 10:25:35,288]\u001b[0m Trial 57 finished with value: 0.44761365603779235 and parameters: {'lambda_l1': 0.8926589580096791, 'lambda_l2': 1.8928940926010252e-06, 'num_leaves': 64, 'feature_fraction': 0.9112517915072988, 'bagging_fraction': 0.5279277296688938, 'bagging_freq': 1, 'min_child_samples': 42, 'max_depth': 5, 'learning_rate': 0.026295637793317207, 'n_estimators': 62, 'colsample_bytree': 0.7530540679046935}. Best is trial 18 with value: 0.6585166111085157.\u001b[0m\n",
      "C:\\Users\\aaa\\AppData\\Local\\Temp\\ipykernel_22016\\1003895381.py:21: FutureWarning: suggest_uniform has been deprecated in v3.0.0. This feature will be removed in v6.0.0. See https://github.com/optuna/optuna/releases/tag/v3.0.0. Use :func:`~optuna.trial.Trial.suggest_float` instead.\n",
      "  'colsample_bytree': trial.suggest_uniform('colsample_bytree', 0.7, 1.0)\n"
     ]
    },
    {
     "name": "stdout",
     "output_type": "stream",
     "text": [
      "[LightGBM] [Warning] feature_fraction is set=0.6938490738342212, colsample_bytree=0.8241997544924293 will be ignored. Current value: feature_fraction=0.6938490738342212\n",
      "[LightGBM] [Warning] lambda_l1 is set=1.9075925916749e-06, reg_alpha=0.0 will be ignored. Current value: lambda_l1=1.9075925916749e-06\n",
      "[LightGBM] [Warning] bagging_fraction is set=0.7841407387142799, subsample=1.0 will be ignored. Current value: bagging_fraction=0.7841407387142799\n",
      "[LightGBM] [Warning] lambda_l2 is set=0.001783943157749838, reg_lambda=0.0 will be ignored. Current value: lambda_l2=0.001783943157749838\n",
      "[LightGBM] [Warning] bagging_freq is set=3, subsample_freq=0 will be ignored. Current value: bagging_freq=3\n"
     ]
    },
    {
     "name": "stderr",
     "output_type": "stream",
     "text": [
      "\u001b[32m[I 2022-12-28 10:39:54,559]\u001b[0m Trial 58 finished with value: 0.38017439671542774 and parameters: {'lambda_l1': 1.9075925916749e-06, 'lambda_l2': 0.001783943157749838, 'num_leaves': 13, 'feature_fraction': 0.6938490738342212, 'bagging_fraction': 0.7841407387142799, 'bagging_freq': 3, 'min_child_samples': 52, 'max_depth': 9, 'learning_rate': 0.00026804560238628057, 'n_estimators': 293, 'colsample_bytree': 0.8241997544924293}. Best is trial 18 with value: 0.6585166111085157.\u001b[0m\n",
      "C:\\Users\\aaa\\AppData\\Local\\Temp\\ipykernel_22016\\1003895381.py:21: FutureWarning: suggest_uniform has been deprecated in v3.0.0. This feature will be removed in v6.0.0. See https://github.com/optuna/optuna/releases/tag/v3.0.0. Use :func:`~optuna.trial.Trial.suggest_float` instead.\n",
      "  'colsample_bytree': trial.suggest_uniform('colsample_bytree', 0.7, 1.0)\n"
     ]
    },
    {
     "name": "stdout",
     "output_type": "stream",
     "text": [
      "[LightGBM] [Warning] feature_fraction is set=0.7597798899965813, colsample_bytree=0.8868167770612141 will be ignored. Current value: feature_fraction=0.7597798899965813\n",
      "[LightGBM] [Warning] lambda_l1 is set=0.42626248062574856, reg_alpha=0.0 will be ignored. Current value: lambda_l1=0.42626248062574856\n",
      "[LightGBM] [Warning] bagging_fraction is set=0.45836475912327296, subsample=1.0 will be ignored. Current value: bagging_fraction=0.45836475912327296\n",
      "[LightGBM] [Warning] lambda_l2 is set=3.8448038900723606e-08, reg_lambda=0.0 will be ignored. Current value: lambda_l2=3.8448038900723606e-08\n",
      "[LightGBM] [Warning] bagging_freq is set=2, subsample_freq=0 will be ignored. Current value: bagging_freq=2\n"
     ]
    },
    {
     "name": "stderr",
     "output_type": "stream",
     "text": [
      "\u001b[32m[I 2022-12-28 10:55:11,714]\u001b[0m Trial 59 finished with value: 0.5707906112679075 and parameters: {'lambda_l1': 0.42626248062574856, 'lambda_l2': 3.8448038900723606e-08, 'num_leaves': 105, 'feature_fraction': 0.7597798899965813, 'bagging_fraction': 0.45836475912327296, 'bagging_freq': 2, 'min_child_samples': 56, 'max_depth': 2, 'learning_rate': 0.06732553400580855, 'n_estimators': 614, 'colsample_bytree': 0.8868167770612141}. Best is trial 18 with value: 0.6585166111085157.\u001b[0m\n",
      "C:\\Users\\aaa\\AppData\\Local\\Temp\\ipykernel_22016\\1003895381.py:21: FutureWarning: suggest_uniform has been deprecated in v3.0.0. This feature will be removed in v6.0.0. See https://github.com/optuna/optuna/releases/tag/v3.0.0. Use :func:`~optuna.trial.Trial.suggest_float` instead.\n",
      "  'colsample_bytree': trial.suggest_uniform('colsample_bytree', 0.7, 1.0)\n"
     ]
    },
    {
     "name": "stdout",
     "output_type": "stream",
     "text": [
      "[LightGBM] [Warning] feature_fraction is set=0.6536638924728113, colsample_bytree=0.8431464946361624 will be ignored. Current value: feature_fraction=0.6536638924728113\n",
      "[LightGBM] [Warning] lambda_l1 is set=0.02497688040074462, reg_alpha=0.0 will be ignored. Current value: lambda_l1=0.02497688040074462\n",
      "[LightGBM] [Warning] bagging_fraction is set=0.4889997446291567, subsample=1.0 will be ignored. Current value: bagging_fraction=0.4889997446291567\n",
      "[LightGBM] [Warning] lambda_l2 is set=8.384216073137206e-08, reg_lambda=0.0 will be ignored. Current value: lambda_l2=8.384216073137206e-08\n",
      "[LightGBM] [Warning] bagging_freq is set=3, subsample_freq=0 will be ignored. Current value: bagging_freq=3\n"
     ]
    },
    {
     "name": "stderr",
     "output_type": "stream",
     "text": [
      "\u001b[32m[I 2022-12-28 10:58:23,022]\u001b[0m Trial 60 finished with value: 0.42652445978515074 and parameters: {'lambda_l1': 0.02497688040074462, 'lambda_l2': 8.384216073137206e-08, 'num_leaves': 59, 'feature_fraction': 0.6536638924728113, 'bagging_fraction': 0.4889997446291567, 'bagging_freq': 3, 'min_child_samples': 95, 'max_depth': 7, 'learning_rate': 0.005939487221100238, 'n_estimators': 147, 'colsample_bytree': 0.8431464946361624}. Best is trial 18 with value: 0.6585166111085157.\u001b[0m\n",
      "C:\\Users\\aaa\\AppData\\Local\\Temp\\ipykernel_22016\\1003895381.py:21: FutureWarning: suggest_uniform has been deprecated in v3.0.0. This feature will be removed in v6.0.0. See https://github.com/optuna/optuna/releases/tag/v3.0.0. Use :func:`~optuna.trial.Trial.suggest_float` instead.\n",
      "  'colsample_bytree': trial.suggest_uniform('colsample_bytree', 0.7, 1.0)\n"
     ]
    },
    {
     "name": "stdout",
     "output_type": "stream",
     "text": [
      "[LightGBM] [Warning] feature_fraction is set=0.7895314701805966, colsample_bytree=0.8709658436515266 will be ignored. Current value: feature_fraction=0.7895314701805966\n",
      "[LightGBM] [Warning] lambda_l1 is set=1.6873111345476206, reg_alpha=0.0 will be ignored. Current value: lambda_l1=1.6873111345476206\n",
      "[LightGBM] [Warning] bagging_fraction is set=0.49823998072958964, subsample=1.0 will be ignored. Current value: bagging_fraction=0.49823998072958964\n",
      "[LightGBM] [Warning] lambda_l2 is set=2.055593359135843e-07, reg_lambda=0.0 will be ignored. Current value: lambda_l2=2.055593359135843e-07\n",
      "[LightGBM] [Warning] bagging_freq is set=2, subsample_freq=0 will be ignored. Current value: bagging_freq=2\n"
     ]
    },
    {
     "name": "stderr",
     "output_type": "stream",
     "text": [
      "\u001b[32m[I 2022-12-28 11:01:37,178]\u001b[0m Trial 61 finished with value: 0.5918908000648561 and parameters: {'lambda_l1': 1.6873111345476206, 'lambda_l2': 2.055593359135843e-07, 'num_leaves': 48, 'feature_fraction': 0.7895314701805966, 'bagging_fraction': 0.49823998072958964, 'bagging_freq': 2, 'min_child_samples': 36, 'max_depth': 9, 'learning_rate': 0.08691828141269092, 'n_estimators': 78, 'colsample_bytree': 0.8709658436515266}. Best is trial 18 with value: 0.6585166111085157.\u001b[0m\n",
      "C:\\Users\\aaa\\AppData\\Local\\Temp\\ipykernel_22016\\1003895381.py:21: FutureWarning: suggest_uniform has been deprecated in v3.0.0. This feature will be removed in v6.0.0. See https://github.com/optuna/optuna/releases/tag/v3.0.0. Use :func:`~optuna.trial.Trial.suggest_float` instead.\n",
      "  'colsample_bytree': trial.suggest_uniform('colsample_bytree', 0.7, 1.0)\n"
     ]
    },
    {
     "name": "stdout",
     "output_type": "stream",
     "text": [
      "[LightGBM] [Warning] feature_fraction is set=0.8467293911762839, colsample_bytree=0.9135706086523889 will be ignored. Current value: feature_fraction=0.8467293911762839\n",
      "[LightGBM] [Warning] lambda_l1 is set=0.061362526682178634, reg_alpha=0.0 will be ignored. Current value: lambda_l1=0.061362526682178634\n",
      "[LightGBM] [Warning] bagging_fraction is set=0.4212858617764275, subsample=1.0 will be ignored. Current value: bagging_fraction=0.4212858617764275\n",
      "[LightGBM] [Warning] lambda_l2 is set=4.829839674123553e-07, reg_lambda=0.0 will be ignored. Current value: lambda_l2=4.829839674123553e-07\n",
      "[LightGBM] [Warning] bagging_freq is set=2, subsample_freq=0 will be ignored. Current value: bagging_freq=2\n"
     ]
    },
    {
     "name": "stderr",
     "output_type": "stream",
     "text": [
      "\u001b[32m[I 2022-12-28 11:04:36,809]\u001b[0m Trial 62 finished with value: 0.6090556579999615 and parameters: {'lambda_l1': 0.061362526682178634, 'lambda_l2': 4.829839674123553e-07, 'num_leaves': 48, 'feature_fraction': 0.8467293911762839, 'bagging_fraction': 0.4212858617764275, 'bagging_freq': 2, 'min_child_samples': 30, 'max_depth': 10, 'learning_rate': 0.09857305500617258, 'n_estimators': 69, 'colsample_bytree': 0.9135706086523889}. Best is trial 18 with value: 0.6585166111085157.\u001b[0m\n",
      "C:\\Users\\aaa\\AppData\\Local\\Temp\\ipykernel_22016\\1003895381.py:21: FutureWarning: suggest_uniform has been deprecated in v3.0.0. This feature will be removed in v6.0.0. See https://github.com/optuna/optuna/releases/tag/v3.0.0. Use :func:`~optuna.trial.Trial.suggest_float` instead.\n",
      "  'colsample_bytree': trial.suggest_uniform('colsample_bytree', 0.7, 1.0)\n"
     ]
    },
    {
     "name": "stdout",
     "output_type": "stream",
     "text": [
      "[LightGBM] [Warning] feature_fraction is set=0.8408731542044969, colsample_bytree=0.9422206671404594 will be ignored. Current value: feature_fraction=0.8408731542044969\n",
      "[LightGBM] [Warning] lambda_l1 is set=0.15042049568094912, reg_alpha=0.0 will be ignored. Current value: lambda_l1=0.15042049568094912\n",
      "[LightGBM] [Warning] bagging_fraction is set=0.41732882449942, subsample=1.0 will be ignored. Current value: bagging_fraction=0.41732882449942\n",
      "[LightGBM] [Warning] lambda_l2 is set=1.0123028371469844e-06, reg_lambda=0.0 will be ignored. Current value: lambda_l2=1.0123028371469844e-06\n",
      "[LightGBM] [Warning] bagging_freq is set=2, subsample_freq=0 will be ignored. Current value: bagging_freq=2\n"
     ]
    },
    {
     "name": "stderr",
     "output_type": "stream",
     "text": [
      "\u001b[32m[I 2022-12-28 11:07:53,398]\u001b[0m Trial 63 finished with value: 0.5733985924047015 and parameters: {'lambda_l1': 0.15042049568094912, 'lambda_l2': 1.0123028371469844e-06, 'num_leaves': 74, 'feature_fraction': 0.8408731542044969, 'bagging_fraction': 0.41732882449942, 'bagging_freq': 2, 'min_child_samples': 29, 'max_depth': 10, 'learning_rate': 0.05921811780034505, 'n_estimators': 65, 'colsample_bytree': 0.9422206671404594}. Best is trial 18 with value: 0.6585166111085157.\u001b[0m\n",
      "C:\\Users\\aaa\\AppData\\Local\\Temp\\ipykernel_22016\\1003895381.py:21: FutureWarning: suggest_uniform has been deprecated in v3.0.0. This feature will be removed in v6.0.0. See https://github.com/optuna/optuna/releases/tag/v3.0.0. Use :func:`~optuna.trial.Trial.suggest_float` instead.\n",
      "  'colsample_bytree': trial.suggest_uniform('colsample_bytree', 0.7, 1.0)\n"
     ]
    },
    {
     "name": "stdout",
     "output_type": "stream",
     "text": [
      "[LightGBM] [Warning] feature_fraction is set=0.910610286757339, colsample_bytree=0.9071544746253958 will be ignored. Current value: feature_fraction=0.910610286757339\n",
      "[LightGBM] [Warning] lambda_l1 is set=0.3452777680248214, reg_alpha=0.0 will be ignored. Current value: lambda_l1=0.3452777680248214\n",
      "[LightGBM] [Warning] bagging_fraction is set=0.4401591134134585, subsample=1.0 will be ignored. Current value: bagging_fraction=0.4401591134134585\n",
      "[LightGBM] [Warning] lambda_l2 is set=0.09784133590497977, reg_lambda=0.0 will be ignored. Current value: lambda_l2=0.09784133590497977\n",
      "[LightGBM] [Warning] bagging_freq is set=2, subsample_freq=0 will be ignored. Current value: bagging_freq=2\n"
     ]
    },
    {
     "name": "stderr",
     "output_type": "stream",
     "text": [
      "\u001b[32m[I 2022-12-28 11:11:22,382]\u001b[0m Trial 64 finished with value: 0.580703138096586 and parameters: {'lambda_l1': 0.3452777680248214, 'lambda_l2': 0.09784133590497977, 'num_leaves': 31, 'feature_fraction': 0.910610286757339, 'bagging_fraction': 0.4401591134134585, 'bagging_freq': 2, 'min_child_samples': 19, 'max_depth': 10, 'learning_rate': 0.07570408816925912, 'n_estimators': 47, 'colsample_bytree': 0.9071544746253958}. Best is trial 18 with value: 0.6585166111085157.\u001b[0m\n",
      "C:\\Users\\aaa\\AppData\\Local\\Temp\\ipykernel_22016\\1003895381.py:21: FutureWarning: suggest_uniform has been deprecated in v3.0.0. This feature will be removed in v6.0.0. See https://github.com/optuna/optuna/releases/tag/v3.0.0. Use :func:`~optuna.trial.Trial.suggest_float` instead.\n",
      "  'colsample_bytree': trial.suggest_uniform('colsample_bytree', 0.7, 1.0)\n"
     ]
    },
    {
     "name": "stdout",
     "output_type": "stream",
     "text": [
      "[LightGBM] [Warning] feature_fraction is set=0.9411062633922966, colsample_bytree=0.9350239423601165 will be ignored. Current value: feature_fraction=0.9411062633922966\n",
      "[LightGBM] [Warning] lambda_l1 is set=4.369985208494233, reg_alpha=0.0 will be ignored. Current value: lambda_l1=4.369985208494233\n",
      "[LightGBM] [Warning] bagging_fraction is set=0.40233816026264796, subsample=1.0 will be ignored. Current value: bagging_fraction=0.40233816026264796\n",
      "[LightGBM] [Warning] lambda_l2 is set=2.424581501084217e-08, reg_lambda=0.0 will be ignored. Current value: lambda_l2=2.424581501084217e-08\n",
      "[LightGBM] [Warning] bagging_freq is set=1, subsample_freq=0 will be ignored. Current value: bagging_freq=1\n"
     ]
    },
    {
     "name": "stderr",
     "output_type": "stream",
     "text": [
      "\u001b[32m[I 2022-12-28 11:14:28,799]\u001b[0m Trial 65 finished with value: 0.5253584256478043 and parameters: {'lambda_l1': 4.369985208494233, 'lambda_l2': 2.424581501084217e-08, 'num_leaves': 24, 'feature_fraction': 0.9411062633922966, 'bagging_fraction': 0.40233816026264796, 'bagging_freq': 1, 'min_child_samples': 24, 'max_depth': 10, 'learning_rate': 0.04393806355433751, 'n_estimators': 34, 'colsample_bytree': 0.9350239423601165}. Best is trial 18 with value: 0.6585166111085157.\u001b[0m\n",
      "C:\\Users\\aaa\\AppData\\Local\\Temp\\ipykernel_22016\\1003895381.py:21: FutureWarning: suggest_uniform has been deprecated in v3.0.0. This feature will be removed in v6.0.0. See https://github.com/optuna/optuna/releases/tag/v3.0.0. Use :func:`~optuna.trial.Trial.suggest_float` instead.\n",
      "  'colsample_bytree': trial.suggest_uniform('colsample_bytree', 0.7, 1.0)\n"
     ]
    },
    {
     "name": "stdout",
     "output_type": "stream",
     "text": [
      "[LightGBM] [Warning] feature_fraction is set=0.8638795691140324, colsample_bytree=0.8869481754343366 will be ignored. Current value: feature_fraction=0.8638795691140324\n",
      "[LightGBM] [Warning] lambda_l1 is set=0.04000795052658494, reg_alpha=0.0 will be ignored. Current value: lambda_l1=0.04000795052658494\n",
      "[LightGBM] [Warning] bagging_fraction is set=0.45661517671845486, subsample=1.0 will be ignored. Current value: bagging_fraction=0.45661517671845486\n",
      "[LightGBM] [Warning] lambda_l2 is set=5.676276100371712e-07, reg_lambda=0.0 will be ignored. Current value: lambda_l2=5.676276100371712e-07\n",
      "[LightGBM] [Warning] bagging_freq is set=2, subsample_freq=0 will be ignored. Current value: bagging_freq=2\n"
     ]
    },
    {
     "name": "stderr",
     "output_type": "stream",
     "text": [
      "\u001b[32m[I 2022-12-28 11:52:55,670]\u001b[0m Trial 66 finished with value: 0.664251971100601 and parameters: {'lambda_l1': 0.04000795052658494, 'lambda_l2': 5.676276100371712e-07, 'num_leaves': 41, 'feature_fraction': 0.8638795691140324, 'bagging_fraction': 0.45661517671845486, 'bagging_freq': 2, 'min_child_samples': 48, 'max_depth': 9, 'learning_rate': 0.0841563124140696, 'n_estimators': 384, 'colsample_bytree': 0.8869481754343366}. Best is trial 66 with value: 0.664251971100601.\u001b[0m\n",
      "C:\\Users\\aaa\\AppData\\Local\\Temp\\ipykernel_22016\\1003895381.py:21: FutureWarning: suggest_uniform has been deprecated in v3.0.0. This feature will be removed in v6.0.0. See https://github.com/optuna/optuna/releases/tag/v3.0.0. Use :func:`~optuna.trial.Trial.suggest_float` instead.\n",
      "  'colsample_bytree': trial.suggest_uniform('colsample_bytree', 0.7, 1.0)\n"
     ]
    },
    {
     "name": "stdout",
     "output_type": "stream",
     "text": [
      "[LightGBM] [Warning] feature_fraction is set=0.866718648425772, colsample_bytree=0.8878938222364464 will be ignored. Current value: feature_fraction=0.866718648425772\n",
      "[LightGBM] [Warning] lambda_l1 is set=0.004932015479982471, reg_alpha=0.0 will be ignored. Current value: lambda_l1=0.004932015479982471\n",
      "[LightGBM] [Warning] bagging_fraction is set=0.4443246251529197, subsample=1.0 will be ignored. Current value: bagging_fraction=0.4443246251529197\n",
      "[LightGBM] [Warning] lambda_l2 is set=5.444626384827008e-07, reg_lambda=0.0 will be ignored. Current value: lambda_l2=5.444626384827008e-07\n",
      "[LightGBM] [Warning] bagging_freq is set=3, subsample_freq=0 will be ignored. Current value: bagging_freq=3\n"
     ]
    },
    {
     "name": "stderr",
     "output_type": "stream",
     "text": [
      "\u001b[32m[I 2022-12-28 12:36:06,710]\u001b[0m Trial 67 finished with value: 0.6732741018404267 and parameters: {'lambda_l1': 0.004932015479982471, 'lambda_l2': 5.444626384827008e-07, 'num_leaves': 53, 'feature_fraction': 0.866718648425772, 'bagging_fraction': 0.4443246251529197, 'bagging_freq': 3, 'min_child_samples': 60, 'max_depth': 8, 'learning_rate': 0.08103261345734643, 'n_estimators': 491, 'colsample_bytree': 0.8878938222364464}. Best is trial 67 with value: 0.6732741018404267.\u001b[0m\n",
      "C:\\Users\\aaa\\AppData\\Local\\Temp\\ipykernel_22016\\1003895381.py:21: FutureWarning: suggest_uniform has been deprecated in v3.0.0. This feature will be removed in v6.0.0. See https://github.com/optuna/optuna/releases/tag/v3.0.0. Use :func:`~optuna.trial.Trial.suggest_float` instead.\n",
      "  'colsample_bytree': trial.suggest_uniform('colsample_bytree', 0.7, 1.0)\n"
     ]
    },
    {
     "name": "stdout",
     "output_type": "stream",
     "text": [
      "[LightGBM] [Warning] feature_fraction is set=0.8625569638560721, colsample_bytree=0.8864839779145826 will be ignored. Current value: feature_fraction=0.8625569638560721\n",
      "[LightGBM] [Warning] lambda_l1 is set=0.0006168661142193825, reg_alpha=0.0 will be ignored. Current value: lambda_l1=0.0006168661142193825\n",
      "[LightGBM] [Warning] bagging_fraction is set=0.4396377880901172, subsample=1.0 will be ignored. Current value: bagging_fraction=0.4396377880901172\n",
      "[LightGBM] [Warning] lambda_l2 is set=4.873941935352439e-07, reg_lambda=0.0 will be ignored. Current value: lambda_l2=4.873941935352439e-07\n",
      "[LightGBM] [Warning] bagging_freq is set=3, subsample_freq=0 will be ignored. Current value: bagging_freq=3\n"
     ]
    },
    {
     "name": "stderr",
     "output_type": "stream",
     "text": [
      "\u001b[32m[I 2022-12-28 13:04:01,619]\u001b[0m Trial 68 finished with value: 0.614266124001396 and parameters: {'lambda_l1': 0.0006168661142193825, 'lambda_l2': 4.873941935352439e-07, 'num_leaves': 95, 'feature_fraction': 0.8625569638560721, 'bagging_fraction': 0.4396377880901172, 'bagging_freq': 3, 'min_child_samples': 62, 'max_depth': 8, 'learning_rate': 0.03236686990897622, 'n_estimators': 514, 'colsample_bytree': 0.8864839779145826}. Best is trial 67 with value: 0.6732741018404267.\u001b[0m\n",
      "C:\\Users\\aaa\\AppData\\Local\\Temp\\ipykernel_22016\\1003895381.py:21: FutureWarning: suggest_uniform has been deprecated in v3.0.0. This feature will be removed in v6.0.0. See https://github.com/optuna/optuna/releases/tag/v3.0.0. Use :func:`~optuna.trial.Trial.suggest_float` instead.\n",
      "  'colsample_bytree': trial.suggest_uniform('colsample_bytree', 0.7, 1.0)\n"
     ]
    },
    {
     "name": "stdout",
     "output_type": "stream",
     "text": [
      "[LightGBM] [Warning] feature_fraction is set=0.8477335527390029, colsample_bytree=0.8888425753884919 will be ignored. Current value: feature_fraction=0.8477335527390029\n",
      "[LightGBM] [Warning] lambda_l1 is set=0.0009856966100475948, reg_alpha=0.0 will be ignored. Current value: lambda_l1=0.0009856966100475948\n",
      "[LightGBM] [Warning] bagging_fraction is set=0.44210451915172305, subsample=1.0 will be ignored. Current value: bagging_fraction=0.44210451915172305\n",
      "[LightGBM] [Warning] lambda_l2 is set=2.1870135120447245e-06, reg_lambda=0.0 will be ignored. Current value: lambda_l2=2.1870135120447245e-06\n",
      "[LightGBM] [Warning] bagging_freq is set=4, subsample_freq=0 will be ignored. Current value: bagging_freq=4\n"
     ]
    },
    {
     "name": "stderr",
     "output_type": "stream",
     "text": [
      "\u001b[32m[I 2022-12-28 13:27:31,712]\u001b[0m Trial 69 finished with value: 0.6010118637034432 and parameters: {'lambda_l1': 0.0009856966100475948, 'lambda_l2': 2.1870135120447245e-06, 'num_leaves': 132, 'feature_fraction': 0.8477335527390029, 'bagging_fraction': 0.44210451915172305, 'bagging_freq': 4, 'min_child_samples': 65, 'max_depth': 8, 'learning_rate': 0.028546601508971925, 'n_estimators': 488, 'colsample_bytree': 0.8888425753884919}. Best is trial 67 with value: 0.6732741018404267.\u001b[0m\n",
      "C:\\Users\\aaa\\AppData\\Local\\Temp\\ipykernel_22016\\1003895381.py:21: FutureWarning: suggest_uniform has been deprecated in v3.0.0. This feature will be removed in v6.0.0. See https://github.com/optuna/optuna/releases/tag/v3.0.0. Use :func:`~optuna.trial.Trial.suggest_float` instead.\n",
      "  'colsample_bytree': trial.suggest_uniform('colsample_bytree', 0.7, 1.0)\n"
     ]
    },
    {
     "name": "stdout",
     "output_type": "stream",
     "text": [
      "[LightGBM] [Warning] feature_fraction is set=0.8245667131557685, colsample_bytree=0.9114928026423541 will be ignored. Current value: feature_fraction=0.8245667131557685\n",
      "[LightGBM] [Warning] lambda_l1 is set=0.00040288357194946374, reg_alpha=0.0 will be ignored. Current value: lambda_l1=0.00040288357194946374\n",
      "[LightGBM] [Warning] bagging_fraction is set=0.5422820235098662, subsample=1.0 will be ignored. Current value: bagging_fraction=0.5422820235098662\n",
      "[LightGBM] [Warning] lambda_l2 is set=4.782297737147713e-07, reg_lambda=0.0 will be ignored. Current value: lambda_l2=4.782297737147713e-07\n",
      "[LightGBM] [Warning] bagging_freq is set=4, subsample_freq=0 will be ignored. Current value: bagging_freq=4\n"
     ]
    },
    {
     "name": "stderr",
     "output_type": "stream",
     "text": [
      "\u001b[32m[I 2022-12-28 14:05:37,791]\u001b[0m Trial 70 finished with value: 0.6963831781094473 and parameters: {'lambda_l1': 0.00040288357194946374, 'lambda_l2': 4.782297737147713e-07, 'num_leaves': 51, 'feature_fraction': 0.8245667131557685, 'bagging_fraction': 0.5422820235098662, 'bagging_freq': 4, 'min_child_samples': 61, 'max_depth': 8, 'learning_rate': 0.07957636463933293, 'n_estimators': 831, 'colsample_bytree': 0.9114928026423541}. Best is trial 70 with value: 0.6963831781094473.\u001b[0m\n",
      "C:\\Users\\aaa\\AppData\\Local\\Temp\\ipykernel_22016\\1003895381.py:21: FutureWarning: suggest_uniform has been deprecated in v3.0.0. This feature will be removed in v6.0.0. See https://github.com/optuna/optuna/releases/tag/v3.0.0. Use :func:`~optuna.trial.Trial.suggest_float` instead.\n",
      "  'colsample_bytree': trial.suggest_uniform('colsample_bytree', 0.7, 1.0)\n"
     ]
    },
    {
     "name": "stdout",
     "output_type": "stream",
     "text": [
      "[LightGBM] [Warning] feature_fraction is set=0.8164716879204292, colsample_bytree=0.9100289052251157 will be ignored. Current value: feature_fraction=0.8164716879204292\n",
      "[LightGBM] [Warning] lambda_l1 is set=0.006716156012025267, reg_alpha=0.0 will be ignored. Current value: lambda_l1=0.006716156012025267\n",
      "[LightGBM] [Warning] bagging_fraction is set=0.5525196082644953, subsample=1.0 will be ignored. Current value: bagging_fraction=0.5525196082644953\n",
      "[LightGBM] [Warning] lambda_l2 is set=3.088875828048368e-07, reg_lambda=0.0 will be ignored. Current value: lambda_l2=3.088875828048368e-07\n",
      "[LightGBM] [Warning] bagging_freq is set=5, subsample_freq=0 will be ignored. Current value: bagging_freq=5\n"
     ]
    },
    {
     "name": "stderr",
     "output_type": "stream",
     "text": [
      "\u001b[32m[I 2022-12-28 14:36:11,561]\u001b[0m Trial 71 finished with value: 0.6890923730979464 and parameters: {'lambda_l1': 0.006716156012025267, 'lambda_l2': 3.088875828048368e-07, 'num_leaves': 49, 'feature_fraction': 0.8164716879204292, 'bagging_fraction': 0.5525196082644953, 'bagging_freq': 5, 'min_child_samples': 60, 'max_depth': 8, 'learning_rate': 0.08036945486153517, 'n_estimators': 721, 'colsample_bytree': 0.9100289052251157}. Best is trial 70 with value: 0.6963831781094473.\u001b[0m\n",
      "C:\\Users\\aaa\\AppData\\Local\\Temp\\ipykernel_22016\\1003895381.py:21: FutureWarning: suggest_uniform has been deprecated in v3.0.0. This feature will be removed in v6.0.0. See https://github.com/optuna/optuna/releases/tag/v3.0.0. Use :func:`~optuna.trial.Trial.suggest_float` instead.\n",
      "  'colsample_bytree': trial.suggest_uniform('colsample_bytree', 0.7, 1.0)\n"
     ]
    },
    {
     "name": "stdout",
     "output_type": "stream",
     "text": [
      "[LightGBM] [Warning] feature_fraction is set=0.8319516154878213, colsample_bytree=0.9089456952451914 will be ignored. Current value: feature_fraction=0.8319516154878213\n",
      "[LightGBM] [Warning] lambda_l1 is set=0.0002837823055382012, reg_alpha=0.0 will be ignored. Current value: lambda_l1=0.0002837823055382012\n",
      "[LightGBM] [Warning] bagging_fraction is set=0.5560630442739833, subsample=1.0 will be ignored. Current value: bagging_fraction=0.5560630442739833\n",
      "[LightGBM] [Warning] lambda_l2 is set=4.477023712604137e-07, reg_lambda=0.0 will be ignored. Current value: lambda_l2=4.477023712604137e-07\n",
      "[LightGBM] [Warning] bagging_freq is set=5, subsample_freq=0 will be ignored. Current value: bagging_freq=5\n"
     ]
    },
    {
     "name": "stderr",
     "output_type": "stream",
     "text": [
      "\u001b[32m[I 2022-12-28 15:12:01,641]\u001b[0m Trial 72 finished with value: 0.642324593344564 and parameters: {'lambda_l1': 0.0002837823055382012, 'lambda_l2': 4.477023712604137e-07, 'num_leaves': 42, 'feature_fraction': 0.8319516154878213, 'bagging_fraction': 0.5560630442739833, 'bagging_freq': 5, 'min_child_samples': 61, 'max_depth': 8, 'learning_rate': 0.03664402916254147, 'n_estimators': 795, 'colsample_bytree': 0.9089456952451914}. Best is trial 70 with value: 0.6963831781094473.\u001b[0m\n",
      "C:\\Users\\aaa\\AppData\\Local\\Temp\\ipykernel_22016\\1003895381.py:21: FutureWarning: suggest_uniform has been deprecated in v3.0.0. This feature will be removed in v6.0.0. See https://github.com/optuna/optuna/releases/tag/v3.0.0. Use :func:`~optuna.trial.Trial.suggest_float` instead.\n",
      "  'colsample_bytree': trial.suggest_uniform('colsample_bytree', 0.7, 1.0)\n"
     ]
    },
    {
     "name": "stdout",
     "output_type": "stream",
     "text": [
      "[LightGBM] [Warning] feature_fraction is set=0.8256970646204844, colsample_bytree=0.9237433910891795 will be ignored. Current value: feature_fraction=0.8256970646204844\n",
      "[LightGBM] [Warning] lambda_l1 is set=0.00019076965164973193, reg_alpha=0.0 will be ignored. Current value: lambda_l1=0.00019076965164973193\n",
      "[LightGBM] [Warning] bagging_fraction is set=0.5494440049215329, subsample=1.0 will be ignored. Current value: bagging_fraction=0.5494440049215329\n",
      "[LightGBM] [Warning] lambda_l2 is set=6.205367438479199e-07, reg_lambda=0.0 will be ignored. Current value: lambda_l2=6.205367438479199e-07\n",
      "[LightGBM] [Warning] bagging_freq is set=5, subsample_freq=0 will be ignored. Current value: bagging_freq=5\n"
     ]
    },
    {
     "name": "stderr",
     "output_type": "stream",
     "text": [
      "\u001b[32m[I 2022-12-28 15:58:21,132]\u001b[0m Trial 73 finished with value: 0.6350942473267507 and parameters: {'lambda_l1': 0.00019076965164973193, 'lambda_l2': 6.205367438479199e-07, 'num_leaves': 62, 'feature_fraction': 0.8256970646204844, 'bagging_fraction': 0.5494440049215329, 'bagging_freq': 5, 'min_child_samples': 61, 'max_depth': 8, 'learning_rate': 0.03434389159922477, 'n_estimators': 753, 'colsample_bytree': 0.9237433910891795}. Best is trial 70 with value: 0.6963831781094473.\u001b[0m\n",
      "C:\\Users\\aaa\\AppData\\Local\\Temp\\ipykernel_22016\\1003895381.py:21: FutureWarning: suggest_uniform has been deprecated in v3.0.0. This feature will be removed in v6.0.0. See https://github.com/optuna/optuna/releases/tag/v3.0.0. Use :func:`~optuna.trial.Trial.suggest_float` instead.\n",
      "  'colsample_bytree': trial.suggest_uniform('colsample_bytree', 0.7, 1.0)\n"
     ]
    },
    {
     "name": "stdout",
     "output_type": "stream",
     "text": [
      "[LightGBM] [Warning] feature_fraction is set=0.8250174837146561, colsample_bytree=0.9312998714582058 will be ignored. Current value: feature_fraction=0.8250174837146561\n",
      "[LightGBM] [Warning] lambda_l1 is set=0.000293024150045871, reg_alpha=0.0 will be ignored. Current value: lambda_l1=0.000293024150045871\n",
      "[LightGBM] [Warning] bagging_fraction is set=0.5538344853509285, subsample=1.0 will be ignored. Current value: bagging_fraction=0.5538344853509285\n",
      "[LightGBM] [Warning] lambda_l2 is set=6.193947754793727e-08, reg_lambda=0.0 will be ignored. Current value: lambda_l2=6.193947754793727e-08\n",
      "[LightGBM] [Warning] bagging_freq is set=5, subsample_freq=0 will be ignored. Current value: bagging_freq=5\n"
     ]
    },
    {
     "name": "stderr",
     "output_type": "stream",
     "text": [
      "\u001b[32m[I 2022-12-28 16:41:43,581]\u001b[0m Trial 74 finished with value: 0.5645605867820152 and parameters: {'lambda_l1': 0.000293024150045871, 'lambda_l2': 6.193947754793727e-08, 'num_leaves': 41, 'feature_fraction': 0.8250174837146561, 'bagging_fraction': 0.5538344853509285, 'bagging_freq': 5, 'min_child_samples': 69, 'max_depth': 7, 'learning_rate': 0.014272504765068701, 'n_estimators': 743, 'colsample_bytree': 0.9312998714582058}. Best is trial 70 with value: 0.6963831781094473.\u001b[0m\n",
      "C:\\Users\\aaa\\AppData\\Local\\Temp\\ipykernel_22016\\1003895381.py:21: FutureWarning: suggest_uniform has been deprecated in v3.0.0. This feature will be removed in v6.0.0. See https://github.com/optuna/optuna/releases/tag/v3.0.0. Use :func:`~optuna.trial.Trial.suggest_float` instead.\n",
      "  'colsample_bytree': trial.suggest_uniform('colsample_bytree', 0.7, 1.0)\n"
     ]
    },
    {
     "name": "stdout",
     "output_type": "stream",
     "text": [
      "[LightGBM] [Warning] feature_fraction is set=0.8977235790852982, colsample_bytree=0.9432083207251287 will be ignored. Current value: feature_fraction=0.8977235790852982\n",
      "[LightGBM] [Warning] lambda_l1 is set=0.0034839705784394334, reg_alpha=0.0 will be ignored. Current value: lambda_l1=0.0034839705784394334\n",
      "[LightGBM] [Warning] bagging_fraction is set=0.6036249031571763, subsample=1.0 will be ignored. Current value: bagging_fraction=0.6036249031571763\n",
      "[LightGBM] [Warning] lambda_l2 is set=8.957311097662262e-06, reg_lambda=0.0 will be ignored. Current value: lambda_l2=8.957311097662262e-06\n",
      "[LightGBM] [Warning] bagging_freq is set=5, subsample_freq=0 will be ignored. Current value: bagging_freq=5\n"
     ]
    },
    {
     "name": "stderr",
     "output_type": "stream",
     "text": [
      "\u001b[32m[I 2022-12-28 17:54:06,402]\u001b[0m Trial 75 finished with value: 0.5857954342467222 and parameters: {'lambda_l1': 0.0034839705784394334, 'lambda_l2': 8.957311097662262e-06, 'num_leaves': 63, 'feature_fraction': 0.8977235790852982, 'bagging_fraction': 0.6036249031571763, 'bagging_freq': 5, 'min_child_samples': 59, 'max_depth': 7, 'learning_rate': 0.018225060443758132, 'n_estimators': 793, 'colsample_bytree': 0.9432083207251287}. Best is trial 70 with value: 0.6963831781094473.\u001b[0m\n",
      "C:\\Users\\aaa\\AppData\\Local\\Temp\\ipykernel_22016\\1003895381.py:21: FutureWarning: suggest_uniform has been deprecated in v3.0.0. This feature will be removed in v6.0.0. See https://github.com/optuna/optuna/releases/tag/v3.0.0. Use :func:`~optuna.trial.Trial.suggest_float` instead.\n",
      "  'colsample_bytree': trial.suggest_uniform('colsample_bytree', 0.7, 1.0)\n"
     ]
    },
    {
     "name": "stdout",
     "output_type": "stream",
     "text": [
      "[LightGBM] [Warning] feature_fraction is set=0.9370003700656762, colsample_bytree=0.922822927655709 will be ignored. Current value: feature_fraction=0.9370003700656762\n",
      "[LightGBM] [Warning] lambda_l1 is set=7.274470453307345e-05, reg_alpha=0.0 will be ignored. Current value: lambda_l1=7.274470453307345e-05\n",
      "[LightGBM] [Warning] bagging_fraction is set=0.537778913332798, subsample=1.0 will be ignored. Current value: bagging_fraction=0.537778913332798\n",
      "[LightGBM] [Warning] lambda_l2 is set=1.4356980394294235e-06, reg_lambda=0.0 will be ignored. Current value: lambda_l2=1.4356980394294235e-06\n",
      "[LightGBM] [Warning] bagging_freq is set=6, subsample_freq=0 will be ignored. Current value: bagging_freq=6\n"
     ]
    },
    {
     "name": "stderr",
     "output_type": "stream",
     "text": [
      "\u001b[32m[I 2022-12-28 18:40:15,635]\u001b[0m Trial 76 finished with value: 0.6160936344924055 and parameters: {'lambda_l1': 7.274470453307345e-05, 'lambda_l2': 1.4356980394294235e-06, 'num_leaves': 71, 'feature_fraction': 0.9370003700656762, 'bagging_fraction': 0.537778913332798, 'bagging_freq': 6, 'min_child_samples': 72, 'max_depth': 8, 'learning_rate': 0.046803268729861514, 'n_estimators': 397, 'colsample_bytree': 0.922822927655709}. Best is trial 70 with value: 0.6963831781094473.\u001b[0m\n",
      "C:\\Users\\aaa\\AppData\\Local\\Temp\\ipykernel_22016\\1003895381.py:21: FutureWarning: suggest_uniform has been deprecated in v3.0.0. This feature will be removed in v6.0.0. See https://github.com/optuna/optuna/releases/tag/v3.0.0. Use :func:`~optuna.trial.Trial.suggest_float` instead.\n",
      "  'colsample_bytree': trial.suggest_uniform('colsample_bytree', 0.7, 1.0)\n"
     ]
    },
    {
     "name": "stdout",
     "output_type": "stream",
     "text": [
      "[LightGBM] [Warning] feature_fraction is set=0.8195127224236647, colsample_bytree=0.9534857856620492 will be ignored. Current value: feature_fraction=0.8195127224236647\n",
      "[LightGBM] [Warning] lambda_l1 is set=2.739975238469623e-05, reg_alpha=0.0 will be ignored. Current value: lambda_l1=2.739975238469623e-05\n",
      "[LightGBM] [Warning] bagging_fraction is set=0.5719638827464884, subsample=1.0 will be ignored. Current value: bagging_fraction=0.5719638827464884\n",
      "[LightGBM] [Warning] lambda_l2 is set=3.532147038780509e-06, reg_lambda=0.0 will be ignored. Current value: lambda_l2=3.532147038780509e-06\n",
      "[LightGBM] [Warning] bagging_freq is set=5, subsample_freq=0 will be ignored. Current value: bagging_freq=5\n"
     ]
    },
    {
     "name": "stderr",
     "output_type": "stream",
     "text": [
      "\u001b[32m[I 2022-12-28 19:32:01,989]\u001b[0m Trial 77 finished with value: 0.6853466636253961 and parameters: {'lambda_l1': 2.739975238469623e-05, 'lambda_l2': 3.532147038780509e-06, 'num_leaves': 35, 'feature_fraction': 0.8195127224236647, 'bagging_fraction': 0.5719638827464884, 'bagging_freq': 5, 'min_child_samples': 58, 'max_depth': 7, 'learning_rate': 0.07761617875445459, 'n_estimators': 824, 'colsample_bytree': 0.9534857856620492}. Best is trial 70 with value: 0.6963831781094473.\u001b[0m\n",
      "C:\\Users\\aaa\\AppData\\Local\\Temp\\ipykernel_22016\\1003895381.py:21: FutureWarning: suggest_uniform has been deprecated in v3.0.0. This feature will be removed in v6.0.0. See https://github.com/optuna/optuna/releases/tag/v3.0.0. Use :func:`~optuna.trial.Trial.suggest_float` instead.\n",
      "  'colsample_bytree': trial.suggest_uniform('colsample_bytree', 0.7, 1.0)\n"
     ]
    },
    {
     "name": "stdout",
     "output_type": "stream",
     "text": [
      "[LightGBM] [Warning] feature_fraction is set=0.8165265580131175, colsample_bytree=0.9604081874054681 will be ignored. Current value: feature_fraction=0.8165265580131175\n",
      "[LightGBM] [Warning] lambda_l1 is set=2.2155232611227867e-05, reg_alpha=0.0 will be ignored. Current value: lambda_l1=2.2155232611227867e-05\n",
      "[LightGBM] [Warning] bagging_fraction is set=0.5721387618343842, subsample=1.0 will be ignored. Current value: bagging_fraction=0.5721387618343842\n",
      "[LightGBM] [Warning] lambda_l2 is set=6.987356978616932e-07, reg_lambda=0.0 will be ignored. Current value: lambda_l2=6.987356978616932e-07\n",
      "[LightGBM] [Warning] bagging_freq is set=4, subsample_freq=0 will be ignored. Current value: bagging_freq=4\n"
     ]
    },
    {
     "name": "stderr",
     "output_type": "stream",
     "text": [
      "\u001b[32m[I 2022-12-28 21:01:31,995]\u001b[0m Trial 78 finished with value: 0.6675414899844181 and parameters: {'lambda_l1': 2.2155232611227867e-05, 'lambda_l2': 6.987356978616932e-07, 'num_leaves': 34, 'feature_fraction': 0.8165265580131175, 'bagging_fraction': 0.5721387618343842, 'bagging_freq': 4, 'min_child_samples': 60, 'max_depth': 6, 'learning_rate': 0.05769119143781959, 'n_estimators': 992, 'colsample_bytree': 0.9604081874054681}. Best is trial 70 with value: 0.6963831781094473.\u001b[0m\n",
      "C:\\Users\\aaa\\AppData\\Local\\Temp\\ipykernel_22016\\1003895381.py:21: FutureWarning: suggest_uniform has been deprecated in v3.0.0. This feature will be removed in v6.0.0. See https://github.com/optuna/optuna/releases/tag/v3.0.0. Use :func:`~optuna.trial.Trial.suggest_float` instead.\n",
      "  'colsample_bytree': trial.suggest_uniform('colsample_bytree', 0.7, 1.0)\n"
     ]
    },
    {
     "name": "stdout",
     "output_type": "stream",
     "text": [
      "[LightGBM] [Warning] feature_fraction is set=0.8751899591411472, colsample_bytree=0.9828567883302467 will be ignored. Current value: feature_fraction=0.8751899591411472\n",
      "[LightGBM] [Warning] lambda_l1 is set=2.4208473159619645e-05, reg_alpha=0.0 will be ignored. Current value: lambda_l1=2.4208473159619645e-05\n",
      "[LightGBM] [Warning] bagging_fraction is set=0.5829267466517141, subsample=1.0 will be ignored. Current value: bagging_fraction=0.5829267466517141\n",
      "[LightGBM] [Warning] lambda_l2 is set=3.248884213418677e-06, reg_lambda=0.0 will be ignored. Current value: lambda_l2=3.248884213418677e-06\n",
      "[LightGBM] [Warning] bagging_freq is set=4, subsample_freq=0 will be ignored. Current value: bagging_freq=4\n"
     ]
    },
    {
     "name": "stderr",
     "output_type": "stream",
     "text": [
      "\u001b[32m[I 2022-12-28 22:01:21,665]\u001b[0m Trial 79 finished with value: 0.6848190214986686 and parameters: {'lambda_l1': 2.4208473159619645e-05, 'lambda_l2': 3.248884213418677e-06, 'num_leaves': 11, 'feature_fraction': 0.8751899591411472, 'bagging_fraction': 0.5829267466517141, 'bagging_freq': 4, 'min_child_samples': 57, 'max_depth': 6, 'learning_rate': 0.07953492608684459, 'n_estimators': 965, 'colsample_bytree': 0.9828567883302467}. Best is trial 70 with value: 0.6963831781094473.\u001b[0m\n",
      "C:\\Users\\aaa\\AppData\\Local\\Temp\\ipykernel_22016\\1003895381.py:21: FutureWarning: suggest_uniform has been deprecated in v3.0.0. This feature will be removed in v6.0.0. See https://github.com/optuna/optuna/releases/tag/v3.0.0. Use :func:`~optuna.trial.Trial.suggest_float` instead.\n",
      "  'colsample_bytree': trial.suggest_uniform('colsample_bytree', 0.7, 1.0)\n"
     ]
    },
    {
     "name": "stdout",
     "output_type": "stream",
     "text": [
      "[LightGBM] [Warning] feature_fraction is set=0.8086636678094368, colsample_bytree=0.9813553561856687 will be ignored. Current value: feature_fraction=0.8086636678094368\n",
      "[LightGBM] [Warning] lambda_l1 is set=2.673976011572246e-06, reg_alpha=0.0 will be ignored. Current value: lambda_l1=2.673976011572246e-06\n",
      "[LightGBM] [Warning] bagging_fraction is set=0.6553554757242389, subsample=1.0 will be ignored. Current value: bagging_fraction=0.6553554757242389\n",
      "[LightGBM] [Warning] lambda_l2 is set=4.258304714952479e-06, reg_lambda=0.0 will be ignored. Current value: lambda_l2=4.258304714952479e-06\n",
      "[LightGBM] [Warning] bagging_freq is set=4, subsample_freq=0 will be ignored. Current value: bagging_freq=4\n"
     ]
    },
    {
     "name": "stderr",
     "output_type": "stream",
     "text": [
      "\u001b[32m[I 2022-12-28 22:39:48,790]\u001b[0m Trial 80 finished with value: 0.6672364468799037 and parameters: {'lambda_l1': 2.673976011572246e-06, 'lambda_l2': 4.258304714952479e-06, 'num_leaves': 9, 'feature_fraction': 0.8086636678094368, 'bagging_fraction': 0.6553554757242389, 'bagging_freq': 4, 'min_child_samples': 57, 'max_depth': 6, 'learning_rate': 0.06503291056329757, 'n_estimators': 947, 'colsample_bytree': 0.9813553561856687}. Best is trial 70 with value: 0.6963831781094473.\u001b[0m\n",
      "C:\\Users\\aaa\\AppData\\Local\\Temp\\ipykernel_22016\\1003895381.py:21: FutureWarning: suggest_uniform has been deprecated in v3.0.0. This feature will be removed in v6.0.0. See https://github.com/optuna/optuna/releases/tag/v3.0.0. Use :func:`~optuna.trial.Trial.suggest_float` instead.\n",
      "  'colsample_bytree': trial.suggest_uniform('colsample_bytree', 0.7, 1.0)\n"
     ]
    },
    {
     "name": "stdout",
     "output_type": "stream",
     "text": [
      "[LightGBM] [Warning] feature_fraction is set=0.8089642525067667, colsample_bytree=0.9750136194752873 will be ignored. Current value: feature_fraction=0.8089642525067667\n",
      "[LightGBM] [Warning] lambda_l1 is set=2.232344697014251e-06, reg_alpha=0.0 will be ignored. Current value: lambda_l1=2.232344697014251e-06\n",
      "[LightGBM] [Warning] bagging_fraction is set=0.6951115108612516, subsample=1.0 will be ignored. Current value: bagging_fraction=0.6951115108612516\n",
      "[LightGBM] [Warning] lambda_l2 is set=6.2344121190310865e-06, reg_lambda=0.0 will be ignored. Current value: lambda_l2=6.2344121190310865e-06\n",
      "[LightGBM] [Warning] bagging_freq is set=4, subsample_freq=0 will be ignored. Current value: bagging_freq=4\n"
     ]
    },
    {
     "name": "stderr",
     "output_type": "stream",
     "text": [
      "\u001b[32m[I 2022-12-28 23:19:42,019]\u001b[0m Trial 81 finished with value: 0.6822385217226417 and parameters: {'lambda_l1': 2.232344697014251e-06, 'lambda_l2': 6.2344121190310865e-06, 'num_leaves': 11, 'feature_fraction': 0.8089642525067667, 'bagging_fraction': 0.6951115108612516, 'bagging_freq': 4, 'min_child_samples': 57, 'max_depth': 6, 'learning_rate': 0.07821358860857348, 'n_estimators': 958, 'colsample_bytree': 0.9750136194752873}. Best is trial 70 with value: 0.6963831781094473.\u001b[0m\n",
      "C:\\Users\\aaa\\AppData\\Local\\Temp\\ipykernel_22016\\1003895381.py:21: FutureWarning: suggest_uniform has been deprecated in v3.0.0. This feature will be removed in v6.0.0. See https://github.com/optuna/optuna/releases/tag/v3.0.0. Use :func:`~optuna.trial.Trial.suggest_float` instead.\n",
      "  'colsample_bytree': trial.suggest_uniform('colsample_bytree', 0.7, 1.0)\n"
     ]
    },
    {
     "name": "stdout",
     "output_type": "stream",
     "text": [
      "[LightGBM] [Warning] feature_fraction is set=0.8056277708040734, colsample_bytree=0.9783540458913376 will be ignored. Current value: feature_fraction=0.8056277708040734\n",
      "[LightGBM] [Warning] lambda_l1 is set=2.206681311654298e-06, reg_alpha=0.0 will be ignored. Current value: lambda_l1=2.206681311654298e-06\n",
      "[LightGBM] [Warning] bagging_fraction is set=0.693610618243532, subsample=1.0 will be ignored. Current value: bagging_fraction=0.693610618243532\n",
      "[LightGBM] [Warning] lambda_l2 is set=4.38491733973615e-06, reg_lambda=0.0 will be ignored. Current value: lambda_l2=4.38491733973615e-06\n",
      "[LightGBM] [Warning] bagging_freq is set=4, subsample_freq=0 will be ignored. Current value: bagging_freq=4\n"
     ]
    },
    {
     "name": "stderr",
     "output_type": "stream",
     "text": [
      "\u001b[32m[I 2022-12-28 23:51:56,822]\u001b[0m Trial 82 finished with value: 0.6674370608135033 and parameters: {'lambda_l1': 2.206681311654298e-06, 'lambda_l2': 4.38491733973615e-06, 'num_leaves': 9, 'feature_fraction': 0.8056277708040734, 'bagging_fraction': 0.693610618243532, 'bagging_freq': 4, 'min_child_samples': 57, 'max_depth': 5, 'learning_rate': 0.07933322079300793, 'n_estimators': 881, 'colsample_bytree': 0.9783540458913376}. Best is trial 70 with value: 0.6963831781094473.\u001b[0m\n",
      "C:\\Users\\aaa\\AppData\\Local\\Temp\\ipykernel_22016\\1003895381.py:21: FutureWarning: suggest_uniform has been deprecated in v3.0.0. This feature will be removed in v6.0.0. See https://github.com/optuna/optuna/releases/tag/v3.0.0. Use :func:`~optuna.trial.Trial.suggest_float` instead.\n",
      "  'colsample_bytree': trial.suggest_uniform('colsample_bytree', 0.7, 1.0)\n"
     ]
    },
    {
     "name": "stdout",
     "output_type": "stream",
     "text": [
      "[LightGBM] [Warning] feature_fraction is set=0.7740974031912672, colsample_bytree=0.9783041264870143 will be ignored. Current value: feature_fraction=0.7740974031912672\n",
      "[LightGBM] [Warning] lambda_l1 is set=5.387435611894213e-07, reg_alpha=0.0 will be ignored. Current value: lambda_l1=5.387435611894213e-07\n",
      "[LightGBM] [Warning] bagging_fraction is set=0.7225369916584454, subsample=1.0 will be ignored. Current value: bagging_fraction=0.7225369916584454\n",
      "[LightGBM] [Warning] lambda_l2 is set=3.7589229394798107e-06, reg_lambda=0.0 will be ignored. Current value: lambda_l2=3.7589229394798107e-06\n",
      "[LightGBM] [Warning] bagging_freq is set=4, subsample_freq=0 will be ignored. Current value: bagging_freq=4\n"
     ]
    },
    {
     "name": "stderr",
     "output_type": "stream",
     "text": [
      "\u001b[32m[I 2022-12-29 00:31:03,836]\u001b[0m Trial 83 finished with value: 0.6558206896172671 and parameters: {'lambda_l1': 5.387435611894213e-07, 'lambda_l2': 3.7589229394798107e-06, 'num_leaves': 8, 'feature_fraction': 0.7740974031912672, 'bagging_fraction': 0.7225369916584454, 'bagging_freq': 4, 'min_child_samples': 57, 'max_depth': 5, 'learning_rate': 0.060037305728653255, 'n_estimators': 1023, 'colsample_bytree': 0.9783041264870143}. Best is trial 70 with value: 0.6963831781094473.\u001b[0m\n",
      "C:\\Users\\aaa\\AppData\\Local\\Temp\\ipykernel_22016\\1003895381.py:21: FutureWarning: suggest_uniform has been deprecated in v3.0.0. This feature will be removed in v6.0.0. See https://github.com/optuna/optuna/releases/tag/v3.0.0. Use :func:`~optuna.trial.Trial.suggest_float` instead.\n",
      "  'colsample_bytree': trial.suggest_uniform('colsample_bytree', 0.7, 1.0)\n"
     ]
    },
    {
     "name": "stdout",
     "output_type": "stream",
     "text": [
      "[LightGBM] [Warning] feature_fraction is set=0.8030328533627479, colsample_bytree=0.9992840791972041 will be ignored. Current value: feature_fraction=0.8030328533627479\n",
      "[LightGBM] [Warning] lambda_l1 is set=2.6442803316014245e-06, reg_alpha=0.0 will be ignored. Current value: lambda_l1=2.6442803316014245e-06\n",
      "[LightGBM] [Warning] bagging_fraction is set=0.6828085494537729, subsample=1.0 will be ignored. Current value: bagging_fraction=0.6828085494537729\n",
      "[LightGBM] [Warning] lambda_l2 is set=4.124877613035151e-06, reg_lambda=0.0 will be ignored. Current value: lambda_l2=4.124877613035151e-06\n",
      "[LightGBM] [Warning] bagging_freq is set=4, subsample_freq=0 will be ignored. Current value: bagging_freq=4\n"
     ]
    },
    {
     "name": "stderr",
     "output_type": "stream",
     "text": [
      "\u001b[32m[I 2022-12-29 00:45:53,286]\u001b[0m Trial 84 finished with value: 0.5510342610124683 and parameters: {'lambda_l1': 2.6442803316014245e-06, 'lambda_l2': 4.124877613035151e-06, 'num_leaves': 2, 'feature_fraction': 0.8030328533627479, 'bagging_fraction': 0.6828085494537729, 'bagging_freq': 4, 'min_child_samples': 53, 'max_depth': 6, 'learning_rate': 0.07948969022210613, 'n_estimators': 837, 'colsample_bytree': 0.9992840791972041}. Best is trial 70 with value: 0.6963831781094473.\u001b[0m\n",
      "C:\\Users\\aaa\\AppData\\Local\\Temp\\ipykernel_22016\\1003895381.py:21: FutureWarning: suggest_uniform has been deprecated in v3.0.0. This feature will be removed in v6.0.0. See https://github.com/optuna/optuna/releases/tag/v3.0.0. Use :func:`~optuna.trial.Trial.suggest_float` instead.\n",
      "  'colsample_bytree': trial.suggest_uniform('colsample_bytree', 0.7, 1.0)\n"
     ]
    },
    {
     "name": "stdout",
     "output_type": "stream",
     "text": [
      "[LightGBM] [Warning] feature_fraction is set=0.8112814908223714, colsample_bytree=0.9562145748475566 will be ignored. Current value: feature_fraction=0.8112814908223714\n",
      "[LightGBM] [Warning] lambda_l1 is set=2.85089401265821e-05, reg_alpha=0.0 will be ignored. Current value: lambda_l1=2.85089401265821e-05\n",
      "[LightGBM] [Warning] bagging_fraction is set=0.6478186130542493, subsample=1.0 will be ignored. Current value: bagging_fraction=0.6478186130542493\n",
      "[LightGBM] [Warning] lambda_l2 is set=1.0211211569838486e-05, reg_lambda=0.0 will be ignored. Current value: lambda_l2=1.0211211569838486e-05\n",
      "[LightGBM] [Warning] bagging_freq is set=4, subsample_freq=0 will be ignored. Current value: bagging_freq=4\n"
     ]
    },
    {
     "name": "stderr",
     "output_type": "stream",
     "text": [
      "\u001b[32m[I 2022-12-29 01:10:35,110]\u001b[0m Trial 85 finished with value: 0.6449765446585853 and parameters: {'lambda_l1': 2.85089401265821e-05, 'lambda_l2': 1.0211211569838486e-05, 'num_leaves': 13, 'feature_fraction': 0.8112814908223714, 'bagging_fraction': 0.6478186130542493, 'bagging_freq': 4, 'min_child_samples': 59, 'max_depth': 6, 'learning_rate': 0.060368143439650544, 'n_estimators': 668, 'colsample_bytree': 0.9562145748475566}. Best is trial 70 with value: 0.6963831781094473.\u001b[0m\n",
      "C:\\Users\\aaa\\AppData\\Local\\Temp\\ipykernel_22016\\1003895381.py:21: FutureWarning: suggest_uniform has been deprecated in v3.0.0. This feature will be removed in v6.0.0. See https://github.com/optuna/optuna/releases/tag/v3.0.0. Use :func:`~optuna.trial.Trial.suggest_float` instead.\n",
      "  'colsample_bytree': trial.suggest_uniform('colsample_bytree', 0.7, 1.0)\n"
     ]
    },
    {
     "name": "stdout",
     "output_type": "stream",
     "text": [
      "[LightGBM] [Warning] feature_fraction is set=0.7765572268679334, colsample_bytree=0.9835305599908005 will be ignored. Current value: feature_fraction=0.7765572268679334\n",
      "[LightGBM] [Warning] lambda_l1 is set=3.4136501611326026e-06, reg_alpha=0.0 will be ignored. Current value: lambda_l1=3.4136501611326026e-06\n",
      "[LightGBM] [Warning] bagging_fraction is set=0.6994739210814881, subsample=1.0 will be ignored. Current value: bagging_fraction=0.6994739210814881\n",
      "[LightGBM] [Warning] lambda_l2 is set=6.982636528774516e-06, reg_lambda=0.0 will be ignored. Current value: lambda_l2=6.982636528774516e-06\n",
      "[LightGBM] [Warning] bagging_freq is set=4, subsample_freq=0 will be ignored. Current value: bagging_freq=4\n"
     ]
    },
    {
     "name": "stderr",
     "output_type": "stream",
     "text": [
      "\u001b[32m[I 2022-12-29 01:44:03,284]\u001b[0m Trial 86 finished with value: 0.6344484353487247 and parameters: {'lambda_l1': 3.4136501611326026e-06, 'lambda_l2': 6.982636528774516e-06, 'num_leaves': 18, 'feature_fraction': 0.7765572268679334, 'bagging_fraction': 0.6994739210814881, 'bagging_freq': 4, 'min_child_samples': 67, 'max_depth': 5, 'learning_rate': 0.048323413702432344, 'n_estimators': 906, 'colsample_bytree': 0.9835305599908005}. Best is trial 70 with value: 0.6963831781094473.\u001b[0m\n",
      "C:\\Users\\aaa\\AppData\\Local\\Temp\\ipykernel_22016\\1003895381.py:21: FutureWarning: suggest_uniform has been deprecated in v3.0.0. This feature will be removed in v6.0.0. See https://github.com/optuna/optuna/releases/tag/v3.0.0. Use :func:`~optuna.trial.Trial.suggest_float` instead.\n",
      "  'colsample_bytree': trial.suggest_uniform('colsample_bytree', 0.7, 1.0)\n"
     ]
    },
    {
     "name": "stdout",
     "output_type": "stream",
     "text": [
      "[LightGBM] [Warning] feature_fraction is set=0.8725727905884402, colsample_bytree=0.9640032576759728 will be ignored. Current value: feature_fraction=0.8725727905884402\n",
      "[LightGBM] [Warning] lambda_l1 is set=8.805274317921033e-07, reg_alpha=0.0 will be ignored. Current value: lambda_l1=8.805274317921033e-07\n",
      "[LightGBM] [Warning] bagging_fraction is set=0.6167337718460035, subsample=1.0 will be ignored. Current value: bagging_fraction=0.6167337718460035\n",
      "[LightGBM] [Warning] lambda_l2 is set=3.599384709419611e-05, reg_lambda=0.0 will be ignored. Current value: lambda_l2=3.599384709419611e-05\n",
      "[LightGBM] [Warning] bagging_freq is set=4, subsample_freq=0 will be ignored. Current value: bagging_freq=4\n"
     ]
    },
    {
     "name": "stderr",
     "output_type": "stream",
     "text": [
      "\u001b[32m[I 2022-12-29 02:02:53,762]\u001b[0m Trial 87 finished with value: 0.6490575267324937 and parameters: {'lambda_l1': 8.805274317921033e-07, 'lambda_l2': 3.599384709419611e-05, 'num_leaves': 7, 'feature_fraction': 0.8725727905884402, 'bagging_fraction': 0.6167337718460035, 'bagging_freq': 4, 'min_child_samples': 64, 'max_depth': 6, 'learning_rate': 0.0766343829340934, 'n_estimators': 580, 'colsample_bytree': 0.9640032576759728}. Best is trial 70 with value: 0.6963831781094473.\u001b[0m\n",
      "C:\\Users\\aaa\\AppData\\Local\\Temp\\ipykernel_22016\\1003895381.py:21: FutureWarning: suggest_uniform has been deprecated in v3.0.0. This feature will be removed in v6.0.0. See https://github.com/optuna/optuna/releases/tag/v3.0.0. Use :func:`~optuna.trial.Trial.suggest_float` instead.\n",
      "  'colsample_bytree': trial.suggest_uniform('colsample_bytree', 0.7, 1.0)\n"
     ]
    },
    {
     "name": "stdout",
     "output_type": "stream",
     "text": [
      "[LightGBM] [Warning] feature_fraction is set=0.750925769540459, colsample_bytree=0.9923972469744768 will be ignored. Current value: feature_fraction=0.750925769540459\n",
      "[LightGBM] [Warning] lambda_l1 is set=1.4068065434901841e-05, reg_alpha=0.0 will be ignored. Current value: lambda_l1=1.4068065434901841e-05\n",
      "[LightGBM] [Warning] bagging_fraction is set=0.7471607150384577, subsample=1.0 will be ignored. Current value: bagging_fraction=0.7471607150384577\n",
      "[LightGBM] [Warning] lambda_l2 is set=3.3596258724172305e-06, reg_lambda=0.0 will be ignored. Current value: lambda_l2=3.3596258724172305e-06\n",
      "[LightGBM] [Warning] bagging_freq is set=5, subsample_freq=0 will be ignored. Current value: bagging_freq=5\n"
     ]
    },
    {
     "name": "stderr",
     "output_type": "stream",
     "text": [
      "\u001b[32m[I 2022-12-29 02:29:10,666]\u001b[0m Trial 88 finished with value: 0.5826268333502802 and parameters: {'lambda_l1': 1.4068065434901841e-05, 'lambda_l2': 3.3596258724172305e-06, 'num_leaves': 20, 'feature_fraction': 0.750925769540459, 'bagging_fraction': 0.7471607150384577, 'bagging_freq': 5, 'min_child_samples': 57, 'max_depth': 6, 'learning_rate': 0.023691544695146425, 'n_estimators': 692, 'colsample_bytree': 0.9923972469744768}. Best is trial 70 with value: 0.6963831781094473.\u001b[0m\n",
      "C:\\Users\\aaa\\AppData\\Local\\Temp\\ipykernel_22016\\1003895381.py:21: FutureWarning: suggest_uniform has been deprecated in v3.0.0. This feature will be removed in v6.0.0. See https://github.com/optuna/optuna/releases/tag/v3.0.0. Use :func:`~optuna.trial.Trial.suggest_float` instead.\n",
      "  'colsample_bytree': trial.suggest_uniform('colsample_bytree', 0.7, 1.0)\n"
     ]
    },
    {
     "name": "stdout",
     "output_type": "stream",
     "text": [
      "[LightGBM] [Warning] feature_fraction is set=0.8796488144997151, colsample_bytree=0.973487986291079 will be ignored. Current value: feature_fraction=0.8796488144997151\n",
      "[LightGBM] [Warning] lambda_l1 is set=1.1799987900283989e-07, reg_alpha=0.0 will be ignored. Current value: lambda_l1=1.1799987900283989e-07\n",
      "[LightGBM] [Warning] bagging_fraction is set=0.5800338212214586, subsample=1.0 will be ignored. Current value: bagging_fraction=0.5800338212214586\n",
      "[LightGBM] [Warning] lambda_l2 is set=1.4793803407157128e-06, reg_lambda=0.0 will be ignored. Current value: lambda_l2=1.4793803407157128e-06\n",
      "[LightGBM] [Warning] bagging_freq is set=4, subsample_freq=0 will be ignored. Current value: bagging_freq=4\n"
     ]
    },
    {
     "name": "stderr",
     "output_type": "stream",
     "text": [
      "\u001b[32m[I 2022-12-29 02:45:56,798]\u001b[0m Trial 89 finished with value: 0.6321454973164451 and parameters: {'lambda_l1': 1.1799987900283989e-07, 'lambda_l2': 1.4793803407157128e-06, 'num_leaves': 29, 'feature_fraction': 0.8796488144997151, 'bagging_fraction': 0.5800338212214586, 'bagging_freq': 4, 'min_child_samples': 50, 'max_depth': 5, 'learning_rate': 0.06611928762502288, 'n_estimators': 546, 'colsample_bytree': 0.973487986291079}. Best is trial 70 with value: 0.6963831781094473.\u001b[0m\n",
      "C:\\Users\\aaa\\AppData\\Local\\Temp\\ipykernel_22016\\1003895381.py:21: FutureWarning: suggest_uniform has been deprecated in v3.0.0. This feature will be removed in v6.0.0. See https://github.com/optuna/optuna/releases/tag/v3.0.0. Use :func:`~optuna.trial.Trial.suggest_float` instead.\n",
      "  'colsample_bytree': trial.suggest_uniform('colsample_bytree', 0.7, 1.0)\n"
     ]
    },
    {
     "name": "stdout",
     "output_type": "stream",
     "text": [
      "[LightGBM] [Warning] feature_fraction is set=0.8129401074459287, colsample_bytree=0.9537619453375387 will be ignored. Current value: feature_fraction=0.8129401074459287\n",
      "[LightGBM] [Warning] lambda_l1 is set=5.421204785571165e-06, reg_alpha=0.0 will be ignored. Current value: lambda_l1=5.421204785571165e-06\n",
      "[LightGBM] [Warning] bagging_fraction is set=0.6610359216822523, subsample=1.0 will be ignored. Current value: bagging_fraction=0.6610359216822523\n",
      "[LightGBM] [Warning] lambda_l2 is set=1.4297915567870167, reg_lambda=0.0 will be ignored. Current value: lambda_l2=1.4297915567870167\n",
      "[LightGBM] [Warning] bagging_freq is set=4, subsample_freq=0 will be ignored. Current value: bagging_freq=4\n"
     ]
    },
    {
     "name": "stderr",
     "output_type": "stream",
     "text": [
      "\u001b[32m[I 2022-12-29 03:15:26,293]\u001b[0m Trial 90 finished with value: 0.6277594721380224 and parameters: {'lambda_l1': 5.421204785571165e-06, 'lambda_l2': 1.4297915567870167, 'num_leaves': 10, 'feature_fraction': 0.8129401074459287, 'bagging_fraction': 0.6610359216822523, 'bagging_freq': 4, 'min_child_samples': 54, 'max_depth': 4, 'learning_rate': 0.05460601396639955, 'n_estimators': 907, 'colsample_bytree': 0.9537619453375387}. Best is trial 70 with value: 0.6963831781094473.\u001b[0m\n",
      "C:\\Users\\aaa\\AppData\\Local\\Temp\\ipykernel_22016\\1003895381.py:21: FutureWarning: suggest_uniform has been deprecated in v3.0.0. This feature will be removed in v6.0.0. See https://github.com/optuna/optuna/releases/tag/v3.0.0. Use :func:`~optuna.trial.Trial.suggest_float` instead.\n",
      "  'colsample_bytree': trial.suggest_uniform('colsample_bytree', 0.7, 1.0)\n"
     ]
    },
    {
     "name": "stdout",
     "output_type": "stream",
     "text": [
      "[LightGBM] [Warning] feature_fraction is set=0.8549152484640086, colsample_bytree=0.9704604503125414 will be ignored. Current value: feature_fraction=0.8549152484640086\n",
      "[LightGBM] [Warning] lambda_l1 is set=2.855726943902433e-05, reg_alpha=0.0 will be ignored. Current value: lambda_l1=2.855726943902433e-05\n",
      "[LightGBM] [Warning] bagging_fraction is set=0.5895874680226795, subsample=1.0 will be ignored. Current value: bagging_fraction=0.5895874680226795\n",
      "[LightGBM] [Warning] lambda_l2 is set=1.048142985262695e-06, reg_lambda=0.0 will be ignored. Current value: lambda_l2=1.048142985262695e-06\n",
      "[LightGBM] [Warning] bagging_freq is set=4, subsample_freq=0 will be ignored. Current value: bagging_freq=4\n"
     ]
    },
    {
     "name": "stderr",
     "output_type": "stream",
     "text": [
      "\u001b[32m[I 2022-12-29 03:59:12,937]\u001b[0m Trial 91 finished with value: 0.6978919048155589 and parameters: {'lambda_l1': 2.855726943902433e-05, 'lambda_l2': 1.048142985262695e-06, 'num_leaves': 35, 'feature_fraction': 0.8549152484640086, 'bagging_fraction': 0.5895874680226795, 'bagging_freq': 4, 'min_child_samples': 59, 'max_depth': 7, 'learning_rate': 0.07794136797138017, 'n_estimators': 1003, 'colsample_bytree': 0.9704604503125414}. Best is trial 91 with value: 0.6978919048155589.\u001b[0m\n",
      "C:\\Users\\aaa\\AppData\\Local\\Temp\\ipykernel_22016\\1003895381.py:21: FutureWarning: suggest_uniform has been deprecated in v3.0.0. This feature will be removed in v6.0.0. See https://github.com/optuna/optuna/releases/tag/v3.0.0. Use :func:`~optuna.trial.Trial.suggest_float` instead.\n",
      "  'colsample_bytree': trial.suggest_uniform('colsample_bytree', 0.7, 1.0)\n"
     ]
    },
    {
     "name": "stdout",
     "output_type": "stream",
     "text": [
      "[LightGBM] [Warning] feature_fraction is set=0.8477033636628687, colsample_bytree=0.9704209652315599 will be ignored. Current value: feature_fraction=0.8477033636628687\n",
      "[LightGBM] [Warning] lambda_l1 is set=3.1342049923213e-05, reg_alpha=0.0 will be ignored. Current value: lambda_l1=3.1342049923213e-05\n",
      "[LightGBM] [Warning] bagging_fraction is set=0.5923719991240737, subsample=1.0 will be ignored. Current value: bagging_fraction=0.5923719991240737\n",
      "[LightGBM] [Warning] lambda_l2 is set=9.09625183623195e-07, reg_lambda=0.0 will be ignored. Current value: lambda_l2=9.09625183623195e-07\n",
      "[LightGBM] [Warning] bagging_freq is set=4, subsample_freq=0 will be ignored. Current value: bagging_freq=4\n"
     ]
    },
    {
     "name": "stderr",
     "output_type": "stream",
     "text": [
      "\u001b[32m[I 2022-12-29 04:42:04,544]\u001b[0m Trial 92 finished with value: 0.7009066100917053 and parameters: {'lambda_l1': 3.1342049923213e-05, 'lambda_l2': 9.09625183623195e-07, 'num_leaves': 21, 'feature_fraction': 0.8477033636628687, 'bagging_fraction': 0.5923719991240737, 'bagging_freq': 4, 'min_child_samples': 59, 'max_depth': 7, 'learning_rate': 0.08199807594813324, 'n_estimators': 1006, 'colsample_bytree': 0.9704209652315599}. Best is trial 92 with value: 0.7009066100917053.\u001b[0m\n",
      "C:\\Users\\aaa\\AppData\\Local\\Temp\\ipykernel_22016\\1003895381.py:21: FutureWarning: suggest_uniform has been deprecated in v3.0.0. This feature will be removed in v6.0.0. See https://github.com/optuna/optuna/releases/tag/v3.0.0. Use :func:`~optuna.trial.Trial.suggest_float` instead.\n",
      "  'colsample_bytree': trial.suggest_uniform('colsample_bytree', 0.7, 1.0)\n"
     ]
    },
    {
     "name": "stdout",
     "output_type": "stream",
     "text": [
      "[LightGBM] [Warning] feature_fraction is set=0.8518559562036256, colsample_bytree=0.974362521285874 will be ignored. Current value: feature_fraction=0.8518559562036256\n",
      "[LightGBM] [Warning] lambda_l1 is set=2.091467138503654e-05, reg_alpha=0.0 will be ignored. Current value: lambda_l1=2.091467138503654e-05\n",
      "[LightGBM] [Warning] bagging_fraction is set=0.5947581316407684, subsample=1.0 will be ignored. Current value: bagging_fraction=0.5947581316407684\n",
      "[LightGBM] [Warning] lambda_l2 is set=1.9617511265465768e-06, reg_lambda=0.0 will be ignored. Current value: lambda_l2=1.9617511265465768e-06\n",
      "[LightGBM] [Warning] bagging_freq is set=4, subsample_freq=0 will be ignored. Current value: bagging_freq=4\n"
     ]
    },
    {
     "name": "stderr",
     "output_type": "stream",
     "text": [
      "\u001b[32m[I 2022-12-29 05:25:14,778]\u001b[0m Trial 93 finished with value: 0.7012308901487566 and parameters: {'lambda_l1': 2.091467138503654e-05, 'lambda_l2': 1.9617511265465768e-06, 'num_leaves': 21, 'feature_fraction': 0.8518559562036256, 'bagging_fraction': 0.5947581316407684, 'bagging_freq': 4, 'min_child_samples': 60, 'max_depth': 7, 'learning_rate': 0.08089811707614357, 'n_estimators': 1024, 'colsample_bytree': 0.974362521285874}. Best is trial 93 with value: 0.7012308901487566.\u001b[0m\n",
      "C:\\Users\\aaa\\AppData\\Local\\Temp\\ipykernel_22016\\1003895381.py:21: FutureWarning: suggest_uniform has been deprecated in v3.0.0. This feature will be removed in v6.0.0. See https://github.com/optuna/optuna/releases/tag/v3.0.0. Use :func:`~optuna.trial.Trial.suggest_float` instead.\n",
      "  'colsample_bytree': trial.suggest_uniform('colsample_bytree', 0.7, 1.0)\n"
     ]
    },
    {
     "name": "stdout",
     "output_type": "stream",
     "text": [
      "[LightGBM] [Warning] feature_fraction is set=0.8981471087977448, colsample_bytree=0.9665443381863612 will be ignored. Current value: feature_fraction=0.8981471087977448\n",
      "[LightGBM] [Warning] lambda_l1 is set=3.3250671335180204e-05, reg_alpha=0.0 will be ignored. Current value: lambda_l1=3.3250671335180204e-05\n",
      "[LightGBM] [Warning] bagging_fraction is set=0.5902008845805758, subsample=1.0 will be ignored. Current value: bagging_fraction=0.5902008845805758\n",
      "[LightGBM] [Warning] lambda_l2 is set=7.833012614460911e-07, reg_lambda=0.0 will be ignored. Current value: lambda_l2=7.833012614460911e-07\n",
      "[LightGBM] [Warning] bagging_freq is set=5, subsample_freq=0 will be ignored. Current value: bagging_freq=5\n"
     ]
    },
    {
     "name": "stderr",
     "output_type": "stream",
     "text": [
      "\u001b[32m[I 2022-12-29 06:07:32,297]\u001b[0m Trial 94 finished with value: 0.6616659750524206 and parameters: {'lambda_l1': 3.3250671335180204e-05, 'lambda_l2': 7.833012614460911e-07, 'num_leaves': 34, 'feature_fraction': 0.8981471087977448, 'bagging_fraction': 0.5902008845805758, 'bagging_freq': 5, 'min_child_samples': 60, 'max_depth': 7, 'learning_rate': 0.04464456097543359, 'n_estimators': 1006, 'colsample_bytree': 0.9665443381863612}. Best is trial 93 with value: 0.7012308901487566.\u001b[0m\n",
      "C:\\Users\\aaa\\AppData\\Local\\Temp\\ipykernel_22016\\1003895381.py:21: FutureWarning: suggest_uniform has been deprecated in v3.0.0. This feature will be removed in v6.0.0. See https://github.com/optuna/optuna/releases/tag/v3.0.0. Use :func:`~optuna.trial.Trial.suggest_float` instead.\n",
      "  'colsample_bytree': trial.suggest_uniform('colsample_bytree', 0.7, 1.0)\n"
     ]
    },
    {
     "name": "stdout",
     "output_type": "stream",
     "text": [
      "[LightGBM] [Warning] feature_fraction is set=0.8388375607834956, colsample_bytree=0.9909723678073687 will be ignored. Current value: feature_fraction=0.8388375607834956\n",
      "[LightGBM] [Warning] lambda_l1 is set=1.4321733837674997e-05, reg_alpha=0.0 will be ignored. Current value: lambda_l1=1.4321733837674997e-05\n",
      "[LightGBM] [Warning] bagging_fraction is set=0.5666706001833498, subsample=1.0 will be ignored. Current value: bagging_fraction=0.5666706001833498\n",
      "[LightGBM] [Warning] lambda_l2 is set=2.491562984001196e-06, reg_lambda=0.0 will be ignored. Current value: lambda_l2=2.491562984001196e-06\n",
      "[LightGBM] [Warning] bagging_freq is set=5, subsample_freq=0 will be ignored. Current value: bagging_freq=5\n"
     ]
    },
    {
     "name": "stderr",
     "output_type": "stream",
     "text": [
      "\u001b[32m[I 2022-12-29 06:38:36,160]\u001b[0m Trial 95 finished with value: 0.6883201468603919 and parameters: {'lambda_l1': 1.4321733837674997e-05, 'lambda_l2': 2.491562984001196e-06, 'num_leaves': 21, 'feature_fraction': 0.8388375607834956, 'bagging_fraction': 0.5666706001833498, 'bagging_freq': 5, 'min_child_samples': 64, 'max_depth': 7, 'learning_rate': 0.08211703945631317, 'n_estimators': 828, 'colsample_bytree': 0.9909723678073687}. Best is trial 93 with value: 0.7012308901487566.\u001b[0m\n",
      "C:\\Users\\aaa\\AppData\\Local\\Temp\\ipykernel_22016\\1003895381.py:21: FutureWarning: suggest_uniform has been deprecated in v3.0.0. This feature will be removed in v6.0.0. See https://github.com/optuna/optuna/releases/tag/v3.0.0. Use :func:`~optuna.trial.Trial.suggest_float` instead.\n",
      "  'colsample_bytree': trial.suggest_uniform('colsample_bytree', 0.7, 1.0)\n"
     ]
    },
    {
     "name": "stdout",
     "output_type": "stream",
     "text": [
      "[LightGBM] [Warning] feature_fraction is set=0.8566845362336387, colsample_bytree=0.991645067172104 will be ignored. Current value: feature_fraction=0.8566845362336387\n",
      "[LightGBM] [Warning] lambda_l1 is set=4.9951065362251415e-05, reg_alpha=0.0 will be ignored. Current value: lambda_l1=4.9951065362251415e-05\n",
      "[LightGBM] [Warning] bagging_fraction is set=0.620838482328417, subsample=1.0 will be ignored. Current value: bagging_fraction=0.620838482328417\n",
      "[LightGBM] [Warning] lambda_l2 is set=2.413368475406567e-06, reg_lambda=0.0 will be ignored. Current value: lambda_l2=2.413368475406567e-06\n",
      "[LightGBM] [Warning] bagging_freq is set=5, subsample_freq=0 will be ignored. Current value: bagging_freq=5\n"
     ]
    },
    {
     "name": "stderr",
     "output_type": "stream",
     "text": [
      "\u001b[32m[I 2022-12-29 07:04:05,209]\u001b[0m Trial 96 finished with value: 0.6762338443950391 and parameters: {'lambda_l1': 4.9951065362251415e-05, 'lambda_l2': 2.413368475406567e-06, 'num_leaves': 21, 'feature_fraction': 0.8566845362336387, 'bagging_fraction': 0.620838482328417, 'bagging_freq': 5, 'min_child_samples': 63, 'max_depth': 7, 'learning_rate': 0.07680401181822329, 'n_estimators': 702, 'colsample_bytree': 0.991645067172104}. Best is trial 93 with value: 0.7012308901487566.\u001b[0m\n",
      "C:\\Users\\aaa\\AppData\\Local\\Temp\\ipykernel_22016\\1003895381.py:21: FutureWarning: suggest_uniform has been deprecated in v3.0.0. This feature will be removed in v6.0.0. See https://github.com/optuna/optuna/releases/tag/v3.0.0. Use :func:`~optuna.trial.Trial.suggest_float` instead.\n",
      "  'colsample_bytree': trial.suggest_uniform('colsample_bytree', 0.7, 1.0)\n"
     ]
    },
    {
     "name": "stdout",
     "output_type": "stream",
     "text": [
      "[LightGBM] [Warning] feature_fraction is set=0.8403032013715612, colsample_bytree=0.989343455617038 will be ignored. Current value: feature_fraction=0.8403032013715612\n",
      "[LightGBM] [Warning] lambda_l1 is set=8.531681496179299e-05, reg_alpha=0.0 will be ignored. Current value: lambda_l1=8.531681496179299e-05\n",
      "[LightGBM] [Warning] bagging_fraction is set=0.610572385322839, subsample=1.0 will be ignored. Current value: bagging_fraction=0.610572385322839\n",
      "[LightGBM] [Warning] lambda_l2 is set=2.129170939654888e-06, reg_lambda=0.0 will be ignored. Current value: lambda_l2=2.129170939654888e-06\n",
      "[LightGBM] [Warning] bagging_freq is set=5, subsample_freq=0 will be ignored. Current value: bagging_freq=5\n"
     ]
    },
    {
     "name": "stderr",
     "output_type": "stream",
     "text": [
      "\u001b[32m[I 2022-12-29 07:29:30,008]\u001b[0m Trial 97 finished with value: 0.6304114234520437 and parameters: {'lambda_l1': 8.531681496179299e-05, 'lambda_l2': 2.129170939654888e-06, 'num_leaves': 24, 'feature_fraction': 0.8403032013715612, 'bagging_fraction': 0.610572385322839, 'bagging_freq': 5, 'min_child_samples': 75, 'max_depth': 7, 'learning_rate': 0.03980580885746136, 'n_estimators': 706, 'colsample_bytree': 0.989343455617038}. Best is trial 93 with value: 0.7012308901487566.\u001b[0m\n",
      "C:\\Users\\aaa\\AppData\\Local\\Temp\\ipykernel_22016\\1003895381.py:21: FutureWarning: suggest_uniform has been deprecated in v3.0.0. This feature will be removed in v6.0.0. See https://github.com/optuna/optuna/releases/tag/v3.0.0. Use :func:`~optuna.trial.Trial.suggest_float` instead.\n",
      "  'colsample_bytree': trial.suggest_uniform('colsample_bytree', 0.7, 1.0)\n"
     ]
    },
    {
     "name": "stdout",
     "output_type": "stream",
     "text": [
      "[LightGBM] [Warning] feature_fraction is set=0.8495396983246014, colsample_bytree=0.9697761629523678 will be ignored. Current value: feature_fraction=0.8495396983246014\n",
      "[LightGBM] [Warning] lambda_l1 is set=1.060761113423425e-05, reg_alpha=0.0 will be ignored. Current value: lambda_l1=1.060761113423425e-05\n",
      "[LightGBM] [Warning] bagging_fraction is set=0.5940956256076528, subsample=1.0 will be ignored. Current value: bagging_fraction=0.5940956256076528\n",
      "[LightGBM] [Warning] lambda_l2 is set=2.950325907487618e-07, reg_lambda=0.0 will be ignored. Current value: lambda_l2=2.950325907487618e-07\n",
      "[LightGBM] [Warning] bagging_freq is set=6, subsample_freq=0 will be ignored. Current value: bagging_freq=6\n"
     ]
    },
    {
     "name": "stderr",
     "output_type": "stream",
     "text": [
      "\u001b[32m[I 2022-12-29 07:59:52,827]\u001b[0m Trial 98 finished with value: 0.6773358469617982 and parameters: {'lambda_l1': 1.060761113423425e-05, 'lambda_l2': 2.950325907487618e-07, 'num_leaves': 18, 'feature_fraction': 0.8495396983246014, 'bagging_fraction': 0.5940956256076528, 'bagging_freq': 6, 'min_child_samples': 64, 'max_depth': 7, 'learning_rate': 0.06877632897628436, 'n_estimators': 832, 'colsample_bytree': 0.9697761629523678}. Best is trial 93 with value: 0.7012308901487566.\u001b[0m\n",
      "C:\\Users\\aaa\\AppData\\Local\\Temp\\ipykernel_22016\\1003895381.py:21: FutureWarning: suggest_uniform has been deprecated in v3.0.0. This feature will be removed in v6.0.0. See https://github.com/optuna/optuna/releases/tag/v3.0.0. Use :func:`~optuna.trial.Trial.suggest_float` instead.\n",
      "  'colsample_bytree': trial.suggest_uniform('colsample_bytree', 0.7, 1.0)\n"
     ]
    },
    {
     "name": "stdout",
     "output_type": "stream",
     "text": [
      "[LightGBM] [Warning] feature_fraction is set=0.8818268880765461, colsample_bytree=0.9710957873395686 will be ignored. Current value: feature_fraction=0.8818268880765461\n",
      "[LightGBM] [Warning] lambda_l1 is set=1.069191184021489e-05, reg_alpha=0.0 will be ignored. Current value: lambda_l1=1.069191184021489e-05\n",
      "[LightGBM] [Warning] bagging_fraction is set=0.596464152861748, subsample=1.0 will be ignored. Current value: bagging_fraction=0.596464152861748\n",
      "[LightGBM] [Warning] lambda_l2 is set=1.713804278478829e-07, reg_lambda=0.0 will be ignored. Current value: lambda_l2=1.713804278478829e-07\n",
      "[LightGBM] [Warning] bagging_freq is set=6, subsample_freq=0 will be ignored. Current value: bagging_freq=6\n"
     ]
    },
    {
     "name": "stderr",
     "output_type": "stream",
     "text": [
      "\u001b[32m[I 2022-12-29 08:33:35,361]\u001b[0m Trial 99 finished with value: 0.6584451595705213 and parameters: {'lambda_l1': 1.069191184021489e-05, 'lambda_l2': 1.713804278478829e-07, 'num_leaves': 171, 'feature_fraction': 0.8818268880765461, 'bagging_fraction': 0.596464152861748, 'bagging_freq': 6, 'min_child_samples': 65, 'max_depth': 7, 'learning_rate': 0.04909603459218401, 'n_estimators': 865, 'colsample_bytree': 0.9710957873395686}. Best is trial 93 with value: 0.7012308901487566.\u001b[0m\n"
     ]
    }
   ],
   "source": [
    "sampler = TPESampler(seed=1)\n",
    "study = optuna.create_study(study_name=\"lightgbm\", direction=\"maximize\", sampler=sampler)\n",
    "study.optimize(objective, n_trials=100)"
   ]
  },
  {
   "cell_type": "code",
   "execution_count": 34,
   "id": "4cabf5dd",
   "metadata": {},
   "outputs": [
    {
     "name": "stdout",
     "output_type": "stream",
     "text": [
      "Best parameters: {'lambda_l1': 2.091467138503654e-05, 'lambda_l2': 1.9617511265465768e-06, 'num_leaves': 21, 'feature_fraction': 0.8518559562036256, 'bagging_fraction': 0.5947581316407684, 'bagging_freq': 4, 'min_child_samples': 60, 'max_depth': 7, 'learning_rate': 0.08089811707614357, 'n_estimators': 1024, 'colsample_bytree': 0.974362521285874}\n"
     ]
    }
   ],
   "source": [
    "print('Best parameters:', study.best_params)"
   ]
  },
  {
   "cell_type": "code",
   "execution_count": 35,
   "id": "7db649a8",
   "metadata": {},
   "outputs": [
    {
     "name": "stdout",
     "output_type": "stream",
     "text": [
      "Best value: 0.7012308901487566\n"
     ]
    }
   ],
   "source": [
    "print('Best value:', study.best_value)"
   ]
  },
  {
   "cell_type": "code",
   "execution_count": 36,
   "id": "d4b2d5f1",
   "metadata": {},
   "outputs": [
    {
     "name": "stdout",
     "output_type": "stream",
     "text": [
      "[LightGBM] [Warning] feature_fraction is set=0.8518559562036256, colsample_bytree=0.974362521285874 will be ignored. Current value: feature_fraction=0.8518559562036256\n",
      "[LightGBM] [Warning] lambda_l1 is set=2.091467138503654e-05, reg_alpha=0.0 will be ignored. Current value: lambda_l1=2.091467138503654e-05\n",
      "[LightGBM] [Warning] bagging_fraction is set=0.5947581316407684, subsample=1.0 will be ignored. Current value: bagging_fraction=0.5947581316407684\n",
      "[LightGBM] [Warning] lambda_l2 is set=1.9617511265465768e-06, reg_lambda=0.0 will be ignored. Current value: lambda_l2=1.9617511265465768e-06\n",
      "[LightGBM] [Warning] bagging_freq is set=4, subsample_freq=0 will be ignored. Current value: bagging_freq=4\n"
     ]
    },
    {
     "data": {
      "text/plain": [
       "LGBMClassifier(bagging_fraction=0.5947581316407684, bagging_freq=4,\n",
       "               colsample_bytree=0.974362521285874,\n",
       "               feature_fraction=0.8518559562036256,\n",
       "               lambda_l1=2.091467138503654e-05,\n",
       "               lambda_l2=1.9617511265465768e-06,\n",
       "               learning_rate=0.08089811707614357, max_depth=7,\n",
       "               min_child_samples=60, n_estimators=1024, num_leaves=21)"
      ]
     },
     "execution_count": 36,
     "metadata": {},
     "output_type": "execute_result"
    }
   ],
   "source": [
    "lgbm = LGBMClassifier(**study.best_params)\n",
    "lgbm.fit(X_train,y_train)"
   ]
  },
  {
   "cell_type": "markdown",
   "id": "611183e6",
   "metadata": {},
   "source": [
    "{\"boosting_type\": \"dart\",'lambda_l1': 8.542148667276337e-08, 'lambda_l2': 1.9916591603663802e-08, 'num_leaves': 226, 'feature_fraction': 0.6846783064206934, 'bagging_fraction': 0.627250417502912, 'bagging_freq': 2, 'min_child_samples': 5} => 정확도 0.7940303457424758"
   ]
  },
  {
   "cell_type": "code",
   "execution_count": 37,
   "id": "7b1037f4",
   "metadata": {},
   "outputs": [
    {
     "name": "stdout",
     "output_type": "stream",
     "text": [
      "정확도 0.7559984940214299\n"
     ]
    }
   ],
   "source": [
    "pred = lgbm.predict(X_test)\n",
    "accuracy = accuracy_score(y_test,pred)\n",
    "\n",
    "print('정확도', accuracy)"
   ]
  },
  {
   "cell_type": "code",
   "execution_count": 38,
   "id": "87a976ac",
   "metadata": {},
   "outputs": [
    {
     "data": {
      "text/plain": [
       "0.7559984940214299"
      ]
     },
     "execution_count": 38,
     "metadata": {},
     "output_type": "execute_result"
    }
   ],
   "source": [
    "np.mean(pred==y_test)"
   ]
  },
  {
   "cell_type": "code",
   "execution_count": 39,
   "id": "d1c7c450",
   "metadata": {},
   "outputs": [
    {
     "data": {
      "text/plain": [
       "366448     2\n",
       "331009     0\n",
       "965419     4\n",
       "326512     0\n",
       "1000524    5\n",
       "          ..\n",
       "396878     2\n",
       "1057854    5\n",
       "710508     3\n",
       "922063     4\n",
       "414574     2\n",
       "Name: topic_idx, Length: 363883, dtype: int64"
      ]
     },
     "execution_count": 39,
     "metadata": {},
     "output_type": "execute_result"
    }
   ],
   "source": [
    "y_test"
   ]
  },
  {
   "cell_type": "code",
   "execution_count": 40,
   "id": "237bbda1",
   "metadata": {},
   "outputs": [
    {
     "data": {
      "text/plain": [
       "array([2, 0, 4, ..., 3, 4, 2], dtype=int64)"
      ]
     },
     "execution_count": 40,
     "metadata": {},
     "output_type": "execute_result"
    }
   ],
   "source": [
    "pred"
   ]
  },
  {
   "cell_type": "code",
   "execution_count": 41,
   "id": "aa80c397",
   "metadata": {},
   "outputs": [
    {
     "data": {
      "text/plain": [
       "366448     2\n",
       "331009     0\n",
       "965419     4\n",
       "326512     0\n",
       "1000524    5\n",
       "          ..\n",
       "396878     2\n",
       "1057854    5\n",
       "710508     3\n",
       "922063     4\n",
       "414574     2\n",
       "Name: topic_idx, Length: 275095, dtype: int64"
      ]
     },
     "execution_count": 41,
     "metadata": {},
     "output_type": "execute_result"
    }
   ],
   "source": [
    "y_test.loc[pred==y_test] #예측값,실제값 일치 인덱스"
   ]
  },
  {
   "cell_type": "code",
   "execution_count": 42,
   "id": "73c942a2",
   "metadata": {},
   "outputs": [
    {
     "data": {
      "text/plain": [
       "366448     2\n",
       "331009     0\n",
       "965419     4\n",
       "326512     0\n",
       "1000524    5\n",
       "          ..\n",
       "396878     2\n",
       "1057854    5\n",
       "710508     3\n",
       "922063     4\n",
       "414574     2\n",
       "Name: topic_idx, Length: 275095, dtype: int64"
      ]
     },
     "execution_count": 42,
     "metadata": {},
     "output_type": "execute_result"
    }
   ],
   "source": [
    "y_test.loc[pred==y_test]"
   ]
  },
  {
   "cell_type": "code",
   "execution_count": 91,
   "id": "47f79b3a",
   "metadata": {},
   "outputs": [
    {
     "data": {
      "text/html": [
       "<div>\n",
       "<style scoped>\n",
       "    .dataframe tbody tr th:only-of-type {\n",
       "        vertical-align: middle;\n",
       "    }\n",
       "\n",
       "    .dataframe tbody tr th {\n",
       "        vertical-align: top;\n",
       "    }\n",
       "\n",
       "    .dataframe thead th {\n",
       "        text-align: right;\n",
       "    }\n",
       "</style>\n",
       "<table border=\"1\" class=\"dataframe\">\n",
       "  <thead>\n",
       "    <tr style=\"text-align: right;\">\n",
       "      <th></th>\n",
       "      <th>topic_idx</th>\n",
       "      <th>topic</th>\n",
       "      <th>cleaned_title</th>\n",
       "    </tr>\n",
       "  </thead>\n",
       "  <tbody>\n",
       "    <tr>\n",
       "      <th>156230</th>\n",
       "      <td>4</td>\n",
       "      <td>스포츠</td>\n",
       "      <td>영국 신문 정상빈 울버햄튼 유망주 탐색 성과</td>\n",
       "    </tr>\n",
       "    <tr>\n",
       "      <th>168923</th>\n",
       "      <td>5</td>\n",
       "      <td>정치</td>\n",
       "      <td>선대본부장 권영세 독배 자리 아냐단일화없이 이길 것</td>\n",
       "    </tr>\n",
       "    <tr>\n",
       "      <th>183746</th>\n",
       "      <td>5</td>\n",
       "      <td>정치</td>\n",
       "      <td>국힘 김건희 통화록 유출 MBC측 제작진변호사 등 고발</td>\n",
       "    </tr>\n",
       "    <tr>\n",
       "      <th>111384</th>\n",
       "      <td>3</td>\n",
       "      <td>문화</td>\n",
       "      <td>보아소녀시대레드벨벳에스파가 총출동 갓 더 비트 도대체 누구야</td>\n",
       "    </tr>\n",
       "    <tr>\n",
       "      <th>86116</th>\n",
       "      <td>2</td>\n",
       "      <td>사회</td>\n",
       "      <td>경찰 설 명절 종합치안활동에 총력 대응</td>\n",
       "    </tr>\n",
       "    <tr>\n",
       "      <th>...</th>\n",
       "      <td>...</td>\n",
       "      <td>...</td>\n",
       "      <td>...</td>\n",
       "    </tr>\n",
       "    <tr>\n",
       "      <th>3312</th>\n",
       "      <td>1</td>\n",
       "      <td>경제</td>\n",
       "      <td>딩동 소리로 망신 주나방역패스 유효기간에 반발종합</td>\n",
       "    </tr>\n",
       "    <tr>\n",
       "      <th>172345</th>\n",
       "      <td>5</td>\n",
       "      <td>정치</td>\n",
       "      <td>오늘부터 정당후보자 명의 대선 여론조사 금지</td>\n",
       "    </tr>\n",
       "    <tr>\n",
       "      <th>130995</th>\n",
       "      <td>4</td>\n",
       "      <td>스포츠</td>\n",
       "      <td>속공받은 임동섭 레이업슛</td>\n",
       "    </tr>\n",
       "    <tr>\n",
       "      <th>130583</th>\n",
       "      <td>4</td>\n",
       "      <td>스포츠</td>\n",
       "      <td>임동섭 조준완료</td>\n",
       "    </tr>\n",
       "    <tr>\n",
       "      <th>22817</th>\n",
       "      <td>1</td>\n",
       "      <td>경제</td>\n",
       "      <td>iXiX3i4 출격 BMW 전기차 리더십 강화</td>\n",
       "    </tr>\n",
       "  </tbody>\n",
       "</table>\n",
       "<p>47884 rows × 3 columns</p>\n",
       "</div>"
      ],
      "text/plain": [
       "        topic_idx topic                      cleaned_title\n",
       "156230          4   스포츠           영국 신문 정상빈 울버햄튼 유망주 탐색 성과\n",
       "168923          5    정치       선대본부장 권영세 독배 자리 아냐단일화없이 이길 것\n",
       "183746          5    정치     국힘 김건희 통화록 유출 MBC측 제작진변호사 등 고발\n",
       "111384          3    문화  보아소녀시대레드벨벳에스파가 총출동 갓 더 비트 도대체 누구야\n",
       "86116           2    사회              경찰 설 명절 종합치안활동에 총력 대응\n",
       "...           ...   ...                                ...\n",
       "3312            1    경제        딩동 소리로 망신 주나방역패스 유효기간에 반발종합\n",
       "172345          5    정치           오늘부터 정당후보자 명의 대선 여론조사 금지\n",
       "130995          4   스포츠                      속공받은 임동섭 레이업슛\n",
       "130583          4   스포츠                           임동섭 조준완료\n",
       "22817           1    경제          iXiX3i4 출격 BMW 전기차 리더십 강화\n",
       "\n",
       "[47884 rows x 3 columns]"
      ]
     },
     "execution_count": 91,
     "metadata": {},
     "output_type": "execute_result"
    }
   ],
   "source": [
    "train.iloc[y_test.loc[pred==y_test].index,1:] #예측값과 실제값이 일치하는 부분"
   ]
  },
  {
   "cell_type": "code",
   "execution_count": null,
   "id": "3ef117a1",
   "metadata": {},
   "outputs": [],
   "source": []
  }
 ],
 "metadata": {
  "kernelspec": {
   "display_name": "Python 3 (ipykernel)",
   "language": "python",
   "name": "python3"
  },
  "language_info": {
   "codemirror_mode": {
    "name": "ipython",
    "version": 3
   },
   "file_extension": ".py",
   "mimetype": "text/x-python",
   "name": "python",
   "nbconvert_exporter": "python",
   "pygments_lexer": "ipython3",
   "version": "3.9.12"
  }
 },
 "nbformat": 4,
 "nbformat_minor": 5
}
