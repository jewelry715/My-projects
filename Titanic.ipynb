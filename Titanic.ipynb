{
 "cells": [
  {
   "cell_type": "code",
   "execution_count": 1,
   "metadata": {},
   "outputs": [],
   "source": [
    "import numpy as np\n",
    "import pandas as pd\n",
    "train=pd.read_csv('train.csv')\n",
    "test=pd.read_csv('test.csv')"
   ]
  },
  {
   "cell_type": "code",
   "execution_count": 2,
   "metadata": {},
   "outputs": [
    {
     "data": {
      "text/html": [
       "<div>\n",
       "<style scoped>\n",
       "    .dataframe tbody tr th:only-of-type {\n",
       "        vertical-align: middle;\n",
       "    }\n",
       "\n",
       "    .dataframe tbody tr th {\n",
       "        vertical-align: top;\n",
       "    }\n",
       "\n",
       "    .dataframe thead th {\n",
       "        text-align: right;\n",
       "    }\n",
       "</style>\n",
       "<table border=\"1\" class=\"dataframe\">\n",
       "  <thead>\n",
       "    <tr style=\"text-align: right;\">\n",
       "      <th></th>\n",
       "      <th>PassengerId</th>\n",
       "      <th>Survived</th>\n",
       "      <th>Pclass</th>\n",
       "      <th>Name</th>\n",
       "      <th>Sex</th>\n",
       "      <th>Age</th>\n",
       "      <th>SibSp</th>\n",
       "      <th>Parch</th>\n",
       "      <th>Ticket</th>\n",
       "      <th>Fare</th>\n",
       "      <th>Cabin</th>\n",
       "      <th>Embarked</th>\n",
       "    </tr>\n",
       "  </thead>\n",
       "  <tbody>\n",
       "    <tr>\n",
       "      <th>0</th>\n",
       "      <td>1</td>\n",
       "      <td>0</td>\n",
       "      <td>3</td>\n",
       "      <td>Braund, Mr. Owen Harris</td>\n",
       "      <td>male</td>\n",
       "      <td>22.0</td>\n",
       "      <td>1</td>\n",
       "      <td>0</td>\n",
       "      <td>A/5 21171</td>\n",
       "      <td>7.2500</td>\n",
       "      <td>NaN</td>\n",
       "      <td>S</td>\n",
       "    </tr>\n",
       "    <tr>\n",
       "      <th>1</th>\n",
       "      <td>2</td>\n",
       "      <td>1</td>\n",
       "      <td>1</td>\n",
       "      <td>Cumings, Mrs. John Bradley (Florence Briggs Th...</td>\n",
       "      <td>female</td>\n",
       "      <td>38.0</td>\n",
       "      <td>1</td>\n",
       "      <td>0</td>\n",
       "      <td>PC 17599</td>\n",
       "      <td>71.2833</td>\n",
       "      <td>C85</td>\n",
       "      <td>C</td>\n",
       "    </tr>\n",
       "    <tr>\n",
       "      <th>2</th>\n",
       "      <td>3</td>\n",
       "      <td>1</td>\n",
       "      <td>3</td>\n",
       "      <td>Heikkinen, Miss. Laina</td>\n",
       "      <td>female</td>\n",
       "      <td>26.0</td>\n",
       "      <td>0</td>\n",
       "      <td>0</td>\n",
       "      <td>STON/O2. 3101282</td>\n",
       "      <td>7.9250</td>\n",
       "      <td>NaN</td>\n",
       "      <td>S</td>\n",
       "    </tr>\n",
       "    <tr>\n",
       "      <th>3</th>\n",
       "      <td>4</td>\n",
       "      <td>1</td>\n",
       "      <td>1</td>\n",
       "      <td>Futrelle, Mrs. Jacques Heath (Lily May Peel)</td>\n",
       "      <td>female</td>\n",
       "      <td>35.0</td>\n",
       "      <td>1</td>\n",
       "      <td>0</td>\n",
       "      <td>113803</td>\n",
       "      <td>53.1000</td>\n",
       "      <td>C123</td>\n",
       "      <td>S</td>\n",
       "    </tr>\n",
       "    <tr>\n",
       "      <th>4</th>\n",
       "      <td>5</td>\n",
       "      <td>0</td>\n",
       "      <td>3</td>\n",
       "      <td>Allen, Mr. William Henry</td>\n",
       "      <td>male</td>\n",
       "      <td>35.0</td>\n",
       "      <td>0</td>\n",
       "      <td>0</td>\n",
       "      <td>373450</td>\n",
       "      <td>8.0500</td>\n",
       "      <td>NaN</td>\n",
       "      <td>S</td>\n",
       "    </tr>\n",
       "  </tbody>\n",
       "</table>\n",
       "</div>"
      ],
      "text/plain": [
       "   PassengerId  Survived  Pclass  \\\n",
       "0            1         0       3   \n",
       "1            2         1       1   \n",
       "2            3         1       3   \n",
       "3            4         1       1   \n",
       "4            5         0       3   \n",
       "\n",
       "                                                Name     Sex   Age  SibSp  \\\n",
       "0                            Braund, Mr. Owen Harris    male  22.0      1   \n",
       "1  Cumings, Mrs. John Bradley (Florence Briggs Th...  female  38.0      1   \n",
       "2                             Heikkinen, Miss. Laina  female  26.0      0   \n",
       "3       Futrelle, Mrs. Jacques Heath (Lily May Peel)  female  35.0      1   \n",
       "4                           Allen, Mr. William Henry    male  35.0      0   \n",
       "\n",
       "   Parch            Ticket     Fare Cabin Embarked  \n",
       "0      0         A/5 21171   7.2500   NaN        S  \n",
       "1      0          PC 17599  71.2833   C85        C  \n",
       "2      0  STON/O2. 3101282   7.9250   NaN        S  \n",
       "3      0            113803  53.1000  C123        S  \n",
       "4      0            373450   8.0500   NaN        S  "
      ]
     },
     "execution_count": 2,
     "metadata": {},
     "output_type": "execute_result"
    }
   ],
   "source": [
    "train.head()"
   ]
  },
  {
   "cell_type": "code",
   "execution_count": 3,
   "metadata": {},
   "outputs": [
    {
     "data": {
      "text/html": [
       "<div>\n",
       "<style scoped>\n",
       "    .dataframe tbody tr th:only-of-type {\n",
       "        vertical-align: middle;\n",
       "    }\n",
       "\n",
       "    .dataframe tbody tr th {\n",
       "        vertical-align: top;\n",
       "    }\n",
       "\n",
       "    .dataframe thead th {\n",
       "        text-align: right;\n",
       "    }\n",
       "</style>\n",
       "<table border=\"1\" class=\"dataframe\">\n",
       "  <thead>\n",
       "    <tr style=\"text-align: right;\">\n",
       "      <th></th>\n",
       "      <th>PassengerId</th>\n",
       "      <th>Pclass</th>\n",
       "      <th>Name</th>\n",
       "      <th>Sex</th>\n",
       "      <th>Age</th>\n",
       "      <th>SibSp</th>\n",
       "      <th>Parch</th>\n",
       "      <th>Ticket</th>\n",
       "      <th>Fare</th>\n",
       "      <th>Cabin</th>\n",
       "      <th>Embarked</th>\n",
       "    </tr>\n",
       "  </thead>\n",
       "  <tbody>\n",
       "    <tr>\n",
       "      <th>0</th>\n",
       "      <td>892</td>\n",
       "      <td>3</td>\n",
       "      <td>Kelly, Mr. James</td>\n",
       "      <td>male</td>\n",
       "      <td>34.5</td>\n",
       "      <td>0</td>\n",
       "      <td>0</td>\n",
       "      <td>330911</td>\n",
       "      <td>7.8292</td>\n",
       "      <td>NaN</td>\n",
       "      <td>Q</td>\n",
       "    </tr>\n",
       "    <tr>\n",
       "      <th>1</th>\n",
       "      <td>893</td>\n",
       "      <td>3</td>\n",
       "      <td>Wilkes, Mrs. James (Ellen Needs)</td>\n",
       "      <td>female</td>\n",
       "      <td>47.0</td>\n",
       "      <td>1</td>\n",
       "      <td>0</td>\n",
       "      <td>363272</td>\n",
       "      <td>7.0000</td>\n",
       "      <td>NaN</td>\n",
       "      <td>S</td>\n",
       "    </tr>\n",
       "    <tr>\n",
       "      <th>2</th>\n",
       "      <td>894</td>\n",
       "      <td>2</td>\n",
       "      <td>Myles, Mr. Thomas Francis</td>\n",
       "      <td>male</td>\n",
       "      <td>62.0</td>\n",
       "      <td>0</td>\n",
       "      <td>0</td>\n",
       "      <td>240276</td>\n",
       "      <td>9.6875</td>\n",
       "      <td>NaN</td>\n",
       "      <td>Q</td>\n",
       "    </tr>\n",
       "    <tr>\n",
       "      <th>3</th>\n",
       "      <td>895</td>\n",
       "      <td>3</td>\n",
       "      <td>Wirz, Mr. Albert</td>\n",
       "      <td>male</td>\n",
       "      <td>27.0</td>\n",
       "      <td>0</td>\n",
       "      <td>0</td>\n",
       "      <td>315154</td>\n",
       "      <td>8.6625</td>\n",
       "      <td>NaN</td>\n",
       "      <td>S</td>\n",
       "    </tr>\n",
       "    <tr>\n",
       "      <th>4</th>\n",
       "      <td>896</td>\n",
       "      <td>3</td>\n",
       "      <td>Hirvonen, Mrs. Alexander (Helga E Lindqvist)</td>\n",
       "      <td>female</td>\n",
       "      <td>22.0</td>\n",
       "      <td>1</td>\n",
       "      <td>1</td>\n",
       "      <td>3101298</td>\n",
       "      <td>12.2875</td>\n",
       "      <td>NaN</td>\n",
       "      <td>S</td>\n",
       "    </tr>\n",
       "  </tbody>\n",
       "</table>\n",
       "</div>"
      ],
      "text/plain": [
       "   PassengerId  Pclass                                          Name     Sex  \\\n",
       "0          892       3                              Kelly, Mr. James    male   \n",
       "1          893       3              Wilkes, Mrs. James (Ellen Needs)  female   \n",
       "2          894       2                     Myles, Mr. Thomas Francis    male   \n",
       "3          895       3                              Wirz, Mr. Albert    male   \n",
       "4          896       3  Hirvonen, Mrs. Alexander (Helga E Lindqvist)  female   \n",
       "\n",
       "    Age  SibSp  Parch   Ticket     Fare Cabin Embarked  \n",
       "0  34.5      0      0   330911   7.8292   NaN        Q  \n",
       "1  47.0      1      0   363272   7.0000   NaN        S  \n",
       "2  62.0      0      0   240276   9.6875   NaN        Q  \n",
       "3  27.0      0      0   315154   8.6625   NaN        S  \n",
       "4  22.0      1      1  3101298  12.2875   NaN        S  "
      ]
     },
     "execution_count": 3,
     "metadata": {},
     "output_type": "execute_result"
    }
   ],
   "source": [
    "test.head()"
   ]
  },
  {
   "cell_type": "code",
   "execution_count": 4,
   "metadata": {},
   "outputs": [
    {
     "data": {
      "text/plain": [
       "PassengerId      0\n",
       "Survived         0\n",
       "Pclass           0\n",
       "Name             0\n",
       "Sex              0\n",
       "Age            177\n",
       "SibSp            0\n",
       "Parch            0\n",
       "Ticket           0\n",
       "Fare             0\n",
       "Cabin          687\n",
       "Embarked         2\n",
       "dtype: int64"
      ]
     },
     "execution_count": 4,
     "metadata": {},
     "output_type": "execute_result"
    }
   ],
   "source": [
    "train.isnull().sum()"
   ]
  },
  {
   "cell_type": "code",
   "execution_count": 5,
   "metadata": {},
   "outputs": [
    {
     "data": {
      "text/plain": [
       "PassengerId      0\n",
       "Pclass           0\n",
       "Name             0\n",
       "Sex              0\n",
       "Age             86\n",
       "SibSp            0\n",
       "Parch            0\n",
       "Ticket           0\n",
       "Fare             1\n",
       "Cabin          327\n",
       "Embarked         0\n",
       "dtype: int64"
      ]
     },
     "execution_count": 5,
     "metadata": {},
     "output_type": "execute_result"
    }
   ],
   "source": [
    "test.isnull().sum()"
   ]
  },
  {
   "cell_type": "code",
   "execution_count": 6,
   "metadata": {},
   "outputs": [
    {
     "data": {
      "text/plain": [
       "S    644\n",
       "C    168\n",
       "Q     77\n",
       "Name: Embarked, dtype: int64"
      ]
     },
     "execution_count": 6,
     "metadata": {},
     "output_type": "execute_result"
    }
   ],
   "source": [
    "train['Embarked'].value_counts()"
   ]
  },
  {
   "cell_type": "code",
   "execution_count": 7,
   "metadata": {},
   "outputs": [
    {
     "data": {
      "text/plain": [
       "PassengerId      0\n",
       "Survived         0\n",
       "Pclass           0\n",
       "Name             0\n",
       "Sex              0\n",
       "Age              0\n",
       "SibSp            0\n",
       "Parch            0\n",
       "Ticket           0\n",
       "Fare             0\n",
       "Cabin          687\n",
       "Embarked         0\n",
       "dtype: int64"
      ]
     },
     "execution_count": 7,
     "metadata": {},
     "output_type": "execute_result"
    }
   ],
   "source": [
    "train['Age'].fillna(train['Age'].median(),inplace=True)\n",
    "train['Embarked'].fillna('Q',inplace=True)\n",
    "train.isnull().sum()"
   ]
  },
  {
   "cell_type": "code",
   "execution_count": 8,
   "metadata": {},
   "outputs": [
    {
     "data": {
      "text/plain": [
       "PassengerId      0\n",
       "Pclass           0\n",
       "Name             0\n",
       "Sex              0\n",
       "Age              0\n",
       "SibSp            0\n",
       "Parch            0\n",
       "Ticket           0\n",
       "Fare             0\n",
       "Cabin          327\n",
       "Embarked         0\n",
       "dtype: int64"
      ]
     },
     "execution_count": 8,
     "metadata": {},
     "output_type": "execute_result"
    }
   ],
   "source": [
    "test['Fare'].fillna(test['Fare'].mean(),inplace=True)\n",
    "test['Age'].fillna(test['Age'].median(),inplace=True)\n",
    "test.isnull().sum()"
   ]
  },
  {
   "cell_type": "code",
   "execution_count": 9,
   "metadata": {},
   "outputs": [
    {
     "data": {
      "text/plain": [
       "male      468\n",
       "female     81\n",
       "Name: Sex, dtype: int64"
      ]
     },
     "execution_count": 9,
     "metadata": {},
     "output_type": "execute_result"
    }
   ],
   "source": [
    "train[train['Survived']==0]['Sex'].value_counts()#사망자 중 남자가 468,여자 81"
   ]
  },
  {
   "cell_type": "code",
   "execution_count": 10,
   "metadata": {},
   "outputs": [
    {
     "data": {
      "text/plain": [
       "female    233\n",
       "male      109\n",
       "Name: Sex, dtype: int64"
      ]
     },
     "execution_count": 10,
     "metadata": {},
     "output_type": "execute_result"
    }
   ],
   "source": [
    "train[train['Survived']==1]['Sex'].value_counts()#생존자 중 여자가 남자의 2배임"
   ]
  },
  {
   "cell_type": "code",
   "execution_count": 11,
   "metadata": {},
   "outputs": [
    {
     "data": {
      "text/plain": [
       "<matplotlib.axes._subplots.AxesSubplot at 0x1f01c7f0f60>"
      ]
     },
     "execution_count": 11,
     "metadata": {},
     "output_type": "execute_result"
    },
    {
     "data": {
      "image/png": "[encoded data removed]",
      "text/plain": [
       "<Figure size 432x288 with 1 Axes>"
      ]
     },
     "metadata": {
      "needs_background": "light"
     },
     "output_type": "display_data"
    }
   ],
   "source": [
    "import seaborn as sns\n",
    "import matplotlib.pyplot as plt\n",
    "sns.barplot(x='Sex',y='Survived',data=train)"
   ]
  },
  {
   "cell_type": "markdown",
   "metadata": {},
   "source": [
    "생존자들은 여자가 많고 사망자는 남자들이 많다"
   ]
  },
  {
   "cell_type": "code",
   "execution_count": 12,
   "metadata": {},
   "outputs": [
    {
     "data": {
      "text/plain": [
       "1    136\n",
       "3    119\n",
       "2     87\n",
       "Name: Pclass, dtype: int64"
      ]
     },
     "execution_count": 12,
     "metadata": {},
     "output_type": "execute_result"
    }
   ],
   "source": [
    "train[train['Survived']==1]['Pclass'].value_counts() #1등,3등석은 생존자가 다수"
   ]
  },
  {
   "cell_type": "code",
   "execution_count": 13,
   "metadata": {},
   "outputs": [
    {
     "data": {
      "text/plain": [
       "3    372\n",
       "2     97\n",
       "1     80\n",
       "Name: Pclass, dtype: int64"
      ]
     },
     "execution_count": 13,
     "metadata": {},
     "output_type": "execute_result"
    }
   ],
   "source": [
    "train[train['Survived']==0]['Pclass'].value_counts()#의외로 사망자가 3등석에서 많이 나옴"
   ]
  },
  {
   "cell_type": "code",
   "execution_count": 14,
   "metadata": {},
   "outputs": [
    {
     "data": {
      "image/png": "[encoded data removed]",
      "text/plain": [
       "<Figure size 432x288 with 1 Axes>"
      ]
     },
     "metadata": {
      "needs_background": "light"
     },
     "output_type": "display_data"
    }
   ],
   "source": [
    "sns.barplot(x='Pclass',y='Survived',data=train)\n",
    "plt.show()"
   ]
  },
  {
   "cell_type": "markdown",
   "metadata": {},
   "source": [
    "3등석에 사망자가 더 많고 1등석에 생존자가 제일 많다"
   ]
  },
  {
   "cell_type": "code",
   "execution_count": 15,
   "metadata": {},
   "outputs": [
    {
     "data": {
      "image/png": "[encoded data removed]",
      "text/plain": [
       "<Figure size 432x288 with 1 Axes>"
      ]
     },
     "metadata": {
      "needs_background": "light"
     },
     "output_type": "display_data"
    }
   ],
   "source": [
    "import matplotlib.pyplot as plt\n",
    "train[train['Survived']==0]['Age'].hist()#20~30대에서 사망자가 많이 나왔음\n",
    "plt.show()"
   ]
  },
  {
   "cell_type": "code",
   "execution_count": 16,
   "metadata": {},
   "outputs": [
    {
     "data": {
      "text/plain": [
       "S    427\n",
       "C     75\n",
       "Q     47\n",
       "Name: Embarked, dtype: int64"
      ]
     },
     "execution_count": 16,
     "metadata": {},
     "output_type": "execute_result"
    }
   ],
   "source": [
    "train[train['Survived']==0]['Embarked'].value_counts()#S에서 사망자가 다수"
   ]
  },
  {
   "cell_type": "code",
   "execution_count": 17,
   "metadata": {},
   "outputs": [
    {
     "data": {
      "text/plain": [
       "0    398\n",
       "1     97\n",
       "4     15\n",
       "2     15\n",
       "3     12\n",
       "8      7\n",
       "5      5\n",
       "Name: SibSp, dtype: int64"
      ]
     },
     "execution_count": 17,
     "metadata": {},
     "output_type": "execute_result"
    }
   ],
   "source": [
    "train[train['Survived']==0]['SibSp'].value_counts()#혼자 있을 때 사망자가 많음"
   ]
  },
  {
   "cell_type": "code",
   "execution_count": 18,
   "metadata": {},
   "outputs": [
    {
     "data": {
      "text/plain": [
       "0    210\n",
       "1    112\n",
       "2     13\n",
       "3      4\n",
       "4      3\n",
       "Name: SibSp, dtype: int64"
      ]
     },
     "execution_count": 18,
     "metadata": {},
     "output_type": "execute_result"
    }
   ],
   "source": [
    "train[train['Survived']==1]['SibSp'].value_counts()#혼자 있으나 같이 있어도 생존함"
   ]
  },
  {
   "cell_type": "code",
   "execution_count": 19,
   "metadata": {},
   "outputs": [
    {
     "data": {
      "text/plain": [
       "0    445\n",
       "1     53\n",
       "2     40\n",
       "5      4\n",
       "4      4\n",
       "3      2\n",
       "6      1\n",
       "Name: Parch, dtype: int64"
      ]
     },
     "execution_count": 19,
     "metadata": {},
     "output_type": "execute_result"
    }
   ],
   "source": [
    "train[train['Survived']==0]['Parch'].value_counts()#자매나 부모를 태운 수가 없는 경우가 많음"
   ]
  },
  {
   "cell_type": "code",
   "execution_count": 20,
   "metadata": {},
   "outputs": [
    {
     "data": {
      "text/plain": [
       "0    233\n",
       "1     65\n",
       "2     40\n",
       "3      3\n",
       "5      1\n",
       "Name: Parch, dtype: int64"
      ]
     },
     "execution_count": 20,
     "metadata": {},
     "output_type": "execute_result"
    }
   ],
   "source": [
    "train[train['Survived']==1]['Parch'].value_counts()"
   ]
  },
  {
   "cell_type": "code",
   "execution_count": 21,
   "metadata": {},
   "outputs": [],
   "source": [
    "x_train=train[['Pclass','Sex','Age','Parch','Embarked']]\n",
    "y_train=train['Survived']"
   ]
  },
  {
   "cell_type": "code",
   "execution_count": 22,
   "metadata": {},
   "outputs": [
    {
     "name": "stdout",
     "output_type": "stream",
     "text": [
      "<class 'pandas.core.frame.DataFrame'>\n",
      "RangeIndex: 891 entries, 0 to 890\n",
      "Data columns (total 5 columns):\n",
      "Pclass      891 non-null int64\n",
      "Sex         891 non-null object\n",
      "Age         891 non-null float64\n",
      "Parch       891 non-null int64\n",
      "Embarked    891 non-null object\n",
      "dtypes: float64(1), int64(2), object(2)\n",
      "memory usage: 34.9+ KB\n"
     ]
    }
   ],
   "source": [
    "x_train.info()"
   ]
  },
  {
   "cell_type": "code",
   "execution_count": 23,
   "metadata": {},
   "outputs": [
    {
     "data": {
      "text/html": [
       "<div>\n",
       "<style scoped>\n",
       "    .dataframe tbody tr th:only-of-type {\n",
       "        vertical-align: middle;\n",
       "    }\n",
       "\n",
       "    .dataframe tbody tr th {\n",
       "        vertical-align: top;\n",
       "    }\n",
       "\n",
       "    .dataframe thead th {\n",
       "        text-align: right;\n",
       "    }\n",
       "</style>\n",
       "<table border=\"1\" class=\"dataframe\">\n",
       "  <thead>\n",
       "    <tr style=\"text-align: right;\">\n",
       "      <th></th>\n",
       "      <th>Pclass</th>\n",
       "      <th>Sex</th>\n",
       "      <th>Age</th>\n",
       "      <th>Parch</th>\n",
       "      <th>Embarked</th>\n",
       "    </tr>\n",
       "  </thead>\n",
       "  <tbody>\n",
       "    <tr>\n",
       "      <th>0</th>\n",
       "      <td>3</td>\n",
       "      <td>male</td>\n",
       "      <td>22.0</td>\n",
       "      <td>0</td>\n",
       "      <td>S</td>\n",
       "    </tr>\n",
       "    <tr>\n",
       "      <th>1</th>\n",
       "      <td>1</td>\n",
       "      <td>female</td>\n",
       "      <td>38.0</td>\n",
       "      <td>0</td>\n",
       "      <td>C</td>\n",
       "    </tr>\n",
       "    <tr>\n",
       "      <th>2</th>\n",
       "      <td>3</td>\n",
       "      <td>female</td>\n",
       "      <td>26.0</td>\n",
       "      <td>0</td>\n",
       "      <td>S</td>\n",
       "    </tr>\n",
       "    <tr>\n",
       "      <th>3</th>\n",
       "      <td>1</td>\n",
       "      <td>female</td>\n",
       "      <td>35.0</td>\n",
       "      <td>0</td>\n",
       "      <td>S</td>\n",
       "    </tr>\n",
       "    <tr>\n",
       "      <th>4</th>\n",
       "      <td>3</td>\n",
       "      <td>male</td>\n",
       "      <td>35.0</td>\n",
       "      <td>0</td>\n",
       "      <td>S</td>\n",
       "    </tr>\n",
       "  </tbody>\n",
       "</table>\n",
       "</div>"
      ],
      "text/plain": [
       "   Pclass     Sex   Age  Parch Embarked\n",
       "0       3    male  22.0      0        S\n",
       "1       1  female  38.0      0        C\n",
       "2       3  female  26.0      0        S\n",
       "3       1  female  35.0      0        S\n",
       "4       3    male  35.0      0        S"
      ]
     },
     "execution_count": 23,
     "metadata": {},
     "output_type": "execute_result"
    }
   ],
   "source": [
    "x_train.head()"
   ]
  },
  {
   "cell_type": "code",
   "execution_count": 24,
   "metadata": {},
   "outputs": [
    {
     "data": {
      "text/plain": [
       "0    0\n",
       "1    1\n",
       "2    1\n",
       "3    1\n",
       "4    0\n",
       "Name: Survived, dtype: int64"
      ]
     },
     "execution_count": 24,
     "metadata": {},
     "output_type": "execute_result"
    }
   ],
   "source": [
    "y_train.head()"
   ]
  },
  {
   "cell_type": "code",
   "execution_count": 25,
   "metadata": {},
   "outputs": [],
   "source": [
    "x_test=test[['Pclass','Sex','Age','Parch','Embarked']]"
   ]
  },
  {
   "cell_type": "code",
   "execution_count": 26,
   "metadata": {},
   "outputs": [
    {
     "data": {
      "text/html": [
       "<div>\n",
       "<style scoped>\n",
       "    .dataframe tbody tr th:only-of-type {\n",
       "        vertical-align: middle;\n",
       "    }\n",
       "\n",
       "    .dataframe tbody tr th {\n",
       "        vertical-align: top;\n",
       "    }\n",
       "\n",
       "    .dataframe thead th {\n",
       "        text-align: right;\n",
       "    }\n",
       "</style>\n",
       "<table border=\"1\" class=\"dataframe\">\n",
       "  <thead>\n",
       "    <tr style=\"text-align: right;\">\n",
       "      <th></th>\n",
       "      <th>PassengerId</th>\n",
       "      <th>Survived</th>\n",
       "    </tr>\n",
       "  </thead>\n",
       "  <tbody>\n",
       "    <tr>\n",
       "      <th>0</th>\n",
       "      <td>892</td>\n",
       "      <td>0</td>\n",
       "    </tr>\n",
       "    <tr>\n",
       "      <th>1</th>\n",
       "      <td>893</td>\n",
       "      <td>1</td>\n",
       "    </tr>\n",
       "    <tr>\n",
       "      <th>2</th>\n",
       "      <td>894</td>\n",
       "      <td>0</td>\n",
       "    </tr>\n",
       "    <tr>\n",
       "      <th>3</th>\n",
       "      <td>895</td>\n",
       "      <td>0</td>\n",
       "    </tr>\n",
       "    <tr>\n",
       "      <th>4</th>\n",
       "      <td>896</td>\n",
       "      <td>1</td>\n",
       "    </tr>\n",
       "  </tbody>\n",
       "</table>\n",
       "</div>"
      ],
      "text/plain": [
       "   PassengerId  Survived\n",
       "0          892         0\n",
       "1          893         1\n",
       "2          894         0\n",
       "3          895         0\n",
       "4          896         1"
      ]
     },
     "execution_count": 26,
     "metadata": {},
     "output_type": "execute_result"
    }
   ],
   "source": [
    "submit=pd.read_csv('sample_submission.csv')\n",
    "submit.head()"
   ]
  },
  {
   "cell_type": "code",
   "execution_count": 27,
   "metadata": {},
   "outputs": [
    {
     "data": {
      "text/html": [
       "<div>\n",
       "<style scoped>\n",
       "    .dataframe tbody tr th:only-of-type {\n",
       "        vertical-align: middle;\n",
       "    }\n",
       "\n",
       "    .dataframe tbody tr th {\n",
       "        vertical-align: top;\n",
       "    }\n",
       "\n",
       "    .dataframe thead th {\n",
       "        text-align: right;\n",
       "    }\n",
       "</style>\n",
       "<table border=\"1\" class=\"dataframe\">\n",
       "  <thead>\n",
       "    <tr style=\"text-align: right;\">\n",
       "      <th></th>\n",
       "      <th>Pclass</th>\n",
       "      <th>Sex</th>\n",
       "      <th>Age</th>\n",
       "      <th>Parch</th>\n",
       "      <th>Embarked</th>\n",
       "    </tr>\n",
       "  </thead>\n",
       "  <tbody>\n",
       "    <tr>\n",
       "      <th>0</th>\n",
       "      <td>3</td>\n",
       "      <td>male</td>\n",
       "      <td>34.5</td>\n",
       "      <td>0</td>\n",
       "      <td>Q</td>\n",
       "    </tr>\n",
       "    <tr>\n",
       "      <th>1</th>\n",
       "      <td>3</td>\n",
       "      <td>female</td>\n",
       "      <td>47.0</td>\n",
       "      <td>0</td>\n",
       "      <td>S</td>\n",
       "    </tr>\n",
       "    <tr>\n",
       "      <th>2</th>\n",
       "      <td>2</td>\n",
       "      <td>male</td>\n",
       "      <td>62.0</td>\n",
       "      <td>0</td>\n",
       "      <td>Q</td>\n",
       "    </tr>\n",
       "    <tr>\n",
       "      <th>3</th>\n",
       "      <td>3</td>\n",
       "      <td>male</td>\n",
       "      <td>27.0</td>\n",
       "      <td>0</td>\n",
       "      <td>S</td>\n",
       "    </tr>\n",
       "    <tr>\n",
       "      <th>4</th>\n",
       "      <td>3</td>\n",
       "      <td>female</td>\n",
       "      <td>22.0</td>\n",
       "      <td>1</td>\n",
       "      <td>S</td>\n",
       "    </tr>\n",
       "  </tbody>\n",
       "</table>\n",
       "</div>"
      ],
      "text/plain": [
       "   Pclass     Sex   Age  Parch Embarked\n",
       "0       3    male  34.5      0        Q\n",
       "1       3  female  47.0      0        S\n",
       "2       2    male  62.0      0        Q\n",
       "3       3    male  27.0      0        S\n",
       "4       3  female  22.0      1        S"
      ]
     },
     "execution_count": 27,
     "metadata": {},
     "output_type": "execute_result"
    }
   ],
   "source": [
    "x_test.head()"
   ]
  },
  {
   "cell_type": "code",
   "execution_count": 28,
   "metadata": {},
   "outputs": [
    {
     "name": "stdout",
     "output_type": "stream",
     "text": [
      "<class 'pandas.core.series.Series'>\n",
      "<class 'pandas.core.frame.DataFrame'>\n"
     ]
    }
   ],
   "source": [
    "x_train_data=x_train.values\n",
    "x_test_data=x_test.values\n",
    "print(type(y_train))\n",
    "print(type(x_test))"
   ]
  },
  {
   "cell_type": "code",
   "execution_count": 29,
   "metadata": {},
   "outputs": [
    {
     "name": "stdout",
     "output_type": "stream",
     "text": [
      "<class 'numpy.ndarray'>\n",
      "<class 'numpy.ndarray'>\n",
      "<class 'numpy.ndarray'>\n"
     ]
    }
   ],
   "source": [
    "y_train_data=y_train.values\n",
    "print(type(y_train_data))\n",
    "print(type(x_train_data))\n",
    "print(type(x_test_data))"
   ]
  },
  {
   "cell_type": "code",
   "execution_count": 30,
   "metadata": {},
   "outputs": [
    {
     "name": "stdout",
     "output_type": "stream",
     "text": [
      "(891, 5)\n",
      "(418, 5)\n",
      "(891,)\n"
     ]
    }
   ],
   "source": [
    "print(x_train.shape)\n",
    "print(x_test.shape)\n",
    "print(y_train.shape)"
   ]
  },
  {
   "cell_type": "code",
   "execution_count": 31,
   "metadata": {},
   "outputs": [
    {
     "data": {
      "text/plain": [
       "<matplotlib.axes._subplots.AxesSubplot at 0x1f01f9a4f60>"
      ]
     },
     "execution_count": 31,
     "metadata": {},
     "output_type": "execute_result"
    },
    {
     "data": {
      "image/png": "[encoded data removed]",
      "text/plain": [
       "<Figure size 432x288 with 1 Axes>"
      ]
     },
     "metadata": {
      "needs_background": "light"
     },
     "output_type": "display_data"
    }
   ],
   "source": [
    "sns.countplot(x='Survived',data=train)"
   ]
  },
  {
   "cell_type": "code",
   "execution_count": 32,
   "metadata": {},
   "outputs": [],
   "source": [
    "for i in range(len(x_train_data)):\n",
    "    if x_train_data[i,1]=='male':\n",
    "        x_train_data[i,1]=1.0\n",
    "    else:\n",
    "        x_train_data[i,1]=0.0\n",
    "for i in range(len(x_test_data)):\n",
    "    if x_test_data[i,1]=='male':\n",
    "        x_test_data[i,1]=1.0\n",
    "    else:\n",
    "        x_test_data[i,1]=0.0"
   ]
  },
  {
   "cell_type": "code",
   "execution_count": 33,
   "metadata": {},
   "outputs": [
    {
     "data": {
      "text/plain": [
       "array([[3, 1.0, 22.0, 0, 'S'],\n",
       "       [1, 0.0, 38.0, 0, 'C'],\n",
       "       [3, 0.0, 26.0, 0, 'S'],\n",
       "       ...,\n",
       "       [3, 0.0, 28.0, 2, 'S'],\n",
       "       [1, 1.0, 26.0, 0, 'C'],\n",
       "       [3, 1.0, 32.0, 0, 'Q']], dtype=object)"
      ]
     },
     "execution_count": 33,
     "metadata": {},
     "output_type": "execute_result"
    }
   ],
   "source": [
    "x_train_data"
   ]
  },
  {
   "cell_type": "code",
   "execution_count": 34,
   "metadata": {},
   "outputs": [],
   "source": [
    "for i in range(len(x_train_data)):\n",
    "    if x_train_data[i,-1]=='S':\n",
    "        x_train_data[i,-1]=1.0\n",
    "    elif x_train_data[i,-1]=='C':\n",
    "        x_train_data[i,-1]=2.0\n",
    "    else:\n",
    "        x_train_data[i,-1]=3.0\n",
    "for i in range(len(x_test_data)):\n",
    "    if x_test_data[i,-1]=='S':\n",
    "        x_test_data[i,-1]=1.0\n",
    "    elif x_test_data[i,-1]=='C':\n",
    "        x_test_data[i,-1]=2.0\n",
    "    else:\n",
    "        x_test_data[i,-1]=3.0"
   ]
  },
  {
   "cell_type": "code",
   "execution_count": 35,
   "metadata": {},
   "outputs": [
    {
     "data": {
      "text/plain": [
       "array([[3, 1.0, 22.0, 0, 1.0],\n",
       "       [1, 0.0, 38.0, 0, 2.0],\n",
       "       [3, 0.0, 26.0, 0, 1.0],\n",
       "       ...,\n",
       "       [3, 0.0, 28.0, 2, 1.0],\n",
       "       [1, 1.0, 26.0, 0, 2.0],\n",
       "       [3, 1.0, 32.0, 0, 3.0]], dtype=object)"
      ]
     },
     "execution_count": 35,
     "metadata": {},
     "output_type": "execute_result"
    }
   ],
   "source": [
    "x_train_data"
   ]
  },
  {
   "cell_type": "code",
   "execution_count": 36,
   "metadata": {},
   "outputs": [
    {
     "data": {
      "text/plain": [
       "array([[3, 1.0, 34.5, 0, 3.0],\n",
       "       [3, 0.0, 47.0, 0, 1.0],\n",
       "       [2, 1.0, 62.0, 0, 3.0],\n",
       "       ...,\n",
       "       [3, 1.0, 38.5, 0, 1.0],\n",
       "       [3, 1.0, 27.0, 0, 1.0],\n",
       "       [3, 1.0, 27.0, 1, 2.0]], dtype=object)"
      ]
     },
     "execution_count": 36,
     "metadata": {},
     "output_type": "execute_result"
    }
   ],
   "source": [
    "x_test_data"
   ]
  },
  {
   "cell_type": "code",
   "execution_count": 37,
   "metadata": {
    "collapsed": true
   },
   "outputs": [
    {
     "data": {
      "text/plain": [
       "array([0, 1, 1, 1, 0, 0, 0, 0, 1, 1, 1, 1, 0, 0, 0, 1, 0, 1, 0, 1, 0, 1,\n",
       "       1, 1, 0, 1, 0, 0, 1, 0, 0, 1, 1, 0, 0, 0, 1, 0, 0, 1, 0, 0, 0, 1,\n",
       "       1, 0, 0, 1, 0, 0, 0, 0, 1, 1, 0, 1, 1, 0, 1, 0, 0, 1, 0, 0, 0, 1,\n",
       "       1, 0, 1, 0, 0, 0, 0, 0, 1, 0, 0, 0, 1, 1, 0, 1, 1, 0, 1, 1, 0, 0,\n",
       "       1, 0, 0, 0, 0, 0, 0, 0, 0, 1, 1, 0, 0, 0, 0, 0, 0, 0, 1, 1, 0, 1,\n",
       "       0, 0, 0, 0, 0, 0, 0, 0, 0, 0, 0, 0, 0, 1, 0, 1, 0, 1, 1, 0, 0, 0,\n",
       "       0, 1, 0, 0, 1, 0, 0, 0, 0, 1, 1, 0, 0, 0, 1, 0, 0, 0, 0, 1, 0, 0,\n",
       "       0, 0, 1, 0, 0, 0, 0, 1, 0, 0, 0, 1, 1, 0, 0, 0, 0, 0, 1, 0, 0, 0,\n",
       "       0, 0, 0, 0, 0, 0, 0, 1, 1, 0, 1, 1, 0, 0, 1, 0, 1, 1, 1, 1, 0, 0,\n",
       "       1, 0, 0, 0, 0, 0, 1, 0, 0, 1, 1, 1, 0, 1, 0, 0, 0, 1, 1, 0, 1, 0,\n",
       "       1, 0, 0, 0, 1, 0, 1, 0, 0, 0, 1, 0, 0, 1, 0, 0, 0, 1, 0, 0, 0, 1,\n",
       "       0, 0, 0, 0, 0, 1, 1, 0, 0, 0, 0, 0, 0, 1, 1, 1, 1, 1, 0, 1, 0, 0,\n",
       "       0, 0, 0, 1, 1, 1, 0, 1, 1, 0, 1, 1, 0, 0, 0, 1, 0, 0, 0, 1, 0, 0,\n",
       "       1, 0, 1, 1, 1, 1, 0, 0, 0, 0, 0, 0, 1, 1, 1, 1, 0, 1, 0, 1, 1, 1,\n",
       "       0, 1, 1, 1, 0, 0, 0, 1, 1, 0, 1, 1, 0, 0, 1, 1, 0, 1, 0, 1, 1, 1,\n",
       "       1, 0, 0, 0, 1, 0, 0, 1, 1, 0, 1, 1, 0, 0, 0, 1, 1, 1, 1, 0, 0, 0,\n",
       "       0, 0, 0, 0, 1, 0, 1, 1, 0, 0, 0, 0, 0, 0, 1, 1, 1, 1, 1, 0, 0, 0,\n",
       "       0, 1, 1, 0, 0, 0, 1, 1, 0, 1, 0, 0, 0, 1, 0, 1, 1, 1, 0, 1, 1, 0,\n",
       "       0, 0, 0, 1, 1, 0, 0, 0, 0, 0, 0, 1, 0, 0, 0, 0, 1, 0, 1, 0, 1, 1,\n",
       "       0, 0, 0, 0, 0, 0, 0, 0, 1, 1, 0, 1, 1, 1, 1, 0, 0, 1, 0, 1, 0, 0,\n",
       "       1, 0, 0, 1, 1, 1, 1, 1, 1, 1, 0, 0, 0, 1, 0, 1, 0, 1, 1, 0, 1, 0,\n",
       "       0, 0, 0, 0, 0, 0, 0, 1, 0, 0, 1, 1, 0, 0, 0, 0, 0, 1, 0, 0, 0, 1,\n",
       "       1, 0, 1, 0, 0, 1, 0, 0, 0, 0, 0, 0, 1, 0, 0, 0, 0, 0, 0, 0, 1, 0,\n",
       "       1, 1, 0, 1, 1, 0, 1, 1, 0, 0, 1, 0, 1, 0, 1, 0, 0, 1, 0, 0, 1, 0,\n",
       "       0, 0, 1, 0, 0, 1, 0, 1, 0, 1, 0, 1, 1, 0, 0, 1, 0, 0, 1, 1, 0, 1,\n",
       "       1, 0, 0, 1, 1, 0, 1, 0, 1, 1, 0, 0, 0, 0, 0, 0, 0, 0, 0, 1, 1, 1,\n",
       "       1, 1, 0, 0, 1, 1, 0, 1, 1, 1, 0, 0, 0, 1, 0, 1, 0, 0, 0, 1, 0, 0,\n",
       "       0, 0, 1, 0, 0, 1, 1, 0, 0, 0, 1, 0, 0, 1, 1, 1, 0, 0, 1, 0, 0, 1,\n",
       "       0, 0, 1, 0, 0, 1, 1, 0, 0, 0, 0, 1, 0, 0, 1, 0, 1, 0, 0, 1, 0, 0,\n",
       "       0, 0, 0, 1, 0, 1, 1, 1, 0, 1, 0, 1, 0, 1, 0, 1, 0, 0, 0, 0, 0, 0,\n",
       "       1, 0, 0, 0, 1, 0, 0, 0, 0, 1, 1, 0, 0, 1, 0, 0, 0, 1, 0, 1, 0, 1,\n",
       "       0, 0, 0, 0, 0, 0, 0, 1, 1, 1, 1, 0, 0, 0, 0, 1, 0, 0, 1, 1, 0, 0,\n",
       "       0, 0, 1, 1, 1, 1, 1, 0, 1, 0, 0, 0, 1, 1, 0, 0, 1, 0, 0, 0, 1, 0,\n",
       "       1, 1, 0, 0, 1, 0, 0, 0, 0, 0, 0, 1, 0, 0, 1, 0, 1, 0, 1, 0, 0, 1,\n",
       "       0, 0, 1, 1, 0, 0, 1, 1, 0, 0, 0, 1, 0, 0, 1, 1, 0, 1, 0, 0, 0, 0,\n",
       "       0, 0, 0, 0, 1, 0, 0, 1, 0, 1, 1, 1, 0, 0, 0, 0, 1, 0, 1, 0, 0, 0,\n",
       "       0, 0, 0, 0, 1, 1, 0, 0, 0, 1, 1, 1, 1, 0, 0, 0, 0, 1, 0, 0, 0, 0,\n",
       "       0, 0, 0, 0, 0, 0, 1, 1, 0, 1, 0, 0, 0, 1, 1, 1, 1, 1, 0, 0, 0, 1,\n",
       "       0, 0, 1, 1, 0, 0, 1, 0, 0, 0, 0, 0, 0, 1, 0, 0, 0, 1, 0, 1, 1, 1,\n",
       "       1, 0, 0, 0, 1, 0, 0, 1, 1, 0, 0, 1, 0, 1, 0, 0, 1, 1, 0, 0, 0, 1,\n",
       "       1, 0, 0, 0, 0, 0, 0, 1, 0, 1, 0], dtype=int64)"
      ]
     },
     "execution_count": 37,
     "metadata": {},
     "output_type": "execute_result"
    }
   ],
   "source": [
    "y_train_data"
   ]
  },
  {
   "cell_type": "code",
   "execution_count": 38,
   "metadata": {},
   "outputs": [
    {
     "name": "stderr",
     "output_type": "stream",
     "text": [
      "C:\\Users\\zzang\\Anaconda3\\lib\\site-packages\\sklearn\\linear_model\\logistic.py:433: FutureWarning: Default solver will be changed to 'lbfgs' in 0.22. Specify a solver to silence this warning.\n",
      "  FutureWarning)\n"
     ]
    },
    {
     "data": {
      "text/plain": [
       "LogisticRegression(C=1.0, class_weight=None, dual=False, fit_intercept=True,\n",
       "          intercept_scaling=1, max_iter=100, multi_class='warn',\n",
       "          n_jobs=None, penalty='l2', random_state=None, solver='warn',\n",
       "          tol=0.0001, verbose=0, warm_start=False)"
      ]
     },
     "execution_count": 38,
     "metadata": {},
     "output_type": "execute_result"
    }
   ],
   "source": [
    "from sklearn.linear_model import LogisticRegression\n",
    "logistic=LogisticRegression()\n",
    "logistic.fit(x_train_data,y_train_data)\n",
    "#test['Survived']=logistic.predict(x_test_data)"
   ]
  },
  {
   "cell_type": "code",
   "execution_count": 42,
   "metadata": {},
   "outputs": [
    {
     "data": {
      "text/plain": [
       "XGBClassifier(base_score=0.5, booster='gbtree', colsample_bylevel=1,\n",
       "       colsample_bynode=1, colsample_bytree=1, gamma=0, learning_rate=0.1,\n",
       "       max_delta_step=0, max_depth=3, min_child_weight=1, missing=None,\n",
       "       n_estimators=100, n_jobs=1, nthread=None,\n",
       "       objective='binary:logistic', random_state=0, reg_alpha=0,\n",
       "       reg_lambda=1, scale_pos_weight=1, seed=None, silent=None,\n",
       "       subsample=1, verbosity=1)"
      ]
     },
     "execution_count": 42,
     "metadata": {},
     "output_type": "execute_result"
    }
   ],
   "source": [
    "from xgboost import XGBClassifier\n",
    "xg_boost=XGBClassifier()\n",
    "xg_boost.fit(x_train_data,y_train_data)"
   ]
  },
  {
   "cell_type": "code",
   "execution_count": 43,
   "metadata": {},
   "outputs": [],
   "source": [
    "pred=xg_boost.predict(x_test_data)"
   ]
  },
  {
   "cell_type": "code",
   "execution_count": 44,
   "metadata": {},
   "outputs": [],
   "source": [
    "submit['Survived']=pred\n",
    "submit.to_csv('sample_submission_2.csv',index=False)"
   ]
  },
  {
   "cell_type": "code",
   "execution_count": 42,
   "metadata": {},
   "outputs": [],
   "source": [
    "y_test_data=test['Survived'].values"
   ]
  },
  {
   "cell_type": "code",
   "execution_count": 43,
   "metadata": {},
   "outputs": [
    {
     "data": {
      "text/plain": [
       "0.9473684210526315"
      ]
     },
     "execution_count": 43,
     "metadata": {},
     "output_type": "execute_result"
    }
   ],
   "source": [
    "y_real=submit['Survived'].values\n",
    "np.mean(y_test_data==y_real)"
   ]
  },
  {
   "cell_type": "code",
   "execution_count": 44,
   "metadata": {},
   "outputs": [],
   "source": [
    "submit['Survived']=y_test_data\n",
    "submit.to_csv('sample_submission_1.csv',index=False)"
   ]
  },
  {
   "cell_type": "code",
   "execution_count": 45,
   "metadata": {},
   "outputs": [
    {
     "name": "stderr",
     "output_type": "stream",
     "text": [
      "C:\\Users\\zzang\\Anaconda3\\lib\\site-packages\\sklearn\\ensemble\\forest.py:246: FutureWarning: The default value of n_estimators will change from 10 in version 0.20 to 100 in 0.22.\n",
      "  \"10 in version 0.20 to 100 in 0.22.\", FutureWarning)\n"
     ]
    },
    {
     "data": {
      "text/plain": [
       "RandomForestRegressor(bootstrap=True, criterion='mse', max_depth=None,\n",
       "           max_features='auto', max_leaf_nodes=None,\n",
       "           min_impurity_decrease=0.0, min_impurity_split=None,\n",
       "           min_samples_leaf=1, min_samples_split=2,\n",
       "           min_weight_fraction_leaf=0.0, n_estimators=10, n_jobs=None,\n",
       "           oob_score=False, random_state=None, verbose=0, warm_start=False)"
      ]
     },
     "execution_count": 45,
     "metadata": {},
     "output_type": "execute_result"
    }
   ],
   "source": [
    "from sklearn.ensemble import RandomForestRegressor\n",
    "forest=RandomForestRegressor()\n",
    "forest.fit(x_train_data,y_train_data)"
   ]
  },
  {
   "cell_type": "code",
   "execution_count": 46,
   "metadata": {
    "collapsed": true
   },
   "outputs": [
    {
     "data": {
      "text/plain": [
       "array([0.        , 0.        , 0.2       , 0.71666667, 0.55      ,\n",
       "       0.29666667, 0.33116667, 0.        , 0.1       , 0.09674639,\n",
       "       0.71666667, 0.02      , 1.        , 0.4       , 1.        ,\n",
       "       0.82666667, 0.        , 0.36      , 0.90666667, 0.02      ,\n",
       "       0.2       , 0.605     , 0.9       , 0.2       , 1.        ,\n",
       "       0.        , 1.        , 0.375     , 0.12333333, 0.06666667,\n",
       "       0.        , 0.        , 0.5       , 0.6       , 0.11111111,\n",
       "       0.39055556, 0.90666667, 0.42833333, 0.22761405, 0.71666667,\n",
       "       0.07857143, 0.93157895, 0.        , 1.        , 1.        ,\n",
       "       0.22761405, 0.09333333, 0.05006999, 1.        , 0.5       ,\n",
       "       0.3       , 0.15      , 1.        , 0.7       , 0.15      ,\n",
       "       0.2       , 0.        , 0.22761405, 0.71666667, 1.        ,\n",
       "       0.        , 0.32380952, 0.14246032, 0.8       , 0.8       ,\n",
       "       0.6       , 0.1       , 0.        , 0.36111111, 1.        ,\n",
       "       0.77916667, 0.09674639, 0.28619048, 0.15011905, 1.        ,\n",
       "       0.61111111, 0.71666667, 1.        , 0.        , 0.77916667,\n",
       "       0.8       , 0.        , 1.        , 0.71666667, 0.13702652,\n",
       "       0.06666667, 0.86061172, 0.30893939, 0.86061172, 1.        ,\n",
       "       0.61380952, 0.71666667, 0.5       , 0.71666667, 1.        ,\n",
       "       0.22761405, 1.        , 0.10580087, 0.22      , 0.        ,\n",
       "       1.        , 0.        , 0.05006999, 0.06150794, 0.7       ,\n",
       "       0.06147202, 0.221875  , 0.05006999, 0.71666667, 0.        ,\n",
       "       0.225     , 0.86061172, 1.        , 0.1       , 1.        ,\n",
       "       0.39055556, 0.06666667, 0.775     , 0.16666667, 1.        ,\n",
       "       1.        , 0.05006999, 1.        , 0.06147202, 0.05006999,\n",
       "       0.9       , 0.        , 0.86061172, 0.46142857, 0.10929293,\n",
       "       0.415     , 0.5       , 0.6       , 0.06666667, 0.        ,\n",
       "       0.10929293, 0.56666667, 0.        , 0.565     , 0.        ,\n",
       "       0.        , 1.        , 0.2       , 0.09239177, 0.65333333,\n",
       "       0.33333333, 0.93157895, 0.        , 0.93157895, 0.        ,\n",
       "       1.        , 0.06666667, 0.        , 0.5       , 0.25      ,\n",
       "       0.10929293, 1.        , 0.565     , 0.65333333, 0.8       ,\n",
       "       0.86061172, 0.23333333, 0.7       , 0.71666667, 0.31785714,\n",
       "       0.725     , 0.9       , 0.01111111, 1.        , 0.61380952,\n",
       "       0.71666667, 0.06666667, 0.        , 0.06666667, 0.        ,\n",
       "       1.        , 1.        , 0.2       , 1.        , 1.        ,\n",
       "       0.        , 0.1       , 1.        , 0.05006999, 0.8       ,\n",
       "       0.11785714, 1.        , 0.        , 0.6       , 0.11785714,\n",
       "       0.23388889, 0.93157895, 0.2       , 0.        , 0.8       ,\n",
       "       0.        , 1.        , 0.30893939, 0.        , 0.90666667,\n",
       "       0.86061172, 0.49333333, 0.        , 1.        , 0.        ,\n",
       "       1.        , 0.084     , 0.        , 1.        , 0.22761405,\n",
       "       0.415     , 0.71666667, 0.        , 0.7       , 0.2       ,\n",
       "       0.65333333, 0.86061172, 0.2       , 0.8       , 0.71666667,\n",
       "       1.        , 0.09674639, 0.95      , 0.09674639, 0.9       ,\n",
       "       0.61166667, 0.        , 0.86061172, 0.        , 0.        ,\n",
       "       0.1       , 1.        , 0.09674639, 0.05006999, 0.16      ,\n",
       "       0.10666667, 0.2       , 0.69333333, 1.        , 1.        ,\n",
       "       0.9       , 0.9       , 0.19333333, 0.71666667, 0.36666667,\n",
       "       0.12333333, 0.95      , 0.34357143, 1.        , 0.36      ,\n",
       "       0.9       , 0.10666667, 1.        , 0.10929293, 0.30060606,\n",
       "       0.71666667, 0.05006999, 0.06147202, 1.        , 0.09674639,\n",
       "       0.        , 0.09674639, 1.        , 0.775     , 0.        ,\n",
       "       0.71666667, 0.93157895, 0.71666667, 0.90666667, 0.        ,\n",
       "       0.        , 0.05006999, 1.        , 0.86061172, 0.06666667,\n",
       "       1.        , 0.09239177, 0.11785714, 0.        , 0.        ,\n",
       "       0.565     , 0.42      , 0.86061172, 0.3       , 0.69166667,\n",
       "       0.        , 0.71666667, 0.3       , 0.06666667, 0.71666667,\n",
       "       0.93157895, 0.33116667, 0.06666667, 0.        , 0.        ,\n",
       "       0.06150794, 0.9       , 0.06666667, 0.        , 0.10580087,\n",
       "       0.415     , 0.15      , 0.14      , 0.10929293, 0.86061172,\n",
       "       1.        , 0.        , 0.42      , 0.        , 0.        ,\n",
       "       0.14246032, 0.375     , 0.71666667, 0.084     , 0.9       ,\n",
       "       0.4       , 0.35      , 0.4       , 0.71666667, 0.        ,\n",
       "       0.06150794, 0.08095238, 0.        , 0.2       , 1.        ,\n",
       "       0.        , 1.        , 0.        , 0.        , 0.        ,\n",
       "       0.9       , 0.16      , 0.06666667, 0.425     , 0.71666667,\n",
       "       0.        , 0.32380952, 0.07857143, 0.        , 0.06666667,\n",
       "       0.        , 0.415     , 0.36666667, 1.        , 0.46666667,\n",
       "       0.23333333, 0.        , 0.02      , 0.        , 1.        ,\n",
       "       1.        , 0.        , 0.        , 0.        , 0.375     ,\n",
       "       0.725     , 1.        , 0.71666667, 0.05006999, 0.33333333,\n",
       "       0.        , 0.95      , 1.        , 0.71666667, 0.9       ,\n",
       "       0.7       , 0.06666667, 0.61380952, 1.        , 0.1       ,\n",
       "       0.        , 1.        , 1.        , 0.16666667, 1.        ,\n",
       "       1.        , 0.61380952, 0.        , 0.        , 0.2       ,\n",
       "       0.05006999, 0.521875  , 0.90666667, 0.78333333, 0.        ,\n",
       "       1.        , 0.10929293, 0.        , 0.221875  , 0.8       ,\n",
       "       0.4       , 1.        , 0.25      , 0.        , 0.15666667,\n",
       "       1.        , 0.05798611, 1.        , 0.        , 0.1       ,\n",
       "       1.        , 0.        , 1.        , 0.5       , 0.41333333,\n",
       "       0.435     , 0.        , 0.        , 0.86061172, 0.34166667,\n",
       "       0.86061172, 1.        , 0.28619048, 0.71666667, 1.        ,\n",
       "       0.        , 0.71666667, 0.3       ])"
      ]
     },
     "execution_count": 46,
     "metadata": {},
     "output_type": "execute_result"
    }
   ],
   "source": [
    "y_predicted=forest.predict(x_test_data)\n",
    "y_predicted"
   ]
  },
  {
   "cell_type": "code",
   "execution_count": 49,
   "metadata": {},
   "outputs": [],
   "source": [
    "y_predicted=y_predicted.round(0)"
   ]
  },
  {
   "cell_type": "code",
   "execution_count": 50,
   "metadata": {},
   "outputs": [
    {
     "data": {
      "text/plain": [
       "0.8038277511961722"
      ]
     },
     "execution_count": 50,
     "metadata": {},
     "output_type": "execute_result"
    }
   ],
   "source": [
    "np.mean(y_predicted==y_real)"
   ]
  },
  {
   "cell_type": "code",
   "execution_count": 51,
   "metadata": {},
   "outputs": [
    {
     "name": "stderr",
     "output_type": "stream",
     "text": [
      "Using TensorFlow backend.\n",
      "C:\\Users\\zzang\\Anaconda3\\lib\\site-packages\\tensorflow\\python\\framework\\dtypes.py:526: FutureWarning: Passing (type, 1) or '1type' as a synonym of type is deprecated; in a future version of numpy, it will be understood as (type, (1,)) / '(1,)type'.\n",
      "  _np_qint8 = np.dtype([(\"qint8\", np.int8, 1)])\n",
      "C:\\Users\\zzang\\Anaconda3\\lib\\site-packages\\tensorflow\\python\\framework\\dtypes.py:527: FutureWarning: Passing (type, 1) or '1type' as a synonym of type is deprecated; in a future version of numpy, it will be understood as (type, (1,)) / '(1,)type'.\n",
      "  _np_quint8 = np.dtype([(\"quint8\", np.uint8, 1)])\n",
      "C:\\Users\\zzang\\Anaconda3\\lib\\site-packages\\tensorflow\\python\\framework\\dtypes.py:528: FutureWarning: Passing (type, 1) or '1type' as a synonym of type is deprecated; in a future version of numpy, it will be understood as (type, (1,)) / '(1,)type'.\n",
      "  _np_qint16 = np.dtype([(\"qint16\", np.int16, 1)])\n",
      "C:\\Users\\zzang\\Anaconda3\\lib\\site-packages\\tensorflow\\python\\framework\\dtypes.py:529: FutureWarning: Passing (type, 1) or '1type' as a synonym of type is deprecated; in a future version of numpy, it will be understood as (type, (1,)) / '(1,)type'.\n",
      "  _np_quint16 = np.dtype([(\"quint16\", np.uint16, 1)])\n",
      "C:\\Users\\zzang\\Anaconda3\\lib\\site-packages\\tensorflow\\python\\framework\\dtypes.py:530: FutureWarning: Passing (type, 1) or '1type' as a synonym of type is deprecated; in a future version of numpy, it will be understood as (type, (1,)) / '(1,)type'.\n",
      "  _np_qint32 = np.dtype([(\"qint32\", np.int32, 1)])\n",
      "C:\\Users\\zzang\\Anaconda3\\lib\\site-packages\\tensorflow\\python\\framework\\dtypes.py:535: FutureWarning: Passing (type, 1) or '1type' as a synonym of type is deprecated; in a future version of numpy, it will be understood as (type, (1,)) / '(1,)type'.\n",
      "  np_resource = np.dtype([(\"resource\", np.ubyte, 1)])\n"
     ]
    },
    {
     "name": "stdout",
     "output_type": "stream",
     "text": [
      "WARNING:tensorflow:From C:\\Users\\zzang\\Anaconda3\\lib\\site-packages\\tensorflow\\python\\framework\\op_def_library.py:263: colocate_with (from tensorflow.python.framework.ops) is deprecated and will be removed in a future version.\n",
      "Instructions for updating:\n",
      "Colocations handled automatically by placer.\n",
      "WARNING:tensorflow:From C:\\Users\\zzang\\Anaconda3\\lib\\site-packages\\keras\\backend\\tensorflow_backend.py:3445: calling dropout (from tensorflow.python.ops.nn_ops) with keep_prob is deprecated and will be removed in a future version.\n",
      "Instructions for updating:\n",
      "Please use `rate` instead of `keep_prob`. Rate should be set to `rate = 1 - keep_prob`.\n",
      "_________________________________________________________________\n",
      "Layer (type)                 Output Shape              Param #   \n",
      "=================================================================\n",
      "dense_1 (Dense)              (None, 16)                96        \n",
      "_________________________________________________________________\n",
      "batch_normalization_1 (Batch (None, 16)                64        \n",
      "_________________________________________________________________\n",
      "dense_2 (Dense)              (None, 8)                 136       \n",
      "_________________________________________________________________\n",
      "dropout_1 (Dropout)          (None, 8)                 0         \n",
      "_________________________________________________________________\n",
      "dense_3 (Dense)              (None, 1)                 9         \n",
      "=================================================================\n",
      "Total params: 305\n",
      "Trainable params: 273\n",
      "Non-trainable params: 32\n",
      "_________________________________________________________________\n"
     ]
    }
   ],
   "source": [
    "import keras\n",
    "from keras.layers import Dense,Dropout,BatchNormalization\n",
    "from keras.models import Sequential\n",
    "model=Sequential()\n",
    "model.add(Dense(16,input_shape=(5,),activation='relu'))\n",
    "model.add(BatchNormalization())\n",
    "model.add(Dense(8,activation='relu'))\n",
    "model.add(Dropout(0.5))\n",
    "model.add(Dense(1,activation='sigmoid'))\n",
    "model.compile(loss='binary_crossentropy',optimizer='rmsprop',metrics=['accuracy'])\n",
    "model.summary()"
   ]
  },
  {
   "cell_type": "code",
   "execution_count": 52,
   "metadata": {},
   "outputs": [
    {
     "name": "stdout",
     "output_type": "stream",
     "text": [
      "WARNING:tensorflow:From C:\\Users\\zzang\\Anaconda3\\lib\\site-packages\\tensorflow\\python\\ops\\math_ops.py:3066: to_int32 (from tensorflow.python.ops.math_ops) is deprecated and will be removed in a future version.\n",
      "Instructions for updating:\n",
      "Use tf.cast instead.\n",
      "Train on 712 samples, validate on 179 samples\n",
      "Epoch 1/50\n",
      "712/712 [==============================] - 4s 6ms/step - loss: 0.7796 - acc: 0.5534 - val_loss: 0.6928 - val_acc: 0.6760\n",
      "Epoch 2/50\n",
      "712/712 [==============================] - 0s 120us/step - loss: 0.7299 - acc: 0.6067 - val_loss: 0.6620 - val_acc: 0.6704\n",
      "Epoch 3/50\n",
      "712/712 [==============================] - 0s 101us/step - loss: 0.6873 - acc: 0.6264 - val_loss: 0.6445 - val_acc: 0.6704\n",
      "Epoch 4/50\n",
      "712/712 [==============================] - 0s 102us/step - loss: 0.6620 - acc: 0.6306 - val_loss: 0.6383 - val_acc: 0.7263\n",
      "Epoch 5/50\n",
      "712/712 [==============================] - 0s 100us/step - loss: 0.6574 - acc: 0.6348 - val_loss: 0.6290 - val_acc: 0.7207\n",
      "Epoch 6/50\n",
      "712/712 [==============================] - 0s 100us/step - loss: 0.6318 - acc: 0.6545 - val_loss: 0.6092 - val_acc: 0.7095\n",
      "Epoch 7/50\n",
      "712/712 [==============================] - 0s 116us/step - loss: 0.6286 - acc: 0.6362 - val_loss: 0.6074 - val_acc: 0.7151\n",
      "Epoch 8/50\n",
      "712/712 [==============================] - 0s 112us/step - loss: 0.6008 - acc: 0.6657 - val_loss: 0.6039 - val_acc: 0.7318\n",
      "Epoch 9/50\n",
      "712/712 [==============================] - 0s 112us/step - loss: 0.5958 - acc: 0.6784 - val_loss: 0.5785 - val_acc: 0.7374\n",
      "Epoch 10/50\n",
      "712/712 [==============================] - 0s 108us/step - loss: 0.5833 - acc: 0.6910 - val_loss: 0.5730 - val_acc: 0.7821\n",
      "Epoch 11/50\n",
      "712/712 [==============================] - 0s 118us/step - loss: 0.5715 - acc: 0.6910 - val_loss: 0.5573 - val_acc: 0.7654\n",
      "Epoch 12/50\n",
      "712/712 [==============================] - 0s 120us/step - loss: 0.5598 - acc: 0.7191 - val_loss: 0.5540 - val_acc: 0.7989\n",
      "Epoch 13/50\n",
      "712/712 [==============================] - 0s 109us/step - loss: 0.5645 - acc: 0.6657 - val_loss: 0.5375 - val_acc: 0.8156\n",
      "Epoch 14/50\n",
      "712/712 [==============================] - 0s 104us/step - loss: 0.5682 - acc: 0.6868 - val_loss: 0.5343 - val_acc: 0.8380\n",
      "Epoch 15/50\n",
      "712/712 [==============================] - 0s 100us/step - loss: 0.5415 - acc: 0.6896 - val_loss: 0.5223 - val_acc: 0.7542\n",
      "Epoch 16/50\n",
      "712/712 [==============================] - 0s 102us/step - loss: 0.5579 - acc: 0.7135 - val_loss: 0.5225 - val_acc: 0.7430\n",
      "Epoch 17/50\n",
      "712/712 [==============================] - 0s 109us/step - loss: 0.5360 - acc: 0.7163 - val_loss: 0.5140 - val_acc: 0.8156\n",
      "Epoch 18/50\n",
      "712/712 [==============================] - 0s 101us/step - loss: 0.5583 - acc: 0.6840 - val_loss: 0.5018 - val_acc: 0.8212\n",
      "Epoch 19/50\n",
      "712/712 [==============================] - 0s 105us/step - loss: 0.5374 - acc: 0.7163 - val_loss: 0.5037 - val_acc: 0.8324\n",
      "Epoch 20/50\n",
      "712/712 [==============================] - 0s 109us/step - loss: 0.5706 - acc: 0.6966 - val_loss: 0.5018 - val_acc: 0.8101\n",
      "Epoch 21/50\n",
      "712/712 [==============================] - 0s 106us/step - loss: 0.5480 - acc: 0.6994 - val_loss: 0.5000 - val_acc: 0.8045\n",
      "Epoch 22/50\n",
      "712/712 [==============================] - 0s 104us/step - loss: 0.5375 - acc: 0.7022 - val_loss: 0.4884 - val_acc: 0.8436\n",
      "Epoch 23/50\n",
      "712/712 [==============================] - 0s 99us/step - loss: 0.5287 - acc: 0.6882 - val_loss: 0.4866 - val_acc: 0.8268\n",
      "Epoch 24/50\n",
      "712/712 [==============================] - 0s 115us/step - loss: 0.5408 - acc: 0.7065 - val_loss: 0.4793 - val_acc: 0.8324\n",
      "Epoch 25/50\n",
      "712/712 [==============================] - 0s 102us/step - loss: 0.5223 - acc: 0.7051 - val_loss: 0.4684 - val_acc: 0.8324\n",
      "Epoch 26/50\n",
      "712/712 [==============================] - 0s 87us/step - loss: 0.5295 - acc: 0.7233 - val_loss: 0.4729 - val_acc: 0.8324\n",
      "Epoch 27/50\n",
      "712/712 [==============================] - 0s 94us/step - loss: 0.5253 - acc: 0.7219 - val_loss: 0.4684 - val_acc: 0.8268\n",
      "Epoch 28/50\n",
      "712/712 [==============================] - 0s 112us/step - loss: 0.5421 - acc: 0.7065 - val_loss: 0.4541 - val_acc: 0.8212\n",
      "Epoch 29/50\n",
      "712/712 [==============================] - 0s 103us/step - loss: 0.5276 - acc: 0.7205 - val_loss: 0.4578 - val_acc: 0.8101\n",
      "Epoch 30/50\n",
      "712/712 [==============================] - 0s 104us/step - loss: 0.5336 - acc: 0.6994 - val_loss: 0.4674 - val_acc: 0.8045\n",
      "Epoch 31/50\n",
      "712/712 [==============================] - 0s 136us/step - loss: 0.5265 - acc: 0.7654 - val_loss: 0.4584 - val_acc: 0.8324\n",
      "Epoch 32/50\n",
      "712/712 [==============================] - 0s 95us/step - loss: 0.5314 - acc: 0.7528 - val_loss: 0.4499 - val_acc: 0.8324\n",
      "Epoch 33/50\n",
      "712/712 [==============================] - 0s 95us/step - loss: 0.5267 - acc: 0.7626 - val_loss: 0.4490 - val_acc: 0.8436\n",
      "Epoch 34/50\n",
      "712/712 [==============================] - 0s 95us/step - loss: 0.5069 - acc: 0.7809 - val_loss: 0.4625 - val_acc: 0.7877\n",
      "Epoch 35/50\n",
      "712/712 [==============================] - 0s 97us/step - loss: 0.5259 - acc: 0.7697 - val_loss: 0.4433 - val_acc: 0.8212\n",
      "Epoch 36/50\n",
      "712/712 [==============================] - 0s 99us/step - loss: 0.5143 - acc: 0.7640 - val_loss: 0.4394 - val_acc: 0.8268\n",
      "Epoch 37/50\n",
      "712/712 [==============================] - 0s 105us/step - loss: 0.5173 - acc: 0.7570 - val_loss: 0.4434 - val_acc: 0.8268\n",
      "Epoch 38/50\n",
      "712/712 [==============================] - 0s 104us/step - loss: 0.5322 - acc: 0.7781 - val_loss: 0.4380 - val_acc: 0.8212\n",
      "Epoch 39/50\n",
      "712/712 [==============================] - 0s 99us/step - loss: 0.4943 - acc: 0.8020 - val_loss: 0.4409 - val_acc: 0.7989\n",
      "Epoch 40/50\n",
      "712/712 [==============================] - 0s 102us/step - loss: 0.5074 - acc: 0.7626 - val_loss: 0.4375 - val_acc: 0.8268\n",
      "Epoch 41/50\n",
      "712/712 [==============================] - 0s 97us/step - loss: 0.5035 - acc: 0.7640 - val_loss: 0.4256 - val_acc: 0.8268\n",
      "Epoch 42/50\n",
      "712/712 [==============================] - 0s 119us/step - loss: 0.5343 - acc: 0.7514 - val_loss: 0.4338 - val_acc: 0.8268\n",
      "Epoch 43/50\n",
      "712/712 [==============================] - ETA: 0s - loss: 0.4902 - acc: 0.766 - 0s 102us/step - loss: 0.4956 - acc: 0.7725 - val_loss: 0.4286 - val_acc: 0.8212\n",
      "Epoch 44/50\n",
      "712/712 [==============================] - 0s 98us/step - loss: 0.5146 - acc: 0.7781 - val_loss: 0.4238 - val_acc: 0.8268\n",
      "Epoch 45/50\n",
      "712/712 [==============================] - 0s 95us/step - loss: 0.5098 - acc: 0.7781 - val_loss: 0.4253 - val_acc: 0.8156\n",
      "Epoch 46/50\n",
      "712/712 [==============================] - 0s 104us/step - loss: 0.5033 - acc: 0.7767 - val_loss: 0.4276 - val_acc: 0.8212\n",
      "Epoch 47/50\n",
      "712/712 [==============================] - 0s 102us/step - loss: 0.5022 - acc: 0.7809 - val_loss: 0.4300 - val_acc: 0.8212\n",
      "Epoch 48/50\n",
      "712/712 [==============================] - 0s 95us/step - loss: 0.4951 - acc: 0.7865 - val_loss: 0.4220 - val_acc: 0.8101\n",
      "Epoch 49/50\n",
      "712/712 [==============================] - 0s 102us/step - loss: 0.5104 - acc: 0.7893 - val_loss: 0.4170 - val_acc: 0.8268\n",
      "Epoch 50/50\n",
      "712/712 [==============================] - 0s 102us/step - loss: 0.4932 - acc: 0.7879 - val_loss: 0.4161 - val_acc: 0.8268\n"
     ]
    }
   ],
   "source": [
    "hist = model.fit(x_train_data,y_train_data,epochs=50,batch_size=16,validation_split=0.2)"
   ]
  },
  {
   "cell_type": "code",
   "execution_count": 53,
   "metadata": {},
   "outputs": [
    {
     "data": {
      "image/png": "[encoded data removed]",
      "text/plain": [
       "<Figure size 432x288 with 1 Axes>"
      ]
     },
     "metadata": {
      "needs_background": "light"
     },
     "output_type": "display_data"
    },
    {
     "data": {
      "image/png": "[encoded data removed]",
      "text/plain": [
       "<Figure size 432x288 with 1 Axes>"
      ]
     },
     "metadata": {
      "needs_background": "light"
     },
     "output_type": "display_data"
    }
   ],
   "source": [
    "loss=hist.history['loss']\n",
    "val_loss=hist.history['val_loss']\n",
    "acc=hist.history['acc']\n",
    "val_acc=hist.history['val_acc']\n",
    "epochs=range(1,len(acc)+1)\n",
    "\n",
    "plt.plot(epochs, acc, 'b', label='Training acc')\n",
    "plt.plot(epochs, val_acc, 'r', label='Validation acc')\n",
    "plt.title('Training and validation accuracy')\n",
    "plt.legend()\n",
    "\n",
    "plt.figure()\n",
    "\n",
    "plt.plot(epochs, loss, 'b', label='Training loss')\n",
    "plt.plot(epochs, val_loss, 'r', label='Validation loss')\n",
    "plt.title('Training and validation loss')\n",
    "plt.legend()\n",
    "\n",
    "plt.show()"
   ]
  },
  {
   "cell_type": "code",
   "execution_count": 54,
   "metadata": {},
   "outputs": [],
   "source": [
    "test['Survived_1']=model.predict_classes(x_test_data)"
   ]
  },
  {
   "cell_type": "code",
   "execution_count": 55,
   "metadata": {},
   "outputs": [],
   "source": [
    "y_test_data=test['Survived_1'].values"
   ]
  },
  {
   "cell_type": "code",
   "execution_count": 57,
   "metadata": {},
   "outputs": [],
   "source": [
    "submission=submit.copy()"
   ]
  },
  {
   "cell_type": "code",
   "execution_count": 58,
   "metadata": {},
   "outputs": [],
   "source": [
    "y_real=submit['Survived'].values"
   ]
  },
  {
   "cell_type": "code",
   "execution_count": 59,
   "metadata": {},
   "outputs": [
    {
     "data": {
      "text/plain": [
       "0.9090909090909091"
      ]
     },
     "execution_count": 59,
     "metadata": {},
     "output_type": "execute_result"
    }
   ],
   "source": [
    "np.mean(y_test_data==y_real)"
   ]
  },
  {
   "cell_type": "code",
   "execution_count": 60,
   "metadata": {},
   "outputs": [],
   "source": [
    "submission['Survived']=y_test_data"
   ]
  },
  {
   "cell_type": "code",
   "execution_count": 61,
   "metadata": {},
   "outputs": [
    {
     "data": {
      "text/html": [
       "<div>\n",
       "<style scoped>\n",
       "    .dataframe tbody tr th:only-of-type {\n",
       "        vertical-align: middle;\n",
       "    }\n",
       "\n",
       "    .dataframe tbody tr th {\n",
       "        vertical-align: top;\n",
       "    }\n",
       "\n",
       "    .dataframe thead th {\n",
       "        text-align: right;\n",
       "    }\n",
       "</style>\n",
       "<table border=\"1\" class=\"dataframe\">\n",
       "  <thead>\n",
       "    <tr style=\"text-align: right;\">\n",
       "      <th></th>\n",
       "      <th>PassengerId</th>\n",
       "      <th>Survived</th>\n",
       "    </tr>\n",
       "  </thead>\n",
       "  <tbody>\n",
       "    <tr>\n",
       "      <th>0</th>\n",
       "      <td>892</td>\n",
       "      <td>0</td>\n",
       "    </tr>\n",
       "    <tr>\n",
       "      <th>1</th>\n",
       "      <td>893</td>\n",
       "      <td>0</td>\n",
       "    </tr>\n",
       "    <tr>\n",
       "      <th>2</th>\n",
       "      <td>894</td>\n",
       "      <td>0</td>\n",
       "    </tr>\n",
       "    <tr>\n",
       "      <th>3</th>\n",
       "      <td>895</td>\n",
       "      <td>0</td>\n",
       "    </tr>\n",
       "    <tr>\n",
       "      <th>4</th>\n",
       "      <td>896</td>\n",
       "      <td>0</td>\n",
       "    </tr>\n",
       "  </tbody>\n",
       "</table>\n",
       "</div>"
      ],
      "text/plain": [
       "   PassengerId  Survived\n",
       "0          892         0\n",
       "1          893         0\n",
       "2          894         0\n",
       "3          895         0\n",
       "4          896         0"
      ]
     },
     "execution_count": 61,
     "metadata": {},
     "output_type": "execute_result"
    }
   ],
   "source": [
    "submission.head()"
   ]
  },
  {
   "cell_type": "code",
   "execution_count": 62,
   "metadata": {},
   "outputs": [],
   "source": [
    "submission.to_csv('gender_submission_1.csv',index=False)"
   ]
  },
  {
   "cell_type": "code",
   "execution_count": 108,
   "metadata": {},
   "outputs": [
    {
     "name": "stdout",
     "output_type": "stream",
     "text": [
      "_________________________________________________________________\n",
      "Layer (type)                 Output Shape              Param #   \n",
      "=================================================================\n",
      "dense_19 (Dense)             (None, 16)                112       \n",
      "_________________________________________________________________\n",
      "batch_normalization_6 (Batch (None, 16)                64        \n",
      "_________________________________________________________________\n",
      "dense_20 (Dense)             (None, 8)                 136       \n",
      "_________________________________________________________________\n",
      "dense_21 (Dense)             (None, 1)                 9         \n",
      "=================================================================\n",
      "Total params: 321\n",
      "Trainable params: 289\n",
      "Non-trainable params: 32\n",
      "_________________________________________________________________\n"
     ]
    }
   ],
   "source": [
    "import keras\n",
    "from keras.layers import Dense,Dropout,BatchNormalization\n",
    "from keras.models import Sequential\n",
    "mse_model=Sequential()\n",
    "mse_model.add(Dense(16,input_shape=(6,),activation='relu'))\n",
    "mse_model.add(BatchNormalization())\n",
    "mse_model.add(Dense(8,activation='relu'))\n",
    "mse_model.add(Dense(1,activation='sigmoid'))\n",
    "mse_model.compile(loss='mse',optimizer='adam',metrics=['accuracy'])\n",
    "mse_model.summary()"
   ]
  },
  {
   "cell_type": "code",
   "execution_count": 109,
   "metadata": {
    "collapsed": true
   },
   "outputs": [
    {
     "name": "stdout",
     "output_type": "stream",
     "text": [
      "Train on 712 samples, validate on 179 samples\n",
      "Epoch 1/50\n",
      "712/712 [==============================] - 0s 667us/step - loss: 0.4803 - acc: 0.7781 - val_loss: 0.3744 - val_acc: 0.8547\n",
      "Epoch 2/50\n",
      "712/712 [==============================] - 0s 115us/step - loss: 0.4862 - acc: 0.7949 - val_loss: 0.3718 - val_acc: 0.8603\n",
      "Epoch 3/50\n",
      "712/712 [==============================] - 0s 117us/step - loss: 0.4990 - acc: 0.7781 - val_loss: 0.3724 - val_acc: 0.8659\n",
      "Epoch 4/50\n",
      "712/712 [==============================] - 0s 115us/step - loss: 0.4729 - acc: 0.7907 - val_loss: 0.3715 - val_acc: 0.8715\n",
      "Epoch 5/50\n",
      "712/712 [==============================] - 0s 115us/step - loss: 0.4988 - acc: 0.7949 - val_loss: 0.3687 - val_acc: 0.8715\n",
      "Epoch 6/50\n",
      "712/712 [==============================] - 0s 115us/step - loss: 0.4777 - acc: 0.7879 - val_loss: 0.3752 - val_acc: 0.8715\n",
      "Epoch 7/50\n",
      "712/712 [==============================] - 0s 116us/step - loss: 0.4861 - acc: 0.7879 - val_loss: 0.3814 - val_acc: 0.8659\n",
      "Epoch 8/50\n",
      "712/712 [==============================] - 0s 112us/step - loss: 0.4966 - acc: 0.7879 - val_loss: 0.3700 - val_acc: 0.8659\n",
      "Epoch 9/50\n",
      "712/712 [==============================] - 0s 106us/step - loss: 0.4613 - acc: 0.8034 - val_loss: 0.3778 - val_acc: 0.8492\n",
      "Epoch 10/50\n",
      "712/712 [==============================] - 0s 112us/step - loss: 0.4954 - acc: 0.7851 - val_loss: 0.3661 - val_acc: 0.8715\n",
      "Epoch 11/50\n",
      "712/712 [==============================] - 0s 120us/step - loss: 0.4769 - acc: 0.8006 - val_loss: 0.3602 - val_acc: 0.8659\n",
      "Epoch 12/50\n",
      "712/712 [==============================] - 0s 119us/step - loss: 0.4732 - acc: 0.7865 - val_loss: 0.3730 - val_acc: 0.8715\n",
      "Epoch 13/50\n",
      "712/712 [==============================] - 0s 114us/step - loss: 0.4764 - acc: 0.7879 - val_loss: 0.3809 - val_acc: 0.8659\n",
      "Epoch 14/50\n",
      "712/712 [==============================] - 0s 116us/step - loss: 0.4939 - acc: 0.7935 - val_loss: 0.4340 - val_acc: 0.8212\n",
      "Epoch 15/50\n",
      "712/712 [==============================] - 0s 114us/step - loss: 0.4939 - acc: 0.7837 - val_loss: 0.3734 - val_acc: 0.8603\n",
      "Epoch 16/50\n",
      "712/712 [==============================] - 0s 114us/step - loss: 0.4787 - acc: 0.7753 - val_loss: 0.3728 - val_acc: 0.8715\n",
      "Epoch 17/50\n",
      "712/712 [==============================] - 0s 106us/step - loss: 0.4790 - acc: 0.7963 - val_loss: 0.3718 - val_acc: 0.8603\n",
      "Epoch 18/50\n",
      "712/712 [==============================] - 0s 110us/step - loss: 0.4926 - acc: 0.7879 - val_loss: 0.3676 - val_acc: 0.8659\n",
      "Epoch 19/50\n",
      "712/712 [==============================] - 0s 115us/step - loss: 0.4763 - acc: 0.7978 - val_loss: 0.3754 - val_acc: 0.8715\n",
      "Epoch 20/50\n",
      "712/712 [==============================] - 0s 115us/step - loss: 0.4717 - acc: 0.7992 - val_loss: 0.3723 - val_acc: 0.8659\n",
      "Epoch 21/50\n",
      "712/712 [==============================] - 0s 109us/step - loss: 0.4842 - acc: 0.8006 - val_loss: 0.3690 - val_acc: 0.8715\n",
      "Epoch 22/50\n",
      "712/712 [==============================] - 0s 122us/step - loss: 0.4865 - acc: 0.7949 - val_loss: 0.3708 - val_acc: 0.8603\n",
      "Epoch 23/50\n",
      "712/712 [==============================] - 0s 103us/step - loss: 0.4751 - acc: 0.8048 - val_loss: 0.3802 - val_acc: 0.8603\n",
      "Epoch 24/50\n",
      "712/712 [==============================] - 0s 111us/step - loss: 0.4684 - acc: 0.7935 - val_loss: 0.3709 - val_acc: 0.8659\n",
      "Epoch 25/50\n",
      "712/712 [==============================] - 0s 109us/step - loss: 0.4614 - acc: 0.8020 - val_loss: 0.3638 - val_acc: 0.8771\n",
      "Epoch 26/50\n",
      "712/712 [==============================] - 0s 109us/step - loss: 0.4812 - acc: 0.7992 - val_loss: 0.3773 - val_acc: 0.8659\n",
      "Epoch 27/50\n",
      "712/712 [==============================] - 0s 108us/step - loss: 0.4951 - acc: 0.7921 - val_loss: 0.3664 - val_acc: 0.8771\n",
      "Epoch 28/50\n",
      "712/712 [==============================] - 0s 108us/step - loss: 0.4811 - acc: 0.7879 - val_loss: 0.3838 - val_acc: 0.8771\n",
      "Epoch 29/50\n",
      "712/712 [==============================] - 0s 105us/step - loss: 0.4838 - acc: 0.7823 - val_loss: 0.3838 - val_acc: 0.8715\n",
      "Epoch 30/50\n",
      "712/712 [==============================] - 0s 106us/step - loss: 0.4833 - acc: 0.8104 - val_loss: 0.3673 - val_acc: 0.8659\n",
      "Epoch 31/50\n",
      "712/712 [==============================] - 0s 111us/step - loss: 0.4782 - acc: 0.7893 - val_loss: 0.3714 - val_acc: 0.8659\n",
      "Epoch 32/50\n",
      "712/712 [==============================] - 0s 109us/step - loss: 0.4742 - acc: 0.8034 - val_loss: 0.3763 - val_acc: 0.8492\n",
      "Epoch 33/50\n",
      "712/712 [==============================] - 0s 106us/step - loss: 0.4805 - acc: 0.7935 - val_loss: 0.3747 - val_acc: 0.8715\n",
      "Epoch 34/50\n",
      "712/712 [==============================] - 0s 106us/step - loss: 0.4851 - acc: 0.7809 - val_loss: 0.3700 - val_acc: 0.8715\n",
      "Epoch 35/50\n",
      "712/712 [==============================] - 0s 98us/step - loss: 0.4739 - acc: 0.7823 - val_loss: 0.3786 - val_acc: 0.8603\n",
      "Epoch 36/50\n",
      "712/712 [==============================] - 0s 99us/step - loss: 0.4868 - acc: 0.7739 - val_loss: 0.3702 - val_acc: 0.8603\n",
      "Epoch 37/50\n",
      "712/712 [==============================] - 0s 106us/step - loss: 0.4875 - acc: 0.7921 - val_loss: 0.3632 - val_acc: 0.8715\n",
      "Epoch 38/50\n",
      "712/712 [==============================] - 0s 109us/step - loss: 0.4678 - acc: 0.8034 - val_loss: 0.3840 - val_acc: 0.8436\n",
      "Epoch 39/50\n",
      "712/712 [==============================] - 0s 103us/step - loss: 0.5038 - acc: 0.7865 - val_loss: 0.3672 - val_acc: 0.8659\n",
      "Epoch 40/50\n",
      "712/712 [==============================] - 0s 113us/step - loss: 0.4851 - acc: 0.7823 - val_loss: 0.3758 - val_acc: 0.8659\n",
      "Epoch 41/50\n",
      "712/712 [==============================] - 0s 116us/step - loss: 0.5064 - acc: 0.7823 - val_loss: 0.3802 - val_acc: 0.8659\n",
      "Epoch 42/50\n",
      "712/712 [==============================] - 0s 109us/step - loss: 0.4744 - acc: 0.7963 - val_loss: 0.3825 - val_acc: 0.8603\n",
      "Epoch 43/50\n",
      "712/712 [==============================] - 0s 106us/step - loss: 0.4766 - acc: 0.7935 - val_loss: 0.3869 - val_acc: 0.8659\n",
      "Epoch 44/50\n",
      "712/712 [==============================] - 0s 104us/step - loss: 0.4817 - acc: 0.7893 - val_loss: 0.3751 - val_acc: 0.8659\n",
      "Epoch 45/50\n",
      "712/712 [==============================] - 0s 106us/step - loss: 0.4971 - acc: 0.7781 - val_loss: 0.3804 - val_acc: 0.8659\n",
      "Epoch 46/50\n",
      "712/712 [==============================] - 0s 102us/step - loss: 0.4985 - acc: 0.7837 - val_loss: 0.3823 - val_acc: 0.8659\n",
      "Epoch 47/50\n",
      "712/712 [==============================] - 0s 105us/step - loss: 0.4980 - acc: 0.7795 - val_loss: 0.3759 - val_acc: 0.8659\n",
      "Epoch 48/50\n",
      "712/712 [==============================] - 0s 94us/step - loss: 0.4879 - acc: 0.7865 - val_loss: 0.3769 - val_acc: 0.8547\n",
      "Epoch 49/50\n",
      "712/712 [==============================] - 0s 106us/step - loss: 0.4931 - acc: 0.7992 - val_loss: 0.3699 - val_acc: 0.8771\n",
      "Epoch 50/50\n",
      "712/712 [==============================] - 0s 107us/step - loss: 0.4552 - acc: 0.8034 - val_loss: 0.3657 - val_acc: 0.8715\n"
     ]
    }
   ],
   "source": [
    "mse_hist = model.fit(x_train_data,y_train_data,epochs=50,batch_size=16,validation_split=0.2)"
   ]
  },
  {
   "cell_type": "code",
   "execution_count": 110,
   "metadata": {},
   "outputs": [
    {
     "data": {
      "image/png": "[encoded data removed]",
      "text/plain": [
       "<Figure size 432x288 with 1 Axes>"
      ]
     },
     "metadata": {
      "needs_background": "light"
     },
     "output_type": "display_data"
    },
    {
     "data": {
      "image/png": "[encoded data removed]",
      "text/plain": [
       "<Figure size 432x288 with 1 Axes>"
      ]
     },
     "metadata": {
      "needs_background": "light"
     },
     "output_type": "display_data"
    }
   ],
   "source": [
    "loss=mse_hist.history['loss']\n",
    "val_loss=mse_hist.history['val_loss']\n",
    "acc=mse_hist.history['acc']\n",
    "val_acc=mse_hist.history['val_acc']\n",
    "epochs=range(1,len(acc)+1)\n",
    "\n",
    "plt.plot(epochs, acc, 'b', label='Training acc')\n",
    "plt.plot(epochs, val_acc, 'r', label='Validation acc')\n",
    "plt.title('Training and validation accuracy')\n",
    "plt.legend()\n",
    "\n",
    "plt.figure()\n",
    "\n",
    "plt.plot(epochs, loss, 'b', label='Training loss')\n",
    "plt.plot(epochs, val_loss, 'r', label='Validation loss')\n",
    "plt.title('Training and validation loss')\n",
    "plt.legend()\n",
    "\n",
    "plt.show()"
   ]
  },
  {
   "cell_type": "code",
   "execution_count": 111,
   "metadata": {},
   "outputs": [],
   "source": [
    "test['Survived_1']=mse_model.predict_classes(x_test_data)"
   ]
  },
  {
   "cell_type": "code",
   "execution_count": 112,
   "metadata": {},
   "outputs": [],
   "source": [
    "y_test_data1=test['Survived_1'].values"
   ]
  },
  {
   "cell_type": "code",
   "execution_count": 113,
   "metadata": {},
   "outputs": [
    {
     "data": {
      "text/plain": [
       "0.3660287081339713"
      ]
     },
     "execution_count": 113,
     "metadata": {},
     "output_type": "execute_result"
    }
   ],
   "source": [
    "np.mean(y_test_data1==y_real)"
   ]
  },
  {
   "cell_type": "code",
   "execution_count": 114,
   "metadata": {},
   "outputs": [
    {
     "data": {
      "text/html": [
       "<div>\n",
       "<style scoped>\n",
       "    .dataframe tbody tr th:only-of-type {\n",
       "        vertical-align: middle;\n",
       "    }\n",
       "\n",
       "    .dataframe tbody tr th {\n",
       "        vertical-align: top;\n",
       "    }\n",
       "\n",
       "    .dataframe thead th {\n",
       "        text-align: right;\n",
       "    }\n",
       "</style>\n",
       "<table border=\"1\" class=\"dataframe\">\n",
       "  <thead>\n",
       "    <tr style=\"text-align: right;\">\n",
       "      <th></th>\n",
       "      <th>PassengerId</th>\n",
       "      <th>Pclass</th>\n",
       "      <th>Name</th>\n",
       "      <th>Sex</th>\n",
       "      <th>Age</th>\n",
       "      <th>SibSp</th>\n",
       "      <th>Parch</th>\n",
       "      <th>Ticket</th>\n",
       "      <th>Fare</th>\n",
       "      <th>Cabin</th>\n",
       "      <th>Embarked</th>\n",
       "      <th>Survived</th>\n",
       "      <th>Survived_1</th>\n",
       "    </tr>\n",
       "  </thead>\n",
       "  <tbody>\n",
       "    <tr>\n",
       "      <th>0</th>\n",
       "      <td>892</td>\n",
       "      <td>3</td>\n",
       "      <td>Kelly, Mr. James</td>\n",
       "      <td>male</td>\n",
       "      <td>34.5</td>\n",
       "      <td>0</td>\n",
       "      <td>0</td>\n",
       "      <td>330911</td>\n",
       "      <td>7.8292</td>\n",
       "      <td>NaN</td>\n",
       "      <td>Q</td>\n",
       "      <td>0</td>\n",
       "      <td>1</td>\n",
       "    </tr>\n",
       "    <tr>\n",
       "      <th>1</th>\n",
       "      <td>893</td>\n",
       "      <td>3</td>\n",
       "      <td>Wilkes, Mrs. James (Ellen Needs)</td>\n",
       "      <td>female</td>\n",
       "      <td>47.0</td>\n",
       "      <td>1</td>\n",
       "      <td>0</td>\n",
       "      <td>363272</td>\n",
       "      <td>7.0000</td>\n",
       "      <td>NaN</td>\n",
       "      <td>S</td>\n",
       "      <td>0</td>\n",
       "      <td>1</td>\n",
       "    </tr>\n",
       "    <tr>\n",
       "      <th>2</th>\n",
       "      <td>894</td>\n",
       "      <td>2</td>\n",
       "      <td>Myles, Mr. Thomas Francis</td>\n",
       "      <td>male</td>\n",
       "      <td>62.0</td>\n",
       "      <td>0</td>\n",
       "      <td>0</td>\n",
       "      <td>240276</td>\n",
       "      <td>9.6875</td>\n",
       "      <td>NaN</td>\n",
       "      <td>Q</td>\n",
       "      <td>0</td>\n",
       "      <td>1</td>\n",
       "    </tr>\n",
       "    <tr>\n",
       "      <th>3</th>\n",
       "      <td>895</td>\n",
       "      <td>3</td>\n",
       "      <td>Wirz, Mr. Albert</td>\n",
       "      <td>male</td>\n",
       "      <td>27.0</td>\n",
       "      <td>0</td>\n",
       "      <td>0</td>\n",
       "      <td>315154</td>\n",
       "      <td>8.6625</td>\n",
       "      <td>NaN</td>\n",
       "      <td>S</td>\n",
       "      <td>0</td>\n",
       "      <td>1</td>\n",
       "    </tr>\n",
       "    <tr>\n",
       "      <th>4</th>\n",
       "      <td>896</td>\n",
       "      <td>3</td>\n",
       "      <td>Hirvonen, Mrs. Alexander (Helga E Lindqvist)</td>\n",
       "      <td>female</td>\n",
       "      <td>22.0</td>\n",
       "      <td>1</td>\n",
       "      <td>1</td>\n",
       "      <td>3101298</td>\n",
       "      <td>12.2875</td>\n",
       "      <td>NaN</td>\n",
       "      <td>S</td>\n",
       "      <td>0</td>\n",
       "      <td>1</td>\n",
       "    </tr>\n",
       "  </tbody>\n",
       "</table>\n",
       "</div>"
      ],
      "text/plain": [
       "   PassengerId  Pclass                                          Name     Sex  \\\n",
       "0          892       3                              Kelly, Mr. James    male   \n",
       "1          893       3              Wilkes, Mrs. James (Ellen Needs)  female   \n",
       "2          894       2                     Myles, Mr. Thomas Francis    male   \n",
       "3          895       3                              Wirz, Mr. Albert    male   \n",
       "4          896       3  Hirvonen, Mrs. Alexander (Helga E Lindqvist)  female   \n",
       "\n",
       "    Age  SibSp  Parch   Ticket     Fare Cabin Embarked  Survived  Survived_1  \n",
       "0  34.5      0      0   330911   7.8292   NaN        Q         0           1  \n",
       "1  47.0      1      0   363272   7.0000   NaN        S         0           1  \n",
       "2  62.0      0      0   240276   9.6875   NaN        Q         0           1  \n",
       "3  27.0      0      0   315154   8.6625   NaN        S         0           1  \n",
       "4  22.0      1      1  3101298  12.2875   NaN        S         0           1  "
      ]
     },
     "execution_count": 114,
     "metadata": {},
     "output_type": "execute_result"
    }
   ],
   "source": [
    "test.head()"
   ]
  },
  {
   "cell_type": "code",
   "execution_count": 115,
   "metadata": {},
   "outputs": [
    {
     "data": {
      "text/plain": [
       "array([1, 1, 1, 1, 1, 1, 1, 1, 1, 1, 1, 1, 1, 1, 1, 1, 1, 1, 1, 1, 1, 1,\n",
       "       1, 1, 1, 1, 1, 1, 1, 1, 1, 1, 1, 1, 1, 1, 1, 1, 1, 1, 1, 1, 1, 1,\n",
       "       1, 1, 1, 1, 1, 1, 1, 1, 1, 1, 1, 1, 1, 1, 1, 1, 1, 1, 1, 1, 1, 1,\n",
       "       1, 1, 1, 1, 1, 1, 1, 1, 1, 1, 1, 1, 1, 1, 1, 1, 1, 1, 1, 1, 1, 1,\n",
       "       1, 1, 1, 1, 1, 1, 1, 1, 1, 1, 1, 1, 1, 1, 1, 1, 1, 1, 1, 1, 1, 1,\n",
       "       1, 1, 1, 1, 1, 1, 1, 1, 1, 1, 1, 1, 1, 1, 1, 1, 1, 1, 1, 1, 1, 1,\n",
       "       1, 1, 1, 1, 1, 1, 1, 1, 1, 1, 1, 1, 1, 1, 1, 1, 1, 1, 1, 1, 1, 1,\n",
       "       1, 1, 1, 1, 1, 1, 1, 1, 1, 1, 1, 1, 1, 1, 1, 1, 1, 1, 1, 1, 1, 1,\n",
       "       1, 1, 1, 1, 1, 1, 1, 1, 1, 1, 1, 1, 1, 1, 1, 1, 1, 1, 1, 1, 1, 1,\n",
       "       1, 1, 1, 0, 1, 1, 1, 1, 1, 1, 1, 1, 1, 1, 1, 1, 1, 1, 1, 1, 1, 1,\n",
       "       1, 1, 1, 1, 1, 1, 1, 1, 1, 1, 1, 1, 1, 1, 1, 1, 1, 1, 1, 1, 1, 1,\n",
       "       1, 1, 1, 1, 1, 1, 1, 1, 0, 1, 1, 1, 1, 1, 1, 1, 1, 1, 1, 1, 1, 1,\n",
       "       1, 1, 1, 1, 1, 1, 1, 1, 1, 1, 1, 1, 1, 1, 1, 1, 1, 1, 1, 1, 1, 1,\n",
       "       1, 1, 1, 1, 1, 1, 1, 1, 1, 1, 1, 1, 1, 1, 1, 1, 1, 1, 1, 1, 1, 0,\n",
       "       1, 1, 1, 1, 1, 1, 1, 1, 1, 1, 1, 1, 1, 1, 1, 1, 1, 1, 1, 1, 1, 1,\n",
       "       1, 1, 1, 1, 1, 1, 1, 1, 1, 1, 1, 1, 1, 1, 1, 1, 1, 1, 1, 1, 1, 1,\n",
       "       1, 1, 1, 1, 1, 1, 1, 1, 1, 1, 1, 1, 1, 1, 1, 1, 1, 1, 1, 1, 1, 1,\n",
       "       1, 1, 1, 1, 1, 1, 1, 1, 1, 1, 1, 1, 1, 1, 1, 1, 1, 1, 1, 1, 1, 1,\n",
       "       1, 1, 1, 1, 1, 1, 1, 1, 1, 1, 1, 1, 1, 1, 1, 1, 1, 1, 1, 1, 1, 1])"
      ]
     },
     "execution_count": 115,
     "metadata": {},
     "output_type": "execute_result"
    }
   ],
   "source": [
    "y_test_data1"
   ]
  },
  {
   "cell_type": "code",
   "execution_count": null,
   "metadata": {},
   "outputs": [],
   "source": []
  }
 ],
 "metadata": {
  "kernelspec": {
   "display_name": "Python 3",
   "language": "python",
   "name": "python3"
  },
  "language_info": {
   "codemirror_mode": {
    "name": "ipython",
    "version": 3
   },
   "file_extension": ".py",
   "mimetype": "text/x-python",
   "name": "python",
   "nbconvert_exporter": "python",
   "pygments_lexer": "ipython3",
   "version": "3.7.3"
  }
 },
 "nbformat": 4,
 "nbformat_minor": 2
}
